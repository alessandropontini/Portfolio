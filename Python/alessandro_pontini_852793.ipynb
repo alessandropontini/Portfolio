{
 "cells": [
  {
   "cell_type": "markdown",
   "metadata": {},
   "source": [
    "#   <span style=\"color:#5F9EA0\">Progetto Python Alessandro Pontini Matricola: 852793</span>"
   ]
  },
  {
   "cell_type": "markdown",
   "metadata": {},
   "source": [
    "***"
   ]
  },
  {
   "cell_type": "code",
   "execution_count": 1,
   "metadata": {
    "ExecuteTime": {
     "end_time": "2020-01-09T15:02:11.003531Z",
     "start_time": "2020-01-09T15:02:10.257645Z"
    },
    "scrolled": true
   },
   "outputs": [],
   "source": [
    "# importo librerie\n",
    "import pandas as pd\n",
    "import datetime\n",
    "import numpy as np"
   ]
  },
  {
   "cell_type": "code",
   "execution_count": 2,
   "metadata": {
    "ExecuteTime": {
     "end_time": "2020-01-09T15:02:11.009254Z",
     "start_time": "2020-01-09T15:02:11.006109Z"
    }
   },
   "outputs": [],
   "source": [
    "# scrivo directory\n",
    "dire = '/Users/alessandropontini/Documents/db/progetto_python/additional-kiva-snapshot/loans_lenders.csv'\n",
    "dire1 = '/Users/alessandropontini/Documents/db/progetto_python/additional-kiva-snapshot/loans.csv'\n",
    "dire2 = '/Users/alessandropontini/Documents/db/progetto_python/additional-kiva-snapshot/lenders.csv'\n",
    "dire3 = '/Users/alessandropontini/Documents/db/progetto_python/additional-kiva-snapshot/country_stats.csv'"
   ]
  },
  {
   "cell_type": "code",
   "execution_count": 3,
   "metadata": {
    "ExecuteTime": {
     "end_time": "2020-01-09T15:02:11.017533Z",
     "start_time": "2020-01-09T15:02:11.012084Z"
    }
   },
   "outputs": [],
   "source": [
    "# df temporanei\n",
    "\n",
    "temp_df3 = pd.DataFrame()\n",
    "temp_df4 = pd.DataFrame()\n",
    "temp_df_NA_lenders = pd.DataFrame()\n",
    "total_lenders_amount = pd.DataFrame()\n"
   ]
  },
  {
   "cell_type": "markdown",
   "metadata": {},
   "source": [
    "***"
   ]
  },
  {
   "cell_type": "markdown",
   "metadata": {},
   "source": [
    "##  <span style=\"color:red\">1) Normalize the loan_lenders table. In the normalized table, each row must have one loan_id and one lender.</span>"
   ]
  },
  {
   "cell_type": "markdown",
   "metadata": {},
   "source": [
    "***"
   ]
  },
  {
   "cell_type": "code",
   "execution_count": 4,
   "metadata": {
    "ExecuteTime": {
     "end_time": "2020-01-09T15:02:15.956181Z",
     "start_time": "2020-01-09T15:02:11.021330Z"
    }
   },
   "outputs": [],
   "source": [
    "# leggo il file csv\n",
    "df_lenders_not_normalized = pd.read_csv(dire)"
   ]
  },
  {
   "cell_type": "code",
   "execution_count": 5,
   "metadata": {
    "ExecuteTime": {
     "end_time": "2020-01-09T15:02:15.977657Z",
     "start_time": "2020-01-09T15:02:15.958639Z"
    }
   },
   "outputs": [
    {
     "data": {
      "text/html": [
       "<div>\n",
       "<style scoped>\n",
       "    .dataframe tbody tr th:only-of-type {\n",
       "        vertical-align: middle;\n",
       "    }\n",
       "\n",
       "    .dataframe tbody tr th {\n",
       "        vertical-align: top;\n",
       "    }\n",
       "\n",
       "    .dataframe thead th {\n",
       "        text-align: right;\n",
       "    }\n",
       "</style>\n",
       "<table border=\"1\" class=\"dataframe\">\n",
       "  <thead>\n",
       "    <tr style=\"text-align: right;\">\n",
       "      <th></th>\n",
       "      <th>loan_id</th>\n",
       "      <th>lenders</th>\n",
       "    </tr>\n",
       "  </thead>\n",
       "  <tbody>\n",
       "    <tr>\n",
       "      <th>0</th>\n",
       "      <td>483693</td>\n",
       "      <td>muc888, sam4326, camaran3922, lachheb1865, reb...</td>\n",
       "    </tr>\n",
       "    <tr>\n",
       "      <th>1</th>\n",
       "      <td>483738</td>\n",
       "      <td>muc888, nora3555, williammanashi, barbara5610,...</td>\n",
       "    </tr>\n",
       "    <tr>\n",
       "      <th>2</th>\n",
       "      <td>485000</td>\n",
       "      <td>muc888, terrystl, richardandsusan8352, sherri4...</td>\n",
       "    </tr>\n",
       "    <tr>\n",
       "      <th>3</th>\n",
       "      <td>486087</td>\n",
       "      <td>muc888, james5068, rudi5955, daniel9859, don92...</td>\n",
       "    </tr>\n",
       "    <tr>\n",
       "      <th>4</th>\n",
       "      <td>534428</td>\n",
       "      <td>muc888, niki3008, teresa9174, mike4896, david7...</td>\n",
       "    </tr>\n",
       "  </tbody>\n",
       "</table>\n",
       "</div>"
      ],
      "text/plain": [
       "   loan_id                                            lenders\n",
       "0   483693  muc888, sam4326, camaran3922, lachheb1865, reb...\n",
       "1   483738  muc888, nora3555, williammanashi, barbara5610,...\n",
       "2   485000  muc888, terrystl, richardandsusan8352, sherri4...\n",
       "3   486087  muc888, james5068, rudi5955, daniel9859, don92...\n",
       "4   534428  muc888, niki3008, teresa9174, mike4896, david7..."
      ]
     },
     "execution_count": 5,
     "metadata": {},
     "output_type": "execute_result"
    }
   ],
   "source": [
    "df_lenders_not_normalized.head()"
   ]
  },
  {
   "cell_type": "code",
   "execution_count": 6,
   "metadata": {
    "ExecuteTime": {
     "end_time": "2020-01-09T15:02:28.179502Z",
     "start_time": "2020-01-09T15:02:15.980066Z"
    }
   },
   "outputs": [],
   "source": [
    "# impongo index=loan_id per poter usare explode che per ogni loan_id mi prende ogni elemento della lista creata con la strip \n",
    "# e mi crea un nuove righe in un nuovo data set\n",
    "df_lenders_normalized = df_lenders_not_normalized.set_index('loan_id')['lenders'].str.split(pat=',').explode().reset_index()"
   ]
  },
  {
   "cell_type": "code",
   "execution_count": 7,
   "metadata": {
    "ExecuteTime": {
     "end_time": "2020-01-09T15:02:28.188509Z",
     "start_time": "2020-01-09T15:02:28.181627Z"
    }
   },
   "outputs": [
    {
     "data": {
      "text/html": [
       "<div>\n",
       "<style scoped>\n",
       "    .dataframe tbody tr th:only-of-type {\n",
       "        vertical-align: middle;\n",
       "    }\n",
       "\n",
       "    .dataframe tbody tr th {\n",
       "        vertical-align: top;\n",
       "    }\n",
       "\n",
       "    .dataframe thead th {\n",
       "        text-align: right;\n",
       "    }\n",
       "</style>\n",
       "<table border=\"1\" class=\"dataframe\">\n",
       "  <thead>\n",
       "    <tr style=\"text-align: right;\">\n",
       "      <th></th>\n",
       "      <th>loan_id</th>\n",
       "      <th>lenders</th>\n",
       "    </tr>\n",
       "  </thead>\n",
       "  <tbody>\n",
       "    <tr>\n",
       "      <th>0</th>\n",
       "      <td>483693</td>\n",
       "      <td>muc888</td>\n",
       "    </tr>\n",
       "    <tr>\n",
       "      <th>1</th>\n",
       "      <td>483693</td>\n",
       "      <td>sam4326</td>\n",
       "    </tr>\n",
       "    <tr>\n",
       "      <th>2</th>\n",
       "      <td>483693</td>\n",
       "      <td>camaran3922</td>\n",
       "    </tr>\n",
       "    <tr>\n",
       "      <th>3</th>\n",
       "      <td>483693</td>\n",
       "      <td>lachheb1865</td>\n",
       "    </tr>\n",
       "    <tr>\n",
       "      <th>4</th>\n",
       "      <td>483693</td>\n",
       "      <td>rebecca3499</td>\n",
       "    </tr>\n",
       "  </tbody>\n",
       "</table>\n",
       "</div>"
      ],
      "text/plain": [
       "   loan_id       lenders\n",
       "0   483693        muc888\n",
       "1   483693       sam4326\n",
       "2   483693   camaran3922\n",
       "3   483693   lachheb1865\n",
       "4   483693   rebecca3499"
      ]
     },
     "execution_count": 7,
     "metadata": {},
     "output_type": "execute_result"
    }
   ],
   "source": [
    "# mostro risultato\n",
    "df_lenders_normalized.head()"
   ]
  },
  {
   "cell_type": "markdown",
   "metadata": {
    "ExecuteTime": {
     "end_time": "2019-11-20T18:45:34.910120Z",
     "start_time": "2019-11-20T18:45:34.903829Z"
    }
   },
   "source": [
    "***"
   ]
  },
  {
   "cell_type": "markdown",
   "metadata": {},
   "source": [
    "##  <span style=\"color:red\">2) For each loan, add a column duration corresponding to the number of days between the disburse time and the planned expiration time. If any of those two dates is missing, also the duration must be missing.</span>"
   ]
  },
  {
   "cell_type": "markdown",
   "metadata": {},
   "source": [
    "***"
   ]
  },
  {
   "cell_type": "code",
   "execution_count": 8,
   "metadata": {
    "ExecuteTime": {
     "end_time": "2020-01-09T15:03:31.310436Z",
     "start_time": "2020-01-09T15:02:28.193241Z"
    }
   },
   "outputs": [],
   "source": [
    "# leggo il file loans, ma per la quantità di dati che devo leggere\n",
    "# preferisco leggere le date come tali e non come stringhe.\n",
    "df_loans = pd.read_csv(dire1, parse_dates=['disburse_time', 'planned_expiration_time'])"
   ]
  },
  {
   "cell_type": "code",
   "execution_count": 9,
   "metadata": {
    "ExecuteTime": {
     "end_time": "2020-01-09T15:03:31.713929Z",
     "start_time": "2020-01-09T15:03:31.326994Z"
    }
   },
   "outputs": [],
   "source": [
    "# ci sono delle date che non hanno disburse_time > planned_expiration_time, non ha senso un prestito che si estingue\n",
    "# prima della data di sborso, perciò controllo se ce ne sono e in effetti si ci sono.\n",
    "# creo un df che li contiene df_temp\n",
    "temp_df = df_loans.loc[df_loans['disburse_time'] > df_loans['planned_expiration_time']]"
   ]
  },
  {
   "cell_type": "code",
   "execution_count": 10,
   "metadata": {
    "ExecuteTime": {
     "end_time": "2020-01-09T15:03:31.739778Z",
     "start_time": "2020-01-09T15:03:31.716969Z"
    },
    "scrolled": true
   },
   "outputs": [
    {
     "name": "stderr",
     "output_type": "stream",
     "text": [
      "/Library/Frameworks/Python.framework/Versions/3.8/lib/python3.8/site-packages/pandas/core/indexing.py:494: SettingWithCopyWarning: \n",
      "A value is trying to be set on a copy of a slice from a DataFrame.\n",
      "Try using .loc[row_indexer,col_indexer] = value instead\n",
      "\n",
      "See the caveats in the documentation: http://pandas.pydata.org/pandas-docs/stable/user_guide/indexing.html#returning-a-view-versus-a-copy\n",
      "  self.obj[item] = s\n"
     ]
    }
   ],
   "source": [
    "x = temp_df.loc[:, ('planned_expiration_time')].copy()\n",
    "temp_df.loc[:, ('disburse_time')] = temp_df.planned_expiration_time\n",
    "temp_df.loc[:, ('planned_expiration_time')] = x"
   ]
  },
  {
   "cell_type": "code",
   "execution_count": 11,
   "metadata": {
    "ExecuteTime": {
     "end_time": "2020-01-09T15:03:31.998344Z",
     "start_time": "2020-01-09T15:03:31.741528Z"
    }
   },
   "outputs": [],
   "source": [
    "# uso funzione isin per vedere i loan_id che coincidano e cambio df_loan con i nuovi di df_temp corretti\n",
    "df_loans.loc[df_loans.loan_id.isin(temp_df.loan_id), ['disburse_time', 'planned_expiration_time']] = temp_df[['disburse_time', 'planned_expiration_time']]"
   ]
  },
  {
   "cell_type": "code",
   "execution_count": 12,
   "metadata": {
    "ExecuteTime": {
     "end_time": "2020-01-09T15:03:32.059051Z",
     "start_time": "2020-01-09T15:03:32.001184Z"
    }
   },
   "outputs": [
    {
     "data": {
      "text/html": [
       "<div>\n",
       "<style scoped>\n",
       "    .dataframe tbody tr th:only-of-type {\n",
       "        vertical-align: middle;\n",
       "    }\n",
       "\n",
       "    .dataframe tbody tr th {\n",
       "        vertical-align: top;\n",
       "    }\n",
       "\n",
       "    .dataframe thead th {\n",
       "        text-align: right;\n",
       "    }\n",
       "</style>\n",
       "<table border=\"1\" class=\"dataframe\">\n",
       "  <thead>\n",
       "    <tr style=\"text-align: right;\">\n",
       "      <th></th>\n",
       "      <th>loan_id</th>\n",
       "      <th>duration</th>\n",
       "    </tr>\n",
       "  </thead>\n",
       "  <tbody>\n",
       "    <tr>\n",
       "      <th>0</th>\n",
       "      <td>657307</td>\n",
       "      <td>53 days 19:30:06</td>\n",
       "    </tr>\n",
       "    <tr>\n",
       "      <th>1</th>\n",
       "      <td>657259</td>\n",
       "      <td>96 days 14:25:07</td>\n",
       "    </tr>\n",
       "    <tr>\n",
       "      <th>2</th>\n",
       "      <td>658010</td>\n",
       "      <td>37 days 13:10:05</td>\n",
       "    </tr>\n",
       "    <tr>\n",
       "      <th>3</th>\n",
       "      <td>659347</td>\n",
       "      <td>34 days 19:10:02</td>\n",
       "    </tr>\n",
       "    <tr>\n",
       "      <th>4</th>\n",
       "      <td>656933</td>\n",
       "      <td>57 days 22:10:02</td>\n",
       "    </tr>\n",
       "    <tr>\n",
       "      <th>...</th>\n",
       "      <td>...</td>\n",
       "      <td>...</td>\n",
       "    </tr>\n",
       "    <tr>\n",
       "      <th>1419602</th>\n",
       "      <td>988180</td>\n",
       "      <td>39 days 17:00:03</td>\n",
       "    </tr>\n",
       "    <tr>\n",
       "      <th>1419603</th>\n",
       "      <td>988213</td>\n",
       "      <td>39 days 08:40:07</td>\n",
       "    </tr>\n",
       "    <tr>\n",
       "      <th>1419604</th>\n",
       "      <td>989109</td>\n",
       "      <td>51 days 14:20:04</td>\n",
       "    </tr>\n",
       "    <tr>\n",
       "      <th>1419605</th>\n",
       "      <td>989143</td>\n",
       "      <td>63 days 00:50:02</td>\n",
       "    </tr>\n",
       "    <tr>\n",
       "      <th>1419606</th>\n",
       "      <td>989240</td>\n",
       "      <td>61 days 12:50:06</td>\n",
       "    </tr>\n",
       "  </tbody>\n",
       "</table>\n",
       "<p>1419607 rows × 2 columns</p>\n",
       "</div>"
      ],
      "text/plain": [
       "         loan_id         duration\n",
       "0         657307 53 days 19:30:06\n",
       "1         657259 96 days 14:25:07\n",
       "2         658010 37 days 13:10:05\n",
       "3         659347 34 days 19:10:02\n",
       "4         656933 57 days 22:10:02\n",
       "...          ...              ...\n",
       "1419602   988180 39 days 17:00:03\n",
       "1419603   988213 39 days 08:40:07\n",
       "1419604   989109 51 days 14:20:04\n",
       "1419605   989143 63 days 00:50:02\n",
       "1419606   989240 61 days 12:50:06\n",
       "\n",
       "[1419607 rows x 2 columns]"
      ]
     },
     "execution_count": 12,
     "metadata": {},
     "output_type": "execute_result"
    }
   ],
   "source": [
    "# creo una colonna per la duration e faccio differenza, dopo di che mostro il risultato\n",
    "df_loans['duration'] = df_loans['planned_expiration_time'] - df_loans['disburse_time']\n",
    "df_loans[['loan_id','duration']]"
   ]
  },
  {
   "cell_type": "markdown",
   "metadata": {},
   "source": [
    "***"
   ]
  },
  {
   "cell_type": "markdown",
   "metadata": {},
   "source": [
    "## <span style=\"color:red\">3) Find the lenders that have funded at least twice.</span>"
   ]
  },
  {
   "cell_type": "markdown",
   "metadata": {},
   "source": [
    "***"
   ]
  },
  {
   "cell_type": "code",
   "execution_count": 13,
   "metadata": {
    "ExecuteTime": {
     "end_time": "2020-01-09T15:03:32.077927Z",
     "start_time": "2020-01-09T15:03:32.060851Z"
    }
   },
   "outputs": [],
   "source": [
    "temp_df = df_loans[['loan_id', 'status']]"
   ]
  },
  {
   "cell_type": "code",
   "execution_count": 14,
   "metadata": {
    "ExecuteTime": {
     "end_time": "2020-01-09T15:03:44.803231Z",
     "start_time": "2020-01-09T15:03:32.081003Z"
    }
   },
   "outputs": [],
   "source": [
    "temp_df = df_lenders_normalized.merge(temp_df, how='left', left_on='loan_id', right_on='loan_id')"
   ]
  },
  {
   "cell_type": "code",
   "execution_count": 15,
   "metadata": {
    "ExecuteTime": {
     "end_time": "2020-01-09T15:04:01.831838Z",
     "start_time": "2020-01-09T15:03:44.807986Z"
    }
   },
   "outputs": [],
   "source": [
    "# creo lista temporanea in cui salvo tutti i loan_name con il value_counts che mi conta quante volte è presente\n",
    "# e poi chiedo alla lista solo quelli >1\n",
    "temp_df = temp_df.loc[temp_df.status == 'funded']\n",
    "temp_df = temp_df.pivot_table(index=['lenders'], aggfunc='size').sort_values(ascending=False)"
   ]
  },
  {
   "cell_type": "code",
   "execution_count": 16,
   "metadata": {
    "ExecuteTime": {
     "end_time": "2020-01-09T15:04:03.353543Z",
     "start_time": "2020-01-09T15:04:01.835093Z"
    }
   },
   "outputs": [
    {
     "data": {
      "text/plain": [
       "lenders\n",
       " gooddogg1           142349\n",
       " trolltech4460       139191\n",
       " gmct                122156\n",
       " nms                  93283\n",
       " themissionbeltco     70151\n",
       "                      ...  \n",
       " sebastien5634            2\n",
       " chaoyi5871               2\n",
       "jacqui4717                2\n",
       " naromie9799              2\n",
       " liu9607                  2\n",
       "Length: 993782, dtype: int64"
      ]
     },
     "execution_count": 16,
     "metadata": {},
     "output_type": "execute_result"
    }
   ],
   "source": [
    "temp_df[temp_df>1]"
   ]
  },
  {
   "cell_type": "markdown",
   "metadata": {},
   "source": [
    "***"
   ]
  },
  {
   "cell_type": "markdown",
   "metadata": {},
   "source": [
    "## <span style=\"color:red\">4) For each country, compute how many loans have involved that country as borrowers.</span>\n"
   ]
  },
  {
   "cell_type": "markdown",
   "metadata": {},
   "source": [
    "***"
   ]
  },
  {
   "cell_type": "code",
   "execution_count": 17,
   "metadata": {
    "ExecuteTime": {
     "end_time": "2020-01-09T15:04:03.481782Z",
     "start_time": "2020-01-09T15:04:03.357178Z"
    }
   },
   "outputs": [
    {
     "data": {
      "text/plain": [
       "country_code\n",
       "AF     2337\n",
       "AL     3075\n",
       "AM    13952\n",
       "AZ    10172\n",
       "BA      608\n",
       "      ...  \n",
       "XK     2178\n",
       "YE     4206\n",
       "ZA      633\n",
       "ZM     1277\n",
       "ZW     5513\n",
       "Length: 95, dtype: int64"
      ]
     },
     "execution_count": 17,
     "metadata": {},
     "output_type": "execute_result"
    }
   ],
   "source": [
    "# suppongo che in loans che country_code identifichi le nazionalità delle persone perciò con una groupby posso raggrupparle\n",
    "# e con una size so il numero presente per ogni nazione\n",
    "df_loans.groupby('country_code').size()"
   ]
  },
  {
   "cell_type": "markdown",
   "metadata": {},
   "source": [
    "***"
   ]
  },
  {
   "cell_type": "markdown",
   "metadata": {},
   "source": [
    "## <span style=\"color:red\"> 5) For each country, compute the overall amount of money borrowed.</span>"
   ]
  },
  {
   "cell_type": "markdown",
   "metadata": {},
   "source": [
    "***"
   ]
  },
  {
   "cell_type": "code",
   "execution_count": 18,
   "metadata": {
    "ExecuteTime": {
     "end_time": "2020-01-09T15:04:03.614511Z",
     "start_time": "2020-01-09T15:04:03.484523Z"
    },
    "scrolled": true
   },
   "outputs": [
    {
     "data": {
      "text/plain": [
       "country_code\n",
       "AF     1967950.0\n",
       "AL     4307350.0\n",
       "AM    22950475.0\n",
       "AZ    14784625.0\n",
       "BA      477250.0\n",
       "         ...    \n",
       "XK     3083025.0\n",
       "YE     3444000.0\n",
       "ZA     1006525.0\n",
       "ZM     1978975.0\n",
       "ZW     5851875.0\n",
       "Name: loan_amount, Length: 95, dtype: float64"
      ]
     },
     "execution_count": 18,
     "metadata": {},
     "output_type": "execute_result"
    }
   ],
   "source": [
    "# raggruppo in base allo stato di appartenenza scegliendo di mostrare la colonna loan_amount e sommo i risultati.\n",
    "df_loans.groupby('country_code')['loan_amount'].sum()"
   ]
  },
  {
   "cell_type": "markdown",
   "metadata": {},
   "source": [
    "***"
   ]
  },
  {
   "cell_type": "markdown",
   "metadata": {},
   "source": [
    "## <span style=\"color:red\">6) Like the previous point, but expressed as a percentage of the overall amount lent.</span>"
   ]
  },
  {
   "cell_type": "markdown",
   "metadata": {},
   "source": [
    "***"
   ]
  },
  {
   "cell_type": "code",
   "execution_count": 19,
   "metadata": {
    "ExecuteTime": {
     "end_time": "2020-01-09T15:04:03.642995Z",
     "start_time": "2020-01-09T15:04:03.616775Z"
    }
   },
   "outputs": [],
   "source": [
    "temp = df_loans.funded_amount.sum()"
   ]
  },
  {
   "cell_type": "code",
   "execution_count": 20,
   "metadata": {
    "ExecuteTime": {
     "end_time": "2020-01-09T15:04:04.134439Z",
     "start_time": "2020-01-09T15:04:03.645592Z"
    },
    "scrolled": true
   },
   "outputs": [
    {
     "data": {
      "text/plain": [
       "country_code\n",
       "AF    0.174126\n",
       "AL    0.381119\n",
       "AM    2.030683\n",
       "AZ    1.308160\n",
       "BA    0.042228\n",
       "        ...   \n",
       "XK    0.272789\n",
       "YE    0.304729\n",
       "ZA    0.089058\n",
       "ZM    0.175102\n",
       "ZW    0.517780\n",
       "Name: loan_amount, Length: 95, dtype: float64"
      ]
     },
     "execution_count": 20,
     "metadata": {},
     "output_type": "execute_result"
    }
   ],
   "source": [
    "df_loans.groupby('country_code')['loan_amount'].sum()/temp*100"
   ]
  },
  {
   "cell_type": "markdown",
   "metadata": {},
   "source": [
    "***"
   ]
  },
  {
   "cell_type": "markdown",
   "metadata": {},
   "source": [
    "## <span style=\"color:red\">7) Like the three previous points, but split for each year (with respect to disburse time).</span>"
   ]
  },
  {
   "cell_type": "markdown",
   "metadata": {},
   "source": [
    "***"
   ]
  },
  {
   "cell_type": "code",
   "execution_count": 21,
   "metadata": {
    "ExecuteTime": {
     "end_time": "2020-01-09T15:04:14.484823Z",
     "start_time": "2020-01-09T15:04:04.138575Z"
    }
   },
   "outputs": [],
   "source": [
    "temp_df = df_loans.set_index('disburse_time')"
   ]
  },
  {
   "cell_type": "code",
   "execution_count": 22,
   "metadata": {
    "ExecuteTime": {
     "end_time": "2020-01-09T15:04:26.119410Z",
     "start_time": "2020-01-09T15:04:14.490229Z"
    }
   },
   "outputs": [
    {
     "data": {
      "text/plain": [
       "country_code  disburse_time            \n",
       "AF            2007-12-31 00:00:00+00:00     408\n",
       "              2008-12-31 00:00:00+00:00     370\n",
       "              2009-12-31 00:00:00+00:00     678\n",
       "              2010-12-31 00:00:00+00:00     632\n",
       "              2011-12-31 00:00:00+00:00     247\n",
       "                                           ... \n",
       "ZW            2013-12-31 00:00:00+00:00     426\n",
       "              2014-12-31 00:00:00+00:00    2078\n",
       "              2015-12-31 00:00:00+00:00     600\n",
       "              2016-12-31 00:00:00+00:00     808\n",
       "              2017-12-31 00:00:00+00:00    1079\n",
       "Length: 740, dtype: int64"
      ]
     },
     "execution_count": 22,
     "metadata": {},
     "output_type": "execute_result"
    }
   ],
   "source": [
    "# vedo quante persone all'anno\n",
    "temp_df.groupby(['country_code', pd.Grouper(freq='Y')]).size()"
   ]
  },
  {
   "cell_type": "code",
   "execution_count": 23,
   "metadata": {
    "ExecuteTime": {
     "end_time": "2020-01-09T15:04:30.948404Z",
     "start_time": "2020-01-09T15:04:26.151698Z"
    }
   },
   "outputs": [
    {
     "data": {
      "text/plain": [
       "country_code  disburse_time            \n",
       "AF            2007-12-31 00:00:00+00:00     194975.0\n",
       "              2008-12-31 00:00:00+00:00     365375.0\n",
       "              2009-12-31 00:00:00+00:00     585125.0\n",
       "              2010-12-31 00:00:00+00:00     563350.0\n",
       "              2011-12-31 00:00:00+00:00     245125.0\n",
       "                                             ...    \n",
       "ZW            2013-12-31 00:00:00+00:00     678525.0\n",
       "              2014-12-31 00:00:00+00:00    1311575.0\n",
       "              2015-12-31 00:00:00+00:00     723625.0\n",
       "              2016-12-31 00:00:00+00:00     788600.0\n",
       "              2017-12-31 00:00:00+00:00    1237600.0\n",
       "Name: loan_amount, Length: 740, dtype: float64"
      ]
     },
     "execution_count": 23,
     "metadata": {},
     "output_type": "execute_result"
    }
   ],
   "source": [
    "# faccio le somme\n",
    "temp_df.groupby(['country_code', pd.Grouper(freq='Y')])['loan_amount'].sum()"
   ]
  },
  {
   "cell_type": "code",
   "execution_count": 24,
   "metadata": {
    "ExecuteTime": {
     "end_time": "2020-01-09T15:04:30.991038Z",
     "start_time": "2020-01-09T15:04:30.955463Z"
    }
   },
   "outputs": [],
   "source": [
    "# eseguo operazioni punto 6 \n",
    "temp_df2 = df_loans['loan_amount'].sum()"
   ]
  },
  {
   "cell_type": "code",
   "execution_count": 25,
   "metadata": {
    "ExecuteTime": {
     "end_time": "2020-01-09T15:04:34.662724Z",
     "start_time": "2020-01-09T15:04:30.992870Z"
    },
    "scrolled": false
   },
   "outputs": [
    {
     "data": {
      "text/plain": [
       "country_code  disburse_time            \n",
       "AF            2007-12-31 00:00:00+00:00    0.016503\n",
       "              2008-12-31 00:00:00+00:00    0.030926\n",
       "              2009-12-31 00:00:00+00:00    0.049527\n",
       "              2010-12-31 00:00:00+00:00    0.047683\n",
       "              2011-12-31 00:00:00+00:00    0.020748\n",
       "                                             ...   \n",
       "ZW            2013-12-31 00:00:00+00:00    0.057432\n",
       "              2014-12-31 00:00:00+00:00    0.111015\n",
       "              2015-12-31 00:00:00+00:00    0.061250\n",
       "              2016-12-31 00:00:00+00:00    0.066749\n",
       "              2017-12-31 00:00:00+00:00    0.104754\n",
       "Name: loan_amount, Length: 740, dtype: float64"
      ]
     },
     "execution_count": 25,
     "metadata": {},
     "output_type": "execute_result"
    }
   ],
   "source": [
    "temp_df.groupby(['country_code', pd.Grouper(freq='Y')])['loan_amount'].sum()/temp_df2*100"
   ]
  },
  {
   "cell_type": "markdown",
   "metadata": {},
   "source": [
    "***"
   ]
  },
  {
   "cell_type": "markdown",
   "metadata": {},
   "source": [
    "## <span style=\"color:red\">8) For each lender, compute the overall amount of money lent.</span>"
   ]
  },
  {
   "cell_type": "markdown",
   "metadata": {},
   "source": [
    "***"
   ]
  },
  {
   "cell_type": "code",
   "execution_count": 26,
   "metadata": {
    "ExecuteTime": {
     "end_time": "2020-01-09T15:04:52.434064Z",
     "start_time": "2020-01-09T15:04:34.665763Z"
    }
   },
   "outputs": [],
   "source": [
    "# uso un df temporaneo per immagazzinare la join tra df_lenders_normalized e df_loans con solo i campi loan_id\n",
    "# e loan_amount che usero per i conti successivamente\n",
    "temp_df = df_lenders_normalized.merge(df_loans[['loan_id', 'loan_amount']], how='left', on='loan_id')"
   ]
  },
  {
   "cell_type": "code",
   "execution_count": 27,
   "metadata": {
    "ExecuteTime": {
     "end_time": "2020-01-09T15:04:56.653806Z",
     "start_time": "2020-01-09T15:04:52.439028Z"
    }
   },
   "outputs": [],
   "source": [
    "# salvo in un df temp 2 il raggruppamento secondo count, per contare il numero totale di ogni loan id\n",
    "temp_df2 = temp_df.groupby('loan_id')['lenders'].count()"
   ]
  },
  {
   "cell_type": "code",
   "execution_count": 28,
   "metadata": {
    "ExecuteTime": {
     "end_time": "2020-01-09T15:05:05.305158Z",
     "start_time": "2020-01-09T15:04:56.662490Z"
    }
   },
   "outputs": [],
   "source": [
    "# faccio ultima merge per avere nel mio data set accanto alla colonna di loan id la colonna dei lenders_y\n",
    "# che corrisponde al mio count\n",
    "temp_df = temp_df.merge(temp_df2, how='left', on='loan_id')"
   ]
  },
  {
   "cell_type": "code",
   "execution_count": 29,
   "metadata": {
    "ExecuteTime": {
     "end_time": "2020-01-09T15:05:05.345402Z",
     "start_time": "2020-01-09T15:05:05.311323Z"
    }
   },
   "outputs": [
    {
     "data": {
      "text/html": [
       "<div>\n",
       "<style scoped>\n",
       "    .dataframe tbody tr th:only-of-type {\n",
       "        vertical-align: middle;\n",
       "    }\n",
       "\n",
       "    .dataframe tbody tr th {\n",
       "        vertical-align: top;\n",
       "    }\n",
       "\n",
       "    .dataframe thead th {\n",
       "        text-align: right;\n",
       "    }\n",
       "</style>\n",
       "<table border=\"1\" class=\"dataframe\">\n",
       "  <thead>\n",
       "    <tr style=\"text-align: right;\">\n",
       "      <th></th>\n",
       "      <th>loan_id</th>\n",
       "      <th>lenders_x</th>\n",
       "      <th>loan_amount</th>\n",
       "      <th>lenders_y</th>\n",
       "    </tr>\n",
       "  </thead>\n",
       "  <tbody>\n",
       "    <tr>\n",
       "      <th>0</th>\n",
       "      <td>483693</td>\n",
       "      <td>muc888</td>\n",
       "      <td>1225.0</td>\n",
       "      <td>40</td>\n",
       "    </tr>\n",
       "    <tr>\n",
       "      <th>1</th>\n",
       "      <td>483693</td>\n",
       "      <td>sam4326</td>\n",
       "      <td>1225.0</td>\n",
       "      <td>40</td>\n",
       "    </tr>\n",
       "    <tr>\n",
       "      <th>2</th>\n",
       "      <td>483693</td>\n",
       "      <td>camaran3922</td>\n",
       "      <td>1225.0</td>\n",
       "      <td>40</td>\n",
       "    </tr>\n",
       "    <tr>\n",
       "      <th>3</th>\n",
       "      <td>483693</td>\n",
       "      <td>lachheb1865</td>\n",
       "      <td>1225.0</td>\n",
       "      <td>40</td>\n",
       "    </tr>\n",
       "    <tr>\n",
       "      <th>4</th>\n",
       "      <td>483693</td>\n",
       "      <td>rebecca3499</td>\n",
       "      <td>1225.0</td>\n",
       "      <td>40</td>\n",
       "    </tr>\n",
       "    <tr>\n",
       "      <th>...</th>\n",
       "      <td>...</td>\n",
       "      <td>...</td>\n",
       "      <td>...</td>\n",
       "      <td>...</td>\n",
       "    </tr>\n",
       "    <tr>\n",
       "      <th>28293926</th>\n",
       "      <td>1206425</td>\n",
       "      <td>trogdorfamily7622</td>\n",
       "      <td>325.0</td>\n",
       "      <td>8</td>\n",
       "    </tr>\n",
       "    <tr>\n",
       "      <th>28293927</th>\n",
       "      <td>1206425</td>\n",
       "      <td>danny6470</td>\n",
       "      <td>325.0</td>\n",
       "      <td>8</td>\n",
       "    </tr>\n",
       "    <tr>\n",
       "      <th>28293928</th>\n",
       "      <td>1206425</td>\n",
       "      <td>don6118</td>\n",
       "      <td>325.0</td>\n",
       "      <td>8</td>\n",
       "    </tr>\n",
       "    <tr>\n",
       "      <th>28293929</th>\n",
       "      <td>1206486</td>\n",
       "      <td>alan5175</td>\n",
       "      <td>150.0</td>\n",
       "      <td>2</td>\n",
       "    </tr>\n",
       "    <tr>\n",
       "      <th>28293930</th>\n",
       "      <td>1206486</td>\n",
       "      <td>amy38101311</td>\n",
       "      <td>150.0</td>\n",
       "      <td>2</td>\n",
       "    </tr>\n",
       "  </tbody>\n",
       "</table>\n",
       "<p>28293931 rows × 4 columns</p>\n",
       "</div>"
      ],
      "text/plain": [
       "          loan_id           lenders_x  loan_amount  lenders_y\n",
       "0          483693              muc888       1225.0         40\n",
       "1          483693             sam4326       1225.0         40\n",
       "2          483693         camaran3922       1225.0         40\n",
       "3          483693         lachheb1865       1225.0         40\n",
       "4          483693         rebecca3499       1225.0         40\n",
       "...           ...                 ...          ...        ...\n",
       "28293926  1206425   trogdorfamily7622        325.0          8\n",
       "28293927  1206425           danny6470        325.0          8\n",
       "28293928  1206425             don6118        325.0          8\n",
       "28293929  1206486            alan5175        150.0          2\n",
       "28293930  1206486         amy38101311        150.0          2\n",
       "\n",
       "[28293931 rows x 4 columns]"
      ]
     },
     "execution_count": 29,
     "metadata": {},
     "output_type": "execute_result"
    }
   ],
   "source": [
    "temp_df"
   ]
  },
  {
   "cell_type": "code",
   "execution_count": 30,
   "metadata": {
    "ExecuteTime": {
     "end_time": "2020-01-09T15:05:05.632664Z",
     "start_time": "2020-01-09T15:05:05.347094Z"
    }
   },
   "outputs": [],
   "source": [
    "# creo nuova colonna per segnare le singole quote per ogni loan_id\n",
    "temp_df['single_amount']= temp_df['loan_amount']/temp_df['lenders_y']"
   ]
  },
  {
   "cell_type": "code",
   "execution_count": 31,
   "metadata": {
    "ExecuteTime": {
     "end_time": "2020-01-09T15:05:20.581169Z",
     "start_time": "2020-01-09T15:05:05.634481Z"
    },
    "scrolled": true
   },
   "outputs": [
    {
     "data": {
      "text/plain": [
       "lenders_x\n",
       " 000               1672.618411\n",
       " 00000             1380.693644\n",
       " 0002              2472.563566\n",
       " 00mike00            52.631579\n",
       " 0101craign0101    2623.565117\n",
       "                      ...     \n",
       "zzanita              87.500000\n",
       "zzcyna7269           55.357143\n",
       "zzinnia              38.000000\n",
       "zzmcfate           2287.291955\n",
       "zzrvmf8538          106.417625\n",
       "Name: single_amount, Length: 1639026, dtype: float64"
      ]
     },
     "execution_count": 31,
     "metadata": {},
     "output_type": "execute_result"
    }
   ],
   "source": [
    "# ora raggruppo per ogni lender\n",
    "temp_df.groupby('lenders_x')['single_amount'].sum()"
   ]
  },
  {
   "cell_type": "markdown",
   "metadata": {},
   "source": [
    "***"
   ]
  },
  {
   "cell_type": "markdown",
   "metadata": {},
   "source": [
    "## <span style='color:red'> 9) For each country, compute the difference between the overall amount of money lent and the overall amount of money borrowed. Since the country of the lender is often unknown, you can assume that the true distribution among the countries is the same as the one computed from the rows where the country is known.</span>"
   ]
  },
  {
   "cell_type": "markdown",
   "metadata": {},
   "source": [
    "***"
   ]
  },
  {
   "cell_type": "markdown",
   "metadata": {},
   "source": [
    "## Problema di fondo che abbiamo trovato che il data set estremamente scarno con molti NULL, perciò dovevamo distribuire i soldi borrowed amolti valori NULL. Personalmento ho optato per la distribuzione del totale loan_amount dei null secondo percentuali di nazionalità"
   ]
  },
  {
   "cell_type": "markdown",
   "metadata": {},
   "source": [
    "***"
   ]
  },
  {
   "cell_type": "code",
   "execution_count": 32,
   "metadata": {
    "ExecuteTime": {
     "end_time": "2020-01-09T15:05:24.788196Z",
     "start_time": "2020-01-09T15:05:20.583564Z"
    }
   },
   "outputs": [],
   "source": [
    "# inizio aggiungendo ai miei dataset anche le informazioni dei lenders_info\n",
    "df_lenders_info = pd.read_csv(dire2)"
   ]
  },
  {
   "cell_type": "code",
   "execution_count": 33,
   "metadata": {
    "ExecuteTime": {
     "end_time": "2020-01-09T15:05:47.424154Z",
     "start_time": "2020-01-09T15:05:24.791659Z"
    }
   },
   "outputs": [],
   "source": [
    "# merge in una temporanea di df_lenders con la normalizzata \n",
    "# per avere loan_id\n",
    "temp_df = df_lenders_info[['permanent_name', 'country_code']].merge(df_lenders_normalized, how='left', left_on='permanent_name', right_on='lenders')"
   ]
  },
  {
   "cell_type": "code",
   "execution_count": 34,
   "metadata": {
    "ExecuteTime": {
     "end_time": "2020-01-09T15:05:48.392093Z",
     "start_time": "2020-01-09T15:05:47.427783Z"
    }
   },
   "outputs": [],
   "source": [
    "# temp_df2 contiene tutte le righe in cui lenders è presente in loan e non ha lenders == null\n",
    "temp_df2 = temp_df.dropna(subset=['lenders'])"
   ]
  },
  {
   "cell_type": "code",
   "execution_count": 35,
   "metadata": {
    "ExecuteTime": {
     "end_time": "2020-01-09T15:05:48.797624Z",
     "start_time": "2020-01-09T15:05:48.395369Z"
    }
   },
   "outputs": [],
   "source": [
    "# contiene tutti i borrowed\n",
    "temp_df3 = temp_df.loc[temp_df.lenders.isna()]"
   ]
  },
  {
   "cell_type": "code",
   "execution_count": 36,
   "metadata": {
    "ExecuteTime": {
     "end_time": "2020-01-09T15:05:48.815415Z",
     "start_time": "2020-01-09T15:05:48.799981Z"
    }
   },
   "outputs": [
    {
     "data": {
      "text/html": [
       "<div>\n",
       "<style scoped>\n",
       "    .dataframe tbody tr th:only-of-type {\n",
       "        vertical-align: middle;\n",
       "    }\n",
       "\n",
       "    .dataframe tbody tr th {\n",
       "        vertical-align: top;\n",
       "    }\n",
       "\n",
       "    .dataframe thead th {\n",
       "        text-align: right;\n",
       "    }\n",
       "</style>\n",
       "<table border=\"1\" class=\"dataframe\">\n",
       "  <thead>\n",
       "    <tr style=\"text-align: right;\">\n",
       "      <th></th>\n",
       "      <th>permanent_name</th>\n",
       "      <th>country_code</th>\n",
       "      <th>loan_id</th>\n",
       "      <th>lenders</th>\n",
       "    </tr>\n",
       "  </thead>\n",
       "  <tbody>\n",
       "    <tr>\n",
       "      <th>0</th>\n",
       "      <td>qian3013</td>\n",
       "      <td>NaN</td>\n",
       "      <td>NaN</td>\n",
       "      <td>NaN</td>\n",
       "    </tr>\n",
       "    <tr>\n",
       "      <th>1</th>\n",
       "      <td>reena6733</td>\n",
       "      <td>NaN</td>\n",
       "      <td>NaN</td>\n",
       "      <td>NaN</td>\n",
       "    </tr>\n",
       "    <tr>\n",
       "      <th>2</th>\n",
       "      <td>mai5982</td>\n",
       "      <td>NaN</td>\n",
       "      <td>NaN</td>\n",
       "      <td>NaN</td>\n",
       "    </tr>\n",
       "    <tr>\n",
       "      <th>3</th>\n",
       "      <td>andrew86079135</td>\n",
       "      <td>NaN</td>\n",
       "      <td>NaN</td>\n",
       "      <td>NaN</td>\n",
       "    </tr>\n",
       "    <tr>\n",
       "      <th>4</th>\n",
       "      <td>nguyen6962</td>\n",
       "      <td>NaN</td>\n",
       "      <td>NaN</td>\n",
       "      <td>NaN</td>\n",
       "    </tr>\n",
       "    <tr>\n",
       "      <th>...</th>\n",
       "      <td>...</td>\n",
       "      <td>...</td>\n",
       "      <td>...</td>\n",
       "      <td>...</td>\n",
       "    </tr>\n",
       "    <tr>\n",
       "      <th>3449032</th>\n",
       "      <td>janet7309</td>\n",
       "      <td>NaN</td>\n",
       "      <td>NaN</td>\n",
       "      <td>NaN</td>\n",
       "    </tr>\n",
       "    <tr>\n",
       "      <th>3449033</th>\n",
       "      <td>pj4198</td>\n",
       "      <td>NaN</td>\n",
       "      <td>NaN</td>\n",
       "      <td>NaN</td>\n",
       "    </tr>\n",
       "    <tr>\n",
       "      <th>3449034</th>\n",
       "      <td>maria2141</td>\n",
       "      <td>US</td>\n",
       "      <td>NaN</td>\n",
       "      <td>NaN</td>\n",
       "    </tr>\n",
       "    <tr>\n",
       "      <th>3449035</th>\n",
       "      <td>simone9846</td>\n",
       "      <td>NaN</td>\n",
       "      <td>NaN</td>\n",
       "      <td>NaN</td>\n",
       "    </tr>\n",
       "    <tr>\n",
       "      <th>3449036</th>\n",
       "      <td>laurie1160</td>\n",
       "      <td>US</td>\n",
       "      <td>NaN</td>\n",
       "      <td>NaN</td>\n",
       "    </tr>\n",
       "  </tbody>\n",
       "</table>\n",
       "<p>2061605 rows × 4 columns</p>\n",
       "</div>"
      ],
      "text/plain": [
       "         permanent_name country_code  loan_id lenders\n",
       "0              qian3013          NaN      NaN     NaN\n",
       "1             reena6733          NaN      NaN     NaN\n",
       "2               mai5982          NaN      NaN     NaN\n",
       "3        andrew86079135          NaN      NaN     NaN\n",
       "4            nguyen6962          NaN      NaN     NaN\n",
       "...                 ...          ...      ...     ...\n",
       "3449032       janet7309          NaN      NaN     NaN\n",
       "3449033          pj4198          NaN      NaN     NaN\n",
       "3449034       maria2141           US      NaN     NaN\n",
       "3449035      simone9846          NaN      NaN     NaN\n",
       "3449036      laurie1160           US      NaN     NaN\n",
       "\n",
       "[2061605 rows x 4 columns]"
      ]
     },
     "execution_count": 36,
     "metadata": {},
     "output_type": "execute_result"
    }
   ],
   "source": [
    "# analizzando il temp df 3 mi accorgo che ho qualche country code ma non ho nessun loan amount\n",
    "# per tanto decido di non eseguire altri compiti\n",
    "temp_df3"
   ]
  },
  {
   "cell_type": "code",
   "execution_count": 37,
   "metadata": {
    "ExecuteTime": {
     "end_time": "2020-01-09T15:05:48.834976Z",
     "start_time": "2020-01-09T15:05:48.818195Z"
    }
   },
   "outputs": [
    {
     "data": {
      "text/html": [
       "<div>\n",
       "<style scoped>\n",
       "    .dataframe tbody tr th:only-of-type {\n",
       "        vertical-align: middle;\n",
       "    }\n",
       "\n",
       "    .dataframe tbody tr th {\n",
       "        vertical-align: top;\n",
       "    }\n",
       "\n",
       "    .dataframe thead th {\n",
       "        text-align: right;\n",
       "    }\n",
       "</style>\n",
       "<table border=\"1\" class=\"dataframe\">\n",
       "  <thead>\n",
       "    <tr style=\"text-align: right;\">\n",
       "      <th></th>\n",
       "      <th>permanent_name</th>\n",
       "      <th>country_code</th>\n",
       "      <th>loan_id</th>\n",
       "      <th>lenders</th>\n",
       "    </tr>\n",
       "  </thead>\n",
       "  <tbody>\n",
       "    <tr>\n",
       "      <th>16</th>\n",
       "      <td>naresh2074</td>\n",
       "      <td>US</td>\n",
       "      <td>1059280.0</td>\n",
       "      <td>naresh2074</td>\n",
       "    </tr>\n",
       "    <tr>\n",
       "      <th>17</th>\n",
       "      <td>naresh2074</td>\n",
       "      <td>US</td>\n",
       "      <td>1055468.0</td>\n",
       "      <td>naresh2074</td>\n",
       "    </tr>\n",
       "    <tr>\n",
       "      <th>48</th>\n",
       "      <td>jinxian2217</td>\n",
       "      <td>NaN</td>\n",
       "      <td>1292306.0</td>\n",
       "      <td>jinxian2217</td>\n",
       "    </tr>\n",
       "    <tr>\n",
       "      <th>49</th>\n",
       "      <td>sreedevi9583</td>\n",
       "      <td>NaN</td>\n",
       "      <td>1052062.0</td>\n",
       "      <td>sreedevi9583</td>\n",
       "    </tr>\n",
       "    <tr>\n",
       "      <th>52</th>\n",
       "      <td>nicole98153893</td>\n",
       "      <td>NaN</td>\n",
       "      <td>1137907.0</td>\n",
       "      <td>nicole98153893</td>\n",
       "    </tr>\n",
       "    <tr>\n",
       "      <th>...</th>\n",
       "      <td>...</td>\n",
       "      <td>...</td>\n",
       "      <td>...</td>\n",
       "      <td>...</td>\n",
       "    </tr>\n",
       "    <tr>\n",
       "      <th>3449014</th>\n",
       "      <td>bonnie9739</td>\n",
       "      <td>US</td>\n",
       "      <td>810311.0</td>\n",
       "      <td>bonnie9739</td>\n",
       "    </tr>\n",
       "    <tr>\n",
       "      <th>3449015</th>\n",
       "      <td>bonnie9739</td>\n",
       "      <td>US</td>\n",
       "      <td>846429.0</td>\n",
       "      <td>bonnie9739</td>\n",
       "    </tr>\n",
       "    <tr>\n",
       "      <th>3449016</th>\n",
       "      <td>bonnie9739</td>\n",
       "      <td>US</td>\n",
       "      <td>809520.0</td>\n",
       "      <td>bonnie9739</td>\n",
       "    </tr>\n",
       "    <tr>\n",
       "      <th>3449018</th>\n",
       "      <td>cody7091</td>\n",
       "      <td>US</td>\n",
       "      <td>441719.0</td>\n",
       "      <td>cody7091</td>\n",
       "    </tr>\n",
       "    <tr>\n",
       "      <th>3449021</th>\n",
       "      <td>rakhi</td>\n",
       "      <td>US</td>\n",
       "      <td>742334.0</td>\n",
       "      <td>rakhi</td>\n",
       "    </tr>\n",
       "  </tbody>\n",
       "</table>\n",
       "<p>1387432 rows × 4 columns</p>\n",
       "</div>"
      ],
      "text/plain": [
       "         permanent_name country_code    loan_id         lenders\n",
       "16           naresh2074           US  1059280.0      naresh2074\n",
       "17           naresh2074           US  1055468.0      naresh2074\n",
       "48          jinxian2217          NaN  1292306.0     jinxian2217\n",
       "49         sreedevi9583          NaN  1052062.0    sreedevi9583\n",
       "52       nicole98153893          NaN  1137907.0  nicole98153893\n",
       "...                 ...          ...        ...             ...\n",
       "3449014      bonnie9739           US   810311.0      bonnie9739\n",
       "3449015      bonnie9739           US   846429.0      bonnie9739\n",
       "3449016      bonnie9739           US   809520.0      bonnie9739\n",
       "3449018        cody7091           US   441719.0        cody7091\n",
       "3449021           rakhi           US   742334.0           rakhi\n",
       "\n",
       "[1387432 rows x 4 columns]"
      ]
     },
     "execution_count": 37,
     "metadata": {},
     "output_type": "execute_result"
    }
   ],
   "source": [
    "temp_df2"
   ]
  },
  {
   "cell_type": "code",
   "execution_count": 38,
   "metadata": {
    "ExecuteTime": {
     "end_time": "2020-01-09T15:05:50.449547Z",
     "start_time": "2020-01-09T15:05:48.837412Z"
    }
   },
   "outputs": [],
   "source": [
    "# aggiungiamo anche la colonna loan_amount per avere un totale dei lenders/loan/country ( potrebbero esserci dei NULL)\n",
    "temp_df2=temp_df2.merge(df_loans[['loan_id', 'loan_amount']],how='left',on='loan_id')"
   ]
  },
  {
   "cell_type": "code",
   "execution_count": 39,
   "metadata": {
    "ExecuteTime": {
     "end_time": "2020-01-09T15:05:51.062265Z",
     "start_time": "2020-01-09T15:05:50.451563Z"
    },
    "scrolled": true
   },
   "outputs": [
    {
     "name": "stdout",
     "output_type": "stream",
     "text": [
      "<class 'pandas.core.frame.DataFrame'>\n",
      "Int64Index: 1387432 entries, 0 to 1387431\n",
      "Data columns (total 5 columns):\n",
      "permanent_name    1387432 non-null object\n",
      "country_code      1097763 non-null object\n",
      "loan_id           1387432 non-null float64\n",
      "lenders           1387432 non-null object\n",
      "loan_amount       1387428 non-null float64\n",
      "dtypes: float64(2), object(3)\n",
      "memory usage: 63.5+ MB\n"
     ]
    }
   ],
   "source": [
    "temp_df2.info()"
   ]
  },
  {
   "cell_type": "code",
   "execution_count": 40,
   "metadata": {
    "ExecuteTime": {
     "end_time": "2020-01-09T15:05:51.095651Z",
     "start_time": "2020-01-09T15:05:51.070115Z"
    }
   },
   "outputs": [],
   "source": [
    "# metto i null a 0 di loan amount che sono 4\n",
    "temp_df2['loan_amount'] = temp_df2['loan_amount'].fillna(0)"
   ]
  },
  {
   "cell_type": "code",
   "execution_count": 41,
   "metadata": {
    "ExecuteTime": {
     "end_time": "2020-01-09T15:05:51.257768Z",
     "start_time": "2020-01-09T15:05:51.101836Z"
    }
   },
   "outputs": [],
   "source": [
    "# inizio controllando quelli con country valore che esiste, perdo quasi 3000000 righe\n",
    "df_lenders_loans_country = temp_df2.dropna(subset=['country_code'])"
   ]
  },
  {
   "cell_type": "code",
   "execution_count": 42,
   "metadata": {
    "ExecuteTime": {
     "end_time": "2020-01-09T15:05:51.355978Z",
     "start_time": "2020-01-09T15:05:51.261473Z"
    }
   },
   "outputs": [],
   "source": [
    "df_lenders_loans_country = df_lenders_loans_country.groupby('country_code')['loan_amount'].sum()"
   ]
  },
  {
   "cell_type": "code",
   "execution_count": 43,
   "metadata": {
    "ExecuteTime": {
     "end_time": "2020-01-09T15:05:51.364103Z",
     "start_time": "2020-01-09T15:05:51.359228Z"
    }
   },
   "outputs": [],
   "source": [
    "total_lent = df_lenders_loans_country.sum()"
   ]
  },
  {
   "cell_type": "code",
   "execution_count": 44,
   "metadata": {
    "ExecuteTime": {
     "end_time": "2020-01-09T15:05:51.408351Z",
     "start_time": "2020-01-09T15:05:51.366310Z"
    }
   },
   "outputs": [],
   "source": [
    "df_lenders_loans_country = df_lenders_loans_country.reset_index()"
   ]
  },
  {
   "cell_type": "code",
   "execution_count": 45,
   "metadata": {
    "ExecuteTime": {
     "end_time": "2020-01-09T15:05:51.421745Z",
     "start_time": "2020-01-09T15:05:51.410649Z"
    }
   },
   "outputs": [],
   "source": [
    "# cosi facendo ho percentuale del totale per ogni country che è il punto che mi serve\n",
    "df_lenders_loans_country['percentage'] = round(df_lenders_loans_country['loan_amount']/total_lent,10)"
   ]
  },
  {
   "cell_type": "code",
   "execution_count": 46,
   "metadata": {
    "ExecuteTime": {
     "end_time": "2020-01-09T15:05:51.445832Z",
     "start_time": "2020-01-09T15:05:51.423277Z"
    }
   },
   "outputs": [
    {
     "data": {
      "text/html": [
       "<div>\n",
       "<style scoped>\n",
       "    .dataframe tbody tr th:only-of-type {\n",
       "        vertical-align: middle;\n",
       "    }\n",
       "\n",
       "    .dataframe tbody tr th {\n",
       "        vertical-align: top;\n",
       "    }\n",
       "\n",
       "    .dataframe thead th {\n",
       "        text-align: right;\n",
       "    }\n",
       "</style>\n",
       "<table border=\"1\" class=\"dataframe\">\n",
       "  <thead>\n",
       "    <tr style=\"text-align: right;\">\n",
       "      <th></th>\n",
       "      <th>country_code</th>\n",
       "      <th>loan_amount</th>\n",
       "      <th>percentage</th>\n",
       "    </tr>\n",
       "  </thead>\n",
       "  <tbody>\n",
       "    <tr>\n",
       "      <th>0</th>\n",
       "      <td>AD</td>\n",
       "      <td>1200.0</td>\n",
       "      <td>0.000001</td>\n",
       "    </tr>\n",
       "    <tr>\n",
       "      <th>1</th>\n",
       "      <td>AE</td>\n",
       "      <td>1760225.0</td>\n",
       "      <td>0.001930</td>\n",
       "    </tr>\n",
       "    <tr>\n",
       "      <th>2</th>\n",
       "      <td>AF</td>\n",
       "      <td>68075.0</td>\n",
       "      <td>0.000075</td>\n",
       "    </tr>\n",
       "    <tr>\n",
       "      <th>3</th>\n",
       "      <td>AL</td>\n",
       "      <td>16650.0</td>\n",
       "      <td>0.000018</td>\n",
       "    </tr>\n",
       "    <tr>\n",
       "      <th>4</th>\n",
       "      <td>AM</td>\n",
       "      <td>23575.0</td>\n",
       "      <td>0.000026</td>\n",
       "    </tr>\n",
       "    <tr>\n",
       "      <th>...</th>\n",
       "      <td>...</td>\n",
       "      <td>...</td>\n",
       "      <td>...</td>\n",
       "    </tr>\n",
       "    <tr>\n",
       "      <th>190</th>\n",
       "      <td>WF</td>\n",
       "      <td>2100.0</td>\n",
       "      <td>0.000002</td>\n",
       "    </tr>\n",
       "    <tr>\n",
       "      <th>191</th>\n",
       "      <td>XK</td>\n",
       "      <td>3750.0</td>\n",
       "      <td>0.000004</td>\n",
       "    </tr>\n",
       "    <tr>\n",
       "      <th>192</th>\n",
       "      <td>YE</td>\n",
       "      <td>15175.0</td>\n",
       "      <td>0.000017</td>\n",
       "    </tr>\n",
       "    <tr>\n",
       "      <th>193</th>\n",
       "      <td>ZA</td>\n",
       "      <td>509075.0</td>\n",
       "      <td>0.000558</td>\n",
       "    </tr>\n",
       "    <tr>\n",
       "      <th>194</th>\n",
       "      <td>ZM</td>\n",
       "      <td>11325.0</td>\n",
       "      <td>0.000012</td>\n",
       "    </tr>\n",
       "  </tbody>\n",
       "</table>\n",
       "<p>195 rows × 3 columns</p>\n",
       "</div>"
      ],
      "text/plain": [
       "    country_code  loan_amount  percentage\n",
       "0             AD       1200.0    0.000001\n",
       "1             AE    1760225.0    0.001930\n",
       "2             AF      68075.0    0.000075\n",
       "3             AL      16650.0    0.000018\n",
       "4             AM      23575.0    0.000026\n",
       "..           ...          ...         ...\n",
       "190           WF       2100.0    0.000002\n",
       "191           XK       3750.0    0.000004\n",
       "192           YE      15175.0    0.000017\n",
       "193           ZA     509075.0    0.000558\n",
       "194           ZM      11325.0    0.000012\n",
       "\n",
       "[195 rows x 3 columns]"
      ]
     },
     "execution_count": 46,
     "metadata": {},
     "output_type": "execute_result"
    }
   ],
   "source": [
    "df_lenders_loans_country"
   ]
  },
  {
   "cell_type": "code",
   "execution_count": 47,
   "metadata": {
    "ExecuteTime": {
     "end_time": "2020-01-09T15:05:51.577648Z",
     "start_time": "2020-01-09T15:05:51.448308Z"
    }
   },
   "outputs": [],
   "source": [
    "temp_df2 = temp_df2.loc[temp_df2.country_code.isna()]"
   ]
  },
  {
   "cell_type": "code",
   "execution_count": 48,
   "metadata": {
    "ExecuteTime": {
     "end_time": "2020-01-09T15:05:51.618818Z",
     "start_time": "2020-01-09T15:05:51.580209Z"
    }
   },
   "outputs": [
    {
     "data": {
      "text/html": [
       "<div>\n",
       "<style scoped>\n",
       "    .dataframe tbody tr th:only-of-type {\n",
       "        vertical-align: middle;\n",
       "    }\n",
       "\n",
       "    .dataframe tbody tr th {\n",
       "        vertical-align: top;\n",
       "    }\n",
       "\n",
       "    .dataframe thead th {\n",
       "        text-align: right;\n",
       "    }\n",
       "</style>\n",
       "<table border=\"1\" class=\"dataframe\">\n",
       "  <thead>\n",
       "    <tr style=\"text-align: right;\">\n",
       "      <th></th>\n",
       "      <th>permanent_name</th>\n",
       "      <th>country_code</th>\n",
       "      <th>loan_id</th>\n",
       "      <th>lenders</th>\n",
       "      <th>loan_amount</th>\n",
       "    </tr>\n",
       "  </thead>\n",
       "  <tbody>\n",
       "    <tr>\n",
       "      <th>2</th>\n",
       "      <td>jinxian2217</td>\n",
       "      <td>NaN</td>\n",
       "      <td>1292306.0</td>\n",
       "      <td>jinxian2217</td>\n",
       "      <td>1400.0</td>\n",
       "    </tr>\n",
       "    <tr>\n",
       "      <th>3</th>\n",
       "      <td>sreedevi9583</td>\n",
       "      <td>NaN</td>\n",
       "      <td>1052062.0</td>\n",
       "      <td>sreedevi9583</td>\n",
       "      <td>650.0</td>\n",
       "    </tr>\n",
       "    <tr>\n",
       "      <th>4</th>\n",
       "      <td>nicole98153893</td>\n",
       "      <td>NaN</td>\n",
       "      <td>1137907.0</td>\n",
       "      <td>nicole98153893</td>\n",
       "      <td>200.0</td>\n",
       "    </tr>\n",
       "    <tr>\n",
       "      <th>6</th>\n",
       "      <td>haitang3172</td>\n",
       "      <td>NaN</td>\n",
       "      <td>1291625.0</td>\n",
       "      <td>haitang3172</td>\n",
       "      <td>300.0</td>\n",
       "    </tr>\n",
       "    <tr>\n",
       "      <th>7</th>\n",
       "      <td>jishi5401</td>\n",
       "      <td>NaN</td>\n",
       "      <td>1060071.0</td>\n",
       "      <td>jishi5401</td>\n",
       "      <td>400.0</td>\n",
       "    </tr>\n",
       "    <tr>\n",
       "      <th>...</th>\n",
       "      <td>...</td>\n",
       "      <td>...</td>\n",
       "      <td>...</td>\n",
       "      <td>...</td>\n",
       "      <td>...</td>\n",
       "    </tr>\n",
       "    <tr>\n",
       "      <th>1387388</th>\n",
       "      <td>tricia9236</td>\n",
       "      <td>NaN</td>\n",
       "      <td>699175.0</td>\n",
       "      <td>tricia9236</td>\n",
       "      <td>1450.0</td>\n",
       "    </tr>\n",
       "    <tr>\n",
       "      <th>1387396</th>\n",
       "      <td>marwan8219</td>\n",
       "      <td>NaN</td>\n",
       "      <td>735870.0</td>\n",
       "      <td>marwan8219</td>\n",
       "      <td>475.0</td>\n",
       "    </tr>\n",
       "    <tr>\n",
       "      <th>1387399</th>\n",
       "      <td>eric9768</td>\n",
       "      <td>NaN</td>\n",
       "      <td>898756.0</td>\n",
       "      <td>eric9768</td>\n",
       "      <td>225.0</td>\n",
       "    </tr>\n",
       "    <tr>\n",
       "      <th>1387405</th>\n",
       "      <td>nicole1492</td>\n",
       "      <td>NaN</td>\n",
       "      <td>485083.0</td>\n",
       "      <td>nicole1492</td>\n",
       "      <td>500.0</td>\n",
       "    </tr>\n",
       "    <tr>\n",
       "      <th>1387406</th>\n",
       "      <td>scott2350</td>\n",
       "      <td>NaN</td>\n",
       "      <td>1023557.0</td>\n",
       "      <td>scott2350</td>\n",
       "      <td>800.0</td>\n",
       "    </tr>\n",
       "  </tbody>\n",
       "</table>\n",
       "<p>289669 rows × 5 columns</p>\n",
       "</div>"
      ],
      "text/plain": [
       "         permanent_name country_code    loan_id         lenders  loan_amount\n",
       "2           jinxian2217          NaN  1292306.0     jinxian2217       1400.0\n",
       "3          sreedevi9583          NaN  1052062.0    sreedevi9583        650.0\n",
       "4        nicole98153893          NaN  1137907.0  nicole98153893        200.0\n",
       "6           haitang3172          NaN  1291625.0     haitang3172        300.0\n",
       "7             jishi5401          NaN  1060071.0       jishi5401        400.0\n",
       "...                 ...          ...        ...             ...          ...\n",
       "1387388      tricia9236          NaN   699175.0      tricia9236       1450.0\n",
       "1387396      marwan8219          NaN   735870.0      marwan8219        475.0\n",
       "1387399        eric9768          NaN   898756.0        eric9768        225.0\n",
       "1387405      nicole1492          NaN   485083.0      nicole1492        500.0\n",
       "1387406       scott2350          NaN  1023557.0       scott2350        800.0\n",
       "\n",
       "[289669 rows x 5 columns]"
      ]
     },
     "execution_count": 48,
     "metadata": {},
     "output_type": "execute_result"
    }
   ],
   "source": [
    "temp_df2"
   ]
  },
  {
   "cell_type": "code",
   "execution_count": 49,
   "metadata": {
    "ExecuteTime": {
     "end_time": "2020-01-09T15:05:51.628135Z",
     "start_time": "2020-01-09T15:05:51.620934Z"
    }
   },
   "outputs": [],
   "source": [
    "total_amount = temp_df2.loan_amount.sum()"
   ]
  },
  {
   "cell_type": "code",
   "execution_count": 50,
   "metadata": {
    "ExecuteTime": {
     "end_time": "2020-01-09T15:05:51.652396Z",
     "start_time": "2020-01-09T15:05:51.630247Z"
    }
   },
   "outputs": [
    {
     "data": {
      "text/plain": [
       "251447675.0"
      ]
     },
     "execution_count": 50,
     "metadata": {},
     "output_type": "execute_result"
    }
   ],
   "source": [
    "total_amount"
   ]
  },
  {
   "cell_type": "code",
   "execution_count": 51,
   "metadata": {
    "ExecuteTime": {
     "end_time": "2020-01-09T15:05:51.680731Z",
     "start_time": "2020-01-09T15:05:51.654239Z"
    }
   },
   "outputs": [],
   "source": [
    "# li moltiplico per la percentuale dei country che conosco lenders e poi li sommo con i precedenti\n",
    "x = total_amount * df_lenders_loans_country.percentage\n",
    "\n",
    "df_lenders_loans_country['total_lenders_amount_with_no_country'] = x"
   ]
  },
  {
   "cell_type": "code",
   "execution_count": 52,
   "metadata": {
    "ExecuteTime": {
     "end_time": "2020-01-09T15:05:51.696496Z",
     "start_time": "2020-01-09T15:05:51.683443Z"
    }
   },
   "outputs": [],
   "source": [
    "df_lenders_loans_country['total_lent'] = df_lenders_loans_country.loan_amount + df_lenders_loans_country.total_lenders_amount_with_no_country"
   ]
  },
  {
   "cell_type": "code",
   "execution_count": 53,
   "metadata": {
    "ExecuteTime": {
     "end_time": "2020-01-09T15:05:51.725249Z",
     "start_time": "2020-01-09T15:05:51.698195Z"
    }
   },
   "outputs": [
    {
     "data": {
      "text/html": [
       "<div>\n",
       "<style scoped>\n",
       "    .dataframe tbody tr th:only-of-type {\n",
       "        vertical-align: middle;\n",
       "    }\n",
       "\n",
       "    .dataframe tbody tr th {\n",
       "        vertical-align: top;\n",
       "    }\n",
       "\n",
       "    .dataframe thead th {\n",
       "        text-align: right;\n",
       "    }\n",
       "</style>\n",
       "<table border=\"1\" class=\"dataframe\">\n",
       "  <thead>\n",
       "    <tr style=\"text-align: right;\">\n",
       "      <th></th>\n",
       "      <th>country_code</th>\n",
       "      <th>loan_amount</th>\n",
       "      <th>percentage</th>\n",
       "      <th>total_lenders_amount_with_no_country</th>\n",
       "      <th>total_lent</th>\n",
       "    </tr>\n",
       "  </thead>\n",
       "  <tbody>\n",
       "    <tr>\n",
       "      <th>0</th>\n",
       "      <td>AD</td>\n",
       "      <td>1200.0</td>\n",
       "      <td>0.000001</td>\n",
       "      <td>330.854851</td>\n",
       "      <td>1.530855e+03</td>\n",
       "    </tr>\n",
       "    <tr>\n",
       "      <th>1</th>\n",
       "      <td>AE</td>\n",
       "      <td>1760225.0</td>\n",
       "      <td>0.001930</td>\n",
       "      <td>485319.006649</td>\n",
       "      <td>2.245544e+06</td>\n",
       "    </tr>\n",
       "    <tr>\n",
       "      <th>2</th>\n",
       "      <td>AF</td>\n",
       "      <td>68075.0</td>\n",
       "      <td>0.000075</td>\n",
       "      <td>18769.236266</td>\n",
       "      <td>8.684424e+04</td>\n",
       "    </tr>\n",
       "    <tr>\n",
       "      <th>3</th>\n",
       "      <td>AL</td>\n",
       "      <td>16650.0</td>\n",
       "      <td>0.000018</td>\n",
       "      <td>4590.629913</td>\n",
       "      <td>2.124063e+04</td>\n",
       "    </tr>\n",
       "    <tr>\n",
       "      <th>4</th>\n",
       "      <td>AM</td>\n",
       "      <td>23575.0</td>\n",
       "      <td>0.000026</td>\n",
       "      <td>6499.972688</td>\n",
       "      <td>3.007497e+04</td>\n",
       "    </tr>\n",
       "    <tr>\n",
       "      <th>...</th>\n",
       "      <td>...</td>\n",
       "      <td>...</td>\n",
       "      <td>...</td>\n",
       "      <td>...</td>\n",
       "      <td>...</td>\n",
       "    </tr>\n",
       "    <tr>\n",
       "      <th>190</th>\n",
       "      <td>WF</td>\n",
       "      <td>2100.0</td>\n",
       "      <td>0.000002</td>\n",
       "      <td>579.008561</td>\n",
       "      <td>2.679009e+03</td>\n",
       "    </tr>\n",
       "    <tr>\n",
       "      <th>191</th>\n",
       "      <td>XK</td>\n",
       "      <td>3750.0</td>\n",
       "      <td>0.000004</td>\n",
       "      <td>1033.927695</td>\n",
       "      <td>4.783928e+03</td>\n",
       "    </tr>\n",
       "    <tr>\n",
       "      <th>192</th>\n",
       "      <td>YE</td>\n",
       "      <td>15175.0</td>\n",
       "      <td>0.000017</td>\n",
       "      <td>4183.963588</td>\n",
       "      <td>1.935896e+04</td>\n",
       "    </tr>\n",
       "    <tr>\n",
       "      <th>193</th>\n",
       "      <td>ZA</td>\n",
       "      <td>509075.0</td>\n",
       "      <td>0.000558</td>\n",
       "      <td>140359.198555</td>\n",
       "      <td>6.494342e+05</td>\n",
       "    </tr>\n",
       "    <tr>\n",
       "      <th>194</th>\n",
       "      <td>ZM</td>\n",
       "      <td>11325.0</td>\n",
       "      <td>0.000012</td>\n",
       "      <td>3122.452083</td>\n",
       "      <td>1.444745e+04</td>\n",
       "    </tr>\n",
       "  </tbody>\n",
       "</table>\n",
       "<p>195 rows × 5 columns</p>\n",
       "</div>"
      ],
      "text/plain": [
       "    country_code  loan_amount  percentage  \\\n",
       "0             AD       1200.0    0.000001   \n",
       "1             AE    1760225.0    0.001930   \n",
       "2             AF      68075.0    0.000075   \n",
       "3             AL      16650.0    0.000018   \n",
       "4             AM      23575.0    0.000026   \n",
       "..           ...          ...         ...   \n",
       "190           WF       2100.0    0.000002   \n",
       "191           XK       3750.0    0.000004   \n",
       "192           YE      15175.0    0.000017   \n",
       "193           ZA     509075.0    0.000558   \n",
       "194           ZM      11325.0    0.000012   \n",
       "\n",
       "     total_lenders_amount_with_no_country    total_lent  \n",
       "0                              330.854851  1.530855e+03  \n",
       "1                           485319.006649  2.245544e+06  \n",
       "2                            18769.236266  8.684424e+04  \n",
       "3                             4590.629913  2.124063e+04  \n",
       "4                             6499.972688  3.007497e+04  \n",
       "..                                    ...           ...  \n",
       "190                            579.008561  2.679009e+03  \n",
       "191                           1033.927695  4.783928e+03  \n",
       "192                           4183.963588  1.935896e+04  \n",
       "193                         140359.198555  6.494342e+05  \n",
       "194                           3122.452083  1.444745e+04  \n",
       "\n",
       "[195 rows x 5 columns]"
      ]
     },
     "execution_count": 53,
     "metadata": {},
     "output_type": "execute_result"
    }
   ],
   "source": [
    "df_lenders_loans_country"
   ]
  },
  {
   "cell_type": "code",
   "execution_count": 54,
   "metadata": {
    "ExecuteTime": {
     "end_time": "2020-01-09T15:06:13.310550Z",
     "start_time": "2020-01-09T15:05:51.727350Z"
    }
   },
   "outputs": [
    {
     "name": "stdout",
     "output_type": "stream",
     "text": [
      "Empty DataFrame\n",
      "Columns: [loan_id, loan_name, original_language, description, description_translated, funded_amount, loan_amount, status, activity_name, sector_name, loan_use, country_code, country_name, town_name, currency_policy, currency_exchange_coverage_rate, currency, partner_id, posted_time, planned_expiration_time, disburse_time, raised_time, lender_term, num_lenders_total, num_journal_entries, num_bulk_entries, tags, borrower_genders, borrower_pictured, repayment_interval, distribution_model, duration]\n",
      "Index: []\n",
      "\n",
      "[0 rows x 32 columns]\n"
     ]
    }
   ],
   "source": [
    "# no duplicates\n",
    "a = df_loans[df_loans.duplicated()]\n",
    "print(a)"
   ]
  },
  {
   "cell_type": "code",
   "execution_count": 55,
   "metadata": {
    "ExecuteTime": {
     "end_time": "2020-01-09T15:06:15.678772Z",
     "start_time": "2020-01-09T15:06:13.316700Z"
    }
   },
   "outputs": [],
   "source": [
    "temp_df = df_loans.groupby('country_code')['loan_amount'].sum()"
   ]
  },
  {
   "cell_type": "code",
   "execution_count": 56,
   "metadata": {
    "ExecuteTime": {
     "end_time": "2020-01-09T15:06:15.688460Z",
     "start_time": "2020-01-09T15:06:15.681497Z"
    }
   },
   "outputs": [],
   "source": [
    "temp_df = temp_df.reset_index()"
   ]
  },
  {
   "cell_type": "code",
   "execution_count": 57,
   "metadata": {
    "ExecuteTime": {
     "end_time": "2020-01-09T15:06:15.698146Z",
     "start_time": "2020-01-09T15:06:15.692453Z"
    }
   },
   "outputs": [],
   "source": [
    "del df_lenders_loans_country['total_lenders_amount_with_no_country']"
   ]
  },
  {
   "cell_type": "code",
   "execution_count": 58,
   "metadata": {
    "ExecuteTime": {
     "end_time": "2020-01-09T15:06:15.711001Z",
     "start_time": "2020-01-09T15:06:15.700171Z"
    }
   },
   "outputs": [],
   "source": [
    "df_lenders_loans_country = df_lenders_loans_country.merge(temp_df,how='left', on='country_code')"
   ]
  },
  {
   "cell_type": "code",
   "execution_count": 59,
   "metadata": {
    "ExecuteTime": {
     "end_time": "2020-01-09T15:06:15.717324Z",
     "start_time": "2020-01-09T15:06:15.713064Z"
    }
   },
   "outputs": [],
   "source": [
    "df_lenders_loans_country.loan_amount_y = df_lenders_loans_country.loan_amount_y.fillna(0)"
   ]
  },
  {
   "cell_type": "code",
   "execution_count": 60,
   "metadata": {
    "ExecuteTime": {
     "end_time": "2020-01-09T15:06:15.724069Z",
     "start_time": "2020-01-09T15:06:15.719376Z"
    }
   },
   "outputs": [],
   "source": [
    "df_lenders_loans_country['lent_borrowed'] = df_lenders_loans_country.total_lent - df_lenders_loans_country.loan_amount_y"
   ]
  },
  {
   "cell_type": "code",
   "execution_count": 61,
   "metadata": {
    "ExecuteTime": {
     "end_time": "2020-01-09T15:06:15.746126Z",
     "start_time": "2020-01-09T15:06:15.729653Z"
    }
   },
   "outputs": [
    {
     "data": {
      "text/html": [
       "<div>\n",
       "<style scoped>\n",
       "    .dataframe tbody tr th:only-of-type {\n",
       "        vertical-align: middle;\n",
       "    }\n",
       "\n",
       "    .dataframe tbody tr th {\n",
       "        vertical-align: top;\n",
       "    }\n",
       "\n",
       "    .dataframe thead th {\n",
       "        text-align: right;\n",
       "    }\n",
       "</style>\n",
       "<table border=\"1\" class=\"dataframe\">\n",
       "  <thead>\n",
       "    <tr style=\"text-align: right;\">\n",
       "      <th></th>\n",
       "      <th>country_code</th>\n",
       "      <th>loan_amount_x</th>\n",
       "      <th>percentage</th>\n",
       "      <th>total_lent</th>\n",
       "      <th>loan_amount_y</th>\n",
       "      <th>lent_borrowed</th>\n",
       "    </tr>\n",
       "  </thead>\n",
       "  <tbody>\n",
       "    <tr>\n",
       "      <th>0</th>\n",
       "      <td>AD</td>\n",
       "      <td>1200.0</td>\n",
       "      <td>0.000001</td>\n",
       "      <td>1.530855e+03</td>\n",
       "      <td>0.0</td>\n",
       "      <td>1.530855e+03</td>\n",
       "    </tr>\n",
       "    <tr>\n",
       "      <th>1</th>\n",
       "      <td>AE</td>\n",
       "      <td>1760225.0</td>\n",
       "      <td>0.001930</td>\n",
       "      <td>2.245544e+06</td>\n",
       "      <td>0.0</td>\n",
       "      <td>2.245544e+06</td>\n",
       "    </tr>\n",
       "    <tr>\n",
       "      <th>2</th>\n",
       "      <td>AF</td>\n",
       "      <td>68075.0</td>\n",
       "      <td>0.000075</td>\n",
       "      <td>8.684424e+04</td>\n",
       "      <td>1967950.0</td>\n",
       "      <td>-1.881106e+06</td>\n",
       "    </tr>\n",
       "    <tr>\n",
       "      <th>3</th>\n",
       "      <td>AL</td>\n",
       "      <td>16650.0</td>\n",
       "      <td>0.000018</td>\n",
       "      <td>2.124063e+04</td>\n",
       "      <td>4307350.0</td>\n",
       "      <td>-4.286109e+06</td>\n",
       "    </tr>\n",
       "    <tr>\n",
       "      <th>4</th>\n",
       "      <td>AM</td>\n",
       "      <td>23575.0</td>\n",
       "      <td>0.000026</td>\n",
       "      <td>3.007497e+04</td>\n",
       "      <td>22950475.0</td>\n",
       "      <td>-2.292040e+07</td>\n",
       "    </tr>\n",
       "    <tr>\n",
       "      <th>...</th>\n",
       "      <td>...</td>\n",
       "      <td>...</td>\n",
       "      <td>...</td>\n",
       "      <td>...</td>\n",
       "      <td>...</td>\n",
       "      <td>...</td>\n",
       "    </tr>\n",
       "    <tr>\n",
       "      <th>190</th>\n",
       "      <td>WF</td>\n",
       "      <td>2100.0</td>\n",
       "      <td>0.000002</td>\n",
       "      <td>2.679009e+03</td>\n",
       "      <td>0.0</td>\n",
       "      <td>2.679009e+03</td>\n",
       "    </tr>\n",
       "    <tr>\n",
       "      <th>191</th>\n",
       "      <td>XK</td>\n",
       "      <td>3750.0</td>\n",
       "      <td>0.000004</td>\n",
       "      <td>4.783928e+03</td>\n",
       "      <td>3083025.0</td>\n",
       "      <td>-3.078241e+06</td>\n",
       "    </tr>\n",
       "    <tr>\n",
       "      <th>192</th>\n",
       "      <td>YE</td>\n",
       "      <td>15175.0</td>\n",
       "      <td>0.000017</td>\n",
       "      <td>1.935896e+04</td>\n",
       "      <td>3444000.0</td>\n",
       "      <td>-3.424641e+06</td>\n",
       "    </tr>\n",
       "    <tr>\n",
       "      <th>193</th>\n",
       "      <td>ZA</td>\n",
       "      <td>509075.0</td>\n",
       "      <td>0.000558</td>\n",
       "      <td>6.494342e+05</td>\n",
       "      <td>1006525.0</td>\n",
       "      <td>-3.570908e+05</td>\n",
       "    </tr>\n",
       "    <tr>\n",
       "      <th>194</th>\n",
       "      <td>ZM</td>\n",
       "      <td>11325.0</td>\n",
       "      <td>0.000012</td>\n",
       "      <td>1.444745e+04</td>\n",
       "      <td>1978975.0</td>\n",
       "      <td>-1.964528e+06</td>\n",
       "    </tr>\n",
       "  </tbody>\n",
       "</table>\n",
       "<p>195 rows × 6 columns</p>\n",
       "</div>"
      ],
      "text/plain": [
       "    country_code  loan_amount_x  percentage    total_lent  loan_amount_y  \\\n",
       "0             AD         1200.0    0.000001  1.530855e+03            0.0   \n",
       "1             AE      1760225.0    0.001930  2.245544e+06            0.0   \n",
       "2             AF        68075.0    0.000075  8.684424e+04      1967950.0   \n",
       "3             AL        16650.0    0.000018  2.124063e+04      4307350.0   \n",
       "4             AM        23575.0    0.000026  3.007497e+04     22950475.0   \n",
       "..           ...            ...         ...           ...            ...   \n",
       "190           WF         2100.0    0.000002  2.679009e+03            0.0   \n",
       "191           XK         3750.0    0.000004  4.783928e+03      3083025.0   \n",
       "192           YE        15175.0    0.000017  1.935896e+04      3444000.0   \n",
       "193           ZA       509075.0    0.000558  6.494342e+05      1006525.0   \n",
       "194           ZM        11325.0    0.000012  1.444745e+04      1978975.0   \n",
       "\n",
       "     lent_borrowed  \n",
       "0     1.530855e+03  \n",
       "1     2.245544e+06  \n",
       "2    -1.881106e+06  \n",
       "3    -4.286109e+06  \n",
       "4    -2.292040e+07  \n",
       "..             ...  \n",
       "190   2.679009e+03  \n",
       "191  -3.078241e+06  \n",
       "192  -3.424641e+06  \n",
       "193  -3.570908e+05  \n",
       "194  -1.964528e+06  \n",
       "\n",
       "[195 rows x 6 columns]"
      ]
     },
     "execution_count": 61,
     "metadata": {},
     "output_type": "execute_result"
    }
   ],
   "source": [
    "df_lenders_loans_country"
   ]
  },
  {
   "cell_type": "markdown",
   "metadata": {},
   "source": [
    "***"
   ]
  },
  {
   "cell_type": "markdown",
   "metadata": {},
   "source": [
    "## <span style='color:red'>10) Which country has the highest ratio between the difference computed at the previous point and the population?</span>"
   ]
  },
  {
   "cell_type": "markdown",
   "metadata": {},
   "source": [
    "***"
   ]
  },
  {
   "cell_type": "code",
   "execution_count": 62,
   "metadata": {
    "ExecuteTime": {
     "end_time": "2020-01-09T15:06:15.834703Z",
     "start_time": "2020-01-09T15:06:15.748208Z"
    }
   },
   "outputs": [],
   "source": [
    "# importo data set che necessito\n",
    "df_country_stat = pd.read_csv(dire3)"
   ]
  },
  {
   "cell_type": "code",
   "execution_count": 63,
   "metadata": {
    "ExecuteTime": {
     "end_time": "2020-01-09T15:06:15.846134Z",
     "start_time": "2020-01-09T15:06:15.839160Z"
    }
   },
   "outputs": [],
   "source": [
    "temp_df = df_country_stat.groupby('country_code')['population'].sum()"
   ]
  },
  {
   "cell_type": "code",
   "execution_count": 64,
   "metadata": {
    "ExecuteTime": {
     "end_time": "2020-01-09T15:06:15.854346Z",
     "start_time": "2020-01-09T15:06:15.849068Z"
    }
   },
   "outputs": [],
   "source": [
    "temp_df = temp_df.reset_index()"
   ]
  },
  {
   "cell_type": "code",
   "execution_count": 65,
   "metadata": {
    "ExecuteTime": {
     "end_time": "2020-01-09T15:06:15.865902Z",
     "start_time": "2020-01-09T15:06:15.857231Z"
    }
   },
   "outputs": [],
   "source": [
    "df_lenders_loans_country = df_lenders_loans_country.merge(temp_df,how='left', on='country_code')"
   ]
  },
  {
   "cell_type": "code",
   "execution_count": 66,
   "metadata": {
    "ExecuteTime": {
     "end_time": "2020-01-09T15:06:15.879460Z",
     "start_time": "2020-01-09T15:06:15.868286Z"
    }
   },
   "outputs": [],
   "source": [
    "# seh ho popolazione nan metto il primo quantile\n",
    "first_quantile = df_lenders_loans_country.population.quantile(0.25)\n",
    "df_lenders_loans_country.population = df_lenders_loans_country.population.fillna(first_quantile)"
   ]
  },
  {
   "cell_type": "code",
   "execution_count": 67,
   "metadata": {
    "ExecuteTime": {
     "end_time": "2020-01-09T15:06:15.903189Z",
     "start_time": "2020-01-09T15:06:15.885942Z"
    }
   },
   "outputs": [
    {
     "data": {
      "text/html": [
       "<div>\n",
       "<style scoped>\n",
       "    .dataframe tbody tr th:only-of-type {\n",
       "        vertical-align: middle;\n",
       "    }\n",
       "\n",
       "    .dataframe tbody tr th {\n",
       "        vertical-align: top;\n",
       "    }\n",
       "\n",
       "    .dataframe thead th {\n",
       "        text-align: right;\n",
       "    }\n",
       "</style>\n",
       "<table border=\"1\" class=\"dataframe\">\n",
       "  <thead>\n",
       "    <tr style=\"text-align: right;\">\n",
       "      <th></th>\n",
       "      <th>country_code</th>\n",
       "      <th>loan_amount_x</th>\n",
       "      <th>percentage</th>\n",
       "      <th>total_lent</th>\n",
       "      <th>loan_amount_y</th>\n",
       "      <th>lent_borrowed</th>\n",
       "      <th>population</th>\n",
       "    </tr>\n",
       "  </thead>\n",
       "  <tbody>\n",
       "    <tr>\n",
       "      <th>0</th>\n",
       "      <td>AD</td>\n",
       "      <td>1200.0</td>\n",
       "      <td>0.000001</td>\n",
       "      <td>1.530855e+03</td>\n",
       "      <td>0.0</td>\n",
       "      <td>1.530855e+03</td>\n",
       "      <td>4301080.25</td>\n",
       "    </tr>\n",
       "    <tr>\n",
       "      <th>1</th>\n",
       "      <td>AE</td>\n",
       "      <td>1760225.0</td>\n",
       "      <td>0.001930</td>\n",
       "      <td>2.245544e+06</td>\n",
       "      <td>0.0</td>\n",
       "      <td>2.245544e+06</td>\n",
       "      <td>9400145.00</td>\n",
       "    </tr>\n",
       "    <tr>\n",
       "      <th>2</th>\n",
       "      <td>AF</td>\n",
       "      <td>68075.0</td>\n",
       "      <td>0.000075</td>\n",
       "      <td>8.684424e+04</td>\n",
       "      <td>1967950.0</td>\n",
       "      <td>-1.881106e+06</td>\n",
       "      <td>35530081.00</td>\n",
       "    </tr>\n",
       "    <tr>\n",
       "      <th>3</th>\n",
       "      <td>AL</td>\n",
       "      <td>16650.0</td>\n",
       "      <td>0.000018</td>\n",
       "      <td>2.124063e+04</td>\n",
       "      <td>4307350.0</td>\n",
       "      <td>-4.286109e+06</td>\n",
       "      <td>2930187.00</td>\n",
       "    </tr>\n",
       "    <tr>\n",
       "      <th>4</th>\n",
       "      <td>AM</td>\n",
       "      <td>23575.0</td>\n",
       "      <td>0.000026</td>\n",
       "      <td>3.007497e+04</td>\n",
       "      <td>22950475.0</td>\n",
       "      <td>-2.292040e+07</td>\n",
       "      <td>2930450.00</td>\n",
       "    </tr>\n",
       "    <tr>\n",
       "      <th>...</th>\n",
       "      <td>...</td>\n",
       "      <td>...</td>\n",
       "      <td>...</td>\n",
       "      <td>...</td>\n",
       "      <td>...</td>\n",
       "      <td>...</td>\n",
       "      <td>...</td>\n",
       "    </tr>\n",
       "    <tr>\n",
       "      <th>190</th>\n",
       "      <td>WF</td>\n",
       "      <td>2100.0</td>\n",
       "      <td>0.000002</td>\n",
       "      <td>2.679009e+03</td>\n",
       "      <td>0.0</td>\n",
       "      <td>2.679009e+03</td>\n",
       "      <td>4301080.25</td>\n",
       "    </tr>\n",
       "    <tr>\n",
       "      <th>191</th>\n",
       "      <td>XK</td>\n",
       "      <td>3750.0</td>\n",
       "      <td>0.000004</td>\n",
       "      <td>4.783928e+03</td>\n",
       "      <td>3083025.0</td>\n",
       "      <td>-3.078241e+06</td>\n",
       "      <td>1895250.00</td>\n",
       "    </tr>\n",
       "    <tr>\n",
       "      <th>192</th>\n",
       "      <td>YE</td>\n",
       "      <td>15175.0</td>\n",
       "      <td>0.000017</td>\n",
       "      <td>1.935896e+04</td>\n",
       "      <td>3444000.0</td>\n",
       "      <td>-3.424641e+06</td>\n",
       "      <td>28250420.00</td>\n",
       "    </tr>\n",
       "    <tr>\n",
       "      <th>193</th>\n",
       "      <td>ZA</td>\n",
       "      <td>509075.0</td>\n",
       "      <td>0.000558</td>\n",
       "      <td>6.494342e+05</td>\n",
       "      <td>1006525.0</td>\n",
       "      <td>-3.570908e+05</td>\n",
       "      <td>56717156.00</td>\n",
       "    </tr>\n",
       "    <tr>\n",
       "      <th>194</th>\n",
       "      <td>ZM</td>\n",
       "      <td>11325.0</td>\n",
       "      <td>0.000012</td>\n",
       "      <td>1.444745e+04</td>\n",
       "      <td>1978975.0</td>\n",
       "      <td>-1.964528e+06</td>\n",
       "      <td>17094130.00</td>\n",
       "    </tr>\n",
       "  </tbody>\n",
       "</table>\n",
       "<p>195 rows × 7 columns</p>\n",
       "</div>"
      ],
      "text/plain": [
       "    country_code  loan_amount_x  percentage    total_lent  loan_amount_y  \\\n",
       "0             AD         1200.0    0.000001  1.530855e+03            0.0   \n",
       "1             AE      1760225.0    0.001930  2.245544e+06            0.0   \n",
       "2             AF        68075.0    0.000075  8.684424e+04      1967950.0   \n",
       "3             AL        16650.0    0.000018  2.124063e+04      4307350.0   \n",
       "4             AM        23575.0    0.000026  3.007497e+04     22950475.0   \n",
       "..           ...            ...         ...           ...            ...   \n",
       "190           WF         2100.0    0.000002  2.679009e+03            0.0   \n",
       "191           XK         3750.0    0.000004  4.783928e+03      3083025.0   \n",
       "192           YE        15175.0    0.000017  1.935896e+04      3444000.0   \n",
       "193           ZA       509075.0    0.000558  6.494342e+05      1006525.0   \n",
       "194           ZM        11325.0    0.000012  1.444745e+04      1978975.0   \n",
       "\n",
       "     lent_borrowed   population  \n",
       "0     1.530855e+03   4301080.25  \n",
       "1     2.245544e+06   9400145.00  \n",
       "2    -1.881106e+06  35530081.00  \n",
       "3    -4.286109e+06   2930187.00  \n",
       "4    -2.292040e+07   2930450.00  \n",
       "..             ...          ...  \n",
       "190   2.679009e+03   4301080.25  \n",
       "191  -3.078241e+06   1895250.00  \n",
       "192  -3.424641e+06  28250420.00  \n",
       "193  -3.570908e+05  56717156.00  \n",
       "194  -1.964528e+06  17094130.00  \n",
       "\n",
       "[195 rows x 7 columns]"
      ]
     },
     "execution_count": 67,
     "metadata": {},
     "output_type": "execute_result"
    }
   ],
   "source": [
    "df_lenders_loans_country"
   ]
  },
  {
   "cell_type": "code",
   "execution_count": 68,
   "metadata": {
    "ExecuteTime": {
     "end_time": "2020-01-09T15:06:15.928327Z",
     "start_time": "2020-01-09T15:06:15.925105Z"
    }
   },
   "outputs": [],
   "source": [
    "#calcolo percentuale su i lent-borrowed e la popolazione, successivamente trovo l'idmax per la percentuale che mi dice essere CANADA\n",
    "df_lenders_loans_country['percentage'] = round(df_lenders_loans_country['lent_borrowed']/df_lenders_loans_country['population']*100, 2)\n",
    "#temp_df3=temp_df3.reset_index()"
   ]
  },
  {
   "cell_type": "code",
   "execution_count": 69,
   "metadata": {
    "ExecuteTime": {
     "end_time": "2020-01-09T15:06:15.944713Z",
     "start_time": "2020-01-09T15:06:15.934341Z"
    },
    "scrolled": false
   },
   "outputs": [],
   "source": [
    "max_ratio = df_lenders_loans_country.loc[df_lenders_loans_country['percentage'].idxmax()]"
   ]
  },
  {
   "cell_type": "code",
   "execution_count": 70,
   "metadata": {
    "ExecuteTime": {
     "end_time": "2020-01-09T15:06:15.951740Z",
     "start_time": "2020-01-09T15:06:15.946827Z"
    }
   },
   "outputs": [
    {
     "data": {
      "text/plain": [
       "country_code              NO\n",
       "loan_amount_x    1.31226e+07\n",
       "percentage            315.54\n",
       "total_lent       1.67407e+07\n",
       "loan_amount_y              0\n",
       "lent_borrowed    1.67407e+07\n",
       "population       5.30538e+06\n",
       "Name: 132, dtype: object"
      ]
     },
     "execution_count": 70,
     "metadata": {},
     "output_type": "execute_result"
    }
   ],
   "source": [
    "max_ratio"
   ]
  },
  {
   "cell_type": "markdown",
   "metadata": {},
   "source": [
    "***"
   ]
  },
  {
   "cell_type": "markdown",
   "metadata": {},
   "source": [
    "## <span style='color:red'>11) Which country has the highest ratio between the difference computed at point 9 and the population that is not below the poverty line?</span>"
   ]
  },
  {
   "cell_type": "markdown",
   "metadata": {},
   "source": [
    "***"
   ]
  },
  {
   "cell_type": "code",
   "execution_count": 71,
   "metadata": {
    "ExecuteTime": {
     "end_time": "2020-01-09T15:06:15.961850Z",
     "start_time": "2020-01-09T15:06:15.955601Z"
    }
   },
   "outputs": [],
   "source": [
    "temp_df2 = df_country_stat.groupby('country_code')[['country_code','population','population_below_poverty_line']].head()"
   ]
  },
  {
   "cell_type": "code",
   "execution_count": 72,
   "metadata": {
    "ExecuteTime": {
     "end_time": "2020-01-09T15:06:15.970244Z",
     "start_time": "2020-01-09T15:06:15.964426Z"
    }
   },
   "outputs": [],
   "source": [
    "temp_df2['population_below_poverty_line'] = temp_df2['population_below_poverty_line']/100"
   ]
  },
  {
   "cell_type": "code",
   "execution_count": 74,
   "metadata": {
    "ExecuteTime": {
     "end_time": "2020-01-09T15:06:15.986060Z",
     "start_time": "2020-01-09T15:06:15.982765Z"
    },
    "scrolled": true
   },
   "outputs": [],
   "source": [
    "mean = temp_df2.population_below_poverty_line.mean()\n",
    "temp_df2.population_below_poverty_line = temp_df2.population_below_poverty_line.fillna(mean)"
   ]
  },
  {
   "cell_type": "code",
   "execution_count": 75,
   "metadata": {
    "ExecuteTime": {
     "end_time": "2020-01-09T15:06:16.002620Z",
     "start_time": "2020-01-09T15:06:15.989176Z"
    }
   },
   "outputs": [
    {
     "data": {
      "text/html": [
       "<div>\n",
       "<style scoped>\n",
       "    .dataframe tbody tr th:only-of-type {\n",
       "        vertical-align: middle;\n",
       "    }\n",
       "\n",
       "    .dataframe tbody tr th {\n",
       "        vertical-align: top;\n",
       "    }\n",
       "\n",
       "    .dataframe thead th {\n",
       "        text-align: right;\n",
       "    }\n",
       "</style>\n",
       "<table border=\"1\" class=\"dataframe\">\n",
       "  <thead>\n",
       "    <tr style=\"text-align: right;\">\n",
       "      <th></th>\n",
       "      <th>country_code</th>\n",
       "      <th>population</th>\n",
       "      <th>population_below_poverty_line</th>\n",
       "    </tr>\n",
       "  </thead>\n",
       "  <tbody>\n",
       "    <tr>\n",
       "      <th>0</th>\n",
       "      <td>IN</td>\n",
       "      <td>1339180127</td>\n",
       "      <td>0.21900</td>\n",
       "    </tr>\n",
       "    <tr>\n",
       "      <th>1</th>\n",
       "      <td>NG</td>\n",
       "      <td>190886311</td>\n",
       "      <td>0.70000</td>\n",
       "    </tr>\n",
       "    <tr>\n",
       "      <th>2</th>\n",
       "      <td>MX</td>\n",
       "      <td>129163276</td>\n",
       "      <td>0.46200</td>\n",
       "    </tr>\n",
       "    <tr>\n",
       "      <th>3</th>\n",
       "      <td>PK</td>\n",
       "      <td>197015955</td>\n",
       "      <td>0.29500</td>\n",
       "    </tr>\n",
       "    <tr>\n",
       "      <th>4</th>\n",
       "      <td>BD</td>\n",
       "      <td>164669751</td>\n",
       "      <td>0.31500</td>\n",
       "    </tr>\n",
       "    <tr>\n",
       "      <th>...</th>\n",
       "      <td>...</td>\n",
       "      <td>...</td>\n",
       "      <td>...</td>\n",
       "    </tr>\n",
       "    <tr>\n",
       "      <th>169</th>\n",
       "      <td>SO</td>\n",
       "      <td>14742523</td>\n",
       "      <td>0.28477</td>\n",
       "    </tr>\n",
       "    <tr>\n",
       "      <th>170</th>\n",
       "      <td>CF</td>\n",
       "      <td>4659080</td>\n",
       "      <td>0.28477</td>\n",
       "    </tr>\n",
       "    <tr>\n",
       "      <th>171</th>\n",
       "      <td>WS</td>\n",
       "      <td>196440</td>\n",
       "      <td>0.28477</td>\n",
       "    </tr>\n",
       "    <tr>\n",
       "      <th>172</th>\n",
       "      <td>PS</td>\n",
       "      <td>4920724</td>\n",
       "      <td>0.28477</td>\n",
       "    </tr>\n",
       "    <tr>\n",
       "      <th>173</th>\n",
       "      <td>XK</td>\n",
       "      <td>1895250</td>\n",
       "      <td>0.30000</td>\n",
       "    </tr>\n",
       "  </tbody>\n",
       "</table>\n",
       "<p>174 rows × 3 columns</p>\n",
       "</div>"
      ],
      "text/plain": [
       "    country_code  population  population_below_poverty_line\n",
       "0             IN  1339180127                        0.21900\n",
       "1             NG   190886311                        0.70000\n",
       "2             MX   129163276                        0.46200\n",
       "3             PK   197015955                        0.29500\n",
       "4             BD   164669751                        0.31500\n",
       "..           ...         ...                            ...\n",
       "169           SO    14742523                        0.28477\n",
       "170           CF     4659080                        0.28477\n",
       "171           WS      196440                        0.28477\n",
       "172           PS     4920724                        0.28477\n",
       "173           XK     1895250                        0.30000\n",
       "\n",
       "[174 rows x 3 columns]"
      ]
     },
     "execution_count": 75,
     "metadata": {},
     "output_type": "execute_result"
    }
   ],
   "source": [
    "temp_df2"
   ]
  },
  {
   "cell_type": "code",
   "execution_count": 77,
   "metadata": {
    "ExecuteTime": {
     "end_time": "2020-01-09T15:06:45.770984Z",
     "start_time": "2020-01-09T15:06:45.766294Z"
    }
   },
   "outputs": [],
   "source": [
    "temp_df2['population_below_poverty_line'] = temp_df2['population'] - (temp_df2['population_below_poverty_line']*temp_df2['population'])"
   ]
  },
  {
   "cell_type": "code",
   "execution_count": 83,
   "metadata": {
    "ExecuteTime": {
     "end_time": "2020-01-09T15:08:04.892805Z",
     "start_time": "2020-01-09T15:08:04.882876Z"
    }
   },
   "outputs": [],
   "source": [
    "temp_df2 = temp_df2.merge(df_lenders_loans_country[['country_code', 'lent_borrowed']], left_on='country_code', right_on='country_code')"
   ]
  },
  {
   "cell_type": "code",
   "execution_count": 85,
   "metadata": {
    "ExecuteTime": {
     "end_time": "2020-01-09T15:09:15.407578Z",
     "start_time": "2020-01-09T15:09:15.402549Z"
    }
   },
   "outputs": [],
   "source": [
    "mean = temp_df2.lent_borrowed.mean()\n",
    "temp_df2.lent_borrowed = temp_df2.lent_borrowed.fillna(mean)"
   ]
  },
  {
   "cell_type": "code",
   "execution_count": 86,
   "metadata": {
    "ExecuteTime": {
     "end_time": "2020-01-09T15:09:17.671756Z",
     "start_time": "2020-01-09T15:09:17.664164Z"
    }
   },
   "outputs": [],
   "source": [
    "temp_df2['percentage_poverty'] = round(temp_df2['lent_borrowed']/temp_df2['population_below_poverty_line']*100, 2)"
   ]
  },
  {
   "cell_type": "code",
   "execution_count": 90,
   "metadata": {
    "ExecuteTime": {
     "end_time": "2020-01-09T15:09:48.741163Z",
     "start_time": "2020-01-09T15:09:48.736725Z"
    }
   },
   "outputs": [],
   "source": [
    "max_ratio = temp_df2.loc[temp_df2['percentage_poverty'].idxmax()]"
   ]
  },
  {
   "cell_type": "code",
   "execution_count": 91,
   "metadata": {
    "ExecuteTime": {
     "end_time": "2020-01-09T15:09:48.930751Z",
     "start_time": "2020-01-09T15:09:48.925695Z"
    },
    "scrolled": true
   },
   "outputs": [
    {
     "data": {
      "text/plain": [
       "country_code                              NO\n",
       "population                           5305383\n",
       "population_below_poverty_line    3.79457e+06\n",
       "lent_borrowed                    1.67407e+07\n",
       "percentage_poverty                    441.18\n",
       "Name: 146, dtype: object"
      ]
     },
     "execution_count": 91,
     "metadata": {},
     "output_type": "execute_result"
    }
   ],
   "source": [
    "max_ratio"
   ]
  },
  {
   "cell_type": "markdown",
   "metadata": {},
   "source": [
    "***"
   ]
  },
  {
   "cell_type": "markdown",
   "metadata": {},
   "source": [
    "## <span style='color:red'>12) For each year, compute the total amount of loans. Each loan that has planned expiration time and disburse time in different years must have its amount distributed proportionally to the number of days in each year. For example, a loan with disburse time December 1st, 2016, planned expiration time January 30th 2018, and amount 5000USD has an amount of 5000USD * 31 / (31+365+30) = 363.85 for 2016, 5000USD * 365 / (31+365+30) = 4284.04 for 2017, and 5000USD * 30 / (31+365+30) = 352.11 for 2018.</span>"
   ]
  },
  {
   "cell_type": "markdown",
   "metadata": {},
   "source": [
    "***"
   ]
  },
  {
   "cell_type": "markdown",
   "metadata": {},
   "source": [
    "### Decido di eliminare tutte le colonne con NaN, in particolar modo tutte le colonne che non presentano disburse_time oppure planned_expiration_time"
   ]
  },
  {
   "cell_type": "markdown",
   "metadata": {},
   "source": [
    "***"
   ]
  },
  {
   "cell_type": "code",
   "execution_count": 150,
   "metadata": {
    "ExecuteTime": {
     "end_time": "2020-01-09T15:21:02.913582Z",
     "start_time": "2020-01-09T15:20:55.485392Z"
    }
   },
   "outputs": [],
   "source": [
    "temp_df = df_loans.dropna()"
   ]
  },
  {
   "cell_type": "code",
   "execution_count": 151,
   "metadata": {
    "ExecuteTime": {
     "end_time": "2020-01-09T15:21:02.943704Z",
     "start_time": "2020-01-09T15:21:02.919296Z"
    },
    "scrolled": true
   },
   "outputs": [
    {
     "name": "stderr",
     "output_type": "stream",
     "text": [
      "/Library/Frameworks/Python.framework/Versions/3.8/lib/python3.8/site-packages/pandas/core/indexing.py:494: SettingWithCopyWarning: \n",
      "A value is trying to be set on a copy of a slice from a DataFrame.\n",
      "Try using .loc[row_indexer,col_indexer] = value instead\n",
      "\n",
      "See the caveats in the documentation: http://pandas.pydata.org/pandas-docs/stable/user_guide/indexing.html#returning-a-view-versus-a-copy\n",
      "  self.obj[item] = s\n"
     ]
    }
   ],
   "source": [
    "temp_df.loc[:,('disburse_time')]=temp_df.loc[:,('disburse_time')].dt.tz_localize(None)\n",
    "temp_df.loc[:,('planned_expiration_time')]=temp_df.loc[:,('planned_expiration_time')].dt.tz_localize(None)"
   ]
  },
  {
   "cell_type": "code",
   "execution_count": 152,
   "metadata": {
    "ExecuteTime": {
     "end_time": "2020-01-09T15:21:02.992254Z",
     "start_time": "2020-01-09T15:21:02.947248Z"
    },
    "scrolled": true
   },
   "outputs": [
    {
     "name": "stderr",
     "output_type": "stream",
     "text": [
      "<ipython-input-152-8c6a6d9a8ff2>:1: SettingWithCopyWarning: \n",
      "A value is trying to be set on a copy of a slice from a DataFrame.\n",
      "Try using .loc[row_indexer,col_indexer] = value instead\n",
      "\n",
      "See the caveats in the documentation: http://pandas.pydata.org/pandas-docs/stable/user_guide/indexing.html#returning-a-view-versus-a-copy\n",
      "  temp_df['differenza'] = temp_df['planned_expiration_time'].dt.year - temp_df['disburse_time'].dt.year\n"
     ]
    }
   ],
   "source": [
    "temp_df['differenza'] = temp_df['planned_expiration_time'].dt.year - temp_df['disburse_time'].dt.year"
   ]
  },
  {
   "cell_type": "code",
   "execution_count": 153,
   "metadata": {
    "ExecuteTime": {
     "end_time": "2020-01-09T15:21:03.110270Z",
     "start_time": "2020-01-09T15:21:02.994868Z"
    }
   },
   "outputs": [],
   "source": [
    "temp_df = temp_df[['planned_expiration_time', 'disburse_time', 'differenza', 'loan_amount', 'duration']]"
   ]
  },
  {
   "cell_type": "code",
   "execution_count": 154,
   "metadata": {
    "ExecuteTime": {
     "end_time": "2020-01-09T15:21:03.131595Z",
     "start_time": "2020-01-09T15:21:03.112514Z"
    }
   },
   "outputs": [
    {
     "data": {
      "text/plain": [
       "differenza\n",
       "0    415502\n",
       "1     63335\n",
       "dtype: int64"
      ]
     },
     "execution_count": 154,
     "metadata": {},
     "output_type": "execute_result"
    }
   ],
   "source": [
    "# mi accorgo che ho solo 1 o 0 come differenza perciò preparo programma apposta\n",
    "temp_df.groupby('differenza').size()"
   ]
  },
  {
   "cell_type": "code",
   "execution_count": 155,
   "metadata": {
    "ExecuteTime": {
     "end_time": "2020-01-09T15:21:03.148701Z",
     "start_time": "2020-01-09T15:21:03.134246Z"
    }
   },
   "outputs": [],
   "source": [
    "# tengo solo i giorni\n",
    "temp_df.duration = temp_df.duration.dt.days"
   ]
  },
  {
   "cell_type": "code",
   "execution_count": 156,
   "metadata": {
    "ExecuteTime": {
     "end_time": "2020-01-09T15:21:03.171758Z",
     "start_time": "2020-01-09T15:21:03.151093Z"
    }
   },
   "outputs": [],
   "source": [
    "def func(k):\n",
    "        x = round(( k.loan_amount * k.duration)/(31+365+30),2)\n",
    "        y = k['planned_expiration_time'].year\n",
    "        return [y,x]\n",
    "\n",
    "def func2(k):\n",
    "        lim_inf = datetime.datetime(k.planned_expiration_time.year, 1,1)\n",
    "        z = k.planned_expiration_time - lim_inf\n",
    "        z = z.days\n",
    "        x = round(( k.loan_amount * z)/(31+365+30),2) \n",
    "        y = k.planned_expiration_time.year\n",
    "        lim_sup = datetime.datetime(k.disburse_time.year, 12, 31)\n",
    "        f = lim_sup - k.disburse_time\n",
    "        f = f.days\n",
    "        u = round(( k.loan_amount * f)/(31+365+30),2) \n",
    "        v = k.disburse_time.year\n",
    "        return [[y,x],[v,u]]\n"
   ]
  },
  {
   "cell_type": "code",
   "execution_count": 157,
   "metadata": {
    "ExecuteTime": {
     "end_time": "2020-01-09T15:21:03.295611Z",
     "start_time": "2020-01-09T15:21:03.175949Z"
    }
   },
   "outputs": [],
   "source": [
    "temp_df1 = temp_df.loc[temp_df.differenza == 0]\n",
    "listx = []"
   ]
  },
  {
   "cell_type": "code",
   "execution_count": 158,
   "metadata": {
    "ExecuteTime": {
     "end_time": "2020-01-09T15:21:20.147499Z",
     "start_time": "2020-01-09T15:21:03.297636Z"
    }
   },
   "outputs": [],
   "source": [
    "# applico funzione per gli 0 anni di differenza\n",
    "listx = temp_df1.apply(lambda x : func(x), axis=1)"
   ]
  },
  {
   "cell_type": "code",
   "execution_count": 159,
   "metadata": {
    "ExecuteTime": {
     "end_time": "2020-01-09T15:21:20.155952Z",
     "start_time": "2020-01-09T15:21:20.149953Z"
    }
   },
   "outputs": [
    {
     "data": {
      "text/plain": [
       "{'tot': 13           [2013, 2.82]\n",
       " 71          [2014, 28.52]\n",
       " 74          [2016, 71.48]\n",
       " 75         [2016, 202.46]\n",
       " 79          [2013, 22.59]\n",
       "                 ...      \n",
       " 1419576     [2015, 52.11]\n",
       " 1419586    [2015, 540.61]\n",
       " 1419589      [2015, 13.5]\n",
       " 1419603     [2015, 25.35]\n",
       " 1419604    [2015, 267.55]\n",
       " Name: data2, Length: 63335, dtype: object}"
      ]
     },
     "execution_count": 159,
     "metadata": {},
     "output_type": "execute_result"
    }
   ],
   "source": [
    "d1"
   ]
  },
  {
   "cell_type": "code",
   "execution_count": 160,
   "metadata": {
    "ExecuteTime": {
     "end_time": "2020-01-09T15:22:26.719911Z",
     "start_time": "2020-01-09T15:21:20.157973Z"
    }
   },
   "outputs": [],
   "source": [
    "d1 = {'tot' : listx}\n",
    "df2 = pd.DataFrame(d1)\n",
    "df3 = df2.tot.apply(pd.Series)\n",
    "df3.columns = ['year', 'total']"
   ]
  },
  {
   "cell_type": "code",
   "execution_count": 172,
   "metadata": {
    "ExecuteTime": {
     "end_time": "2020-01-09T15:24:18.991390Z",
     "start_time": "2020-01-09T15:24:18.980860Z"
    }
   },
   "outputs": [
    {
     "name": "stdout",
     "output_type": "stream",
     "text": [
      "<class 'pandas.core.frame.DataFrame'>\n",
      "RangeIndex: 542172 entries, 0 to 542171\n",
      "Data columns (total 2 columns):\n",
      "year     542172 non-null float64\n",
      "total    542172 non-null float64\n",
      "dtypes: float64(2)\n",
      "memory usage: 8.3 MB\n"
     ]
    }
   ],
   "source": [
    "df3.info()"
   ]
  },
  {
   "cell_type": "code",
   "execution_count": 163,
   "metadata": {
    "ExecuteTime": {
     "end_time": "2020-01-09T15:23:09.390872Z",
     "start_time": "2020-01-09T15:23:09.370288Z"
    }
   },
   "outputs": [],
   "source": [
    "# applico funzione per gli 1 anni \n",
    "temp_df1 = temp_df.loc[temp_df.differenza == 1]\n",
    "listy = []"
   ]
  },
  {
   "cell_type": "code",
   "execution_count": 164,
   "metadata": {
    "ExecuteTime": {
     "end_time": "2020-01-09T15:23:19.142380Z",
     "start_time": "2020-01-09T15:23:09.920518Z"
    }
   },
   "outputs": [],
   "source": [
    "listy = temp_df1.apply(lambda x : func2(x), axis=1)"
   ]
  },
  {
   "cell_type": "code",
   "execution_count": 165,
   "metadata": {
    "ExecuteTime": {
     "end_time": "2020-01-09T15:23:29.711525Z",
     "start_time": "2020-01-09T15:23:19.144460Z"
    }
   },
   "outputs": [],
   "source": [
    "# ottengo due df di liste con i dati immagazzinati dal limite superiore e dal limite inferiore\n",
    "d1 = {'tot' : listy}\n",
    "df2 = pd.DataFrame(d1)\n",
    "df4 = df2.tot.apply(pd.Series)\n",
    "df4.columns = ['data1', 'data2']\n",
    "df2 = df4['data1']\n",
    "df4 = df4['data2']"
   ]
  },
  {
   "cell_type": "code",
   "execution_count": 166,
   "metadata": {
    "ExecuteTime": {
     "end_time": "2020-01-09T15:23:39.572690Z",
     "start_time": "2020-01-09T15:23:29.714267Z"
    }
   },
   "outputs": [],
   "source": [
    "# primo limite\n",
    "d1 = {'tot' : df2}\n",
    "df2 = pd.DataFrame(d1)\n",
    "df5 = df2.tot.apply(pd.Series)\n",
    "df5.columns = ['year', 'total']"
   ]
  },
  {
   "cell_type": "code",
   "execution_count": 170,
   "metadata": {
    "ExecuteTime": {
     "end_time": "2020-01-09T15:24:18.965998Z",
     "start_time": "2020-01-09T15:24:08.714184Z"
    }
   },
   "outputs": [],
   "source": [
    "# secondo limite\n",
    "d1 = {'tot' : df4}\n",
    "df2 = pd.DataFrame(d1)\n",
    "df6 = df2.tot.apply(pd.Series)\n",
    "df6.columns = ['year', 'total']"
   ]
  },
  {
   "cell_type": "code",
   "execution_count": 168,
   "metadata": {
    "ExecuteTime": {
     "end_time": "2020-01-09T15:23:49.215271Z",
     "start_time": "2020-01-09T15:23:49.206080Z"
    }
   },
   "outputs": [],
   "source": [
    "# appendo entrambi i data set creati al primo creato\n",
    "df3 = df3.append(df5, ignore_index=True)"
   ]
  },
  {
   "cell_type": "code",
   "execution_count": 171,
   "metadata": {
    "ExecuteTime": {
     "end_time": "2020-01-09T15:24:18.977864Z",
     "start_time": "2020-01-09T15:24:18.968363Z"
    }
   },
   "outputs": [],
   "source": [
    "df3 = df3.append(df6, ignore_index=True)"
   ]
  },
  {
   "cell_type": "code",
   "execution_count": 176,
   "metadata": {
    "ExecuteTime": {
     "end_time": "2020-01-09T15:25:13.436755Z",
     "start_time": "2020-01-09T15:25:13.427864Z"
    }
   },
   "outputs": [],
   "source": [
    "df3.year = df3.year.astype('int')"
   ]
  },
  {
   "cell_type": "code",
   "execution_count": 177,
   "metadata": {
    "ExecuteTime": {
     "end_time": "2020-01-09T15:25:14.164194Z",
     "start_time": "2020-01-09T15:25:14.148003Z"
    }
   },
   "outputs": [
    {
     "data": {
      "text/plain": [
       "year\n",
       "2011         1\n",
       "2012       745\n",
       "2013     10801\n",
       "2014     79474\n",
       "2015    114483\n",
       "2016    145724\n",
       "2017    180452\n",
       "2018     10492\n",
       "dtype: int64"
      ]
     },
     "execution_count": 177,
     "metadata": {},
     "output_type": "execute_result"
    }
   ],
   "source": [
    "df3.groupby('year').size()"
   ]
  },
  {
   "cell_type": "code",
   "execution_count": 178,
   "metadata": {
    "ExecuteTime": {
     "end_time": "2020-01-09T15:25:16.688621Z",
     "start_time": "2020-01-09T15:25:16.666893Z"
    },
    "scrolled": false
   },
   "outputs": [
    {
     "data": {
      "text/html": [
       "<div>\n",
       "<style scoped>\n",
       "    .dataframe tbody tr th:only-of-type {\n",
       "        vertical-align: middle;\n",
       "    }\n",
       "\n",
       "    .dataframe tbody tr th {\n",
       "        vertical-align: top;\n",
       "    }\n",
       "\n",
       "    .dataframe thead th {\n",
       "        text-align: right;\n",
       "    }\n",
       "</style>\n",
       "<table border=\"1\" class=\"dataframe\">\n",
       "  <thead>\n",
       "    <tr style=\"text-align: right;\">\n",
       "      <th></th>\n",
       "      <th>total</th>\n",
       "    </tr>\n",
       "    <tr>\n",
       "      <th>year</th>\n",
       "      <th></th>\n",
       "    </tr>\n",
       "  </thead>\n",
       "  <tbody>\n",
       "    <tr>\n",
       "      <th>2011</th>\n",
       "      <td>29.93</td>\n",
       "    </tr>\n",
       "    <tr>\n",
       "      <th>2012</th>\n",
       "      <td>74010.36</td>\n",
       "    </tr>\n",
       "    <tr>\n",
       "      <th>2013</th>\n",
       "      <td>1443746.34</td>\n",
       "    </tr>\n",
       "    <tr>\n",
       "      <th>2014</th>\n",
       "      <td>8845883.56</td>\n",
       "    </tr>\n",
       "    <tr>\n",
       "      <th>2015</th>\n",
       "      <td>10590086.70</td>\n",
       "    </tr>\n",
       "    <tr>\n",
       "      <th>2016</th>\n",
       "      <td>11577277.04</td>\n",
       "    </tr>\n",
       "    <tr>\n",
       "      <th>2017</th>\n",
       "      <td>13381987.53</td>\n",
       "    </tr>\n",
       "    <tr>\n",
       "      <th>2018</th>\n",
       "      <td>214480.37</td>\n",
       "    </tr>\n",
       "  </tbody>\n",
       "</table>\n",
       "</div>"
      ],
      "text/plain": [
       "            total\n",
       "year             \n",
       "2011        29.93\n",
       "2012     74010.36\n",
       "2013   1443746.34\n",
       "2014   8845883.56\n",
       "2015  10590086.70\n",
       "2016  11577277.04\n",
       "2017  13381987.53\n",
       "2018    214480.37"
      ]
     },
     "execution_count": 178,
     "metadata": {},
     "output_type": "execute_result"
    }
   ],
   "source": [
    "df3.groupby('year').sum()"
   ]
  },
  {
   "cell_type": "markdown",
   "metadata": {},
   "source": [
    "# TEMPO IMPIEGATO 12 PUNTI : 5.30min \n",
    "# COMPUTER UTILIZZATO : MACBOOK PRO 19\n",
    "# PROCESSORE : 1,4 GHz Intel Core i5 quad-core\n",
    "# MEMORIA : 8 GB 2133 MHz LPDDR3\n",
    "# SCHEDA GRAFICA : Intel Iris Plus Graphics 645 1536 MB\n"
   ]
  }
 ],
 "metadata": {
  "kernelspec": {
   "display_name": "Python 3",
   "language": "python",
   "name": "python3"
  },
  "language_info": {
   "codemirror_mode": {
    "name": "ipython",
    "version": 3
   },
   "file_extension": ".py",
   "mimetype": "text/x-python",
   "name": "python",
   "nbconvert_exporter": "python",
   "pygments_lexer": "ipython3",
   "version": "3.8.0"
  }
 },
 "nbformat": 4,
 "nbformat_minor": 2
}
