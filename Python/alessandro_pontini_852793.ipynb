{
 "cells": [
  {
   "cell_type": "markdown",
   "metadata": {},
   "source": [
    "#   <span style=\"color:#5F9EA0\">Progetto Python Alessandro Pontini Matricola: 852793</span>"
   ]
  },
  {
   "cell_type": "markdown",
   "metadata": {},
   "source": [
    "***"
   ]
  },
  {
   "cell_type": "code",
   "execution_count": 1,
   "metadata": {
    "ExecuteTime": {
     "end_time": "2019-12-19T12:50:48.713721Z",
     "start_time": "2019-12-19T12:50:47.985509Z"
    }
   },
   "outputs": [],
   "source": [
    "# importo librerie\n",
    "import pandas as pd\n",
    "import datetime\n",
    "import numpy as np"
   ]
  },
  {
   "cell_type": "code",
   "execution_count": 2,
   "metadata": {
    "ExecuteTime": {
     "end_time": "2019-12-19T12:50:48.719232Z",
     "start_time": "2019-12-19T12:50:48.716191Z"
    }
   },
   "outputs": [],
   "source": [
    "# scrivo directory\n",
    "dire = '/Users/alessandropontini/Desktop/progetto_python/additional-kiva-snapshot/loans_lenders.csv'\n",
    "dire1 = '/Users/alessandropontini/Desktop/progetto_python/additional-kiva-snapshot/loans.csv'\n",
    "dire2 = '/Users/alessandropontini/Desktop/progetto_python/additional-kiva-snapshot/lenders.csv'\n",
    "dire3 = '/Users/alessandropontini/Desktop/progetto_python/additional-kiva-snapshot/country_stats.csv'"
   ]
  },
  {
   "cell_type": "code",
   "execution_count": 3,
   "metadata": {
    "ExecuteTime": {
     "end_time": "2019-12-19T12:50:48.726628Z",
     "start_time": "2019-12-19T12:50:48.722021Z"
    }
   },
   "outputs": [],
   "source": [
    "# df temporanei\n",
    "\n",
    "temp_df3 = pd.DataFrame()\n",
    "temp_df4 = pd.DataFrame()\n",
    "temp_df_NA_lenders = pd.DataFrame()\n",
    "total_lenders_amount = pd.DataFrame()\n"
   ]
  },
  {
   "cell_type": "markdown",
   "metadata": {},
   "source": [
    "***"
   ]
  },
  {
   "cell_type": "markdown",
   "metadata": {},
   "source": [
    "##  <span style=\"color:red\">1) Normalize the loan_lenders table. In the normalized table, each row must have one loan_id and one lender.</span>"
   ]
  },
  {
   "cell_type": "markdown",
   "metadata": {},
   "source": [
    "***"
   ]
  },
  {
   "cell_type": "code",
   "execution_count": 4,
   "metadata": {
    "ExecuteTime": {
     "end_time": "2019-12-19T12:50:52.257643Z",
     "start_time": "2019-12-19T12:50:48.729712Z"
    }
   },
   "outputs": [],
   "source": [
    "# leggo il file csv\n",
    "df_lenders_not_normalized = pd.read_csv(dire)"
   ]
  },
  {
   "cell_type": "code",
   "execution_count": 5,
   "metadata": {
    "ExecuteTime": {
     "end_time": "2019-12-19T12:51:08.056811Z",
     "start_time": "2019-12-19T12:50:52.262652Z"
    }
   },
   "outputs": [],
   "source": [
    "# impongo index=loan_id per poter usare explode che per ogni loan_id mi prende ogni elemento della lista creata con la strip \n",
    "# e mi crea un nuove righe in un nuovo data set\n",
    "df_lenders_normalized = df_lenders_not_normalized.set_index('loan_id')['lenders'].str.split(pat=',').explode().reset_index()"
   ]
  },
  {
   "cell_type": "code",
   "execution_count": 6,
   "metadata": {
    "ExecuteTime": {
     "end_time": "2019-12-19T12:51:08.078871Z",
     "start_time": "2019-12-19T12:51:08.059762Z"
    }
   },
   "outputs": [
    {
     "data": {
      "text/html": [
       "<div>\n",
       "<style scoped>\n",
       "    .dataframe tbody tr th:only-of-type {\n",
       "        vertical-align: middle;\n",
       "    }\n",
       "\n",
       "    .dataframe tbody tr th {\n",
       "        vertical-align: top;\n",
       "    }\n",
       "\n",
       "    .dataframe thead th {\n",
       "        text-align: right;\n",
       "    }\n",
       "</style>\n",
       "<table border=\"1\" class=\"dataframe\">\n",
       "  <thead>\n",
       "    <tr style=\"text-align: right;\">\n",
       "      <th></th>\n",
       "      <th>loan_id</th>\n",
       "      <th>lenders</th>\n",
       "    </tr>\n",
       "  </thead>\n",
       "  <tbody>\n",
       "    <tr>\n",
       "      <th>0</th>\n",
       "      <td>483693</td>\n",
       "      <td>muc888</td>\n",
       "    </tr>\n",
       "    <tr>\n",
       "      <th>1</th>\n",
       "      <td>483693</td>\n",
       "      <td>sam4326</td>\n",
       "    </tr>\n",
       "    <tr>\n",
       "      <th>2</th>\n",
       "      <td>483693</td>\n",
       "      <td>camaran3922</td>\n",
       "    </tr>\n",
       "    <tr>\n",
       "      <th>3</th>\n",
       "      <td>483693</td>\n",
       "      <td>lachheb1865</td>\n",
       "    </tr>\n",
       "    <tr>\n",
       "      <th>4</th>\n",
       "      <td>483693</td>\n",
       "      <td>rebecca3499</td>\n",
       "    </tr>\n",
       "  </tbody>\n",
       "</table>\n",
       "</div>"
      ],
      "text/plain": [
       "   loan_id       lenders\n",
       "0   483693        muc888\n",
       "1   483693       sam4326\n",
       "2   483693   camaran3922\n",
       "3   483693   lachheb1865\n",
       "4   483693   rebecca3499"
      ]
     },
     "execution_count": 6,
     "metadata": {},
     "output_type": "execute_result"
    }
   ],
   "source": [
    "# mostro risultato\n",
    "df_lenders_normalized.head()"
   ]
  },
  {
   "cell_type": "markdown",
   "metadata": {
    "ExecuteTime": {
     "end_time": "2019-11-20T18:45:34.910120Z",
     "start_time": "2019-11-20T18:45:34.903829Z"
    }
   },
   "source": [
    "***"
   ]
  },
  {
   "cell_type": "markdown",
   "metadata": {},
   "source": [
    "##  <span style=\"color:red\">2) For each loan, add a column duration corresponding to the number of days between the disburse time and the planned expiration time. If any of those two dates is missing, also the duration must be missing.</span>"
   ]
  },
  {
   "cell_type": "markdown",
   "metadata": {},
   "source": [
    "***"
   ]
  },
  {
   "cell_type": "code",
   "execution_count": 7,
   "metadata": {
    "ExecuteTime": {
     "end_time": "2019-12-19T12:51:52.191299Z",
     "start_time": "2019-12-19T12:51:08.080792Z"
    }
   },
   "outputs": [],
   "source": [
    "# leggo il file loans, ma per la quantità di dati che devo leggere\n",
    "# preferisco leggere le date come tali e non come stringhe.\n",
    "df_loans = pd.read_csv(dire1, parse_dates=['disburse_time', 'planned_expiration_time'])"
   ]
  },
  {
   "cell_type": "code",
   "execution_count": 8,
   "metadata": {
    "ExecuteTime": {
     "end_time": "2019-12-19T12:51:52.560652Z",
     "start_time": "2019-12-19T12:51:52.260214Z"
    }
   },
   "outputs": [],
   "source": [
    "# ci sono delle date che non hanno disburse_time > planned_expiration_time, non ha senso un prestito che si estingue\n",
    "# prima della data di sborso, perciò controllo se ce ne sono e in effetti si ci sono.\n",
    "# creo un df che li contiene df_temp\n",
    "temp_df = df_loans.loc[df_loans['disburse_time'] > df_loans['planned_expiration_time']]\n"
   ]
  },
  {
   "cell_type": "code",
   "execution_count": 9,
   "metadata": {
    "ExecuteTime": {
     "end_time": "2019-12-19T12:51:52.602255Z",
     "start_time": "2019-12-19T12:51:52.564288Z"
    },
    "scrolled": true
   },
   "outputs": [
    {
     "data": {
      "text/html": [
       "<div>\n",
       "<style scoped>\n",
       "    .dataframe tbody tr th:only-of-type {\n",
       "        vertical-align: middle;\n",
       "    }\n",
       "\n",
       "    .dataframe tbody tr th {\n",
       "        vertical-align: top;\n",
       "    }\n",
       "\n",
       "    .dataframe thead th {\n",
       "        text-align: right;\n",
       "    }\n",
       "</style>\n",
       "<table border=\"1\" class=\"dataframe\">\n",
       "  <thead>\n",
       "    <tr style=\"text-align: right;\">\n",
       "      <th></th>\n",
       "      <th>disburse_time</th>\n",
       "      <th>planned_expiration_time</th>\n",
       "    </tr>\n",
       "  </thead>\n",
       "  <tbody>\n",
       "    <tr>\n",
       "      <th>63</th>\n",
       "      <td>2016-11-30 08:00:00+00:00</td>\n",
       "      <td>2016-10-31 05:40:03+00:00</td>\n",
       "    </tr>\n",
       "    <tr>\n",
       "      <th>96</th>\n",
       "      <td>2015-12-07 08:00:00+00:00</td>\n",
       "      <td>2015-11-12 14:30:11+00:00</td>\n",
       "    </tr>\n",
       "    <tr>\n",
       "      <th>177</th>\n",
       "      <td>2015-12-07 08:00:00+00:00</td>\n",
       "      <td>2015-11-13 05:00:03+00:00</td>\n",
       "    </tr>\n",
       "    <tr>\n",
       "      <th>207</th>\n",
       "      <td>2016-11-30 08:00:00+00:00</td>\n",
       "      <td>2016-10-28 14:30:08+00:00</td>\n",
       "    </tr>\n",
       "    <tr>\n",
       "      <th>217</th>\n",
       "      <td>2016-11-30 08:00:00+00:00</td>\n",
       "      <td>2016-10-31 01:40:03+00:00</td>\n",
       "    </tr>\n",
       "    <tr>\n",
       "      <th>...</th>\n",
       "      <td>...</td>\n",
       "      <td>...</td>\n",
       "    </tr>\n",
       "    <tr>\n",
       "      <th>1419303</th>\n",
       "      <td>2016-07-16 07:00:00+00:00</td>\n",
       "      <td>2016-06-12 04:30:03+00:00</td>\n",
       "    </tr>\n",
       "    <tr>\n",
       "      <th>1419304</th>\n",
       "      <td>2016-07-15 07:00:00+00:00</td>\n",
       "      <td>2016-06-14 00:50:04+00:00</td>\n",
       "    </tr>\n",
       "    <tr>\n",
       "      <th>1419374</th>\n",
       "      <td>2016-07-15 07:00:00+00:00</td>\n",
       "      <td>2016-06-12 04:40:03+00:00</td>\n",
       "    </tr>\n",
       "    <tr>\n",
       "      <th>1419443</th>\n",
       "      <td>2016-07-15 07:00:00+00:00</td>\n",
       "      <td>2016-06-15 13:00:03+00:00</td>\n",
       "    </tr>\n",
       "    <tr>\n",
       "      <th>1419581</th>\n",
       "      <td>2016-02-01 08:00:00+00:00</td>\n",
       "      <td>2016-01-03 00:50:04+00:00</td>\n",
       "    </tr>\n",
       "  </tbody>\n",
       "</table>\n",
       "<p>14935 rows × 2 columns</p>\n",
       "</div>"
      ],
      "text/plain": [
       "                    disburse_time   planned_expiration_time\n",
       "63      2016-11-30 08:00:00+00:00 2016-10-31 05:40:03+00:00\n",
       "96      2015-12-07 08:00:00+00:00 2015-11-12 14:30:11+00:00\n",
       "177     2015-12-07 08:00:00+00:00 2015-11-13 05:00:03+00:00\n",
       "207     2016-11-30 08:00:00+00:00 2016-10-28 14:30:08+00:00\n",
       "217     2016-11-30 08:00:00+00:00 2016-10-31 01:40:03+00:00\n",
       "...                           ...                       ...\n",
       "1419303 2016-07-16 07:00:00+00:00 2016-06-12 04:30:03+00:00\n",
       "1419304 2016-07-15 07:00:00+00:00 2016-06-14 00:50:04+00:00\n",
       "1419374 2016-07-15 07:00:00+00:00 2016-06-12 04:40:03+00:00\n",
       "1419443 2016-07-15 07:00:00+00:00 2016-06-15 13:00:03+00:00\n",
       "1419581 2016-02-01 08:00:00+00:00 2016-01-03 00:50:04+00:00\n",
       "\n",
       "[14935 rows x 2 columns]"
      ]
     },
     "execution_count": 9,
     "metadata": {},
     "output_type": "execute_result"
    }
   ],
   "source": [
    "temp_df[['disburse_time', 'planned_expiration_time']]"
   ]
  },
  {
   "cell_type": "code",
   "execution_count": 10,
   "metadata": {
    "ExecuteTime": {
     "end_time": "2019-12-19T12:51:52.657636Z",
     "start_time": "2019-12-19T12:51:52.605073Z"
    },
    "scrolled": true
   },
   "outputs": [
    {
     "name": "stderr",
     "output_type": "stream",
     "text": [
      "/Library/Frameworks/Python.framework/Versions/3.8/lib/python3.8/site-packages/pandas/core/indexing.py:494: SettingWithCopyWarning: \n",
      "A value is trying to be set on a copy of a slice from a DataFrame.\n",
      "Try using .loc[row_indexer,col_indexer] = value instead\n",
      "\n",
      "See the caveats in the documentation: http://pandas.pydata.org/pandas-docs/stable/user_guide/indexing.html#returning-a-view-versus-a-copy\n",
      "  self.obj[item] = s\n"
     ]
    }
   ],
   "source": [
    "for i in temp_df:\n",
    "    x = temp_df.loc[:, ('planned_expiration_time')]\n",
    "    temp_df.loc[:, ('disburse_time')] = temp_df.planned_expiration_time\n",
    "    temp_df.loc[:, ('planned_expiration_time')] = x"
   ]
  },
  {
   "cell_type": "code",
   "execution_count": 11,
   "metadata": {
    "ExecuteTime": {
     "end_time": "2019-12-19T12:51:52.889715Z",
     "start_time": "2019-12-19T12:51:52.659211Z"
    }
   },
   "outputs": [],
   "source": [
    "# uso funzione isin per vedere i loan_id che coincidano e cambio df_loan con i nuovi di df_temp corretti\n",
    "df_loans.loc[df_loans.loan_id.isin(temp_df.loan_id), ['disburse_time', 'planned_expiration_time']] = temp_df[['disburse_time', 'planned_expiration_time']]"
   ]
  },
  {
   "cell_type": "code",
   "execution_count": 12,
   "metadata": {
    "ExecuteTime": {
     "end_time": "2019-12-19T12:51:52.942618Z",
     "start_time": "2019-12-19T12:51:52.891930Z"
    }
   },
   "outputs": [
    {
     "data": {
      "text/html": [
       "<div>\n",
       "<style scoped>\n",
       "    .dataframe tbody tr th:only-of-type {\n",
       "        vertical-align: middle;\n",
       "    }\n",
       "\n",
       "    .dataframe tbody tr th {\n",
       "        vertical-align: top;\n",
       "    }\n",
       "\n",
       "    .dataframe thead th {\n",
       "        text-align: right;\n",
       "    }\n",
       "</style>\n",
       "<table border=\"1\" class=\"dataframe\">\n",
       "  <thead>\n",
       "    <tr style=\"text-align: right;\">\n",
       "      <th></th>\n",
       "      <th>loan_id</th>\n",
       "      <th>duration</th>\n",
       "    </tr>\n",
       "  </thead>\n",
       "  <tbody>\n",
       "    <tr>\n",
       "      <th>0</th>\n",
       "      <td>657307</td>\n",
       "      <td>53 days 19:30:06</td>\n",
       "    </tr>\n",
       "    <tr>\n",
       "      <th>1</th>\n",
       "      <td>657259</td>\n",
       "      <td>96 days 14:25:07</td>\n",
       "    </tr>\n",
       "    <tr>\n",
       "      <th>2</th>\n",
       "      <td>658010</td>\n",
       "      <td>37 days 13:10:05</td>\n",
       "    </tr>\n",
       "    <tr>\n",
       "      <th>3</th>\n",
       "      <td>659347</td>\n",
       "      <td>34 days 19:10:02</td>\n",
       "    </tr>\n",
       "    <tr>\n",
       "      <th>4</th>\n",
       "      <td>656933</td>\n",
       "      <td>57 days 22:10:02</td>\n",
       "    </tr>\n",
       "    <tr>\n",
       "      <th>...</th>\n",
       "      <td>...</td>\n",
       "      <td>...</td>\n",
       "    </tr>\n",
       "    <tr>\n",
       "      <th>1419602</th>\n",
       "      <td>988180</td>\n",
       "      <td>39 days 17:00:03</td>\n",
       "    </tr>\n",
       "    <tr>\n",
       "      <th>1419603</th>\n",
       "      <td>988213</td>\n",
       "      <td>39 days 08:40:07</td>\n",
       "    </tr>\n",
       "    <tr>\n",
       "      <th>1419604</th>\n",
       "      <td>989109</td>\n",
       "      <td>51 days 14:20:04</td>\n",
       "    </tr>\n",
       "    <tr>\n",
       "      <th>1419605</th>\n",
       "      <td>989143</td>\n",
       "      <td>63 days 00:50:02</td>\n",
       "    </tr>\n",
       "    <tr>\n",
       "      <th>1419606</th>\n",
       "      <td>989240</td>\n",
       "      <td>61 days 12:50:06</td>\n",
       "    </tr>\n",
       "  </tbody>\n",
       "</table>\n",
       "<p>1419607 rows × 2 columns</p>\n",
       "</div>"
      ],
      "text/plain": [
       "         loan_id         duration\n",
       "0         657307 53 days 19:30:06\n",
       "1         657259 96 days 14:25:07\n",
       "2         658010 37 days 13:10:05\n",
       "3         659347 34 days 19:10:02\n",
       "4         656933 57 days 22:10:02\n",
       "...          ...              ...\n",
       "1419602   988180 39 days 17:00:03\n",
       "1419603   988213 39 days 08:40:07\n",
       "1419604   989109 51 days 14:20:04\n",
       "1419605   989143 63 days 00:50:02\n",
       "1419606   989240 61 days 12:50:06\n",
       "\n",
       "[1419607 rows x 2 columns]"
      ]
     },
     "execution_count": 12,
     "metadata": {},
     "output_type": "execute_result"
    }
   ],
   "source": [
    "# creo una colonna per la duration e faccio differenza, dopo di che mostro il risultato\n",
    "df_loans['duration'] = df_loans['planned_expiration_time'] - df_loans['disburse_time']\n",
    "df_loans[['loan_id','duration']]"
   ]
  },
  {
   "cell_type": "markdown",
   "metadata": {},
   "source": [
    "***"
   ]
  },
  {
   "cell_type": "markdown",
   "metadata": {},
   "source": [
    "## <span style=\"color:red\">3) Find the lenders that have funded at least twice.</span>"
   ]
  },
  {
   "cell_type": "markdown",
   "metadata": {},
   "source": [
    "***"
   ]
  },
  {
   "cell_type": "code",
   "execution_count": 13,
   "metadata": {
    "ExecuteTime": {
     "end_time": "2019-12-19T12:51:52.959991Z",
     "start_time": "2019-12-19T12:51:52.944064Z"
    }
   },
   "outputs": [],
   "source": [
    "temp_df = df_loans[['loan_id', 'status']]"
   ]
  },
  {
   "cell_type": "code",
   "execution_count": 14,
   "metadata": {
    "ExecuteTime": {
     "end_time": "2019-12-19T12:52:06.403988Z",
     "start_time": "2019-12-19T12:51:52.961870Z"
    }
   },
   "outputs": [],
   "source": [
    "temp_df = df_lenders_normalized.merge(temp_df, how='left', left_on='loan_id', right_on='loan_id')"
   ]
  },
  {
   "cell_type": "code",
   "execution_count": 15,
   "metadata": {
    "ExecuteTime": {
     "end_time": "2019-12-19T12:52:23.833678Z",
     "start_time": "2019-12-19T12:52:06.415067Z"
    }
   },
   "outputs": [],
   "source": [
    "# creo lista temporanea in cui salvo tutti i loan_name con il value_counts che mi conta quante volte è presente\n",
    "# e poi chiedo alla lista solo quelli >1\n",
    "temp_df = temp_df.loc[temp_df.status == 'funded']\n",
    "temp_df = temp_df.pivot_table(index=['lenders'], aggfunc='size').sort_values(ascending=False)"
   ]
  },
  {
   "cell_type": "code",
   "execution_count": 16,
   "metadata": {
    "ExecuteTime": {
     "end_time": "2019-12-19T12:52:25.690418Z",
     "start_time": "2019-12-19T12:52:23.837557Z"
    }
   },
   "outputs": [
    {
     "data": {
      "text/plain": [
       "lenders\n",
       " gooddogg1           142349\n",
       " trolltech4460       139191\n",
       " gmct                122156\n",
       " nms                  93283\n",
       " themissionbeltco     70151\n",
       "                      ...  \n",
       " sebastien5634            2\n",
       " chaoyi5871               2\n",
       "jacqui4717                2\n",
       " naromie9799              2\n",
       " liu9607                  2\n",
       "Length: 993782, dtype: int64"
      ]
     },
     "execution_count": 16,
     "metadata": {},
     "output_type": "execute_result"
    }
   ],
   "source": [
    "temp_df[temp_df>1]"
   ]
  },
  {
   "cell_type": "markdown",
   "metadata": {},
   "source": [
    "***"
   ]
  },
  {
   "cell_type": "markdown",
   "metadata": {},
   "source": [
    "## <span style=\"color:red\">4) For each country, compute how many loans have involved that country as borrowers.</span>\n"
   ]
  },
  {
   "cell_type": "markdown",
   "metadata": {},
   "source": [
    "***"
   ]
  },
  {
   "cell_type": "code",
   "execution_count": 17,
   "metadata": {
    "ExecuteTime": {
     "end_time": "2019-12-19T12:52:25.852767Z",
     "start_time": "2019-12-19T12:52:25.693946Z"
    }
   },
   "outputs": [
    {
     "data": {
      "text/plain": [
       "country_code\n",
       "AF     2337\n",
       "AL     3075\n",
       "AM    13952\n",
       "AZ    10172\n",
       "BA      608\n",
       "      ...  \n",
       "XK     2178\n",
       "YE     4206\n",
       "ZA      633\n",
       "ZM     1277\n",
       "ZW     5513\n",
       "Length: 95, dtype: int64"
      ]
     },
     "execution_count": 17,
     "metadata": {},
     "output_type": "execute_result"
    }
   ],
   "source": [
    "# suppongo che in loans che country_code identifichi le nazionalità delle persone perciò con una groupby posso raggrupparle\n",
    "# e con una size so il numero presente per ogni nazione\n",
    "df_loans.groupby('country_code').size()"
   ]
  },
  {
   "cell_type": "markdown",
   "metadata": {},
   "source": [
    "***"
   ]
  },
  {
   "cell_type": "markdown",
   "metadata": {},
   "source": [
    "## <span style=\"color:red\"> 5) For each country, compute the overall amount of money borrowed.</span>"
   ]
  },
  {
   "cell_type": "markdown",
   "metadata": {},
   "source": [
    "***"
   ]
  },
  {
   "cell_type": "code",
   "execution_count": 18,
   "metadata": {
    "ExecuteTime": {
     "end_time": "2019-12-19T12:52:25.980434Z",
     "start_time": "2019-12-19T12:52:25.854707Z"
    },
    "scrolled": true
   },
   "outputs": [
    {
     "data": {
      "text/plain": [
       "country_code\n",
       "AF     1967950.0\n",
       "AL     4307350.0\n",
       "AM    22950475.0\n",
       "AZ    14784625.0\n",
       "BA      477250.0\n",
       "         ...    \n",
       "XK     3083025.0\n",
       "YE     3444000.0\n",
       "ZA     1006525.0\n",
       "ZM     1978975.0\n",
       "ZW     5851875.0\n",
       "Name: loan_amount, Length: 95, dtype: float64"
      ]
     },
     "execution_count": 18,
     "metadata": {},
     "output_type": "execute_result"
    }
   ],
   "source": [
    "# raggruppo in base allo stato di appartenenza scegliendo di mostrare la colonna loan_amount e sommo i risultati.\n",
    "df_loans.groupby('country_code')['loan_amount'].sum()"
   ]
  },
  {
   "cell_type": "markdown",
   "metadata": {},
   "source": [
    "***"
   ]
  },
  {
   "cell_type": "markdown",
   "metadata": {},
   "source": [
    "## <span style=\"color:red\">6) Like the previous point, but expressed as a percentage of the overall amount lent.</span>"
   ]
  },
  {
   "cell_type": "markdown",
   "metadata": {},
   "source": [
    "***"
   ]
  },
  {
   "cell_type": "code",
   "execution_count": 19,
   "metadata": {
    "ExecuteTime": {
     "end_time": "2019-12-19T12:52:26.010329Z",
     "start_time": "2019-12-19T12:52:25.984835Z"
    }
   },
   "outputs": [],
   "source": [
    "temp = df_loans.funded_amount.sum()"
   ]
  },
  {
   "cell_type": "code",
   "execution_count": 20,
   "metadata": {
    "ExecuteTime": {
     "end_time": "2019-12-19T12:52:26.128721Z",
     "start_time": "2019-12-19T12:52:26.012524Z"
    },
    "scrolled": true
   },
   "outputs": [
    {
     "data": {
      "text/plain": [
       "country_code\n",
       "AF    0.174126\n",
       "AL    0.381119\n",
       "AM    2.030683\n",
       "AZ    1.308160\n",
       "BA    0.042228\n",
       "        ...   \n",
       "XK    0.272789\n",
       "YE    0.304729\n",
       "ZA    0.089058\n",
       "ZM    0.175102\n",
       "ZW    0.517780\n",
       "Name: loan_amount, Length: 95, dtype: float64"
      ]
     },
     "execution_count": 20,
     "metadata": {},
     "output_type": "execute_result"
    }
   ],
   "source": [
    "df_loans.groupby('country_code')['loan_amount'].sum()/temp*100"
   ]
  },
  {
   "cell_type": "markdown",
   "metadata": {},
   "source": [
    "***"
   ]
  },
  {
   "cell_type": "markdown",
   "metadata": {},
   "source": [
    "## <span style=\"color:red\">7) Like the three previous points, but split for each year (with respect to disburse time).</span>"
   ]
  },
  {
   "cell_type": "markdown",
   "metadata": {},
   "source": [
    "***"
   ]
  },
  {
   "cell_type": "code",
   "execution_count": 21,
   "metadata": {
    "ExecuteTime": {
     "end_time": "2019-12-19T12:52:39.337103Z",
     "start_time": "2019-12-19T12:52:26.131638Z"
    }
   },
   "outputs": [],
   "source": [
    "temp_df = df_loans.set_index('disburse_time')"
   ]
  },
  {
   "cell_type": "code",
   "execution_count": 22,
   "metadata": {
    "ExecuteTime": {
     "end_time": "2019-12-19T12:52:53.352695Z",
     "start_time": "2019-12-19T12:52:39.344096Z"
    }
   },
   "outputs": [
    {
     "data": {
      "text/plain": [
       "country_code  disburse_time            \n",
       "AF            2007-12-31 00:00:00+00:00     408\n",
       "              2008-12-31 00:00:00+00:00     370\n",
       "              2009-12-31 00:00:00+00:00     678\n",
       "              2010-12-31 00:00:00+00:00     632\n",
       "              2011-12-31 00:00:00+00:00     247\n",
       "                                           ... \n",
       "ZW            2013-12-31 00:00:00+00:00     426\n",
       "              2014-12-31 00:00:00+00:00    2078\n",
       "              2015-12-31 00:00:00+00:00     600\n",
       "              2016-12-31 00:00:00+00:00     808\n",
       "              2017-12-31 00:00:00+00:00    1079\n",
       "Length: 740, dtype: int64"
      ]
     },
     "execution_count": 22,
     "metadata": {},
     "output_type": "execute_result"
    }
   ],
   "source": [
    "# vedo quante persone all'anno\n",
    "temp_df.groupby(['country_code', pd.Grouper(freq='Y')]).size()"
   ]
  },
  {
   "cell_type": "code",
   "execution_count": 23,
   "metadata": {
    "ExecuteTime": {
     "end_time": "2019-12-19T12:52:57.318347Z",
     "start_time": "2019-12-19T12:52:53.370965Z"
    }
   },
   "outputs": [
    {
     "data": {
      "text/plain": [
       "country_code  disburse_time            \n",
       "AF            2007-12-31 00:00:00+00:00     194975.0\n",
       "              2008-12-31 00:00:00+00:00     365375.0\n",
       "              2009-12-31 00:00:00+00:00     585125.0\n",
       "              2010-12-31 00:00:00+00:00     563350.0\n",
       "              2011-12-31 00:00:00+00:00     245125.0\n",
       "                                             ...    \n",
       "ZW            2013-12-31 00:00:00+00:00     678525.0\n",
       "              2014-12-31 00:00:00+00:00    1311575.0\n",
       "              2015-12-31 00:00:00+00:00     723625.0\n",
       "              2016-12-31 00:00:00+00:00     788600.0\n",
       "              2017-12-31 00:00:00+00:00    1237600.0\n",
       "Name: loan_amount, Length: 740, dtype: float64"
      ]
     },
     "execution_count": 23,
     "metadata": {},
     "output_type": "execute_result"
    }
   ],
   "source": [
    "# faccio le somme\n",
    "temp_df.groupby(['country_code', pd.Grouper(freq='Y')])['loan_amount'].sum()"
   ]
  },
  {
   "cell_type": "code",
   "execution_count": 24,
   "metadata": {
    "ExecuteTime": {
     "end_time": "2019-12-19T12:52:57.361980Z",
     "start_time": "2019-12-19T12:52:57.323725Z"
    }
   },
   "outputs": [],
   "source": [
    "# eseguo operazioni punto 6 \n",
    "temp_df2 = df_loans['loan_amount'].sum()"
   ]
  },
  {
   "cell_type": "code",
   "execution_count": 25,
   "metadata": {
    "ExecuteTime": {
     "end_time": "2019-12-19T12:53:02.014573Z",
     "start_time": "2019-12-19T12:52:57.364787Z"
    },
    "scrolled": false
   },
   "outputs": [
    {
     "data": {
      "text/plain": [
       "country_code  disburse_time            \n",
       "AF            2007-12-31 00:00:00+00:00    0.016503\n",
       "              2008-12-31 00:00:00+00:00    0.030926\n",
       "              2009-12-31 00:00:00+00:00    0.049527\n",
       "              2010-12-31 00:00:00+00:00    0.047683\n",
       "              2011-12-31 00:00:00+00:00    0.020748\n",
       "                                             ...   \n",
       "ZW            2013-12-31 00:00:00+00:00    0.057432\n",
       "              2014-12-31 00:00:00+00:00    0.111015\n",
       "              2015-12-31 00:00:00+00:00    0.061250\n",
       "              2016-12-31 00:00:00+00:00    0.066749\n",
       "              2017-12-31 00:00:00+00:00    0.104754\n",
       "Name: loan_amount, Length: 740, dtype: float64"
      ]
     },
     "execution_count": 25,
     "metadata": {},
     "output_type": "execute_result"
    }
   ],
   "source": [
    "temp_df.groupby(['country_code', pd.Grouper(freq='Y')])['loan_amount'].sum()/temp_df2*100"
   ]
  },
  {
   "cell_type": "markdown",
   "metadata": {},
   "source": [
    "***"
   ]
  },
  {
   "cell_type": "markdown",
   "metadata": {},
   "source": [
    "## <span style=\"color:red\">8) For each lender, compute the overall amount of money lent.</span>"
   ]
  },
  {
   "cell_type": "markdown",
   "metadata": {},
   "source": [
    "***"
   ]
  },
  {
   "cell_type": "code",
   "execution_count": 26,
   "metadata": {
    "ExecuteTime": {
     "end_time": "2019-12-19T12:53:21.386453Z",
     "start_time": "2019-12-19T12:53:02.017692Z"
    }
   },
   "outputs": [],
   "source": [
    "# uso un df temporaneo per immagazzinare la join tra df_lenders_normalized e df_loans con solo i campi loan_id\n",
    "# e loan_amount che usero per i conti successivamente\n",
    "temp_df = df_lenders_normalized.merge(df_loans[['loan_id', 'loan_amount']], how='left', on='loan_id')"
   ]
  },
  {
   "cell_type": "code",
   "execution_count": 27,
   "metadata": {
    "ExecuteTime": {
     "end_time": "2019-12-19T12:53:26.681283Z",
     "start_time": "2019-12-19T12:53:21.394736Z"
    }
   },
   "outputs": [],
   "source": [
    "# salvo in un df temp 2 il raggruppamento secondo count, per contare il numero totale di ogni loan id\n",
    "temp_df2 = temp_df.groupby('loan_id')['lenders'].count()"
   ]
  },
  {
   "cell_type": "code",
   "execution_count": 28,
   "metadata": {
    "ExecuteTime": {
     "end_time": "2019-12-19T12:53:26.704286Z",
     "start_time": "2019-12-19T12:53:26.687784Z"
    }
   },
   "outputs": [
    {
     "data": {
      "text/plain": [
       "loan_id\n",
       "84         3\n",
       "85         2\n",
       "86         3\n",
       "88         3\n",
       "89         4\n",
       "          ..\n",
       "1444051    1\n",
       "1444053    1\n",
       "1444058    1\n",
       "1444063    1\n",
       "1444065    1\n",
       "Name: lenders, Length: 1387432, dtype: int64"
      ]
     },
     "execution_count": 28,
     "metadata": {},
     "output_type": "execute_result"
    }
   ],
   "source": [
    "temp_df2"
   ]
  },
  {
   "cell_type": "code",
   "execution_count": 29,
   "metadata": {
    "ExecuteTime": {
     "end_time": "2019-12-19T12:53:35.991422Z",
     "start_time": "2019-12-19T12:53:26.707595Z"
    }
   },
   "outputs": [],
   "source": [
    "# faccio ultima merge per avere nel mio data set accanto alla colonna di loan id la colonna dei lenders_y\n",
    "# che corrisponde al mio count\n",
    "temp_df = temp_df.merge(temp_df2, how='left', on='loan_id')"
   ]
  },
  {
   "cell_type": "code",
   "execution_count": 30,
   "metadata": {
    "ExecuteTime": {
     "end_time": "2019-12-19T12:53:36.092437Z",
     "start_time": "2019-12-19T12:53:36.009112Z"
    }
   },
   "outputs": [
    {
     "data": {
      "text/html": [
       "<div>\n",
       "<style scoped>\n",
       "    .dataframe tbody tr th:only-of-type {\n",
       "        vertical-align: middle;\n",
       "    }\n",
       "\n",
       "    .dataframe tbody tr th {\n",
       "        vertical-align: top;\n",
       "    }\n",
       "\n",
       "    .dataframe thead th {\n",
       "        text-align: right;\n",
       "    }\n",
       "</style>\n",
       "<table border=\"1\" class=\"dataframe\">\n",
       "  <thead>\n",
       "    <tr style=\"text-align: right;\">\n",
       "      <th></th>\n",
       "      <th>loan_id</th>\n",
       "      <th>lenders_x</th>\n",
       "      <th>loan_amount</th>\n",
       "      <th>lenders_y</th>\n",
       "    </tr>\n",
       "  </thead>\n",
       "  <tbody>\n",
       "    <tr>\n",
       "      <th>0</th>\n",
       "      <td>483693</td>\n",
       "      <td>muc888</td>\n",
       "      <td>1225.0</td>\n",
       "      <td>40</td>\n",
       "    </tr>\n",
       "    <tr>\n",
       "      <th>1</th>\n",
       "      <td>483693</td>\n",
       "      <td>sam4326</td>\n",
       "      <td>1225.0</td>\n",
       "      <td>40</td>\n",
       "    </tr>\n",
       "    <tr>\n",
       "      <th>2</th>\n",
       "      <td>483693</td>\n",
       "      <td>camaran3922</td>\n",
       "      <td>1225.0</td>\n",
       "      <td>40</td>\n",
       "    </tr>\n",
       "    <tr>\n",
       "      <th>3</th>\n",
       "      <td>483693</td>\n",
       "      <td>lachheb1865</td>\n",
       "      <td>1225.0</td>\n",
       "      <td>40</td>\n",
       "    </tr>\n",
       "    <tr>\n",
       "      <th>4</th>\n",
       "      <td>483693</td>\n",
       "      <td>rebecca3499</td>\n",
       "      <td>1225.0</td>\n",
       "      <td>40</td>\n",
       "    </tr>\n",
       "    <tr>\n",
       "      <th>...</th>\n",
       "      <td>...</td>\n",
       "      <td>...</td>\n",
       "      <td>...</td>\n",
       "      <td>...</td>\n",
       "    </tr>\n",
       "    <tr>\n",
       "      <th>28293926</th>\n",
       "      <td>1206425</td>\n",
       "      <td>trogdorfamily7622</td>\n",
       "      <td>325.0</td>\n",
       "      <td>8</td>\n",
       "    </tr>\n",
       "    <tr>\n",
       "      <th>28293927</th>\n",
       "      <td>1206425</td>\n",
       "      <td>danny6470</td>\n",
       "      <td>325.0</td>\n",
       "      <td>8</td>\n",
       "    </tr>\n",
       "    <tr>\n",
       "      <th>28293928</th>\n",
       "      <td>1206425</td>\n",
       "      <td>don6118</td>\n",
       "      <td>325.0</td>\n",
       "      <td>8</td>\n",
       "    </tr>\n",
       "    <tr>\n",
       "      <th>28293929</th>\n",
       "      <td>1206486</td>\n",
       "      <td>alan5175</td>\n",
       "      <td>150.0</td>\n",
       "      <td>2</td>\n",
       "    </tr>\n",
       "    <tr>\n",
       "      <th>28293930</th>\n",
       "      <td>1206486</td>\n",
       "      <td>amy38101311</td>\n",
       "      <td>150.0</td>\n",
       "      <td>2</td>\n",
       "    </tr>\n",
       "  </tbody>\n",
       "</table>\n",
       "<p>28293931 rows × 4 columns</p>\n",
       "</div>"
      ],
      "text/plain": [
       "          loan_id           lenders_x  loan_amount  lenders_y\n",
       "0          483693              muc888       1225.0         40\n",
       "1          483693             sam4326       1225.0         40\n",
       "2          483693         camaran3922       1225.0         40\n",
       "3          483693         lachheb1865       1225.0         40\n",
       "4          483693         rebecca3499       1225.0         40\n",
       "...           ...                 ...          ...        ...\n",
       "28293926  1206425   trogdorfamily7622        325.0          8\n",
       "28293927  1206425           danny6470        325.0          8\n",
       "28293928  1206425             don6118        325.0          8\n",
       "28293929  1206486            alan5175        150.0          2\n",
       "28293930  1206486         amy38101311        150.0          2\n",
       "\n",
       "[28293931 rows x 4 columns]"
      ]
     },
     "execution_count": 30,
     "metadata": {},
     "output_type": "execute_result"
    }
   ],
   "source": [
    "temp_df"
   ]
  },
  {
   "cell_type": "code",
   "execution_count": 31,
   "metadata": {
    "ExecuteTime": {
     "end_time": "2019-12-19T12:53:36.392871Z",
     "start_time": "2019-12-19T12:53:36.096698Z"
    }
   },
   "outputs": [],
   "source": [
    "# creo nuova colonna per segnare le singole quote per ogni loan_id\n",
    "temp_df['single_amount']= temp_df['loan_amount']/temp_df['lenders_y']"
   ]
  },
  {
   "cell_type": "code",
   "execution_count": 32,
   "metadata": {
    "ExecuteTime": {
     "end_time": "2019-12-19T12:53:50.933754Z",
     "start_time": "2019-12-19T12:53:36.402179Z"
    },
    "scrolled": true
   },
   "outputs": [
    {
     "data": {
      "text/plain": [
       "lenders_x\n",
       " 000               1672.618411\n",
       " 00000             1380.693644\n",
       " 0002              2472.563566\n",
       " 00mike00            52.631579\n",
       " 0101craign0101    2623.565117\n",
       "                      ...     \n",
       "zzanita              87.500000\n",
       "zzcyna7269           55.357143\n",
       "zzinnia              38.000000\n",
       "zzmcfate           2287.291955\n",
       "zzrvmf8538          106.417625\n",
       "Name: single_amount, Length: 1639026, dtype: float64"
      ]
     },
     "execution_count": 32,
     "metadata": {},
     "output_type": "execute_result"
    }
   ],
   "source": [
    "# ora raggruppo per ogni lender\n",
    "temp_df.groupby('lenders_x')['single_amount'].sum()"
   ]
  },
  {
   "cell_type": "markdown",
   "metadata": {},
   "source": [
    "***"
   ]
  },
  {
   "cell_type": "markdown",
   "metadata": {},
   "source": [
    "## <span style='color:red'> 9) For each country, compute the difference between the overall amount of money lent and the overall amount of money borrowed. Since the country of the lender is often unknown, you can assume that the true distribution among the countries is the same as the one computed from the rows where the country is known.</span>"
   ]
  },
  {
   "cell_type": "markdown",
   "metadata": {},
   "source": [
    "***"
   ]
  },
  {
   "cell_type": "markdown",
   "metadata": {},
   "source": [
    "## Problema di fondo che abbiamo trovato che il data set estremamente scarno con molti NULL, perciò dovevamo distribuire i soldi borrowed amolti valori NULL. Personalmento ho optato per la distribuzione del totale loan_amount dei null secondo percentuali di nazionalità"
   ]
  },
  {
   "cell_type": "markdown",
   "metadata": {},
   "source": [
    "***"
   ]
  },
  {
   "cell_type": "code",
   "execution_count": 33,
   "metadata": {
    "ExecuteTime": {
     "end_time": "2019-12-19T12:53:55.302362Z",
     "start_time": "2019-12-19T12:53:50.936753Z"
    }
   },
   "outputs": [],
   "source": [
    "# inizio aggiungendo ai miei dataset anche le informazioni dei lenders_info\n",
    "df_lenders_info = pd.read_csv(dire2)"
   ]
  },
  {
   "cell_type": "code",
   "execution_count": 34,
   "metadata": {
    "ExecuteTime": {
     "end_time": "2019-12-19T12:54:17.688752Z",
     "start_time": "2019-12-19T12:53:55.305506Z"
    }
   },
   "outputs": [],
   "source": [
    "# merge in una temporanea di df_lenders con la normalizzata \n",
    "# per avere loan_id, in temp3 ho tutta la cartella sia con null che no\n",
    "temp_df = df_lenders_info[['permanent_name', 'country_code']].merge(df_lenders_normalized, how='left', left_on='permanent_name', right_on='lenders')"
   ]
  },
  {
   "cell_type": "code",
   "execution_count": 35,
   "metadata": {
    "ExecuteTime": {
     "end_time": "2019-12-19T12:54:18.738024Z",
     "start_time": "2019-12-19T12:54:17.696102Z"
    }
   },
   "outputs": [],
   "source": [
    "# temp_df2 contiene tutte le righe in cui lenders è presente in loan e non ha lenders == null\n",
    "temp_df2=temp_df.dropna(subset=['lenders'])"
   ]
  },
  {
   "cell_type": "code",
   "execution_count": 36,
   "metadata": {
    "ExecuteTime": {
     "end_time": "2019-12-19T12:54:18.803725Z",
     "start_time": "2019-12-19T12:54:18.743250Z"
    }
   },
   "outputs": [
    {
     "data": {
      "text/html": [
       "<div>\n",
       "<style scoped>\n",
       "    .dataframe tbody tr th:only-of-type {\n",
       "        vertical-align: middle;\n",
       "    }\n",
       "\n",
       "    .dataframe tbody tr th {\n",
       "        vertical-align: top;\n",
       "    }\n",
       "\n",
       "    .dataframe thead th {\n",
       "        text-align: right;\n",
       "    }\n",
       "</style>\n",
       "<table border=\"1\" class=\"dataframe\">\n",
       "  <thead>\n",
       "    <tr style=\"text-align: right;\">\n",
       "      <th></th>\n",
       "      <th>permanent_name</th>\n",
       "      <th>country_code</th>\n",
       "      <th>loan_id</th>\n",
       "      <th>lenders</th>\n",
       "    </tr>\n",
       "  </thead>\n",
       "  <tbody>\n",
       "    <tr>\n",
       "      <th>16</th>\n",
       "      <td>naresh2074</td>\n",
       "      <td>US</td>\n",
       "      <td>1059280.0</td>\n",
       "      <td>naresh2074</td>\n",
       "    </tr>\n",
       "    <tr>\n",
       "      <th>17</th>\n",
       "      <td>naresh2074</td>\n",
       "      <td>US</td>\n",
       "      <td>1055468.0</td>\n",
       "      <td>naresh2074</td>\n",
       "    </tr>\n",
       "    <tr>\n",
       "      <th>48</th>\n",
       "      <td>jinxian2217</td>\n",
       "      <td>NaN</td>\n",
       "      <td>1292306.0</td>\n",
       "      <td>jinxian2217</td>\n",
       "    </tr>\n",
       "    <tr>\n",
       "      <th>49</th>\n",
       "      <td>sreedevi9583</td>\n",
       "      <td>NaN</td>\n",
       "      <td>1052062.0</td>\n",
       "      <td>sreedevi9583</td>\n",
       "    </tr>\n",
       "    <tr>\n",
       "      <th>52</th>\n",
       "      <td>nicole98153893</td>\n",
       "      <td>NaN</td>\n",
       "      <td>1137907.0</td>\n",
       "      <td>nicole98153893</td>\n",
       "    </tr>\n",
       "    <tr>\n",
       "      <th>...</th>\n",
       "      <td>...</td>\n",
       "      <td>...</td>\n",
       "      <td>...</td>\n",
       "      <td>...</td>\n",
       "    </tr>\n",
       "    <tr>\n",
       "      <th>3449014</th>\n",
       "      <td>bonnie9739</td>\n",
       "      <td>US</td>\n",
       "      <td>810311.0</td>\n",
       "      <td>bonnie9739</td>\n",
       "    </tr>\n",
       "    <tr>\n",
       "      <th>3449015</th>\n",
       "      <td>bonnie9739</td>\n",
       "      <td>US</td>\n",
       "      <td>846429.0</td>\n",
       "      <td>bonnie9739</td>\n",
       "    </tr>\n",
       "    <tr>\n",
       "      <th>3449016</th>\n",
       "      <td>bonnie9739</td>\n",
       "      <td>US</td>\n",
       "      <td>809520.0</td>\n",
       "      <td>bonnie9739</td>\n",
       "    </tr>\n",
       "    <tr>\n",
       "      <th>3449018</th>\n",
       "      <td>cody7091</td>\n",
       "      <td>US</td>\n",
       "      <td>441719.0</td>\n",
       "      <td>cody7091</td>\n",
       "    </tr>\n",
       "    <tr>\n",
       "      <th>3449021</th>\n",
       "      <td>rakhi</td>\n",
       "      <td>US</td>\n",
       "      <td>742334.0</td>\n",
       "      <td>rakhi</td>\n",
       "    </tr>\n",
       "  </tbody>\n",
       "</table>\n",
       "<p>1387432 rows × 4 columns</p>\n",
       "</div>"
      ],
      "text/plain": [
       "         permanent_name country_code    loan_id         lenders\n",
       "16           naresh2074           US  1059280.0      naresh2074\n",
       "17           naresh2074           US  1055468.0      naresh2074\n",
       "48          jinxian2217          NaN  1292306.0     jinxian2217\n",
       "49         sreedevi9583          NaN  1052062.0    sreedevi9583\n",
       "52       nicole98153893          NaN  1137907.0  nicole98153893\n",
       "...                 ...          ...        ...             ...\n",
       "3449014      bonnie9739           US   810311.0      bonnie9739\n",
       "3449015      bonnie9739           US   846429.0      bonnie9739\n",
       "3449016      bonnie9739           US   809520.0      bonnie9739\n",
       "3449018        cody7091           US   441719.0        cody7091\n",
       "3449021           rakhi           US   742334.0           rakhi\n",
       "\n",
       "[1387432 rows x 4 columns]"
      ]
     },
     "execution_count": 36,
     "metadata": {},
     "output_type": "execute_result"
    }
   ],
   "source": [
    "temp_df2"
   ]
  },
  {
   "cell_type": "code",
   "execution_count": 37,
   "metadata": {
    "ExecuteTime": {
     "end_time": "2019-12-19T12:54:20.474546Z",
     "start_time": "2019-12-19T12:54:18.806443Z"
    }
   },
   "outputs": [],
   "source": [
    "# aggiungiamo anche la colonna loan_amount per avere un totale dei lenders/loan/country ( potrebbero esserci dei NULL)\n",
    "temp_df2=temp_df2.merge(df_loans[['loan_id', 'loan_amount']],how='left',on='loan_id')"
   ]
  },
  {
   "cell_type": "code",
   "execution_count": 38,
   "metadata": {
    "ExecuteTime": {
     "end_time": "2019-12-19T12:54:20.493423Z",
     "start_time": "2019-12-19T12:54:20.477816Z"
    }
   },
   "outputs": [],
   "source": [
    "# metto i null a 0\n",
    "temp_df2['loan_amount'] = temp_df2['loan_amount'].fillna(0)"
   ]
  },
  {
   "cell_type": "code",
   "execution_count": 39,
   "metadata": {
    "ExecuteTime": {
     "end_time": "2019-12-19T12:54:20.906527Z",
     "start_time": "2019-12-19T12:54:20.496586Z"
    }
   },
   "outputs": [],
   "source": [
    "# inizio controllando quelli con country valore che esiste, perdo quasi 3000000 righe\n",
    "df_lenders_loans_country = temp_df2.dropna(subset=['country_code'])"
   ]
  },
  {
   "cell_type": "code",
   "execution_count": 40,
   "metadata": {
    "ExecuteTime": {
     "end_time": "2019-12-19T12:54:20.965957Z",
     "start_time": "2019-12-19T12:54:20.910220Z"
    },
    "scrolled": false
   },
   "outputs": [],
   "source": [
    "temp_df3['total_lent'] = df_lenders_loans_country.groupby('country_code')['loan_amount'].sum()"
   ]
  },
  {
   "cell_type": "code",
   "execution_count": 41,
   "metadata": {
    "ExecuteTime": {
     "end_time": "2019-12-19T12:54:20.974490Z",
     "start_time": "2019-12-19T12:54:20.968679Z"
    }
   },
   "outputs": [],
   "source": [
    "total = temp_df3['total_lent'].sum()"
   ]
  },
  {
   "cell_type": "code",
   "execution_count": 42,
   "metadata": {
    "ExecuteTime": {
     "end_time": "2019-12-19T12:54:20.982270Z",
     "start_time": "2019-12-19T12:54:20.977637Z"
    }
   },
   "outputs": [],
   "source": [
    "# cosi facendo ho percentuale del totale per ogni country che è il punto che mi serve\n",
    "temp_df3['percentage'] = round(temp_df3['total_lent']/total,10)"
   ]
  },
  {
   "cell_type": "code",
   "execution_count": 43,
   "metadata": {
    "ExecuteTime": {
     "end_time": "2019-12-19T12:54:21.034218Z",
     "start_time": "2019-12-19T12:54:20.985658Z"
    }
   },
   "outputs": [],
   "source": [
    "# ora controllo gli na\n",
    "temp_df2['boolean'] = temp_df2['country_code'].isnull()"
   ]
  },
  {
   "cell_type": "code",
   "execution_count": 44,
   "metadata": {
    "ExecuteTime": {
     "end_time": "2019-12-19T12:54:21.075297Z",
     "start_time": "2019-12-19T12:54:21.036388Z"
    }
   },
   "outputs": [],
   "source": [
    "temp_df_NA_lenders = temp_df2.loc[temp_df2['boolean'] == True]"
   ]
  },
  {
   "cell_type": "code",
   "execution_count": 45,
   "metadata": {
    "ExecuteTime": {
     "end_time": "2019-12-19T12:54:21.099254Z",
     "start_time": "2019-12-19T12:54:21.079806Z"
    }
   },
   "outputs": [
    {
     "data": {
      "text/html": [
       "<div>\n",
       "<style scoped>\n",
       "    .dataframe tbody tr th:only-of-type {\n",
       "        vertical-align: middle;\n",
       "    }\n",
       "\n",
       "    .dataframe tbody tr th {\n",
       "        vertical-align: top;\n",
       "    }\n",
       "\n",
       "    .dataframe thead th {\n",
       "        text-align: right;\n",
       "    }\n",
       "</style>\n",
       "<table border=\"1\" class=\"dataframe\">\n",
       "  <thead>\n",
       "    <tr style=\"text-align: right;\">\n",
       "      <th></th>\n",
       "      <th>permanent_name</th>\n",
       "      <th>country_code</th>\n",
       "      <th>loan_id</th>\n",
       "      <th>lenders</th>\n",
       "      <th>loan_amount</th>\n",
       "      <th>boolean</th>\n",
       "    </tr>\n",
       "  </thead>\n",
       "  <tbody>\n",
       "    <tr>\n",
       "      <th>2</th>\n",
       "      <td>jinxian2217</td>\n",
       "      <td>NaN</td>\n",
       "      <td>1292306.0</td>\n",
       "      <td>jinxian2217</td>\n",
       "      <td>1400.0</td>\n",
       "      <td>True</td>\n",
       "    </tr>\n",
       "    <tr>\n",
       "      <th>3</th>\n",
       "      <td>sreedevi9583</td>\n",
       "      <td>NaN</td>\n",
       "      <td>1052062.0</td>\n",
       "      <td>sreedevi9583</td>\n",
       "      <td>650.0</td>\n",
       "      <td>True</td>\n",
       "    </tr>\n",
       "    <tr>\n",
       "      <th>4</th>\n",
       "      <td>nicole98153893</td>\n",
       "      <td>NaN</td>\n",
       "      <td>1137907.0</td>\n",
       "      <td>nicole98153893</td>\n",
       "      <td>200.0</td>\n",
       "      <td>True</td>\n",
       "    </tr>\n",
       "    <tr>\n",
       "      <th>6</th>\n",
       "      <td>haitang3172</td>\n",
       "      <td>NaN</td>\n",
       "      <td>1291625.0</td>\n",
       "      <td>haitang3172</td>\n",
       "      <td>300.0</td>\n",
       "      <td>True</td>\n",
       "    </tr>\n",
       "    <tr>\n",
       "      <th>7</th>\n",
       "      <td>jishi5401</td>\n",
       "      <td>NaN</td>\n",
       "      <td>1060071.0</td>\n",
       "      <td>jishi5401</td>\n",
       "      <td>400.0</td>\n",
       "      <td>True</td>\n",
       "    </tr>\n",
       "    <tr>\n",
       "      <th>...</th>\n",
       "      <td>...</td>\n",
       "      <td>...</td>\n",
       "      <td>...</td>\n",
       "      <td>...</td>\n",
       "      <td>...</td>\n",
       "      <td>...</td>\n",
       "    </tr>\n",
       "    <tr>\n",
       "      <th>1387388</th>\n",
       "      <td>tricia9236</td>\n",
       "      <td>NaN</td>\n",
       "      <td>699175.0</td>\n",
       "      <td>tricia9236</td>\n",
       "      <td>1450.0</td>\n",
       "      <td>True</td>\n",
       "    </tr>\n",
       "    <tr>\n",
       "      <th>1387396</th>\n",
       "      <td>marwan8219</td>\n",
       "      <td>NaN</td>\n",
       "      <td>735870.0</td>\n",
       "      <td>marwan8219</td>\n",
       "      <td>475.0</td>\n",
       "      <td>True</td>\n",
       "    </tr>\n",
       "    <tr>\n",
       "      <th>1387399</th>\n",
       "      <td>eric9768</td>\n",
       "      <td>NaN</td>\n",
       "      <td>898756.0</td>\n",
       "      <td>eric9768</td>\n",
       "      <td>225.0</td>\n",
       "      <td>True</td>\n",
       "    </tr>\n",
       "    <tr>\n",
       "      <th>1387405</th>\n",
       "      <td>nicole1492</td>\n",
       "      <td>NaN</td>\n",
       "      <td>485083.0</td>\n",
       "      <td>nicole1492</td>\n",
       "      <td>500.0</td>\n",
       "      <td>True</td>\n",
       "    </tr>\n",
       "    <tr>\n",
       "      <th>1387406</th>\n",
       "      <td>scott2350</td>\n",
       "      <td>NaN</td>\n",
       "      <td>1023557.0</td>\n",
       "      <td>scott2350</td>\n",
       "      <td>800.0</td>\n",
       "      <td>True</td>\n",
       "    </tr>\n",
       "  </tbody>\n",
       "</table>\n",
       "<p>289669 rows × 6 columns</p>\n",
       "</div>"
      ],
      "text/plain": [
       "         permanent_name country_code    loan_id         lenders  loan_amount  \\\n",
       "2           jinxian2217          NaN  1292306.0     jinxian2217       1400.0   \n",
       "3          sreedevi9583          NaN  1052062.0    sreedevi9583        650.0   \n",
       "4        nicole98153893          NaN  1137907.0  nicole98153893        200.0   \n",
       "6           haitang3172          NaN  1291625.0     haitang3172        300.0   \n",
       "7             jishi5401          NaN  1060071.0       jishi5401        400.0   \n",
       "...                 ...          ...        ...             ...          ...   \n",
       "1387388      tricia9236          NaN   699175.0      tricia9236       1450.0   \n",
       "1387396      marwan8219          NaN   735870.0      marwan8219        475.0   \n",
       "1387399        eric9768          NaN   898756.0        eric9768        225.0   \n",
       "1387405      nicole1492          NaN   485083.0      nicole1492        500.0   \n",
       "1387406       scott2350          NaN  1023557.0       scott2350        800.0   \n",
       "\n",
       "         boolean  \n",
       "2           True  \n",
       "3           True  \n",
       "4           True  \n",
       "6           True  \n",
       "7           True  \n",
       "...          ...  \n",
       "1387388     True  \n",
       "1387396     True  \n",
       "1387399     True  \n",
       "1387405     True  \n",
       "1387406     True  \n",
       "\n",
       "[289669 rows x 6 columns]"
      ]
     },
     "execution_count": 45,
     "metadata": {},
     "output_type": "execute_result"
    }
   ],
   "source": [
    "temp_df_NA_lenders"
   ]
  },
  {
   "cell_type": "code",
   "execution_count": 46,
   "metadata": {
    "ExecuteTime": {
     "end_time": "2019-12-19T12:54:21.105588Z",
     "start_time": "2019-12-19T12:54:21.100843Z"
    }
   },
   "outputs": [],
   "source": [
    "# trovo totale loan amount degli NA country\n",
    "total_NA = temp_df_NA_lenders['loan_amount'].sum()"
   ]
  },
  {
   "cell_type": "code",
   "execution_count": 47,
   "metadata": {
    "ExecuteTime": {
     "end_time": "2019-12-19T12:54:21.112422Z",
     "start_time": "2019-12-19T12:54:21.107791Z"
    }
   },
   "outputs": [
    {
     "data": {
      "text/plain": [
       "251447675.0"
      ]
     },
     "execution_count": 47,
     "metadata": {},
     "output_type": "execute_result"
    }
   ],
   "source": [
    "total_NA"
   ]
  },
  {
   "cell_type": "code",
   "execution_count": 48,
   "metadata": {
    "ExecuteTime": {
     "end_time": "2019-12-19T12:54:21.123290Z",
     "start_time": "2019-12-19T12:54:21.114197Z"
    }
   },
   "outputs": [
    {
     "name": "stderr",
     "output_type": "stream",
     "text": [
      "<ipython-input-48-51ca0a0eb8ad>:2: UserWarning: Pandas doesn't allow columns to be created via a new attribute name - see https://pandas.pydata.org/pandas-docs/stable/indexing.html#attribute-access\n",
      "  temp_df3.total_lenders_amount_with_country = temp_df3.total_lent + (temp_df3.percentage * total_NA)\n"
     ]
    }
   ],
   "source": [
    "# li moltiplico per la percentuale dei country che conosco lenders e poi li sommo con i precedenti\n",
    "temp_df3.total_lenders_amount_with_country = temp_df3.total_lent + (temp_df3.percentage * total_NA)"
   ]
  },
  {
   "cell_type": "code",
   "execution_count": 49,
   "metadata": {
    "ExecuteTime": {
     "end_time": "2019-12-19T12:54:21.138124Z",
     "start_time": "2019-12-19T12:54:21.124960Z"
    }
   },
   "outputs": [
    {
     "data": {
      "text/html": [
       "<div>\n",
       "<style scoped>\n",
       "    .dataframe tbody tr th:only-of-type {\n",
       "        vertical-align: middle;\n",
       "    }\n",
       "\n",
       "    .dataframe tbody tr th {\n",
       "        vertical-align: top;\n",
       "    }\n",
       "\n",
       "    .dataframe thead th {\n",
       "        text-align: right;\n",
       "    }\n",
       "</style>\n",
       "<table border=\"1\" class=\"dataframe\">\n",
       "  <thead>\n",
       "    <tr style=\"text-align: right;\">\n",
       "      <th></th>\n",
       "      <th>total_lent</th>\n",
       "      <th>percentage</th>\n",
       "    </tr>\n",
       "    <tr>\n",
       "      <th>country_code</th>\n",
       "      <th></th>\n",
       "      <th></th>\n",
       "    </tr>\n",
       "  </thead>\n",
       "  <tbody>\n",
       "    <tr>\n",
       "      <th>AD</th>\n",
       "      <td>1200.0</td>\n",
       "      <td>0.000001</td>\n",
       "    </tr>\n",
       "    <tr>\n",
       "      <th>AE</th>\n",
       "      <td>1760225.0</td>\n",
       "      <td>0.001930</td>\n",
       "    </tr>\n",
       "    <tr>\n",
       "      <th>AF</th>\n",
       "      <td>68075.0</td>\n",
       "      <td>0.000075</td>\n",
       "    </tr>\n",
       "    <tr>\n",
       "      <th>AL</th>\n",
       "      <td>16650.0</td>\n",
       "      <td>0.000018</td>\n",
       "    </tr>\n",
       "    <tr>\n",
       "      <th>AM</th>\n",
       "      <td>23575.0</td>\n",
       "      <td>0.000026</td>\n",
       "    </tr>\n",
       "    <tr>\n",
       "      <th>...</th>\n",
       "      <td>...</td>\n",
       "      <td>...</td>\n",
       "    </tr>\n",
       "    <tr>\n",
       "      <th>WF</th>\n",
       "      <td>2100.0</td>\n",
       "      <td>0.000002</td>\n",
       "    </tr>\n",
       "    <tr>\n",
       "      <th>XK</th>\n",
       "      <td>3750.0</td>\n",
       "      <td>0.000004</td>\n",
       "    </tr>\n",
       "    <tr>\n",
       "      <th>YE</th>\n",
       "      <td>15175.0</td>\n",
       "      <td>0.000017</td>\n",
       "    </tr>\n",
       "    <tr>\n",
       "      <th>ZA</th>\n",
       "      <td>509075.0</td>\n",
       "      <td>0.000558</td>\n",
       "    </tr>\n",
       "    <tr>\n",
       "      <th>ZM</th>\n",
       "      <td>11325.0</td>\n",
       "      <td>0.000012</td>\n",
       "    </tr>\n",
       "  </tbody>\n",
       "</table>\n",
       "<p>195 rows × 2 columns</p>\n",
       "</div>"
      ],
      "text/plain": [
       "              total_lent  percentage\n",
       "country_code                        \n",
       "AD                1200.0    0.000001\n",
       "AE             1760225.0    0.001930\n",
       "AF               68075.0    0.000075\n",
       "AL               16650.0    0.000018\n",
       "AM               23575.0    0.000026\n",
       "...                  ...         ...\n",
       "WF                2100.0    0.000002\n",
       "XK                3750.0    0.000004\n",
       "YE               15175.0    0.000017\n",
       "ZA              509075.0    0.000558\n",
       "ZM               11325.0    0.000012\n",
       "\n",
       "[195 rows x 2 columns]"
      ]
     },
     "execution_count": 49,
     "metadata": {},
     "output_type": "execute_result"
    }
   ],
   "source": [
    "temp_df3"
   ]
  },
  {
   "cell_type": "code",
   "execution_count": 50,
   "metadata": {
    "ExecuteTime": {
     "end_time": "2019-12-19T12:54:21.260639Z",
     "start_time": "2019-12-19T12:54:21.140085Z"
    }
   },
   "outputs": [],
   "source": [
    "temp_df3['total_borrowed'] = df_loans.groupby('country_code')['loan_amount'].sum()"
   ]
  },
  {
   "cell_type": "code",
   "execution_count": 51,
   "metadata": {
    "ExecuteTime": {
     "end_time": "2019-12-19T12:54:21.266295Z",
     "start_time": "2019-12-19T12:54:21.262190Z"
    }
   },
   "outputs": [],
   "source": [
    "# tolgo al totale dei loan i lent\n",
    "temp_df3['total_borrowed'] = temp_df3['total_borrowed'] - temp_df3['total_lent']"
   ]
  },
  {
   "cell_type": "code",
   "execution_count": 52,
   "metadata": {
    "ExecuteTime": {
     "end_time": "2019-12-19T12:54:21.271020Z",
     "start_time": "2019-12-19T12:54:21.268345Z"
    }
   },
   "outputs": [],
   "source": [
    "temp_df3['total_borrowed'] = temp_df3['total_borrowed'].fillna(0)"
   ]
  },
  {
   "cell_type": "code",
   "execution_count": 53,
   "metadata": {
    "ExecuteTime": {
     "end_time": "2019-12-19T12:54:21.276618Z",
     "start_time": "2019-12-19T12:54:21.273436Z"
    }
   },
   "outputs": [],
   "source": [
    "temp_df3['lent_borrowed'] = temp_df3.total_lent - temp_df3.total_borrowed"
   ]
  },
  {
   "cell_type": "code",
   "execution_count": 54,
   "metadata": {
    "ExecuteTime": {
     "end_time": "2019-12-19T12:54:21.297791Z",
     "start_time": "2019-12-19T12:54:21.278346Z"
    }
   },
   "outputs": [
    {
     "data": {
      "text/html": [
       "<div>\n",
       "<style scoped>\n",
       "    .dataframe tbody tr th:only-of-type {\n",
       "        vertical-align: middle;\n",
       "    }\n",
       "\n",
       "    .dataframe tbody tr th {\n",
       "        vertical-align: top;\n",
       "    }\n",
       "\n",
       "    .dataframe thead th {\n",
       "        text-align: right;\n",
       "    }\n",
       "</style>\n",
       "<table border=\"1\" class=\"dataframe\">\n",
       "  <thead>\n",
       "    <tr style=\"text-align: right;\">\n",
       "      <th></th>\n",
       "      <th>total_lent</th>\n",
       "      <th>percentage</th>\n",
       "      <th>total_borrowed</th>\n",
       "      <th>lent_borrowed</th>\n",
       "    </tr>\n",
       "    <tr>\n",
       "      <th>country_code</th>\n",
       "      <th></th>\n",
       "      <th></th>\n",
       "      <th></th>\n",
       "      <th></th>\n",
       "    </tr>\n",
       "  </thead>\n",
       "  <tbody>\n",
       "    <tr>\n",
       "      <th>AD</th>\n",
       "      <td>1200.0</td>\n",
       "      <td>0.000001</td>\n",
       "      <td>0.0</td>\n",
       "      <td>1200.0</td>\n",
       "    </tr>\n",
       "    <tr>\n",
       "      <th>AE</th>\n",
       "      <td>1760225.0</td>\n",
       "      <td>0.001930</td>\n",
       "      <td>0.0</td>\n",
       "      <td>1760225.0</td>\n",
       "    </tr>\n",
       "    <tr>\n",
       "      <th>AF</th>\n",
       "      <td>68075.0</td>\n",
       "      <td>0.000075</td>\n",
       "      <td>1899875.0</td>\n",
       "      <td>-1831800.0</td>\n",
       "    </tr>\n",
       "    <tr>\n",
       "      <th>AL</th>\n",
       "      <td>16650.0</td>\n",
       "      <td>0.000018</td>\n",
       "      <td>4290700.0</td>\n",
       "      <td>-4274050.0</td>\n",
       "    </tr>\n",
       "    <tr>\n",
       "      <th>AM</th>\n",
       "      <td>23575.0</td>\n",
       "      <td>0.000026</td>\n",
       "      <td>22926900.0</td>\n",
       "      <td>-22903325.0</td>\n",
       "    </tr>\n",
       "    <tr>\n",
       "      <th>...</th>\n",
       "      <td>...</td>\n",
       "      <td>...</td>\n",
       "      <td>...</td>\n",
       "      <td>...</td>\n",
       "    </tr>\n",
       "    <tr>\n",
       "      <th>WF</th>\n",
       "      <td>2100.0</td>\n",
       "      <td>0.000002</td>\n",
       "      <td>0.0</td>\n",
       "      <td>2100.0</td>\n",
       "    </tr>\n",
       "    <tr>\n",
       "      <th>XK</th>\n",
       "      <td>3750.0</td>\n",
       "      <td>0.000004</td>\n",
       "      <td>3079275.0</td>\n",
       "      <td>-3075525.0</td>\n",
       "    </tr>\n",
       "    <tr>\n",
       "      <th>YE</th>\n",
       "      <td>15175.0</td>\n",
       "      <td>0.000017</td>\n",
       "      <td>3428825.0</td>\n",
       "      <td>-3413650.0</td>\n",
       "    </tr>\n",
       "    <tr>\n",
       "      <th>ZA</th>\n",
       "      <td>509075.0</td>\n",
       "      <td>0.000558</td>\n",
       "      <td>497450.0</td>\n",
       "      <td>11625.0</td>\n",
       "    </tr>\n",
       "    <tr>\n",
       "      <th>ZM</th>\n",
       "      <td>11325.0</td>\n",
       "      <td>0.000012</td>\n",
       "      <td>1967650.0</td>\n",
       "      <td>-1956325.0</td>\n",
       "    </tr>\n",
       "  </tbody>\n",
       "</table>\n",
       "<p>195 rows × 4 columns</p>\n",
       "</div>"
      ],
      "text/plain": [
       "              total_lent  percentage  total_borrowed  lent_borrowed\n",
       "country_code                                                       \n",
       "AD                1200.0    0.000001             0.0         1200.0\n",
       "AE             1760225.0    0.001930             0.0      1760225.0\n",
       "AF               68075.0    0.000075       1899875.0     -1831800.0\n",
       "AL               16650.0    0.000018       4290700.0     -4274050.0\n",
       "AM               23575.0    0.000026      22926900.0    -22903325.0\n",
       "...                  ...         ...             ...            ...\n",
       "WF                2100.0    0.000002             0.0         2100.0\n",
       "XK                3750.0    0.000004       3079275.0     -3075525.0\n",
       "YE               15175.0    0.000017       3428825.0     -3413650.0\n",
       "ZA              509075.0    0.000558        497450.0        11625.0\n",
       "ZM               11325.0    0.000012       1967650.0     -1956325.0\n",
       "\n",
       "[195 rows x 4 columns]"
      ]
     },
     "execution_count": 54,
     "metadata": {},
     "output_type": "execute_result"
    }
   ],
   "source": [
    "temp_df3"
   ]
  },
  {
   "cell_type": "markdown",
   "metadata": {},
   "source": [
    "***"
   ]
  },
  {
   "cell_type": "markdown",
   "metadata": {},
   "source": [
    "## <span style='color:red'>10) Which country has the highest ratio between the difference computed at the previous point and the population?</span>"
   ]
  },
  {
   "cell_type": "markdown",
   "metadata": {},
   "source": [
    "***"
   ]
  },
  {
   "cell_type": "code",
   "execution_count": 55,
   "metadata": {
    "ExecuteTime": {
     "end_time": "2019-12-19T12:54:21.308231Z",
     "start_time": "2019-12-19T12:54:21.299439Z"
    }
   },
   "outputs": [],
   "source": [
    "# importo data set che necessito\n",
    "df_country_stat = pd.read_csv(dire3)"
   ]
  },
  {
   "cell_type": "code",
   "execution_count": 56,
   "metadata": {
    "ExecuteTime": {
     "end_time": "2019-12-19T12:54:21.326437Z",
     "start_time": "2019-12-19T12:54:21.310129Z"
    },
    "scrolled": false
   },
   "outputs": [
    {
     "data": {
      "text/html": [
       "<div>\n",
       "<style scoped>\n",
       "    .dataframe tbody tr th:only-of-type {\n",
       "        vertical-align: middle;\n",
       "    }\n",
       "\n",
       "    .dataframe tbody tr th {\n",
       "        vertical-align: top;\n",
       "    }\n",
       "\n",
       "    .dataframe thead th {\n",
       "        text-align: right;\n",
       "    }\n",
       "</style>\n",
       "<table border=\"1\" class=\"dataframe\">\n",
       "  <thead>\n",
       "    <tr style=\"text-align: right;\">\n",
       "      <th></th>\n",
       "      <th>country_code</th>\n",
       "      <th>total_lent</th>\n",
       "      <th>percentage</th>\n",
       "      <th>total_borrowed</th>\n",
       "      <th>lent_borrowed</th>\n",
       "    </tr>\n",
       "  </thead>\n",
       "  <tbody>\n",
       "    <tr>\n",
       "      <th>0</th>\n",
       "      <td>AD</td>\n",
       "      <td>1200.0</td>\n",
       "      <td>0.000001</td>\n",
       "      <td>0.0</td>\n",
       "      <td>1200.0</td>\n",
       "    </tr>\n",
       "    <tr>\n",
       "      <th>1</th>\n",
       "      <td>AE</td>\n",
       "      <td>1760225.0</td>\n",
       "      <td>0.001930</td>\n",
       "      <td>0.0</td>\n",
       "      <td>1760225.0</td>\n",
       "    </tr>\n",
       "    <tr>\n",
       "      <th>2</th>\n",
       "      <td>AF</td>\n",
       "      <td>68075.0</td>\n",
       "      <td>0.000075</td>\n",
       "      <td>1899875.0</td>\n",
       "      <td>-1831800.0</td>\n",
       "    </tr>\n",
       "    <tr>\n",
       "      <th>3</th>\n",
       "      <td>AL</td>\n",
       "      <td>16650.0</td>\n",
       "      <td>0.000018</td>\n",
       "      <td>4290700.0</td>\n",
       "      <td>-4274050.0</td>\n",
       "    </tr>\n",
       "    <tr>\n",
       "      <th>4</th>\n",
       "      <td>AM</td>\n",
       "      <td>23575.0</td>\n",
       "      <td>0.000026</td>\n",
       "      <td>22926900.0</td>\n",
       "      <td>-22903325.0</td>\n",
       "    </tr>\n",
       "    <tr>\n",
       "      <th>...</th>\n",
       "      <td>...</td>\n",
       "      <td>...</td>\n",
       "      <td>...</td>\n",
       "      <td>...</td>\n",
       "      <td>...</td>\n",
       "    </tr>\n",
       "    <tr>\n",
       "      <th>190</th>\n",
       "      <td>WF</td>\n",
       "      <td>2100.0</td>\n",
       "      <td>0.000002</td>\n",
       "      <td>0.0</td>\n",
       "      <td>2100.0</td>\n",
       "    </tr>\n",
       "    <tr>\n",
       "      <th>191</th>\n",
       "      <td>XK</td>\n",
       "      <td>3750.0</td>\n",
       "      <td>0.000004</td>\n",
       "      <td>3079275.0</td>\n",
       "      <td>-3075525.0</td>\n",
       "    </tr>\n",
       "    <tr>\n",
       "      <th>192</th>\n",
       "      <td>YE</td>\n",
       "      <td>15175.0</td>\n",
       "      <td>0.000017</td>\n",
       "      <td>3428825.0</td>\n",
       "      <td>-3413650.0</td>\n",
       "    </tr>\n",
       "    <tr>\n",
       "      <th>193</th>\n",
       "      <td>ZA</td>\n",
       "      <td>509075.0</td>\n",
       "      <td>0.000558</td>\n",
       "      <td>497450.0</td>\n",
       "      <td>11625.0</td>\n",
       "    </tr>\n",
       "    <tr>\n",
       "      <th>194</th>\n",
       "      <td>ZM</td>\n",
       "      <td>11325.0</td>\n",
       "      <td>0.000012</td>\n",
       "      <td>1967650.0</td>\n",
       "      <td>-1956325.0</td>\n",
       "    </tr>\n",
       "  </tbody>\n",
       "</table>\n",
       "<p>195 rows × 5 columns</p>\n",
       "</div>"
      ],
      "text/plain": [
       "    country_code  total_lent  percentage  total_borrowed  lent_borrowed\n",
       "0             AD      1200.0    0.000001             0.0         1200.0\n",
       "1             AE   1760225.0    0.001930             0.0      1760225.0\n",
       "2             AF     68075.0    0.000075       1899875.0     -1831800.0\n",
       "3             AL     16650.0    0.000018       4290700.0     -4274050.0\n",
       "4             AM     23575.0    0.000026      22926900.0    -22903325.0\n",
       "..           ...         ...         ...             ...            ...\n",
       "190           WF      2100.0    0.000002             0.0         2100.0\n",
       "191           XK      3750.0    0.000004       3079275.0     -3075525.0\n",
       "192           YE     15175.0    0.000017       3428825.0     -3413650.0\n",
       "193           ZA    509075.0    0.000558        497450.0        11625.0\n",
       "194           ZM     11325.0    0.000012       1967650.0     -1956325.0\n",
       "\n",
       "[195 rows x 5 columns]"
      ]
     },
     "execution_count": 56,
     "metadata": {},
     "output_type": "execute_result"
    }
   ],
   "source": [
    "temp_df3.reset_index()"
   ]
  },
  {
   "cell_type": "code",
   "execution_count": 57,
   "metadata": {
    "ExecuteTime": {
     "end_time": "2019-12-19T12:54:21.410496Z",
     "start_time": "2019-12-19T12:54:21.331068Z"
    }
   },
   "outputs": [],
   "source": [
    "temp_df = df_country_stat.groupby('country_code')['population'].sum()"
   ]
  },
  {
   "cell_type": "code",
   "execution_count": 58,
   "metadata": {
    "ExecuteTime": {
     "end_time": "2019-12-19T12:54:21.418473Z",
     "start_time": "2019-12-19T12:54:21.414186Z"
    }
   },
   "outputs": [],
   "source": [
    "temp_df3['population'] = temp_df"
   ]
  },
  {
   "cell_type": "code",
   "execution_count": 59,
   "metadata": {
    "ExecuteTime": {
     "end_time": "2019-12-19T12:54:21.426116Z",
     "start_time": "2019-12-19T12:54:21.420605Z"
    }
   },
   "outputs": [],
   "source": [
    "#calcolo percentuale su i lent-borrowed e la popolazione, successivamente trovo l'idmax per la percentuale che mi dice essere CANADA\n",
    "temp_df3['percentage'] = round(temp_df3['lent_borrowed']/temp_df3['population']*100, 2)\n",
    "temp_df3=temp_df3.reset_index()"
   ]
  },
  {
   "cell_type": "code",
   "execution_count": 60,
   "metadata": {
    "ExecuteTime": {
     "end_time": "2019-12-19T12:54:21.432334Z",
     "start_time": "2019-12-19T12:54:21.427784Z"
    },
    "scrolled": false
   },
   "outputs": [],
   "source": [
    "max_ratio = temp_df3.loc[temp_df3['percentage'].idxmax()]"
   ]
  },
  {
   "cell_type": "code",
   "execution_count": 61,
   "metadata": {
    "ExecuteTime": {
     "end_time": "2019-12-19T12:54:21.439539Z",
     "start_time": "2019-12-19T12:54:21.435010Z"
    }
   },
   "outputs": [
    {
     "data": {
      "text/plain": [
       "country_code               CA\n",
       "total_lent        7.97568e+07\n",
       "percentage             435.41\n",
       "total_borrowed   -7.97068e+07\n",
       "lent_borrowed     1.59464e+08\n",
       "population        3.66242e+07\n",
       "Name: 30, dtype: object"
      ]
     },
     "execution_count": 61,
     "metadata": {},
     "output_type": "execute_result"
    }
   ],
   "source": [
    "max_ratio"
   ]
  },
  {
   "cell_type": "markdown",
   "metadata": {},
   "source": [
    "***"
   ]
  },
  {
   "cell_type": "markdown",
   "metadata": {},
   "source": [
    "## <span style='color:red'>11) Which country has the highest ratio between the difference computed at point 9 and the population that is not below the poverty line?</span>"
   ]
  },
  {
   "cell_type": "markdown",
   "metadata": {},
   "source": [
    "***"
   ]
  },
  {
   "cell_type": "code",
   "execution_count": 62,
   "metadata": {
    "ExecuteTime": {
     "end_time": "2019-12-19T12:54:21.513106Z",
     "start_time": "2019-12-19T12:54:21.442777Z"
    }
   },
   "outputs": [],
   "source": [
    "temp_df2 = df_country_stat.groupby('country_code')[['country_code','population','population_below_poverty_line']].head()"
   ]
  },
  {
   "cell_type": "code",
   "execution_count": 63,
   "metadata": {
    "ExecuteTime": {
     "end_time": "2019-12-19T12:54:21.519878Z",
     "start_time": "2019-12-19T12:54:21.516048Z"
    }
   },
   "outputs": [],
   "source": [
    "temp_df2['population_below_poverty_line'] = temp_df2['population_below_poverty_line']/100"
   ]
  },
  {
   "cell_type": "code",
   "execution_count": 64,
   "metadata": {
    "ExecuteTime": {
     "end_time": "2019-12-19T12:54:21.529043Z",
     "start_time": "2019-12-19T12:54:21.522673Z"
    }
   },
   "outputs": [],
   "source": [
    "temp_df2['population_below_poverty_line'] = temp_df2['population'] - (temp_df2['population_below_poverty_line']*temp_df2['population'])"
   ]
  },
  {
   "cell_type": "code",
   "execution_count": 65,
   "metadata": {
    "ExecuteTime": {
     "end_time": "2019-12-19T12:54:21.550234Z",
     "start_time": "2019-12-19T12:54:21.533000Z"
    }
   },
   "outputs": [],
   "source": [
    "temp_df2 = temp_df2.merge(temp_df3[['country_code', 'lent_borrowed']], left_on='country_code', right_on='country_code')"
   ]
  },
  {
   "cell_type": "code",
   "execution_count": 66,
   "metadata": {
    "ExecuteTime": {
     "end_time": "2019-12-19T12:54:21.558686Z",
     "start_time": "2019-12-19T12:54:21.553842Z"
    }
   },
   "outputs": [],
   "source": [
    "temp_df2['percentage_poverty'] = round(temp_df2['lent_borrowed']/temp_df2['population_below_poverty_line']*100, 2)"
   ]
  },
  {
   "cell_type": "code",
   "execution_count": 67,
   "metadata": {
    "ExecuteTime": {
     "end_time": "2019-12-19T12:54:21.568723Z",
     "start_time": "2019-12-19T12:54:21.561074Z"
    }
   },
   "outputs": [],
   "source": [
    "max_ratio = temp_df2.loc[temp_df2['percentage_poverty'].idxmax()]"
   ]
  },
  {
   "cell_type": "code",
   "execution_count": 68,
   "metadata": {
    "ExecuteTime": {
     "end_time": "2019-12-19T12:54:21.588756Z",
     "start_time": "2019-12-19T12:54:21.583982Z"
    },
    "scrolled": true
   },
   "outputs": [
    {
     "data": {
      "text/plain": [
       "country_code                              CA\n",
       "population                          36624199\n",
       "population_below_poverty_line    3.31815e+07\n",
       "lent_borrowed                    1.59464e+08\n",
       "percentage_poverty                    480.58\n",
       "Name: 65, dtype: object"
      ]
     },
     "execution_count": 68,
     "metadata": {},
     "output_type": "execute_result"
    }
   ],
   "source": [
    "max_ratio"
   ]
  },
  {
   "cell_type": "markdown",
   "metadata": {},
   "source": [
    "***"
   ]
  },
  {
   "cell_type": "markdown",
   "metadata": {},
   "source": [
    "## <span style='color:red'>12) For each year, compute the total amount of loans. Each loan that has planned expiration time and disburse time in different years must have its amount distributed proportionally to the number of days in each year. For example, a loan with disburse time December 1st, 2016, planned expiration time January 30th 2018, and amount 5000USD has an amount of 5000USD * 31 / (31+365+30) = 363.85 for 2016, 5000USD * 365 / (31+365+30) = 4284.04 for 2017, and 5000USD * 30 / (31+365+30) = 352.11 for 2018.</span>"
   ]
  },
  {
   "cell_type": "markdown",
   "metadata": {},
   "source": [
    "***"
   ]
  },
  {
   "cell_type": "markdown",
   "metadata": {},
   "source": [
    "### Decido di eliminare tutte le colonne con NaN, in particolar modo tutte le colonne che non presentano disburse_time oppure planned_expiration_time"
   ]
  },
  {
   "cell_type": "markdown",
   "metadata": {},
   "source": [
    "***"
   ]
  },
  {
   "cell_type": "code",
   "execution_count": 69,
   "metadata": {
    "ExecuteTime": {
     "end_time": "2019-12-19T12:54:38.233967Z",
     "start_time": "2019-12-19T12:54:21.592624Z"
    }
   },
   "outputs": [],
   "source": [
    "temp_df = df_loans.dropna()"
   ]
  },
  {
   "cell_type": "code",
   "execution_count": 70,
   "metadata": {
    "ExecuteTime": {
     "end_time": "2019-12-19T12:54:38.287980Z",
     "start_time": "2019-12-19T12:54:38.250050Z"
    },
    "scrolled": true
   },
   "outputs": [],
   "source": [
    "temp_df.loc[:,('disburse_time')]=temp_df.loc[:,('disburse_time')].dt.tz_localize(None)"
   ]
  },
  {
   "cell_type": "code",
   "execution_count": 71,
   "metadata": {
    "ExecuteTime": {
     "end_time": "2019-12-19T12:54:38.309271Z",
     "start_time": "2019-12-19T12:54:38.292891Z"
    },
    "scrolled": true
   },
   "outputs": [],
   "source": [
    "temp_df.loc[:,('planned_expiration_time')]=temp_df.loc[:,('planned_expiration_time')].dt.tz_localize(None)"
   ]
  },
  {
   "cell_type": "code",
   "execution_count": 72,
   "metadata": {
    "ExecuteTime": {
     "end_time": "2019-12-19T12:54:38.331979Z",
     "start_time": "2019-12-19T12:54:38.314612Z"
    },
    "scrolled": true
   },
   "outputs": [
    {
     "data": {
      "text/plain": [
       "3         2014-01-17 08:00:00\n",
       "9         2014-01-10 08:00:00\n",
       "11        2014-01-15 08:00:00\n",
       "13        2013-12-26 08:00:00\n",
       "18        2015-09-18 07:00:00\n",
       "                  ...        \n",
       "1419599   2015-11-16 08:00:00\n",
       "1419600   2015-11-20 08:00:00\n",
       "1419601   2015-11-19 08:00:00\n",
       "1419603   2015-11-24 08:00:00\n",
       "1419604   2015-11-13 08:00:00\n",
       "Name: disburse_time, Length: 478837, dtype: datetime64[ns]"
      ]
     },
     "execution_count": 72,
     "metadata": {},
     "output_type": "execute_result"
    }
   ],
   "source": [
    "temp_df['disburse_time']"
   ]
  },
  {
   "cell_type": "code",
   "execution_count": 73,
   "metadata": {
    "ExecuteTime": {
     "end_time": "2019-12-19T12:54:38.402878Z",
     "start_time": "2019-12-19T12:54:38.334505Z"
    },
    "scrolled": false
   },
   "outputs": [
    {
     "name": "stderr",
     "output_type": "stream",
     "text": [
      "<ipython-input-73-8c6a6d9a8ff2>:1: SettingWithCopyWarning: \n",
      "A value is trying to be set on a copy of a slice from a DataFrame.\n",
      "Try using .loc[row_indexer,col_indexer] = value instead\n",
      "\n",
      "See the caveats in the documentation: http://pandas.pydata.org/pandas-docs/stable/user_guide/indexing.html#returning-a-view-versus-a-copy\n",
      "  temp_df['differenza'] = temp_df['planned_expiration_time'].dt.year - temp_df['disburse_time'].dt.year\n"
     ]
    }
   ],
   "source": [
    "temp_df['differenza'] = temp_df['planned_expiration_time'].dt.year - temp_df['disburse_time'].dt.year"
   ]
  },
  {
   "cell_type": "code",
   "execution_count": 74,
   "metadata": {
    "ExecuteTime": {
     "end_time": "2019-12-19T12:54:38.527746Z",
     "start_time": "2019-12-19T12:54:38.404826Z"
    }
   },
   "outputs": [],
   "source": [
    "temp_df = temp_df[['planned_expiration_time', 'disburse_time', 'differenza', 'loan_amount', 'duration']]"
   ]
  },
  {
   "cell_type": "code",
   "execution_count": 75,
   "metadata": {
    "ExecuteTime": {
     "end_time": "2019-12-19T12:54:38.560271Z",
     "start_time": "2019-12-19T12:54:38.533206Z"
    },
    "scrolled": true
   },
   "outputs": [
    {
     "data": {
      "text/html": [
       "<div>\n",
       "<style scoped>\n",
       "    .dataframe tbody tr th:only-of-type {\n",
       "        vertical-align: middle;\n",
       "    }\n",
       "\n",
       "    .dataframe tbody tr th {\n",
       "        vertical-align: top;\n",
       "    }\n",
       "\n",
       "    .dataframe thead th {\n",
       "        text-align: right;\n",
       "    }\n",
       "</style>\n",
       "<table border=\"1\" class=\"dataframe\">\n",
       "  <thead>\n",
       "    <tr style=\"text-align: right;\">\n",
       "      <th></th>\n",
       "      <th>planned_expiration_time</th>\n",
       "      <th>disburse_time</th>\n",
       "      <th>differenza</th>\n",
       "      <th>loan_amount</th>\n",
       "      <th>duration</th>\n",
       "    </tr>\n",
       "  </thead>\n",
       "  <tbody>\n",
       "    <tr>\n",
       "      <th>3</th>\n",
       "      <td>2014-02-21 03:10:02</td>\n",
       "      <td>2014-01-17 08:00:00</td>\n",
       "      <td>0</td>\n",
       "      <td>625.0</td>\n",
       "      <td>34 days 19:10:02</td>\n",
       "    </tr>\n",
       "    <tr>\n",
       "      <th>9</th>\n",
       "      <td>2014-03-19 13:40:02</td>\n",
       "      <td>2014-01-10 08:00:00</td>\n",
       "      <td>0</td>\n",
       "      <td>1825.0</td>\n",
       "      <td>68 days 05:40:02</td>\n",
       "    </tr>\n",
       "    <tr>\n",
       "      <th>11</th>\n",
       "      <td>2014-02-20 18:30:01</td>\n",
       "      <td>2014-01-15 08:00:00</td>\n",
       "      <td>0</td>\n",
       "      <td>950.0</td>\n",
       "      <td>36 days 10:30:01</td>\n",
       "    </tr>\n",
       "    <tr>\n",
       "      <th>13</th>\n",
       "      <td>2014-03-26 22:24:34</td>\n",
       "      <td>2013-12-26 08:00:00</td>\n",
       "      <td>1</td>\n",
       "      <td>300.0</td>\n",
       "      <td>90 days 14:24:34</td>\n",
       "    </tr>\n",
       "    <tr>\n",
       "      <th>18</th>\n",
       "      <td>2015-11-03 18:40:05</td>\n",
       "      <td>2015-09-18 07:00:00</td>\n",
       "      <td>0</td>\n",
       "      <td>375.0</td>\n",
       "      <td>46 days 11:40:05</td>\n",
       "    </tr>\n",
       "  </tbody>\n",
       "</table>\n",
       "</div>"
      ],
      "text/plain": [
       "   planned_expiration_time       disburse_time  differenza  loan_amount  \\\n",
       "3      2014-02-21 03:10:02 2014-01-17 08:00:00           0        625.0   \n",
       "9      2014-03-19 13:40:02 2014-01-10 08:00:00           0       1825.0   \n",
       "11     2014-02-20 18:30:01 2014-01-15 08:00:00           0        950.0   \n",
       "13     2014-03-26 22:24:34 2013-12-26 08:00:00           1        300.0   \n",
       "18     2015-11-03 18:40:05 2015-09-18 07:00:00           0        375.0   \n",
       "\n",
       "           duration  \n",
       "3  34 days 19:10:02  \n",
       "9  68 days 05:40:02  \n",
       "11 36 days 10:30:01  \n",
       "13 90 days 14:24:34  \n",
       "18 46 days 11:40:05  "
      ]
     },
     "execution_count": 75,
     "metadata": {},
     "output_type": "execute_result"
    }
   ],
   "source": [
    "temp_df.head()"
   ]
  },
  {
   "cell_type": "code",
   "execution_count": 76,
   "metadata": {
    "ExecuteTime": {
     "end_time": "2019-12-19T12:54:38.580035Z",
     "start_time": "2019-12-19T12:54:38.565645Z"
    }
   },
   "outputs": [
    {
     "data": {
      "text/plain": [
       "differenza\n",
       "0    415502\n",
       "1     63335\n",
       "dtype: int64"
      ]
     },
     "execution_count": 76,
     "metadata": {},
     "output_type": "execute_result"
    }
   ],
   "source": [
    "# mi accorgo che ho solo 1 o 0 come differenza perciò preparo programma apposta\n",
    "temp_df.groupby('differenza').size()"
   ]
  },
  {
   "cell_type": "code",
   "execution_count": 77,
   "metadata": {
    "ExecuteTime": {
     "end_time": "2019-12-19T12:54:38.599146Z",
     "start_time": "2019-12-19T12:54:38.581933Z"
    }
   },
   "outputs": [],
   "source": [
    "# tengo solo i giorni\n",
    "temp_df.duration = temp_df.duration.dt.days"
   ]
  },
  {
   "cell_type": "code",
   "execution_count": 78,
   "metadata": {
    "ExecuteTime": {
     "end_time": "2019-12-19T12:54:38.625376Z",
     "start_time": "2019-12-19T12:54:38.600903Z"
    }
   },
   "outputs": [],
   "source": [
    "def func(k):\n",
    "        x = round(( k.loan_amount * k.duration)/(31+365+30),2)\n",
    "        y = k['planned_expiration_time'].year\n",
    "        return [y,x]\n",
    "\n",
    "def func2(k):\n",
    "        lim_inf = datetime.datetime(k.planned_expiration_time.year, 1,1)\n",
    "        z = k.planned_expiration_time - lim_inf\n",
    "        z = z.days\n",
    "        x = round(( k.loan_amount * z)/(31+365+30),2) \n",
    "        y = k.planned_expiration_time.year\n",
    "        lim_sup = datetime.datetime(k.disburse_time.year, 12, 31)\n",
    "        f = lim_sup - k.disburse_time\n",
    "        f = f.days\n",
    "        u = round(( k.loan_amount * f)/(31+365+30),2) \n",
    "        v = k.disburse_time.year\n",
    "        return [[y,x],[v,u]]\n"
   ]
  },
  {
   "cell_type": "code",
   "execution_count": 79,
   "metadata": {
    "ExecuteTime": {
     "end_time": "2019-12-19T12:54:38.655811Z",
     "start_time": "2019-12-19T12:54:38.627639Z"
    }
   },
   "outputs": [],
   "source": [
    "temp_df1 = temp_df.loc[temp_df.differenza == 0]\n",
    "listx = []"
   ]
  },
  {
   "cell_type": "code",
   "execution_count": 80,
   "metadata": {
    "ExecuteTime": {
     "end_time": "2019-12-19T12:54:55.655906Z",
     "start_time": "2019-12-19T12:54:38.657664Z"
    }
   },
   "outputs": [],
   "source": [
    "# applico funzione per gli 0 anni di differenza\n",
    "listx = temp_df1.apply(lambda x : func(x), axis=1)"
   ]
  },
  {
   "cell_type": "code",
   "execution_count": 81,
   "metadata": {
    "ExecuteTime": {
     "end_time": "2019-12-19T12:56:02.056087Z",
     "start_time": "2019-12-19T12:54:55.659647Z"
    }
   },
   "outputs": [],
   "source": [
    "d1 = {'tot' : listx}\n",
    "df2 = pd.DataFrame(d1)\n",
    "df3 = df2.tot.apply(pd.Series)\n",
    "df3.columns = ['year', 'total']"
   ]
  },
  {
   "cell_type": "code",
   "execution_count": 82,
   "metadata": {
    "ExecuteTime": {
     "end_time": "2019-12-19T12:56:02.077306Z",
     "start_time": "2019-12-19T12:56:02.060386Z"
    }
   },
   "outputs": [],
   "source": [
    "# applico funzione per gli 1 anni \n",
    "temp_df1 = temp_df.loc[temp_df.differenza == 1]\n",
    "listy = []"
   ]
  },
  {
   "cell_type": "code",
   "execution_count": 83,
   "metadata": {
    "ExecuteTime": {
     "end_time": "2019-12-19T12:56:11.165090Z",
     "start_time": "2019-12-19T12:56:02.079562Z"
    }
   },
   "outputs": [],
   "source": [
    "listy = temp_df1.apply(lambda x : func2(x), axis=1)"
   ]
  },
  {
   "cell_type": "code",
   "execution_count": 84,
   "metadata": {
    "ExecuteTime": {
     "end_time": "2019-12-19T12:56:21.740516Z",
     "start_time": "2019-12-19T12:56:11.167493Z"
    }
   },
   "outputs": [],
   "source": [
    "# ottengo due df di liste con i dati immagazzinati dal limite superio e dal limite inferiore\n",
    "d1 = {'tot' : listy}\n",
    "df2 = pd.DataFrame(d1)\n",
    "df4 = df2.tot.apply(pd.Series)\n",
    "df4.columns = ['data1', 'data2']\n",
    "df2 = df4['data1']\n",
    "df4 = df4['data2']"
   ]
  },
  {
   "cell_type": "code",
   "execution_count": 85,
   "metadata": {
    "ExecuteTime": {
     "end_time": "2019-12-19T12:56:30.957367Z",
     "start_time": "2019-12-19T12:56:21.742381Z"
    }
   },
   "outputs": [],
   "source": [
    "d1 = {'tot' : df2}\n",
    "df2 = pd.DataFrame(d1)\n",
    "df5 = df2.tot.apply(pd.Series)\n",
    "df5.columns = ['year', 'total']"
   ]
  },
  {
   "cell_type": "code",
   "execution_count": 86,
   "metadata": {
    "ExecuteTime": {
     "end_time": "2019-12-19T12:56:40.324216Z",
     "start_time": "2019-12-19T12:56:30.959489Z"
    }
   },
   "outputs": [],
   "source": [
    "d1 = {'tot' : df4}\n",
    "df2 = pd.DataFrame(d1)\n",
    "df6 = df2.tot.apply(pd.Series)\n",
    "df6.columns = ['year', 'total']"
   ]
  },
  {
   "cell_type": "code",
   "execution_count": 87,
   "metadata": {
    "ExecuteTime": {
     "end_time": "2019-12-19T12:56:40.342141Z",
     "start_time": "2019-12-19T12:56:40.326323Z"
    }
   },
   "outputs": [],
   "source": [
    "# appendo entrambi i data set creati al primo creato\n",
    "df3 = df3.append(df5, ignore_index=True)\n",
    "df3 = df3.append(df6, ignore_index=True)"
   ]
  },
  {
   "cell_type": "code",
   "execution_count": 88,
   "metadata": {
    "ExecuteTime": {
     "end_time": "2019-12-19T12:56:40.353227Z",
     "start_time": "2019-12-19T12:56:40.344133Z"
    }
   },
   "outputs": [],
   "source": [
    "pd.set_option('display.float_format', lambda x: '%.5f' % x)\n",
    "df3.year = df3.year.astype('int')"
   ]
  },
  {
   "cell_type": "code",
   "execution_count": 89,
   "metadata": {
    "ExecuteTime": {
     "end_time": "2019-12-19T12:56:40.378238Z",
     "start_time": "2019-12-19T12:56:40.355363Z"
    }
   },
   "outputs": [
    {
     "data": {
      "text/html": [
       "<div>\n",
       "<style scoped>\n",
       "    .dataframe tbody tr th:only-of-type {\n",
       "        vertical-align: middle;\n",
       "    }\n",
       "\n",
       "    .dataframe tbody tr th {\n",
       "        vertical-align: top;\n",
       "    }\n",
       "\n",
       "    .dataframe thead th {\n",
       "        text-align: right;\n",
       "    }\n",
       "</style>\n",
       "<table border=\"1\" class=\"dataframe\">\n",
       "  <thead>\n",
       "    <tr style=\"text-align: right;\">\n",
       "      <th></th>\n",
       "      <th>total</th>\n",
       "    </tr>\n",
       "    <tr>\n",
       "      <th>year</th>\n",
       "      <th></th>\n",
       "    </tr>\n",
       "  </thead>\n",
       "  <tbody>\n",
       "    <tr>\n",
       "      <th>2011</th>\n",
       "      <td>29.93000</td>\n",
       "    </tr>\n",
       "    <tr>\n",
       "      <th>2012</th>\n",
       "      <td>74010.36000</td>\n",
       "    </tr>\n",
       "    <tr>\n",
       "      <th>2013</th>\n",
       "      <td>1443746.34000</td>\n",
       "    </tr>\n",
       "    <tr>\n",
       "      <th>2014</th>\n",
       "      <td>8845883.56000</td>\n",
       "    </tr>\n",
       "    <tr>\n",
       "      <th>2015</th>\n",
       "      <td>10590086.70000</td>\n",
       "    </tr>\n",
       "    <tr>\n",
       "      <th>2016</th>\n",
       "      <td>11577277.04000</td>\n",
       "    </tr>\n",
       "    <tr>\n",
       "      <th>2017</th>\n",
       "      <td>13381987.53000</td>\n",
       "    </tr>\n",
       "    <tr>\n",
       "      <th>2018</th>\n",
       "      <td>214480.37000</td>\n",
       "    </tr>\n",
       "  </tbody>\n",
       "</table>\n",
       "</div>"
      ],
      "text/plain": [
       "              total\n",
       "year               \n",
       "2011       29.93000\n",
       "2012    74010.36000\n",
       "2013  1443746.34000\n",
       "2014  8845883.56000\n",
       "2015 10590086.70000\n",
       "2016 11577277.04000\n",
       "2017 13381987.53000\n",
       "2018   214480.37000"
      ]
     },
     "execution_count": 89,
     "metadata": {},
     "output_type": "execute_result"
    }
   ],
   "source": [
    "df3.groupby('year').sum()"
   ]
  },
  {
   "cell_type": "markdown",
   "metadata": {},
   "source": [
    "# TEMPO IMPIEGATO 12 PUNTI : 5.50min \n",
    "# COMPUTER UTILIZZATO : MACBOOK PRO 19\n",
    "# PROCESSORE : 1,4 GHz Intel Core i5 quad-core\n",
    "# MEMORIA : 8 GB 2133 MHz LPDDR3\n",
    "# SCHEDA GRAFICA : Intel Iris Plus Graphics 645 1536 MB\n"
   ]
  },
  {
   "cell_type": "code",
   "execution_count": null,
   "metadata": {},
   "outputs": [],
   "source": []
  }
 ],
 "metadata": {
  "kernelspec": {
   "display_name": "Python 3",
   "language": "python",
   "name": "python3"
  },
  "language_info": {
   "codemirror_mode": {
    "name": "ipython",
    "version": 3
   },
   "file_extension": ".py",
   "mimetype": "text/x-python",
   "name": "python",
   "nbconvert_exporter": "python",
   "pygments_lexer": "ipython3",
   "version": "3.8.0"
  }
 },
 "nbformat": 4,
 "nbformat_minor": 2
}
