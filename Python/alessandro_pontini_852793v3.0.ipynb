{
 "cells": [
  {
   "cell_type": "markdown",
   "metadata": {},
   "source": [
    "#   <span style=\"color:#5F9EA0\">Progetto Python Alessandro Pontini Matricola: 852793</span>"
   ]
  },
  {
   "cell_type": "markdown",
   "metadata": {},
   "source": [
    "***"
   ]
  },
  {
   "cell_type": "code",
   "execution_count": 71,
   "metadata": {
    "ExecuteTime": {
     "end_time": "2020-01-22T09:16:24.668201Z",
     "start_time": "2020-01-22T09:16:24.654691Z"
    },
    "scrolled": true
   },
   "outputs": [],
   "source": [
    "# importo librerie\n",
    "import pandas as pd\n",
    "import datetime\n",
    "import numpy as np\n",
    "pd.options.mode.chained_assignment = None"
   ]
  },
  {
   "cell_type": "code",
   "execution_count": 10,
   "metadata": {
    "ExecuteTime": {
     "end_time": "2020-01-22T08:48:08.041204Z",
     "start_time": "2020-01-22T08:48:08.037517Z"
    }
   },
   "outputs": [],
   "source": [
    "# scrivo directory\n",
    "dire = '/Users/alessandropontini/Documents/db/progetto_python/additional-kiva-snapshot/loans_lenders.csv'\n",
    "dire1 = '/Users/alessandropontini/Documents/db/progetto_python/additional-kiva-snapshot/loans.csv'\n",
    "dire2 = '/Users/alessandropontini/Documents/db/progetto_python/additional-kiva-snapshot/lenders.csv'\n",
    "dire3 = '/Users/alessandropontini/Documents/db/progetto_python/additional-kiva-snapshot/country_stats.csv'"
   ]
  },
  {
   "cell_type": "markdown",
   "metadata": {},
   "source": [
    "***"
   ]
  },
  {
   "cell_type": "markdown",
   "metadata": {},
   "source": [
    "##  <span style=\"color:red\">1) Normalize the loan_lenders table. In the normalized table, each row must have one loan_id and one lender.</span>"
   ]
  },
  {
   "cell_type": "markdown",
   "metadata": {},
   "source": [
    "***"
   ]
  },
  {
   "cell_type": "code",
   "execution_count": 11,
   "metadata": {
    "ExecuteTime": {
     "end_time": "2020-01-22T08:49:29.189895Z",
     "start_time": "2020-01-22T08:48:10.198674Z"
    }
   },
   "outputs": [],
   "source": [
    "# leggo il file csv\n",
    "df_lenders_not_normalized = pd.read_csv(dire)"
   ]
  },
  {
   "cell_type": "code",
   "execution_count": 12,
   "metadata": {
    "ExecuteTime": {
     "end_time": "2020-01-22T08:49:29.210653Z",
     "start_time": "2020-01-22T08:49:29.192797Z"
    }
   },
   "outputs": [
    {
     "data": {
      "text/html": [
       "<div>\n",
       "<style scoped>\n",
       "    .dataframe tbody tr th:only-of-type {\n",
       "        vertical-align: middle;\n",
       "    }\n",
       "\n",
       "    .dataframe tbody tr th {\n",
       "        vertical-align: top;\n",
       "    }\n",
       "\n",
       "    .dataframe thead th {\n",
       "        text-align: right;\n",
       "    }\n",
       "</style>\n",
       "<table border=\"1\" class=\"dataframe\">\n",
       "  <thead>\n",
       "    <tr style=\"text-align: right;\">\n",
       "      <th></th>\n",
       "      <th>loan_id</th>\n",
       "      <th>lenders</th>\n",
       "    </tr>\n",
       "  </thead>\n",
       "  <tbody>\n",
       "    <tr>\n",
       "      <th>0</th>\n",
       "      <td>483693</td>\n",
       "      <td>muc888, sam4326, camaran3922, lachheb1865, reb...</td>\n",
       "    </tr>\n",
       "    <tr>\n",
       "      <th>1</th>\n",
       "      <td>483738</td>\n",
       "      <td>muc888, nora3555, williammanashi, barbara5610,...</td>\n",
       "    </tr>\n",
       "    <tr>\n",
       "      <th>2</th>\n",
       "      <td>485000</td>\n",
       "      <td>muc888, terrystl, richardandsusan8352, sherri4...</td>\n",
       "    </tr>\n",
       "    <tr>\n",
       "      <th>3</th>\n",
       "      <td>486087</td>\n",
       "      <td>muc888, james5068, rudi5955, daniel9859, don92...</td>\n",
       "    </tr>\n",
       "    <tr>\n",
       "      <th>4</th>\n",
       "      <td>534428</td>\n",
       "      <td>muc888, niki3008, teresa9174, mike4896, david7...</td>\n",
       "    </tr>\n",
       "  </tbody>\n",
       "</table>\n",
       "</div>"
      ],
      "text/plain": [
       "   loan_id                                            lenders\n",
       "0   483693  muc888, sam4326, camaran3922, lachheb1865, reb...\n",
       "1   483738  muc888, nora3555, williammanashi, barbara5610,...\n",
       "2   485000  muc888, terrystl, richardandsusan8352, sherri4...\n",
       "3   486087  muc888, james5068, rudi5955, daniel9859, don92...\n",
       "4   534428  muc888, niki3008, teresa9174, mike4896, david7..."
      ]
     },
     "execution_count": 12,
     "metadata": {},
     "output_type": "execute_result"
    }
   ],
   "source": [
    "df_lenders_not_normalized.head()"
   ]
  },
  {
   "cell_type": "code",
   "execution_count": 13,
   "metadata": {
    "ExecuteTime": {
     "end_time": "2020-01-22T08:49:50.145403Z",
     "start_time": "2020-01-22T08:49:29.214610Z"
    }
   },
   "outputs": [],
   "source": [
    "# impongo index=loan_id per poter usare explode che per ogni loan_id mi prende ogni elemento della lista creata con la strip \n",
    "# e mi crea un nuove righe in un nuovo data set\n",
    "df_lenders_normalized = df_lenders_not_normalized.set_index('loan_id')['lenders'].str.split(pat=',').explode().reset_index()"
   ]
  },
  {
   "cell_type": "code",
   "execution_count": 14,
   "metadata": {
    "ExecuteTime": {
     "end_time": "2020-01-22T08:49:50.191387Z",
     "start_time": "2020-01-22T08:49:50.163643Z"
    }
   },
   "outputs": [
    {
     "data": {
      "text/html": [
       "<div>\n",
       "<style scoped>\n",
       "    .dataframe tbody tr th:only-of-type {\n",
       "        vertical-align: middle;\n",
       "    }\n",
       "\n",
       "    .dataframe tbody tr th {\n",
       "        vertical-align: top;\n",
       "    }\n",
       "\n",
       "    .dataframe thead th {\n",
       "        text-align: right;\n",
       "    }\n",
       "</style>\n",
       "<table border=\"1\" class=\"dataframe\">\n",
       "  <thead>\n",
       "    <tr style=\"text-align: right;\">\n",
       "      <th></th>\n",
       "      <th>loan_id</th>\n",
       "      <th>lenders</th>\n",
       "    </tr>\n",
       "  </thead>\n",
       "  <tbody>\n",
       "    <tr>\n",
       "      <th>0</th>\n",
       "      <td>483693</td>\n",
       "      <td>muc888</td>\n",
       "    </tr>\n",
       "    <tr>\n",
       "      <th>1</th>\n",
       "      <td>483693</td>\n",
       "      <td>sam4326</td>\n",
       "    </tr>\n",
       "    <tr>\n",
       "      <th>2</th>\n",
       "      <td>483693</td>\n",
       "      <td>camaran3922</td>\n",
       "    </tr>\n",
       "    <tr>\n",
       "      <th>3</th>\n",
       "      <td>483693</td>\n",
       "      <td>lachheb1865</td>\n",
       "    </tr>\n",
       "    <tr>\n",
       "      <th>4</th>\n",
       "      <td>483693</td>\n",
       "      <td>rebecca3499</td>\n",
       "    </tr>\n",
       "  </tbody>\n",
       "</table>\n",
       "</div>"
      ],
      "text/plain": [
       "   loan_id       lenders\n",
       "0   483693        muc888\n",
       "1   483693       sam4326\n",
       "2   483693   camaran3922\n",
       "3   483693   lachheb1865\n",
       "4   483693   rebecca3499"
      ]
     },
     "execution_count": 14,
     "metadata": {},
     "output_type": "execute_result"
    }
   ],
   "source": [
    "# mostro risultato\n",
    "df_lenders_normalized.head()"
   ]
  },
  {
   "cell_type": "markdown",
   "metadata": {
    "ExecuteTime": {
     "end_time": "2019-11-20T18:45:34.910120Z",
     "start_time": "2019-11-20T18:45:34.903829Z"
    }
   },
   "source": [
    "***"
   ]
  },
  {
   "cell_type": "markdown",
   "metadata": {},
   "source": [
    "##  <span style=\"color:red\">2) For each loan, add a column duration corresponding to the number of days between the disburse time and the planned expiration time. If any of those two dates is missing, also the duration must be missing.</span>"
   ]
  },
  {
   "cell_type": "markdown",
   "metadata": {},
   "source": [
    "***"
   ]
  },
  {
   "cell_type": "code",
   "execution_count": 15,
   "metadata": {
    "ExecuteTime": {
     "end_time": "2020-01-22T08:55:09.739788Z",
     "start_time": "2020-01-22T08:49:50.194683Z"
    }
   },
   "outputs": [],
   "source": [
    "# leggo il file loans, ma per la quantità di dati che devo leggere\n",
    "# preferisco leggere le date come tali e non come stringhe.\n",
    "df_loans = pd.read_csv(dire1, parse_dates=['disburse_time', 'planned_expiration_time'])"
   ]
  },
  {
   "cell_type": "code",
   "execution_count": 32,
   "metadata": {
    "ExecuteTime": {
     "end_time": "2020-01-22T09:01:01.729944Z",
     "start_time": "2020-01-22T09:01:01.686422Z"
    }
   },
   "outputs": [],
   "source": [
    "# ci sono delle date che non hanno disburse_time > planned_expiration_time, non ha senso un prestito che si estingue\n",
    "# prima della data di sborso, perciò controllo se ce ne sono e in effetti si ci sono.\n",
    "# creo un df che li contiene df_temp\n",
    "temp_df = df_loans.loc[df_loans['disburse_time'] > df_loans['planned_expiration_time']]"
   ]
  },
  {
   "cell_type": "code",
   "execution_count": 33,
   "metadata": {
    "ExecuteTime": {
     "end_time": "2020-01-22T09:01:02.161851Z",
     "start_time": "2020-01-22T09:01:02.148650Z"
    },
    "scrolled": true
   },
   "outputs": [
    {
     "data": {
      "text/html": [
       "<div>\n",
       "<style scoped>\n",
       "    .dataframe tbody tr th:only-of-type {\n",
       "        vertical-align: middle;\n",
       "    }\n",
       "\n",
       "    .dataframe tbody tr th {\n",
       "        vertical-align: top;\n",
       "    }\n",
       "\n",
       "    .dataframe thead th {\n",
       "        text-align: right;\n",
       "    }\n",
       "</style>\n",
       "<table border=\"1\" class=\"dataframe\">\n",
       "  <thead>\n",
       "    <tr style=\"text-align: right;\">\n",
       "      <th></th>\n",
       "      <th>disburse_time</th>\n",
       "      <th>planned_expiration_time</th>\n",
       "    </tr>\n",
       "  </thead>\n",
       "  <tbody>\n",
       "    <tr>\n",
       "      <th>63</th>\n",
       "      <td>2016-11-30 08:00:00+00:00</td>\n",
       "      <td>2016-10-31 05:40:03+00:00</td>\n",
       "    </tr>\n",
       "    <tr>\n",
       "      <th>96</th>\n",
       "      <td>2015-12-07 08:00:00+00:00</td>\n",
       "      <td>2015-11-12 14:30:11+00:00</td>\n",
       "    </tr>\n",
       "    <tr>\n",
       "      <th>177</th>\n",
       "      <td>2015-12-07 08:00:00+00:00</td>\n",
       "      <td>2015-11-13 05:00:03+00:00</td>\n",
       "    </tr>\n",
       "    <tr>\n",
       "      <th>207</th>\n",
       "      <td>2016-11-30 08:00:00+00:00</td>\n",
       "      <td>2016-10-28 14:30:08+00:00</td>\n",
       "    </tr>\n",
       "    <tr>\n",
       "      <th>217</th>\n",
       "      <td>2016-11-30 08:00:00+00:00</td>\n",
       "      <td>2016-10-31 01:40:03+00:00</td>\n",
       "    </tr>\n",
       "    <tr>\n",
       "      <th>...</th>\n",
       "      <td>...</td>\n",
       "      <td>...</td>\n",
       "    </tr>\n",
       "    <tr>\n",
       "      <th>1419303</th>\n",
       "      <td>2016-07-16 07:00:00+00:00</td>\n",
       "      <td>2016-06-12 04:30:03+00:00</td>\n",
       "    </tr>\n",
       "    <tr>\n",
       "      <th>1419304</th>\n",
       "      <td>2016-07-15 07:00:00+00:00</td>\n",
       "      <td>2016-06-14 00:50:04+00:00</td>\n",
       "    </tr>\n",
       "    <tr>\n",
       "      <th>1419374</th>\n",
       "      <td>2016-07-15 07:00:00+00:00</td>\n",
       "      <td>2016-06-12 04:40:03+00:00</td>\n",
       "    </tr>\n",
       "    <tr>\n",
       "      <th>1419443</th>\n",
       "      <td>2016-07-15 07:00:00+00:00</td>\n",
       "      <td>2016-06-15 13:00:03+00:00</td>\n",
       "    </tr>\n",
       "    <tr>\n",
       "      <th>1419581</th>\n",
       "      <td>2016-02-01 08:00:00+00:00</td>\n",
       "      <td>2016-01-03 00:50:04+00:00</td>\n",
       "    </tr>\n",
       "  </tbody>\n",
       "</table>\n",
       "<p>14935 rows × 2 columns</p>\n",
       "</div>"
      ],
      "text/plain": [
       "                    disburse_time   planned_expiration_time\n",
       "63      2016-11-30 08:00:00+00:00 2016-10-31 05:40:03+00:00\n",
       "96      2015-12-07 08:00:00+00:00 2015-11-12 14:30:11+00:00\n",
       "177     2015-12-07 08:00:00+00:00 2015-11-13 05:00:03+00:00\n",
       "207     2016-11-30 08:00:00+00:00 2016-10-28 14:30:08+00:00\n",
       "217     2016-11-30 08:00:00+00:00 2016-10-31 01:40:03+00:00\n",
       "...                           ...                       ...\n",
       "1419303 2016-07-16 07:00:00+00:00 2016-06-12 04:30:03+00:00\n",
       "1419304 2016-07-15 07:00:00+00:00 2016-06-14 00:50:04+00:00\n",
       "1419374 2016-07-15 07:00:00+00:00 2016-06-12 04:40:03+00:00\n",
       "1419443 2016-07-15 07:00:00+00:00 2016-06-15 13:00:03+00:00\n",
       "1419581 2016-02-01 08:00:00+00:00 2016-01-03 00:50:04+00:00\n",
       "\n",
       "[14935 rows x 2 columns]"
      ]
     },
     "execution_count": 33,
     "metadata": {},
     "output_type": "execute_result"
    }
   ],
   "source": [
    "temp_df[['disburse_time', 'planned_expiration_time']]"
   ]
  },
  {
   "cell_type": "code",
   "execution_count": 34,
   "metadata": {
    "ExecuteTime": {
     "end_time": "2020-01-22T09:01:02.817650Z",
     "start_time": "2020-01-22T09:01:02.811551Z"
    }
   },
   "outputs": [],
   "source": [
    "# inverto i valori\n",
    "# # https://pandas.pydata.org/pandas-docs/stable/user_guide/indexing.html#returning-a-view-versus-a-copy vedere soluzione qua\n",
    "\n",
    "temp_df['temp_date'] = temp_df.disburse_time \n",
    "temp_df.disburse_time = temp_df.planned_expiration_time\n",
    "temp_df.planned_expiration_time = temp_df.temp_date\n",
    "del temp_df['temp_date']"
   ]
  },
  {
   "cell_type": "code",
   "execution_count": 35,
   "metadata": {
    "ExecuteTime": {
     "end_time": "2020-01-22T09:01:05.172110Z",
     "start_time": "2020-01-22T09:01:05.157658Z"
    }
   },
   "outputs": [
    {
     "data": {
      "text/html": [
       "<div>\n",
       "<style scoped>\n",
       "    .dataframe tbody tr th:only-of-type {\n",
       "        vertical-align: middle;\n",
       "    }\n",
       "\n",
       "    .dataframe tbody tr th {\n",
       "        vertical-align: top;\n",
       "    }\n",
       "\n",
       "    .dataframe thead th {\n",
       "        text-align: right;\n",
       "    }\n",
       "</style>\n",
       "<table border=\"1\" class=\"dataframe\">\n",
       "  <thead>\n",
       "    <tr style=\"text-align: right;\">\n",
       "      <th></th>\n",
       "      <th>disburse_time</th>\n",
       "      <th>planned_expiration_time</th>\n",
       "    </tr>\n",
       "  </thead>\n",
       "  <tbody>\n",
       "    <tr>\n",
       "      <th>63</th>\n",
       "      <td>2016-10-31 05:40:03+00:00</td>\n",
       "      <td>2016-11-30 08:00:00+00:00</td>\n",
       "    </tr>\n",
       "    <tr>\n",
       "      <th>96</th>\n",
       "      <td>2015-11-12 14:30:11+00:00</td>\n",
       "      <td>2015-12-07 08:00:00+00:00</td>\n",
       "    </tr>\n",
       "    <tr>\n",
       "      <th>177</th>\n",
       "      <td>2015-11-13 05:00:03+00:00</td>\n",
       "      <td>2015-12-07 08:00:00+00:00</td>\n",
       "    </tr>\n",
       "    <tr>\n",
       "      <th>207</th>\n",
       "      <td>2016-10-28 14:30:08+00:00</td>\n",
       "      <td>2016-11-30 08:00:00+00:00</td>\n",
       "    </tr>\n",
       "    <tr>\n",
       "      <th>217</th>\n",
       "      <td>2016-10-31 01:40:03+00:00</td>\n",
       "      <td>2016-11-30 08:00:00+00:00</td>\n",
       "    </tr>\n",
       "    <tr>\n",
       "      <th>...</th>\n",
       "      <td>...</td>\n",
       "      <td>...</td>\n",
       "    </tr>\n",
       "    <tr>\n",
       "      <th>1419303</th>\n",
       "      <td>2016-06-12 04:30:03+00:00</td>\n",
       "      <td>2016-07-16 07:00:00+00:00</td>\n",
       "    </tr>\n",
       "    <tr>\n",
       "      <th>1419304</th>\n",
       "      <td>2016-06-14 00:50:04+00:00</td>\n",
       "      <td>2016-07-15 07:00:00+00:00</td>\n",
       "    </tr>\n",
       "    <tr>\n",
       "      <th>1419374</th>\n",
       "      <td>2016-06-12 04:40:03+00:00</td>\n",
       "      <td>2016-07-15 07:00:00+00:00</td>\n",
       "    </tr>\n",
       "    <tr>\n",
       "      <th>1419443</th>\n",
       "      <td>2016-06-15 13:00:03+00:00</td>\n",
       "      <td>2016-07-15 07:00:00+00:00</td>\n",
       "    </tr>\n",
       "    <tr>\n",
       "      <th>1419581</th>\n",
       "      <td>2016-01-03 00:50:04+00:00</td>\n",
       "      <td>2016-02-01 08:00:00+00:00</td>\n",
       "    </tr>\n",
       "  </tbody>\n",
       "</table>\n",
       "<p>14935 rows × 2 columns</p>\n",
       "</div>"
      ],
      "text/plain": [
       "                    disburse_time   planned_expiration_time\n",
       "63      2016-10-31 05:40:03+00:00 2016-11-30 08:00:00+00:00\n",
       "96      2015-11-12 14:30:11+00:00 2015-12-07 08:00:00+00:00\n",
       "177     2015-11-13 05:00:03+00:00 2015-12-07 08:00:00+00:00\n",
       "207     2016-10-28 14:30:08+00:00 2016-11-30 08:00:00+00:00\n",
       "217     2016-10-31 01:40:03+00:00 2016-11-30 08:00:00+00:00\n",
       "...                           ...                       ...\n",
       "1419303 2016-06-12 04:30:03+00:00 2016-07-16 07:00:00+00:00\n",
       "1419304 2016-06-14 00:50:04+00:00 2016-07-15 07:00:00+00:00\n",
       "1419374 2016-06-12 04:40:03+00:00 2016-07-15 07:00:00+00:00\n",
       "1419443 2016-06-15 13:00:03+00:00 2016-07-15 07:00:00+00:00\n",
       "1419581 2016-01-03 00:50:04+00:00 2016-02-01 08:00:00+00:00\n",
       "\n",
       "[14935 rows x 2 columns]"
      ]
     },
     "execution_count": 35,
     "metadata": {},
     "output_type": "execute_result"
    }
   ],
   "source": [
    "temp_df[['disburse_time', 'planned_expiration_time']]"
   ]
  },
  {
   "cell_type": "code",
   "execution_count": 36,
   "metadata": {
    "ExecuteTime": {
     "end_time": "2020-01-22T09:01:08.479853Z",
     "start_time": "2020-01-22T09:01:08.233789Z"
    }
   },
   "outputs": [],
   "source": [
    "# uso funzione isin per vedere i loan_id che coincidano e cambio df_loan con i nuovi di df_temp corretti\n",
    "df_loans.loc[df_loans.loan_id.isin(temp_df.loan_id), ['disburse_time', 'planned_expiration_time']] = temp_df[['disburse_time','planned_expiration_time']]"
   ]
  },
  {
   "cell_type": "code",
   "execution_count": 37,
   "metadata": {
    "ExecuteTime": {
     "end_time": "2020-01-22T09:01:09.184128Z",
     "start_time": "2020-01-22T09:01:09.161809Z"
    }
   },
   "outputs": [
    {
     "data": {
      "text/html": [
       "<div>\n",
       "<style scoped>\n",
       "    .dataframe tbody tr th:only-of-type {\n",
       "        vertical-align: middle;\n",
       "    }\n",
       "\n",
       "    .dataframe tbody tr th {\n",
       "        vertical-align: top;\n",
       "    }\n",
       "\n",
       "    .dataframe thead th {\n",
       "        text-align: right;\n",
       "    }\n",
       "</style>\n",
       "<table border=\"1\" class=\"dataframe\">\n",
       "  <thead>\n",
       "    <tr style=\"text-align: right;\">\n",
       "      <th></th>\n",
       "      <th>loan_id</th>\n",
       "      <th>loan_name</th>\n",
       "      <th>original_language</th>\n",
       "      <th>description</th>\n",
       "      <th>description_translated</th>\n",
       "      <th>funded_amount</th>\n",
       "      <th>loan_amount</th>\n",
       "      <th>status</th>\n",
       "      <th>activity_name</th>\n",
       "      <th>sector_name</th>\n",
       "      <th>...</th>\n",
       "      <th>raised_time</th>\n",
       "      <th>lender_term</th>\n",
       "      <th>num_lenders_total</th>\n",
       "      <th>num_journal_entries</th>\n",
       "      <th>num_bulk_entries</th>\n",
       "      <th>tags</th>\n",
       "      <th>borrower_genders</th>\n",
       "      <th>borrower_pictured</th>\n",
       "      <th>repayment_interval</th>\n",
       "      <th>distribution_model</th>\n",
       "    </tr>\n",
       "  </thead>\n",
       "  <tbody>\n",
       "  </tbody>\n",
       "</table>\n",
       "<p>0 rows × 31 columns</p>\n",
       "</div>"
      ],
      "text/plain": [
       "Empty DataFrame\n",
       "Columns: [loan_id, loan_name, original_language, description, description_translated, funded_amount, loan_amount, status, activity_name, sector_name, loan_use, country_code, country_name, town_name, currency_policy, currency_exchange_coverage_rate, currency, partner_id, posted_time, planned_expiration_time, disburse_time, raised_time, lender_term, num_lenders_total, num_journal_entries, num_bulk_entries, tags, borrower_genders, borrower_pictured, repayment_interval, distribution_model]\n",
       "Index: []\n",
       "\n",
       "[0 rows x 31 columns]"
      ]
     },
     "execution_count": 37,
     "metadata": {},
     "output_type": "execute_result"
    }
   ],
   "source": [
    "# sono stati invertiti\n",
    "df_loans.loc[df_loans['disburse_time'] > df_loans['planned_expiration_time']]"
   ]
  },
  {
   "cell_type": "code",
   "execution_count": 38,
   "metadata": {
    "ExecuteTime": {
     "end_time": "2020-01-22T09:01:35.562018Z",
     "start_time": "2020-01-22T09:01:35.508572Z"
    }
   },
   "outputs": [
    {
     "data": {
      "text/html": [
       "<div>\n",
       "<style scoped>\n",
       "    .dataframe tbody tr th:only-of-type {\n",
       "        vertical-align: middle;\n",
       "    }\n",
       "\n",
       "    .dataframe tbody tr th {\n",
       "        vertical-align: top;\n",
       "    }\n",
       "\n",
       "    .dataframe thead th {\n",
       "        text-align: right;\n",
       "    }\n",
       "</style>\n",
       "<table border=\"1\" class=\"dataframe\">\n",
       "  <thead>\n",
       "    <tr style=\"text-align: right;\">\n",
       "      <th></th>\n",
       "      <th>loan_id</th>\n",
       "      <th>duration</th>\n",
       "    </tr>\n",
       "  </thead>\n",
       "  <tbody>\n",
       "    <tr>\n",
       "      <th>0</th>\n",
       "      <td>657307</td>\n",
       "      <td>53 days 19:30:06</td>\n",
       "    </tr>\n",
       "    <tr>\n",
       "      <th>1</th>\n",
       "      <td>657259</td>\n",
       "      <td>96 days 14:25:07</td>\n",
       "    </tr>\n",
       "    <tr>\n",
       "      <th>2</th>\n",
       "      <td>658010</td>\n",
       "      <td>37 days 13:10:05</td>\n",
       "    </tr>\n",
       "    <tr>\n",
       "      <th>3</th>\n",
       "      <td>659347</td>\n",
       "      <td>34 days 19:10:02</td>\n",
       "    </tr>\n",
       "    <tr>\n",
       "      <th>4</th>\n",
       "      <td>656933</td>\n",
       "      <td>57 days 22:10:02</td>\n",
       "    </tr>\n",
       "    <tr>\n",
       "      <th>...</th>\n",
       "      <td>...</td>\n",
       "      <td>...</td>\n",
       "    </tr>\n",
       "    <tr>\n",
       "      <th>1419602</th>\n",
       "      <td>988180</td>\n",
       "      <td>39 days 17:00:03</td>\n",
       "    </tr>\n",
       "    <tr>\n",
       "      <th>1419603</th>\n",
       "      <td>988213</td>\n",
       "      <td>39 days 08:40:07</td>\n",
       "    </tr>\n",
       "    <tr>\n",
       "      <th>1419604</th>\n",
       "      <td>989109</td>\n",
       "      <td>51 days 14:20:04</td>\n",
       "    </tr>\n",
       "    <tr>\n",
       "      <th>1419605</th>\n",
       "      <td>989143</td>\n",
       "      <td>63 days 00:50:02</td>\n",
       "    </tr>\n",
       "    <tr>\n",
       "      <th>1419606</th>\n",
       "      <td>989240</td>\n",
       "      <td>61 days 12:50:06</td>\n",
       "    </tr>\n",
       "  </tbody>\n",
       "</table>\n",
       "<p>1419607 rows × 2 columns</p>\n",
       "</div>"
      ],
      "text/plain": [
       "         loan_id         duration\n",
       "0         657307 53 days 19:30:06\n",
       "1         657259 96 days 14:25:07\n",
       "2         658010 37 days 13:10:05\n",
       "3         659347 34 days 19:10:02\n",
       "4         656933 57 days 22:10:02\n",
       "...          ...              ...\n",
       "1419602   988180 39 days 17:00:03\n",
       "1419603   988213 39 days 08:40:07\n",
       "1419604   989109 51 days 14:20:04\n",
       "1419605   989143 63 days 00:50:02\n",
       "1419606   989240 61 days 12:50:06\n",
       "\n",
       "[1419607 rows x 2 columns]"
      ]
     },
     "execution_count": 38,
     "metadata": {},
     "output_type": "execute_result"
    }
   ],
   "source": [
    "# creo una colonna per la duration e faccio differenza, dopo di che mostro il risultato\n",
    "df_loans['duration'] = df_loans['planned_expiration_time'] - df_loans['disburse_time']\n",
    "df_loans[['loan_id','duration']]"
   ]
  },
  {
   "cell_type": "markdown",
   "metadata": {},
   "source": [
    "***"
   ]
  },
  {
   "cell_type": "markdown",
   "metadata": {},
   "source": [
    "## <span style=\"color:red\">3) Find the lenders that have funded at least twice.</span>"
   ]
  },
  {
   "cell_type": "markdown",
   "metadata": {},
   "source": [
    "***"
   ]
  },
  {
   "cell_type": "code",
   "execution_count": 107,
   "metadata": {
    "ExecuteTime": {
     "end_time": "2020-01-22T09:33:33.188691Z",
     "start_time": "2020-01-22T09:33:33.103468Z"
    }
   },
   "outputs": [],
   "source": [
    "temp_df = df_loans[['loan_id', 'status', 'loan_amount']]"
   ]
  },
  {
   "cell_type": "code",
   "execution_count": 108,
   "metadata": {
    "ExecuteTime": {
     "end_time": "2020-01-22T09:34:12.094198Z",
     "start_time": "2020-01-22T09:33:33.269089Z"
    }
   },
   "outputs": [
    {
     "data": {
      "text/html": [
       "<div>\n",
       "<style scoped>\n",
       "    .dataframe tbody tr th:only-of-type {\n",
       "        vertical-align: middle;\n",
       "    }\n",
       "\n",
       "    .dataframe tbody tr th {\n",
       "        vertical-align: top;\n",
       "    }\n",
       "\n",
       "    .dataframe thead th {\n",
       "        text-align: right;\n",
       "    }\n",
       "</style>\n",
       "<table border=\"1\" class=\"dataframe\">\n",
       "  <thead>\n",
       "    <tr style=\"text-align: right;\">\n",
       "      <th></th>\n",
       "      <th>lenders</th>\n",
       "      <th>count</th>\n",
       "    </tr>\n",
       "  </thead>\n",
       "  <tbody>\n",
       "    <tr>\n",
       "      <th>446959</th>\n",
       "      <td>gooddogg1</td>\n",
       "      <td>142349</td>\n",
       "    </tr>\n",
       "    <tr>\n",
       "      <th>1279832</th>\n",
       "      <td>trolltech4460</td>\n",
       "      <td>139191</td>\n",
       "    </tr>\n",
       "    <tr>\n",
       "      <th>446382</th>\n",
       "      <td>gmct</td>\n",
       "      <td>122156</td>\n",
       "    </tr>\n",
       "    <tr>\n",
       "      <th>974460</th>\n",
       "      <td>nms</td>\n",
       "      <td>93283</td>\n",
       "    </tr>\n",
       "    <tr>\n",
       "      <th>1246970</th>\n",
       "      <td>themissionbeltco</td>\n",
       "      <td>70151</td>\n",
       "    </tr>\n",
       "    <tr>\n",
       "      <th>...</th>\n",
       "      <td>...</td>\n",
       "      <td>...</td>\n",
       "    </tr>\n",
       "    <tr>\n",
       "      <th>496054</th>\n",
       "      <td>inger7937</td>\n",
       "      <td>2</td>\n",
       "    </tr>\n",
       "    <tr>\n",
       "      <th>761493</th>\n",
       "      <td>lesley6929</td>\n",
       "      <td>2</td>\n",
       "    </tr>\n",
       "    <tr>\n",
       "      <th>1354829</th>\n",
       "      <td>anna1005</td>\n",
       "      <td>2</td>\n",
       "    </tr>\n",
       "    <tr>\n",
       "      <th>857005</th>\n",
       "      <td>mary2101</td>\n",
       "      <td>2</td>\n",
       "    </tr>\n",
       "    <tr>\n",
       "      <th>666583</th>\n",
       "      <td>karthikeyan6151</td>\n",
       "      <td>2</td>\n",
       "    </tr>\n",
       "  </tbody>\n",
       "</table>\n",
       "<p>993782 rows × 2 columns</p>\n",
       "</div>"
      ],
      "text/plain": [
       "                   lenders   count\n",
       "446959           gooddogg1  142349\n",
       "1279832      trolltech4460  139191\n",
       "446382                gmct  122156\n",
       "974460                 nms   93283\n",
       "1246970   themissionbeltco   70151\n",
       "...                    ...     ...\n",
       "496054           inger7937       2\n",
       "761493          lesley6929       2\n",
       "1354829           anna1005       2\n",
       "857005            mary2101       2\n",
       "666583     karthikeyan6151       2\n",
       "\n",
       "[993782 rows x 2 columns]"
      ]
     },
     "execution_count": 108,
     "metadata": {},
     "output_type": "execute_result"
    }
   ],
   "source": [
    "# trovo df che mi serve per punto 3 in temp_df\n",
    "# trovo df2 che mi da' il totale del lent per i punti successivi\n",
    "temp_df2 = df_lenders_not_normalized.merge(temp_df, how='left', left_on='loan_id', right_on='loan_id')\n",
    "total_lent = temp_df2.loan_amount.sum()\n",
    "temp_df = df_lenders_normalized.merge(temp_df, how='left', left_on='loan_id', right_on='loan_id')\n",
    "\n",
    "temp_df = temp_df.loc[temp_df.status == 'funded']\n",
    "temp_df = temp_df.groupby('lenders').size().reset_index(name='count').sort_values(by='count', ascending=False)\n",
    "\n",
    "temp_df.loc[temp_df['count'] >= 2]"
   ]
  },
  {
   "cell_type": "markdown",
   "metadata": {},
   "source": [
    "***"
   ]
  },
  {
   "cell_type": "markdown",
   "metadata": {},
   "source": [
    "## <span style=\"color:red\">4) For each country, compute how many loans have involved that country as borrowers.</span>\n"
   ]
  },
  {
   "cell_type": "markdown",
   "metadata": {},
   "source": [
    "***"
   ]
  },
  {
   "cell_type": "code",
   "execution_count": 109,
   "metadata": {
    "ExecuteTime": {
     "end_time": "2020-01-22T09:34:12.237353Z",
     "start_time": "2020-01-22T09:34:12.101584Z"
    }
   },
   "outputs": [
    {
     "data": {
      "text/plain": [
       "country_code\n",
       "AF     2337\n",
       "AL     3075\n",
       "AM    13952\n",
       "AZ    10172\n",
       "BA      608\n",
       "      ...  \n",
       "XK     2178\n",
       "YE     4206\n",
       "ZA      633\n",
       "ZM     1277\n",
       "ZW     5513\n",
       "Length: 95, dtype: int64"
      ]
     },
     "execution_count": 109,
     "metadata": {},
     "output_type": "execute_result"
    }
   ],
   "source": [
    "# suppongo che in loans che country_code identifichi le nazionalità delle persone perciò con una groupby posso raggrupparle\n",
    "# e con una size so il numero presente per ogni nazione\n",
    "df_loans.groupby('country_code').size()"
   ]
  },
  {
   "cell_type": "markdown",
   "metadata": {},
   "source": [
    "***"
   ]
  },
  {
   "cell_type": "markdown",
   "metadata": {},
   "source": [
    "## <span style=\"color:red\"> 5) For each country, compute the overall amount of money borrowed.</span>"
   ]
  },
  {
   "cell_type": "markdown",
   "metadata": {},
   "source": [
    "***"
   ]
  },
  {
   "cell_type": "code",
   "execution_count": 110,
   "metadata": {
    "ExecuteTime": {
     "end_time": "2020-01-22T09:34:12.370113Z",
     "start_time": "2020-01-22T09:34:12.242264Z"
    },
    "scrolled": true
   },
   "outputs": [
    {
     "data": {
      "text/plain": [
       "country_code\n",
       "AF     1967950.0\n",
       "AL     4307350.0\n",
       "AM    22950475.0\n",
       "AZ    14784625.0\n",
       "BA      477250.0\n",
       "         ...    \n",
       "XK     3083025.0\n",
       "YE     3444000.0\n",
       "ZA     1006525.0\n",
       "ZM     1978975.0\n",
       "ZW     5851875.0\n",
       "Name: loan_amount, Length: 95, dtype: float64"
      ]
     },
     "execution_count": 110,
     "metadata": {},
     "output_type": "execute_result"
    }
   ],
   "source": [
    "# raggruppo in base allo stato di appartenenza scegliendo di mostrare la colonna loan_amount e sommo i risultati.\n",
    "df_loans.groupby('country_code')['loan_amount'].sum()"
   ]
  },
  {
   "cell_type": "markdown",
   "metadata": {},
   "source": [
    "***"
   ]
  },
  {
   "cell_type": "markdown",
   "metadata": {},
   "source": [
    "## <span style=\"color:red\">6) Like the previous point, but expressed as a percentage of the overall amount lent.</span>"
   ]
  },
  {
   "cell_type": "markdown",
   "metadata": {},
   "source": [
    "***"
   ]
  },
  {
   "cell_type": "code",
   "execution_count": 111,
   "metadata": {
    "ExecuteTime": {
     "end_time": "2020-01-22T09:34:12.548360Z",
     "start_time": "2020-01-22T09:34:12.374139Z"
    },
    "scrolled": true
   },
   "outputs": [
    {
     "data": {
      "text/plain": [
       "country_code\n",
       "AF    0.169150\n",
       "AL    0.370227\n",
       "AM    1.972649\n",
       "AZ    1.270774\n",
       "BA    0.041021\n",
       "        ...   \n",
       "XK    0.264993\n",
       "YE    0.296020\n",
       "ZA    0.086513\n",
       "ZM    0.170098\n",
       "ZW    0.502983\n",
       "Name: loan_amount, Length: 95, dtype: float64"
      ]
     },
     "execution_count": 111,
     "metadata": {},
     "output_type": "execute_result"
    }
   ],
   "source": [
    "# uso il total_lent calcolato in precedenza\n",
    "df_loans.groupby('country_code')['loan_amount'].sum()/total_lent*100"
   ]
  },
  {
   "cell_type": "markdown",
   "metadata": {},
   "source": [
    "***"
   ]
  },
  {
   "cell_type": "markdown",
   "metadata": {},
   "source": [
    "## <span style=\"color:red\">7) Like the three previous points, but split for each year (with respect to disburse time).</span>"
   ]
  },
  {
   "cell_type": "markdown",
   "metadata": {},
   "source": [
    "***"
   ]
  },
  {
   "cell_type": "code",
   "execution_count": 116,
   "metadata": {
    "ExecuteTime": {
     "end_time": "2020-01-22T09:35:09.731452Z",
     "start_time": "2020-01-22T09:35:09.643042Z"
    },
    "scrolled": true
   },
   "outputs": [],
   "source": [
    "temp_df = df_loans[['disburse_time', 'country_code', 'loan_amount']]\n",
    "temp_df.disburse_time = temp_df['disburse_time'].dt.tz_localize(None).dt.year"
   ]
  },
  {
   "cell_type": "code",
   "execution_count": 119,
   "metadata": {
    "ExecuteTime": {
     "end_time": "2020-01-22T09:37:24.852535Z",
     "start_time": "2020-01-22T09:37:24.578549Z"
    }
   },
   "outputs": [
    {
     "data": {
      "text/plain": [
       "country_code  disburse_time\n",
       "AF            2007.0            408\n",
       "              2008.0            370\n",
       "              2009.0            678\n",
       "              2010.0            632\n",
       "              2011.0            247\n",
       "                               ... \n",
       "ZW            2013.0            426\n",
       "              2014.0           2078\n",
       "              2015.0            600\n",
       "              2016.0            808\n",
       "              2017.0           1079\n",
       "Length: 740, dtype: int64"
      ]
     },
     "execution_count": 119,
     "metadata": {},
     "output_type": "execute_result"
    }
   ],
   "source": [
    "# vedo quante persone all'anno punto 4\n",
    "temp_df.groupby(['country_code','disburse_time']).size()"
   ]
  },
  {
   "cell_type": "code",
   "execution_count": 120,
   "metadata": {
    "ExecuteTime": {
     "end_time": "2020-01-22T09:37:40.446365Z",
     "start_time": "2020-01-22T09:37:40.275035Z"
    }
   },
   "outputs": [
    {
     "data": {
      "text/plain": [
       "country_code  disburse_time\n",
       "AF            2007.0            194975.0\n",
       "              2008.0            365375.0\n",
       "              2009.0            585125.0\n",
       "              2010.0            563350.0\n",
       "              2011.0            245125.0\n",
       "                                 ...    \n",
       "ZW            2013.0            678525.0\n",
       "              2014.0           1311575.0\n",
       "              2015.0            723625.0\n",
       "              2016.0            788600.0\n",
       "              2017.0           1237600.0\n",
       "Name: loan_amount, Length: 740, dtype: float64"
      ]
     },
     "execution_count": 120,
     "metadata": {},
     "output_type": "execute_result"
    }
   ],
   "source": [
    "# faccio le somme punto 5\n",
    "temp_df.groupby(['country_code','disburse_time'])['loan_amount'].sum()"
   ]
  },
  {
   "cell_type": "code",
   "execution_count": 122,
   "metadata": {
    "ExecuteTime": {
     "end_time": "2020-01-22T09:37:57.263905Z",
     "start_time": "2020-01-22T09:37:57.118072Z"
    },
    "scrolled": false
   },
   "outputs": [
    {
     "data": {
      "text/plain": [
       "country_code  disburse_time\n",
       "AF            2007.0           0.016759\n",
       "              2008.0           0.031405\n",
       "              2009.0           0.050293\n",
       "              2010.0           0.048421\n",
       "              2011.0           0.021069\n",
       "                                 ...   \n",
       "ZW            2013.0           0.058321\n",
       "              2014.0           0.112733\n",
       "              2015.0           0.062197\n",
       "              2016.0           0.067782\n",
       "              2017.0           0.106375\n",
       "Name: loan_amount, Length: 740, dtype: float64"
      ]
     },
     "execution_count": 122,
     "metadata": {},
     "output_type": "execute_result"
    }
   ],
   "source": [
    "# uso total_lent precedente\n",
    "temp_df.groupby(['country_code', 'disburse_time'])['loan_amount'].sum()/total_lent*100"
   ]
  },
  {
   "cell_type": "markdown",
   "metadata": {},
   "source": [
    "***"
   ]
  },
  {
   "cell_type": "markdown",
   "metadata": {},
   "source": [
    "## <span style=\"color:red\">8) For each lender, compute the overall amount of money lent.</span>"
   ]
  },
  {
   "cell_type": "markdown",
   "metadata": {},
   "source": [
    "***"
   ]
  },
  {
   "cell_type": "code",
   "execution_count": 129,
   "metadata": {
    "ExecuteTime": {
     "end_time": "2020-01-22T09:39:29.209583Z",
     "start_time": "2020-01-22T09:39:20.531959Z"
    }
   },
   "outputs": [],
   "source": [
    "# uso un df temporaneo per immagazzinare la join tra df_lenders_normalized e df_loans con solo i campi loan_id\n",
    "# e loan_amount che usero per i conti successivamente\n",
    "temp_df = df_lenders_normalized.merge(df_loans[['loan_id', 'loan_amount']], how='left', on='loan_id')"
   ]
  },
  {
   "cell_type": "code",
   "execution_count": 130,
   "metadata": {
    "ExecuteTime": {
     "end_time": "2020-01-22T09:39:31.462691Z",
     "start_time": "2020-01-22T09:39:29.214368Z"
    }
   },
   "outputs": [],
   "source": [
    "# salvo in un df temp 2 il raggruppamento secondo count, per contare il numero totale di ogni loan id\n",
    "temp_df2 = temp_df.groupby('loan_id')['lenders'].count().reset_index().rename(columns={\"lenders\": \"tot_num_lender\"})"
   ]
  },
  {
   "cell_type": "code",
   "execution_count": 133,
   "metadata": {
    "ExecuteTime": {
     "end_time": "2020-01-22T09:39:55.988345Z",
     "start_time": "2020-01-22T09:39:46.512239Z"
    }
   },
   "outputs": [],
   "source": [
    "# faccio ultima merge per avere nel mio data set accanto alla colonna di loan id la colonna dei lenders_y\n",
    "# che corrisponde al mio count\n",
    "temp_df = temp_df.merge(temp_df2, how='left', on='loan_id')"
   ]
  },
  {
   "cell_type": "code",
   "execution_count": 134,
   "metadata": {
    "ExecuteTime": {
     "end_time": "2020-01-22T09:39:56.042238Z",
     "start_time": "2020-01-22T09:39:55.997102Z"
    }
   },
   "outputs": [
    {
     "data": {
      "text/html": [
       "<div>\n",
       "<style scoped>\n",
       "    .dataframe tbody tr th:only-of-type {\n",
       "        vertical-align: middle;\n",
       "    }\n",
       "\n",
       "    .dataframe tbody tr th {\n",
       "        vertical-align: top;\n",
       "    }\n",
       "\n",
       "    .dataframe thead th {\n",
       "        text-align: right;\n",
       "    }\n",
       "</style>\n",
       "<table border=\"1\" class=\"dataframe\">\n",
       "  <thead>\n",
       "    <tr style=\"text-align: right;\">\n",
       "      <th></th>\n",
       "      <th>loan_id</th>\n",
       "      <th>lenders</th>\n",
       "      <th>loan_amount</th>\n",
       "      <th>tot_num_lender</th>\n",
       "    </tr>\n",
       "  </thead>\n",
       "  <tbody>\n",
       "    <tr>\n",
       "      <th>0</th>\n",
       "      <td>483693</td>\n",
       "      <td>muc888</td>\n",
       "      <td>1225.0</td>\n",
       "      <td>40</td>\n",
       "    </tr>\n",
       "    <tr>\n",
       "      <th>1</th>\n",
       "      <td>483693</td>\n",
       "      <td>sam4326</td>\n",
       "      <td>1225.0</td>\n",
       "      <td>40</td>\n",
       "    </tr>\n",
       "    <tr>\n",
       "      <th>2</th>\n",
       "      <td>483693</td>\n",
       "      <td>camaran3922</td>\n",
       "      <td>1225.0</td>\n",
       "      <td>40</td>\n",
       "    </tr>\n",
       "    <tr>\n",
       "      <th>3</th>\n",
       "      <td>483693</td>\n",
       "      <td>lachheb1865</td>\n",
       "      <td>1225.0</td>\n",
       "      <td>40</td>\n",
       "    </tr>\n",
       "    <tr>\n",
       "      <th>4</th>\n",
       "      <td>483693</td>\n",
       "      <td>rebecca3499</td>\n",
       "      <td>1225.0</td>\n",
       "      <td>40</td>\n",
       "    </tr>\n",
       "    <tr>\n",
       "      <th>...</th>\n",
       "      <td>...</td>\n",
       "      <td>...</td>\n",
       "      <td>...</td>\n",
       "      <td>...</td>\n",
       "    </tr>\n",
       "    <tr>\n",
       "      <th>28293926</th>\n",
       "      <td>1206425</td>\n",
       "      <td>trogdorfamily7622</td>\n",
       "      <td>325.0</td>\n",
       "      <td>8</td>\n",
       "    </tr>\n",
       "    <tr>\n",
       "      <th>28293927</th>\n",
       "      <td>1206425</td>\n",
       "      <td>danny6470</td>\n",
       "      <td>325.0</td>\n",
       "      <td>8</td>\n",
       "    </tr>\n",
       "    <tr>\n",
       "      <th>28293928</th>\n",
       "      <td>1206425</td>\n",
       "      <td>don6118</td>\n",
       "      <td>325.0</td>\n",
       "      <td>8</td>\n",
       "    </tr>\n",
       "    <tr>\n",
       "      <th>28293929</th>\n",
       "      <td>1206486</td>\n",
       "      <td>alan5175</td>\n",
       "      <td>150.0</td>\n",
       "      <td>2</td>\n",
       "    </tr>\n",
       "    <tr>\n",
       "      <th>28293930</th>\n",
       "      <td>1206486</td>\n",
       "      <td>amy38101311</td>\n",
       "      <td>150.0</td>\n",
       "      <td>2</td>\n",
       "    </tr>\n",
       "  </tbody>\n",
       "</table>\n",
       "<p>28293931 rows × 4 columns</p>\n",
       "</div>"
      ],
      "text/plain": [
       "          loan_id             lenders  loan_amount  tot_num_lender\n",
       "0          483693              muc888       1225.0              40\n",
       "1          483693             sam4326       1225.0              40\n",
       "2          483693         camaran3922       1225.0              40\n",
       "3          483693         lachheb1865       1225.0              40\n",
       "4          483693         rebecca3499       1225.0              40\n",
       "...           ...                 ...          ...             ...\n",
       "28293926  1206425   trogdorfamily7622        325.0               8\n",
       "28293927  1206425           danny6470        325.0               8\n",
       "28293928  1206425             don6118        325.0               8\n",
       "28293929  1206486            alan5175        150.0               2\n",
       "28293930  1206486         amy38101311        150.0               2\n",
       "\n",
       "[28293931 rows x 4 columns]"
      ]
     },
     "execution_count": 134,
     "metadata": {},
     "output_type": "execute_result"
    }
   ],
   "source": [
    "temp_df"
   ]
  },
  {
   "cell_type": "code",
   "execution_count": 135,
   "metadata": {
    "ExecuteTime": {
     "end_time": "2020-01-22T09:40:25.285869Z",
     "start_time": "2020-01-22T09:40:24.981073Z"
    }
   },
   "outputs": [],
   "source": [
    "# creo nuova colonna per segnare le singole quote per ogni loan_id\n",
    "temp_df['single_amount']= temp_df['loan_amount']/temp_df['tot_num_lender']"
   ]
  },
  {
   "cell_type": "code",
   "execution_count": 136,
   "metadata": {
    "ExecuteTime": {
     "end_time": "2020-01-22T09:40:43.399935Z",
     "start_time": "2020-01-22T09:40:26.754182Z"
    },
    "scrolled": true
   },
   "outputs": [
    {
     "data": {
      "text/plain": [
       "lenders\n",
       " 000               1672.618411\n",
       " 00000             1380.693644\n",
       " 0002              2472.563566\n",
       " 00mike00            52.631579\n",
       " 0101craign0101    2623.565117\n",
       "                      ...     \n",
       "zzanita              87.500000\n",
       "zzcyna7269           55.357143\n",
       "zzinnia              38.000000\n",
       "zzmcfate           2287.291955\n",
       "zzrvmf8538          106.417625\n",
       "Name: single_amount, Length: 1639026, dtype: float64"
      ]
     },
     "execution_count": 136,
     "metadata": {},
     "output_type": "execute_result"
    }
   ],
   "source": [
    "# ora raggruppo per ogni lender\n",
    "temp_df.groupby('lenders')['single_amount'].sum()"
   ]
  },
  {
   "cell_type": "markdown",
   "metadata": {},
   "source": [
    "***"
   ]
  },
  {
   "cell_type": "markdown",
   "metadata": {},
   "source": [
    "## <span style='color:red'> 9) For each country, compute the difference between the overall amount of money lent and the overall amount of money borrowed. Since the country of the lender is often unknown, you can assume that the true distribution among the countries is the same as the one computed from the rows where the country is known.</span>"
   ]
  },
  {
   "cell_type": "markdown",
   "metadata": {},
   "source": [
    "***"
   ]
  },
  {
   "cell_type": "markdown",
   "metadata": {},
   "source": [
    "## Problema di fondo che abbiamo trovato che il data set estremamente scarno con molti NULL, perciò dovevamo distribuire i soldi borrowed amolti valori NULL. Personalmento ho optato per la distribuzione del totale loan_amount dei null secondo percentuali di nazionalità ottenute da diverse join con la informazione sicura che avevo cioè i dati dei lenders. "
   ]
  },
  {
   "cell_type": "markdown",
   "metadata": {},
   "source": [
    "***"
   ]
  },
  {
   "cell_type": "code",
   "execution_count": 137,
   "metadata": {
    "ExecuteTime": {
     "end_time": "2020-01-22T09:42:46.773965Z",
     "start_time": "2020-01-22T09:41:26.887292Z"
    }
   },
   "outputs": [],
   "source": [
    "# inizio aggiungendo ai miei dataset anche le informazioni dei lenders_info\n",
    "df_lenders_info = pd.read_csv(dire2)"
   ]
  },
  {
   "cell_type": "code",
   "execution_count": 138,
   "metadata": {
    "ExecuteTime": {
     "end_time": "2020-01-22T09:43:18.362619Z",
     "start_time": "2020-01-22T09:42:46.790780Z"
    }
   },
   "outputs": [],
   "source": [
    "# merge in una temporanea di df_lenders con la normalizzata \n",
    "# per avere loan_id\n",
    "temp_df = df_lenders_info[['permanent_name', 'country_code']].merge(df_lenders_normalized, how='left', left_on='permanent_name', right_on='lenders')"
   ]
  },
  {
   "cell_type": "code",
   "execution_count": 139,
   "metadata": {
    "ExecuteTime": {
     "end_time": "2020-01-22T09:43:19.467137Z",
     "start_time": "2020-01-22T09:43:18.374167Z"
    }
   },
   "outputs": [],
   "source": [
    "# temp_df2 contiene tutte le righe in cui lenders è presente in loan e non ha lenders == null\n",
    "temp_df2 = temp_df.dropna(subset=['lenders'])"
   ]
  },
  {
   "cell_type": "code",
   "execution_count": 140,
   "metadata": {
    "ExecuteTime": {
     "end_time": "2020-01-22T09:43:19.893701Z",
     "start_time": "2020-01-22T09:43:19.473490Z"
    }
   },
   "outputs": [],
   "source": [
    "# contiene tutti i borrowed\n",
    "temp_df3 = temp_df.loc[temp_df.lenders.isna()]"
   ]
  },
  {
   "cell_type": "code",
   "execution_count": 141,
   "metadata": {
    "ExecuteTime": {
     "end_time": "2020-01-22T09:43:19.921009Z",
     "start_time": "2020-01-22T09:43:19.898560Z"
    }
   },
   "outputs": [
    {
     "data": {
      "text/html": [
       "<div>\n",
       "<style scoped>\n",
       "    .dataframe tbody tr th:only-of-type {\n",
       "        vertical-align: middle;\n",
       "    }\n",
       "\n",
       "    .dataframe tbody tr th {\n",
       "        vertical-align: top;\n",
       "    }\n",
       "\n",
       "    .dataframe thead th {\n",
       "        text-align: right;\n",
       "    }\n",
       "</style>\n",
       "<table border=\"1\" class=\"dataframe\">\n",
       "  <thead>\n",
       "    <tr style=\"text-align: right;\">\n",
       "      <th></th>\n",
       "      <th>permanent_name</th>\n",
       "      <th>country_code</th>\n",
       "      <th>loan_id</th>\n",
       "      <th>lenders</th>\n",
       "    </tr>\n",
       "  </thead>\n",
       "  <tbody>\n",
       "    <tr>\n",
       "      <th>0</th>\n",
       "      <td>qian3013</td>\n",
       "      <td>NaN</td>\n",
       "      <td>NaN</td>\n",
       "      <td>NaN</td>\n",
       "    </tr>\n",
       "    <tr>\n",
       "      <th>1</th>\n",
       "      <td>reena6733</td>\n",
       "      <td>NaN</td>\n",
       "      <td>NaN</td>\n",
       "      <td>NaN</td>\n",
       "    </tr>\n",
       "    <tr>\n",
       "      <th>2</th>\n",
       "      <td>mai5982</td>\n",
       "      <td>NaN</td>\n",
       "      <td>NaN</td>\n",
       "      <td>NaN</td>\n",
       "    </tr>\n",
       "    <tr>\n",
       "      <th>3</th>\n",
       "      <td>andrew86079135</td>\n",
       "      <td>NaN</td>\n",
       "      <td>NaN</td>\n",
       "      <td>NaN</td>\n",
       "    </tr>\n",
       "    <tr>\n",
       "      <th>4</th>\n",
       "      <td>nguyen6962</td>\n",
       "      <td>NaN</td>\n",
       "      <td>NaN</td>\n",
       "      <td>NaN</td>\n",
       "    </tr>\n",
       "    <tr>\n",
       "      <th>...</th>\n",
       "      <td>...</td>\n",
       "      <td>...</td>\n",
       "      <td>...</td>\n",
       "      <td>...</td>\n",
       "    </tr>\n",
       "    <tr>\n",
       "      <th>3449032</th>\n",
       "      <td>janet7309</td>\n",
       "      <td>NaN</td>\n",
       "      <td>NaN</td>\n",
       "      <td>NaN</td>\n",
       "    </tr>\n",
       "    <tr>\n",
       "      <th>3449033</th>\n",
       "      <td>pj4198</td>\n",
       "      <td>NaN</td>\n",
       "      <td>NaN</td>\n",
       "      <td>NaN</td>\n",
       "    </tr>\n",
       "    <tr>\n",
       "      <th>3449034</th>\n",
       "      <td>maria2141</td>\n",
       "      <td>US</td>\n",
       "      <td>NaN</td>\n",
       "      <td>NaN</td>\n",
       "    </tr>\n",
       "    <tr>\n",
       "      <th>3449035</th>\n",
       "      <td>simone9846</td>\n",
       "      <td>NaN</td>\n",
       "      <td>NaN</td>\n",
       "      <td>NaN</td>\n",
       "    </tr>\n",
       "    <tr>\n",
       "      <th>3449036</th>\n",
       "      <td>laurie1160</td>\n",
       "      <td>US</td>\n",
       "      <td>NaN</td>\n",
       "      <td>NaN</td>\n",
       "    </tr>\n",
       "  </tbody>\n",
       "</table>\n",
       "<p>2061605 rows × 4 columns</p>\n",
       "</div>"
      ],
      "text/plain": [
       "         permanent_name country_code  loan_id lenders\n",
       "0              qian3013          NaN      NaN     NaN\n",
       "1             reena6733          NaN      NaN     NaN\n",
       "2               mai5982          NaN      NaN     NaN\n",
       "3        andrew86079135          NaN      NaN     NaN\n",
       "4            nguyen6962          NaN      NaN     NaN\n",
       "...                 ...          ...      ...     ...\n",
       "3449032       janet7309          NaN      NaN     NaN\n",
       "3449033          pj4198          NaN      NaN     NaN\n",
       "3449034       maria2141           US      NaN     NaN\n",
       "3449035      simone9846          NaN      NaN     NaN\n",
       "3449036      laurie1160           US      NaN     NaN\n",
       "\n",
       "[2061605 rows x 4 columns]"
      ]
     },
     "execution_count": 141,
     "metadata": {},
     "output_type": "execute_result"
    }
   ],
   "source": [
    "# analizzando il temp df 3 mi accorgo che ho qualche country code ma non ho nessun loan amount\n",
    "# per tanto decido di non eseguire altri compiti su questo subdf\n",
    "temp_df3"
   ]
  },
  {
   "cell_type": "code",
   "execution_count": 142,
   "metadata": {
    "ExecuteTime": {
     "end_time": "2020-01-22T09:43:19.940263Z",
     "start_time": "2020-01-22T09:43:19.923355Z"
    }
   },
   "outputs": [
    {
     "data": {
      "text/html": [
       "<div>\n",
       "<style scoped>\n",
       "    .dataframe tbody tr th:only-of-type {\n",
       "        vertical-align: middle;\n",
       "    }\n",
       "\n",
       "    .dataframe tbody tr th {\n",
       "        vertical-align: top;\n",
       "    }\n",
       "\n",
       "    .dataframe thead th {\n",
       "        text-align: right;\n",
       "    }\n",
       "</style>\n",
       "<table border=\"1\" class=\"dataframe\">\n",
       "  <thead>\n",
       "    <tr style=\"text-align: right;\">\n",
       "      <th></th>\n",
       "      <th>permanent_name</th>\n",
       "      <th>country_code</th>\n",
       "      <th>loan_id</th>\n",
       "      <th>lenders</th>\n",
       "    </tr>\n",
       "  </thead>\n",
       "  <tbody>\n",
       "    <tr>\n",
       "      <th>16</th>\n",
       "      <td>naresh2074</td>\n",
       "      <td>US</td>\n",
       "      <td>1059280.0</td>\n",
       "      <td>naresh2074</td>\n",
       "    </tr>\n",
       "    <tr>\n",
       "      <th>17</th>\n",
       "      <td>naresh2074</td>\n",
       "      <td>US</td>\n",
       "      <td>1055468.0</td>\n",
       "      <td>naresh2074</td>\n",
       "    </tr>\n",
       "    <tr>\n",
       "      <th>48</th>\n",
       "      <td>jinxian2217</td>\n",
       "      <td>NaN</td>\n",
       "      <td>1292306.0</td>\n",
       "      <td>jinxian2217</td>\n",
       "    </tr>\n",
       "    <tr>\n",
       "      <th>49</th>\n",
       "      <td>sreedevi9583</td>\n",
       "      <td>NaN</td>\n",
       "      <td>1052062.0</td>\n",
       "      <td>sreedevi9583</td>\n",
       "    </tr>\n",
       "    <tr>\n",
       "      <th>52</th>\n",
       "      <td>nicole98153893</td>\n",
       "      <td>NaN</td>\n",
       "      <td>1137907.0</td>\n",
       "      <td>nicole98153893</td>\n",
       "    </tr>\n",
       "    <tr>\n",
       "      <th>...</th>\n",
       "      <td>...</td>\n",
       "      <td>...</td>\n",
       "      <td>...</td>\n",
       "      <td>...</td>\n",
       "    </tr>\n",
       "    <tr>\n",
       "      <th>3449014</th>\n",
       "      <td>bonnie9739</td>\n",
       "      <td>US</td>\n",
       "      <td>810311.0</td>\n",
       "      <td>bonnie9739</td>\n",
       "    </tr>\n",
       "    <tr>\n",
       "      <th>3449015</th>\n",
       "      <td>bonnie9739</td>\n",
       "      <td>US</td>\n",
       "      <td>846429.0</td>\n",
       "      <td>bonnie9739</td>\n",
       "    </tr>\n",
       "    <tr>\n",
       "      <th>3449016</th>\n",
       "      <td>bonnie9739</td>\n",
       "      <td>US</td>\n",
       "      <td>809520.0</td>\n",
       "      <td>bonnie9739</td>\n",
       "    </tr>\n",
       "    <tr>\n",
       "      <th>3449018</th>\n",
       "      <td>cody7091</td>\n",
       "      <td>US</td>\n",
       "      <td>441719.0</td>\n",
       "      <td>cody7091</td>\n",
       "    </tr>\n",
       "    <tr>\n",
       "      <th>3449021</th>\n",
       "      <td>rakhi</td>\n",
       "      <td>US</td>\n",
       "      <td>742334.0</td>\n",
       "      <td>rakhi</td>\n",
       "    </tr>\n",
       "  </tbody>\n",
       "</table>\n",
       "<p>1387432 rows × 4 columns</p>\n",
       "</div>"
      ],
      "text/plain": [
       "         permanent_name country_code    loan_id         lenders\n",
       "16           naresh2074           US  1059280.0      naresh2074\n",
       "17           naresh2074           US  1055468.0      naresh2074\n",
       "48          jinxian2217          NaN  1292306.0     jinxian2217\n",
       "49         sreedevi9583          NaN  1052062.0    sreedevi9583\n",
       "52       nicole98153893          NaN  1137907.0  nicole98153893\n",
       "...                 ...          ...        ...             ...\n",
       "3449014      bonnie9739           US   810311.0      bonnie9739\n",
       "3449015      bonnie9739           US   846429.0      bonnie9739\n",
       "3449016      bonnie9739           US   809520.0      bonnie9739\n",
       "3449018        cody7091           US   441719.0        cody7091\n",
       "3449021           rakhi           US   742334.0           rakhi\n",
       "\n",
       "[1387432 rows x 4 columns]"
      ]
     },
     "execution_count": 142,
     "metadata": {},
     "output_type": "execute_result"
    }
   ],
   "source": [
    "temp_df2"
   ]
  },
  {
   "cell_type": "code",
   "execution_count": 143,
   "metadata": {
    "ExecuteTime": {
     "end_time": "2020-01-22T09:43:21.676175Z",
     "start_time": "2020-01-22T09:43:19.943132Z"
    }
   },
   "outputs": [],
   "source": [
    "# aggiungiamo anche la colonna loan_amount per avere un totale dei lenders/loan/country ( potrebbero esserci dei NULL)\n",
    "temp_df2=temp_df2.merge(df_loans[['loan_id', 'loan_amount']],how='left',on='loan_id')"
   ]
  },
  {
   "cell_type": "code",
   "execution_count": 144,
   "metadata": {
    "ExecuteTime": {
     "end_time": "2020-01-22T09:43:22.343921Z",
     "start_time": "2020-01-22T09:43:21.679694Z"
    },
    "scrolled": true
   },
   "outputs": [
    {
     "name": "stdout",
     "output_type": "stream",
     "text": [
      "<class 'pandas.core.frame.DataFrame'>\n",
      "Int64Index: 1387432 entries, 0 to 1387431\n",
      "Data columns (total 5 columns):\n",
      "permanent_name    1387432 non-null object\n",
      "country_code      1097763 non-null object\n",
      "loan_id           1387432 non-null float64\n",
      "lenders           1387432 non-null object\n",
      "loan_amount       1387428 non-null float64\n",
      "dtypes: float64(2), object(3)\n",
      "memory usage: 63.5+ MB\n"
     ]
    }
   ],
   "source": [
    "temp_df2.info()"
   ]
  },
  {
   "cell_type": "code",
   "execution_count": 145,
   "metadata": {
    "ExecuteTime": {
     "end_time": "2020-01-22T09:46:37.862958Z",
     "start_time": "2020-01-22T09:46:37.809515Z"
    }
   },
   "outputs": [],
   "source": [
    "# metto i null a 0 di loan amount che sono 4\n",
    "temp_df2['loan_amount'] = temp_df2['loan_amount'].fillna(0)"
   ]
  },
  {
   "cell_type": "code",
   "execution_count": 146,
   "metadata": {
    "ExecuteTime": {
     "end_time": "2020-01-22T09:46:40.293638Z",
     "start_time": "2020-01-22T09:46:38.284659Z"
    }
   },
   "outputs": [],
   "source": [
    "# inizio controllando quelli con country valore che esiste, perdo quasi 3000000 righe\n",
    "df_lenders_loans_country = temp_df2.dropna(subset=['country_code'])"
   ]
  },
  {
   "cell_type": "code",
   "execution_count": 147,
   "metadata": {
    "ExecuteTime": {
     "end_time": "2020-01-22T09:46:40.427679Z",
     "start_time": "2020-01-22T09:46:40.297785Z"
    }
   },
   "outputs": [],
   "source": [
    "df_lenders_loans_country = df_lenders_loans_country.groupby('country_code')['loan_amount'].sum()"
   ]
  },
  {
   "cell_type": "code",
   "execution_count": 148,
   "metadata": {
    "ExecuteTime": {
     "end_time": "2020-01-22T09:46:40.439663Z",
     "start_time": "2020-01-22T09:46:40.431509Z"
    }
   },
   "outputs": [],
   "source": [
    "total_lent = df_lenders_loans_country.sum()"
   ]
  },
  {
   "cell_type": "code",
   "execution_count": 149,
   "metadata": {
    "ExecuteTime": {
     "end_time": "2020-01-22T09:46:40.459635Z",
     "start_time": "2020-01-22T09:46:40.447734Z"
    }
   },
   "outputs": [],
   "source": [
    "df_lenders_loans_country = df_lenders_loans_country.reset_index()"
   ]
  },
  {
   "cell_type": "code",
   "execution_count": 150,
   "metadata": {
    "ExecuteTime": {
     "end_time": "2020-01-22T09:46:40.474108Z",
     "start_time": "2020-01-22T09:46:40.462694Z"
    }
   },
   "outputs": [],
   "source": [
    "# cosi facendo ho percentuale del totale per ogni country che è il punto che mi serve\n",
    "df_lenders_loans_country['percentage'] = round(df_lenders_loans_country['loan_amount']/total_lent,10)"
   ]
  },
  {
   "cell_type": "code",
   "execution_count": 151,
   "metadata": {
    "ExecuteTime": {
     "end_time": "2020-01-22T09:46:40.506904Z",
     "start_time": "2020-01-22T09:46:40.478424Z"
    }
   },
   "outputs": [
    {
     "data": {
      "text/html": [
       "<div>\n",
       "<style scoped>\n",
       "    .dataframe tbody tr th:only-of-type {\n",
       "        vertical-align: middle;\n",
       "    }\n",
       "\n",
       "    .dataframe tbody tr th {\n",
       "        vertical-align: top;\n",
       "    }\n",
       "\n",
       "    .dataframe thead th {\n",
       "        text-align: right;\n",
       "    }\n",
       "</style>\n",
       "<table border=\"1\" class=\"dataframe\">\n",
       "  <thead>\n",
       "    <tr style=\"text-align: right;\">\n",
       "      <th></th>\n",
       "      <th>country_code</th>\n",
       "      <th>loan_amount</th>\n",
       "      <th>percentage</th>\n",
       "    </tr>\n",
       "  </thead>\n",
       "  <tbody>\n",
       "    <tr>\n",
       "      <th>0</th>\n",
       "      <td>AD</td>\n",
       "      <td>1200.0</td>\n",
       "      <td>0.000001</td>\n",
       "    </tr>\n",
       "    <tr>\n",
       "      <th>1</th>\n",
       "      <td>AE</td>\n",
       "      <td>1760225.0</td>\n",
       "      <td>0.001930</td>\n",
       "    </tr>\n",
       "    <tr>\n",
       "      <th>2</th>\n",
       "      <td>AF</td>\n",
       "      <td>68075.0</td>\n",
       "      <td>0.000075</td>\n",
       "    </tr>\n",
       "    <tr>\n",
       "      <th>3</th>\n",
       "      <td>AL</td>\n",
       "      <td>16650.0</td>\n",
       "      <td>0.000018</td>\n",
       "    </tr>\n",
       "    <tr>\n",
       "      <th>4</th>\n",
       "      <td>AM</td>\n",
       "      <td>23575.0</td>\n",
       "      <td>0.000026</td>\n",
       "    </tr>\n",
       "    <tr>\n",
       "      <th>...</th>\n",
       "      <td>...</td>\n",
       "      <td>...</td>\n",
       "      <td>...</td>\n",
       "    </tr>\n",
       "    <tr>\n",
       "      <th>190</th>\n",
       "      <td>WF</td>\n",
       "      <td>2100.0</td>\n",
       "      <td>0.000002</td>\n",
       "    </tr>\n",
       "    <tr>\n",
       "      <th>191</th>\n",
       "      <td>XK</td>\n",
       "      <td>3750.0</td>\n",
       "      <td>0.000004</td>\n",
       "    </tr>\n",
       "    <tr>\n",
       "      <th>192</th>\n",
       "      <td>YE</td>\n",
       "      <td>15175.0</td>\n",
       "      <td>0.000017</td>\n",
       "    </tr>\n",
       "    <tr>\n",
       "      <th>193</th>\n",
       "      <td>ZA</td>\n",
       "      <td>509075.0</td>\n",
       "      <td>0.000558</td>\n",
       "    </tr>\n",
       "    <tr>\n",
       "      <th>194</th>\n",
       "      <td>ZM</td>\n",
       "      <td>11325.0</td>\n",
       "      <td>0.000012</td>\n",
       "    </tr>\n",
       "  </tbody>\n",
       "</table>\n",
       "<p>195 rows × 3 columns</p>\n",
       "</div>"
      ],
      "text/plain": [
       "    country_code  loan_amount  percentage\n",
       "0             AD       1200.0    0.000001\n",
       "1             AE    1760225.0    0.001930\n",
       "2             AF      68075.0    0.000075\n",
       "3             AL      16650.0    0.000018\n",
       "4             AM      23575.0    0.000026\n",
       "..           ...          ...         ...\n",
       "190           WF       2100.0    0.000002\n",
       "191           XK       3750.0    0.000004\n",
       "192           YE      15175.0    0.000017\n",
       "193           ZA     509075.0    0.000558\n",
       "194           ZM      11325.0    0.000012\n",
       "\n",
       "[195 rows x 3 columns]"
      ]
     },
     "execution_count": 151,
     "metadata": {},
     "output_type": "execute_result"
    }
   ],
   "source": [
    "df_lenders_loans_country"
   ]
  },
  {
   "cell_type": "code",
   "execution_count": 152,
   "metadata": {
    "ExecuteTime": {
     "end_time": "2020-01-22T09:46:40.787192Z",
     "start_time": "2020-01-22T09:46:40.508485Z"
    }
   },
   "outputs": [],
   "source": [
    "temp_df2 = temp_df2.loc[temp_df2.country_code.isna()]"
   ]
  },
  {
   "cell_type": "code",
   "execution_count": 153,
   "metadata": {
    "ExecuteTime": {
     "end_time": "2020-01-22T09:46:40.835444Z",
     "start_time": "2020-01-22T09:46:40.802451Z"
    }
   },
   "outputs": [
    {
     "data": {
      "text/html": [
       "<div>\n",
       "<style scoped>\n",
       "    .dataframe tbody tr th:only-of-type {\n",
       "        vertical-align: middle;\n",
       "    }\n",
       "\n",
       "    .dataframe tbody tr th {\n",
       "        vertical-align: top;\n",
       "    }\n",
       "\n",
       "    .dataframe thead th {\n",
       "        text-align: right;\n",
       "    }\n",
       "</style>\n",
       "<table border=\"1\" class=\"dataframe\">\n",
       "  <thead>\n",
       "    <tr style=\"text-align: right;\">\n",
       "      <th></th>\n",
       "      <th>permanent_name</th>\n",
       "      <th>country_code</th>\n",
       "      <th>loan_id</th>\n",
       "      <th>lenders</th>\n",
       "      <th>loan_amount</th>\n",
       "    </tr>\n",
       "  </thead>\n",
       "  <tbody>\n",
       "    <tr>\n",
       "      <th>2</th>\n",
       "      <td>jinxian2217</td>\n",
       "      <td>NaN</td>\n",
       "      <td>1292306.0</td>\n",
       "      <td>jinxian2217</td>\n",
       "      <td>1400.0</td>\n",
       "    </tr>\n",
       "    <tr>\n",
       "      <th>3</th>\n",
       "      <td>sreedevi9583</td>\n",
       "      <td>NaN</td>\n",
       "      <td>1052062.0</td>\n",
       "      <td>sreedevi9583</td>\n",
       "      <td>650.0</td>\n",
       "    </tr>\n",
       "    <tr>\n",
       "      <th>4</th>\n",
       "      <td>nicole98153893</td>\n",
       "      <td>NaN</td>\n",
       "      <td>1137907.0</td>\n",
       "      <td>nicole98153893</td>\n",
       "      <td>200.0</td>\n",
       "    </tr>\n",
       "    <tr>\n",
       "      <th>6</th>\n",
       "      <td>haitang3172</td>\n",
       "      <td>NaN</td>\n",
       "      <td>1291625.0</td>\n",
       "      <td>haitang3172</td>\n",
       "      <td>300.0</td>\n",
       "    </tr>\n",
       "    <tr>\n",
       "      <th>7</th>\n",
       "      <td>jishi5401</td>\n",
       "      <td>NaN</td>\n",
       "      <td>1060071.0</td>\n",
       "      <td>jishi5401</td>\n",
       "      <td>400.0</td>\n",
       "    </tr>\n",
       "    <tr>\n",
       "      <th>...</th>\n",
       "      <td>...</td>\n",
       "      <td>...</td>\n",
       "      <td>...</td>\n",
       "      <td>...</td>\n",
       "      <td>...</td>\n",
       "    </tr>\n",
       "    <tr>\n",
       "      <th>1387388</th>\n",
       "      <td>tricia9236</td>\n",
       "      <td>NaN</td>\n",
       "      <td>699175.0</td>\n",
       "      <td>tricia9236</td>\n",
       "      <td>1450.0</td>\n",
       "    </tr>\n",
       "    <tr>\n",
       "      <th>1387396</th>\n",
       "      <td>marwan8219</td>\n",
       "      <td>NaN</td>\n",
       "      <td>735870.0</td>\n",
       "      <td>marwan8219</td>\n",
       "      <td>475.0</td>\n",
       "    </tr>\n",
       "    <tr>\n",
       "      <th>1387399</th>\n",
       "      <td>eric9768</td>\n",
       "      <td>NaN</td>\n",
       "      <td>898756.0</td>\n",
       "      <td>eric9768</td>\n",
       "      <td>225.0</td>\n",
       "    </tr>\n",
       "    <tr>\n",
       "      <th>1387405</th>\n",
       "      <td>nicole1492</td>\n",
       "      <td>NaN</td>\n",
       "      <td>485083.0</td>\n",
       "      <td>nicole1492</td>\n",
       "      <td>500.0</td>\n",
       "    </tr>\n",
       "    <tr>\n",
       "      <th>1387406</th>\n",
       "      <td>scott2350</td>\n",
       "      <td>NaN</td>\n",
       "      <td>1023557.0</td>\n",
       "      <td>scott2350</td>\n",
       "      <td>800.0</td>\n",
       "    </tr>\n",
       "  </tbody>\n",
       "</table>\n",
       "<p>289669 rows × 5 columns</p>\n",
       "</div>"
      ],
      "text/plain": [
       "         permanent_name country_code    loan_id         lenders  loan_amount\n",
       "2           jinxian2217          NaN  1292306.0     jinxian2217       1400.0\n",
       "3          sreedevi9583          NaN  1052062.0    sreedevi9583        650.0\n",
       "4        nicole98153893          NaN  1137907.0  nicole98153893        200.0\n",
       "6           haitang3172          NaN  1291625.0     haitang3172        300.0\n",
       "7             jishi5401          NaN  1060071.0       jishi5401        400.0\n",
       "...                 ...          ...        ...             ...          ...\n",
       "1387388      tricia9236          NaN   699175.0      tricia9236       1450.0\n",
       "1387396      marwan8219          NaN   735870.0      marwan8219        475.0\n",
       "1387399        eric9768          NaN   898756.0        eric9768        225.0\n",
       "1387405      nicole1492          NaN   485083.0      nicole1492        500.0\n",
       "1387406       scott2350          NaN  1023557.0       scott2350        800.0\n",
       "\n",
       "[289669 rows x 5 columns]"
      ]
     },
     "execution_count": 153,
     "metadata": {},
     "output_type": "execute_result"
    }
   ],
   "source": [
    "temp_df2"
   ]
  },
  {
   "cell_type": "code",
   "execution_count": 154,
   "metadata": {
    "ExecuteTime": {
     "end_time": "2020-01-22T09:46:40.850058Z",
     "start_time": "2020-01-22T09:46:40.840108Z"
    }
   },
   "outputs": [],
   "source": [
    "total_amount = temp_df2.loan_amount.sum()"
   ]
  },
  {
   "cell_type": "code",
   "execution_count": 155,
   "metadata": {
    "ExecuteTime": {
     "end_time": "2020-01-22T09:46:40.859472Z",
     "start_time": "2020-01-22T09:46:40.852945Z"
    }
   },
   "outputs": [
    {
     "data": {
      "text/plain": [
       "251447675.0"
      ]
     },
     "execution_count": 155,
     "metadata": {},
     "output_type": "execute_result"
    }
   ],
   "source": [
    "total_amount"
   ]
  },
  {
   "cell_type": "code",
   "execution_count": 156,
   "metadata": {
    "ExecuteTime": {
     "end_time": "2020-01-22T09:46:40.873415Z",
     "start_time": "2020-01-22T09:46:40.862055Z"
    }
   },
   "outputs": [],
   "source": [
    "# li moltiplico per la percentuale dei country che conosco lenders e poi li sommo con i precedenti\n",
    "x = total_amount * df_lenders_loans_country.percentage\n",
    "\n",
    "df_lenders_loans_country['total_lenders_amount_with_no_country'] = x"
   ]
  },
  {
   "cell_type": "code",
   "execution_count": 157,
   "metadata": {
    "ExecuteTime": {
     "end_time": "2020-01-22T09:46:40.880888Z",
     "start_time": "2020-01-22T09:46:40.875833Z"
    }
   },
   "outputs": [],
   "source": [
    "df_lenders_loans_country['total_lent'] = df_lenders_loans_country.loan_amount + df_lenders_loans_country.total_lenders_amount_with_no_country"
   ]
  },
  {
   "cell_type": "code",
   "execution_count": 158,
   "metadata": {
    "ExecuteTime": {
     "end_time": "2020-01-22T09:46:40.926927Z",
     "start_time": "2020-01-22T09:46:40.882730Z"
    }
   },
   "outputs": [
    {
     "data": {
      "text/html": [
       "<div>\n",
       "<style scoped>\n",
       "    .dataframe tbody tr th:only-of-type {\n",
       "        vertical-align: middle;\n",
       "    }\n",
       "\n",
       "    .dataframe tbody tr th {\n",
       "        vertical-align: top;\n",
       "    }\n",
       "\n",
       "    .dataframe thead th {\n",
       "        text-align: right;\n",
       "    }\n",
       "</style>\n",
       "<table border=\"1\" class=\"dataframe\">\n",
       "  <thead>\n",
       "    <tr style=\"text-align: right;\">\n",
       "      <th></th>\n",
       "      <th>country_code</th>\n",
       "      <th>loan_amount</th>\n",
       "      <th>percentage</th>\n",
       "      <th>total_lenders_amount_with_no_country</th>\n",
       "      <th>total_lent</th>\n",
       "    </tr>\n",
       "  </thead>\n",
       "  <tbody>\n",
       "    <tr>\n",
       "      <th>0</th>\n",
       "      <td>AD</td>\n",
       "      <td>1200.0</td>\n",
       "      <td>0.000001</td>\n",
       "      <td>330.854851</td>\n",
       "      <td>1.530855e+03</td>\n",
       "    </tr>\n",
       "    <tr>\n",
       "      <th>1</th>\n",
       "      <td>AE</td>\n",
       "      <td>1760225.0</td>\n",
       "      <td>0.001930</td>\n",
       "      <td>485319.006649</td>\n",
       "      <td>2.245544e+06</td>\n",
       "    </tr>\n",
       "    <tr>\n",
       "      <th>2</th>\n",
       "      <td>AF</td>\n",
       "      <td>68075.0</td>\n",
       "      <td>0.000075</td>\n",
       "      <td>18769.236266</td>\n",
       "      <td>8.684424e+04</td>\n",
       "    </tr>\n",
       "    <tr>\n",
       "      <th>3</th>\n",
       "      <td>AL</td>\n",
       "      <td>16650.0</td>\n",
       "      <td>0.000018</td>\n",
       "      <td>4590.629913</td>\n",
       "      <td>2.124063e+04</td>\n",
       "    </tr>\n",
       "    <tr>\n",
       "      <th>4</th>\n",
       "      <td>AM</td>\n",
       "      <td>23575.0</td>\n",
       "      <td>0.000026</td>\n",
       "      <td>6499.972688</td>\n",
       "      <td>3.007497e+04</td>\n",
       "    </tr>\n",
       "    <tr>\n",
       "      <th>...</th>\n",
       "      <td>...</td>\n",
       "      <td>...</td>\n",
       "      <td>...</td>\n",
       "      <td>...</td>\n",
       "      <td>...</td>\n",
       "    </tr>\n",
       "    <tr>\n",
       "      <th>190</th>\n",
       "      <td>WF</td>\n",
       "      <td>2100.0</td>\n",
       "      <td>0.000002</td>\n",
       "      <td>579.008561</td>\n",
       "      <td>2.679009e+03</td>\n",
       "    </tr>\n",
       "    <tr>\n",
       "      <th>191</th>\n",
       "      <td>XK</td>\n",
       "      <td>3750.0</td>\n",
       "      <td>0.000004</td>\n",
       "      <td>1033.927695</td>\n",
       "      <td>4.783928e+03</td>\n",
       "    </tr>\n",
       "    <tr>\n",
       "      <th>192</th>\n",
       "      <td>YE</td>\n",
       "      <td>15175.0</td>\n",
       "      <td>0.000017</td>\n",
       "      <td>4183.963588</td>\n",
       "      <td>1.935896e+04</td>\n",
       "    </tr>\n",
       "    <tr>\n",
       "      <th>193</th>\n",
       "      <td>ZA</td>\n",
       "      <td>509075.0</td>\n",
       "      <td>0.000558</td>\n",
       "      <td>140359.198555</td>\n",
       "      <td>6.494342e+05</td>\n",
       "    </tr>\n",
       "    <tr>\n",
       "      <th>194</th>\n",
       "      <td>ZM</td>\n",
       "      <td>11325.0</td>\n",
       "      <td>0.000012</td>\n",
       "      <td>3122.452083</td>\n",
       "      <td>1.444745e+04</td>\n",
       "    </tr>\n",
       "  </tbody>\n",
       "</table>\n",
       "<p>195 rows × 5 columns</p>\n",
       "</div>"
      ],
      "text/plain": [
       "    country_code  loan_amount  percentage  \\\n",
       "0             AD       1200.0    0.000001   \n",
       "1             AE    1760225.0    0.001930   \n",
       "2             AF      68075.0    0.000075   \n",
       "3             AL      16650.0    0.000018   \n",
       "4             AM      23575.0    0.000026   \n",
       "..           ...          ...         ...   \n",
       "190           WF       2100.0    0.000002   \n",
       "191           XK       3750.0    0.000004   \n",
       "192           YE      15175.0    0.000017   \n",
       "193           ZA     509075.0    0.000558   \n",
       "194           ZM      11325.0    0.000012   \n",
       "\n",
       "     total_lenders_amount_with_no_country    total_lent  \n",
       "0                              330.854851  1.530855e+03  \n",
       "1                           485319.006649  2.245544e+06  \n",
       "2                            18769.236266  8.684424e+04  \n",
       "3                             4590.629913  2.124063e+04  \n",
       "4                             6499.972688  3.007497e+04  \n",
       "..                                    ...           ...  \n",
       "190                            579.008561  2.679009e+03  \n",
       "191                           1033.927695  4.783928e+03  \n",
       "192                           4183.963588  1.935896e+04  \n",
       "193                         140359.198555  6.494342e+05  \n",
       "194                           3122.452083  1.444745e+04  \n",
       "\n",
       "[195 rows x 5 columns]"
      ]
     },
     "execution_count": 158,
     "metadata": {},
     "output_type": "execute_result"
    }
   ],
   "source": [
    "df_lenders_loans_country"
   ]
  },
  {
   "cell_type": "code",
   "execution_count": 159,
   "metadata": {
    "ExecuteTime": {
     "end_time": "2020-01-22T09:47:13.016913Z",
     "start_time": "2020-01-22T09:46:40.931724Z"
    }
   },
   "outputs": [
    {
     "name": "stdout",
     "output_type": "stream",
     "text": [
      "Empty DataFrame\n",
      "Columns: [loan_id, loan_name, original_language, description, description_translated, funded_amount, loan_amount, status, activity_name, sector_name, loan_use, country_code, country_name, town_name, currency_policy, currency_exchange_coverage_rate, currency, partner_id, posted_time, planned_expiration_time, disburse_time, raised_time, lender_term, num_lenders_total, num_journal_entries, num_bulk_entries, tags, borrower_genders, borrower_pictured, repayment_interval, distribution_model, duration]\n",
      "Index: []\n",
      "\n",
      "[0 rows x 32 columns]\n"
     ]
    }
   ],
   "source": [
    "# no duplicates\n",
    "a = df_loans[df_loans.duplicated()]\n",
    "print(a)"
   ]
  },
  {
   "cell_type": "code",
   "execution_count": 160,
   "metadata": {
    "ExecuteTime": {
     "end_time": "2020-01-22T09:47:23.662497Z",
     "start_time": "2020-01-22T09:47:13.023760Z"
    }
   },
   "outputs": [],
   "source": [
    "temp_df = df_loans.groupby('country_code')['loan_amount'].sum()"
   ]
  },
  {
   "cell_type": "code",
   "execution_count": 161,
   "metadata": {
    "ExecuteTime": {
     "end_time": "2020-01-22T09:47:23.716671Z",
     "start_time": "2020-01-22T09:47:23.680753Z"
    }
   },
   "outputs": [],
   "source": [
    "temp_df = temp_df.reset_index()"
   ]
  },
  {
   "cell_type": "code",
   "execution_count": 162,
   "metadata": {
    "ExecuteTime": {
     "end_time": "2020-01-22T09:47:23.755053Z",
     "start_time": "2020-01-22T09:47:23.727327Z"
    }
   },
   "outputs": [
    {
     "data": {
      "text/html": [
       "<div>\n",
       "<style scoped>\n",
       "    .dataframe tbody tr th:only-of-type {\n",
       "        vertical-align: middle;\n",
       "    }\n",
       "\n",
       "    .dataframe tbody tr th {\n",
       "        vertical-align: top;\n",
       "    }\n",
       "\n",
       "    .dataframe thead th {\n",
       "        text-align: right;\n",
       "    }\n",
       "</style>\n",
       "<table border=\"1\" class=\"dataframe\">\n",
       "  <thead>\n",
       "    <tr style=\"text-align: right;\">\n",
       "      <th></th>\n",
       "      <th>country_code</th>\n",
       "      <th>loan_amount</th>\n",
       "    </tr>\n",
       "  </thead>\n",
       "  <tbody>\n",
       "    <tr>\n",
       "      <th>0</th>\n",
       "      <td>AF</td>\n",
       "      <td>1967950.0</td>\n",
       "    </tr>\n",
       "    <tr>\n",
       "      <th>1</th>\n",
       "      <td>AL</td>\n",
       "      <td>4307350.0</td>\n",
       "    </tr>\n",
       "    <tr>\n",
       "      <th>2</th>\n",
       "      <td>AM</td>\n",
       "      <td>22950475.0</td>\n",
       "    </tr>\n",
       "    <tr>\n",
       "      <th>3</th>\n",
       "      <td>AZ</td>\n",
       "      <td>14784625.0</td>\n",
       "    </tr>\n",
       "    <tr>\n",
       "      <th>4</th>\n",
       "      <td>BA</td>\n",
       "      <td>477250.0</td>\n",
       "    </tr>\n",
       "    <tr>\n",
       "      <th>...</th>\n",
       "      <td>...</td>\n",
       "      <td>...</td>\n",
       "    </tr>\n",
       "    <tr>\n",
       "      <th>90</th>\n",
       "      <td>XK</td>\n",
       "      <td>3083025.0</td>\n",
       "    </tr>\n",
       "    <tr>\n",
       "      <th>91</th>\n",
       "      <td>YE</td>\n",
       "      <td>3444000.0</td>\n",
       "    </tr>\n",
       "    <tr>\n",
       "      <th>92</th>\n",
       "      <td>ZA</td>\n",
       "      <td>1006525.0</td>\n",
       "    </tr>\n",
       "    <tr>\n",
       "      <th>93</th>\n",
       "      <td>ZM</td>\n",
       "      <td>1978975.0</td>\n",
       "    </tr>\n",
       "    <tr>\n",
       "      <th>94</th>\n",
       "      <td>ZW</td>\n",
       "      <td>5851875.0</td>\n",
       "    </tr>\n",
       "  </tbody>\n",
       "</table>\n",
       "<p>95 rows × 2 columns</p>\n",
       "</div>"
      ],
      "text/plain": [
       "   country_code  loan_amount\n",
       "0            AF    1967950.0\n",
       "1            AL    4307350.0\n",
       "2            AM   22950475.0\n",
       "3            AZ   14784625.0\n",
       "4            BA     477250.0\n",
       "..          ...          ...\n",
       "90           XK    3083025.0\n",
       "91           YE    3444000.0\n",
       "92           ZA    1006525.0\n",
       "93           ZM    1978975.0\n",
       "94           ZW    5851875.0\n",
       "\n",
       "[95 rows x 2 columns]"
      ]
     },
     "execution_count": 162,
     "metadata": {},
     "output_type": "execute_result"
    }
   ],
   "source": [
    "temp_df"
   ]
  },
  {
   "cell_type": "code",
   "execution_count": 163,
   "metadata": {
    "ExecuteTime": {
     "end_time": "2020-01-22T09:47:23.763176Z",
     "start_time": "2020-01-22T09:47:23.756993Z"
    }
   },
   "outputs": [],
   "source": [
    "del df_lenders_loans_country['total_lenders_amount_with_no_country']"
   ]
  },
  {
   "cell_type": "code",
   "execution_count": 164,
   "metadata": {
    "ExecuteTime": {
     "end_time": "2020-01-22T09:47:23.785711Z",
     "start_time": "2020-01-22T09:47:23.764877Z"
    }
   },
   "outputs": [],
   "source": [
    "df_lenders_loans_country = df_lenders_loans_country.merge(temp_df,how='left', on='country_code')"
   ]
  },
  {
   "cell_type": "code",
   "execution_count": 165,
   "metadata": {
    "ExecuteTime": {
     "end_time": "2020-01-22T09:47:23.805937Z",
     "start_time": "2020-01-22T09:47:23.789635Z"
    }
   },
   "outputs": [
    {
     "data": {
      "text/html": [
       "<div>\n",
       "<style scoped>\n",
       "    .dataframe tbody tr th:only-of-type {\n",
       "        vertical-align: middle;\n",
       "    }\n",
       "\n",
       "    .dataframe tbody tr th {\n",
       "        vertical-align: top;\n",
       "    }\n",
       "\n",
       "    .dataframe thead th {\n",
       "        text-align: right;\n",
       "    }\n",
       "</style>\n",
       "<table border=\"1\" class=\"dataframe\">\n",
       "  <thead>\n",
       "    <tr style=\"text-align: right;\">\n",
       "      <th></th>\n",
       "      <th>country_code</th>\n",
       "      <th>loan_amount_x</th>\n",
       "      <th>percentage</th>\n",
       "      <th>total_lent</th>\n",
       "      <th>loan_amount_y</th>\n",
       "    </tr>\n",
       "  </thead>\n",
       "  <tbody>\n",
       "    <tr>\n",
       "      <th>0</th>\n",
       "      <td>AD</td>\n",
       "      <td>1200.0</td>\n",
       "      <td>0.000001</td>\n",
       "      <td>1.530855e+03</td>\n",
       "      <td>NaN</td>\n",
       "    </tr>\n",
       "    <tr>\n",
       "      <th>1</th>\n",
       "      <td>AE</td>\n",
       "      <td>1760225.0</td>\n",
       "      <td>0.001930</td>\n",
       "      <td>2.245544e+06</td>\n",
       "      <td>NaN</td>\n",
       "    </tr>\n",
       "    <tr>\n",
       "      <th>2</th>\n",
       "      <td>AF</td>\n",
       "      <td>68075.0</td>\n",
       "      <td>0.000075</td>\n",
       "      <td>8.684424e+04</td>\n",
       "      <td>1967950.0</td>\n",
       "    </tr>\n",
       "    <tr>\n",
       "      <th>3</th>\n",
       "      <td>AL</td>\n",
       "      <td>16650.0</td>\n",
       "      <td>0.000018</td>\n",
       "      <td>2.124063e+04</td>\n",
       "      <td>4307350.0</td>\n",
       "    </tr>\n",
       "    <tr>\n",
       "      <th>4</th>\n",
       "      <td>AM</td>\n",
       "      <td>23575.0</td>\n",
       "      <td>0.000026</td>\n",
       "      <td>3.007497e+04</td>\n",
       "      <td>22950475.0</td>\n",
       "    </tr>\n",
       "    <tr>\n",
       "      <th>...</th>\n",
       "      <td>...</td>\n",
       "      <td>...</td>\n",
       "      <td>...</td>\n",
       "      <td>...</td>\n",
       "      <td>...</td>\n",
       "    </tr>\n",
       "    <tr>\n",
       "      <th>190</th>\n",
       "      <td>WF</td>\n",
       "      <td>2100.0</td>\n",
       "      <td>0.000002</td>\n",
       "      <td>2.679009e+03</td>\n",
       "      <td>NaN</td>\n",
       "    </tr>\n",
       "    <tr>\n",
       "      <th>191</th>\n",
       "      <td>XK</td>\n",
       "      <td>3750.0</td>\n",
       "      <td>0.000004</td>\n",
       "      <td>4.783928e+03</td>\n",
       "      <td>3083025.0</td>\n",
       "    </tr>\n",
       "    <tr>\n",
       "      <th>192</th>\n",
       "      <td>YE</td>\n",
       "      <td>15175.0</td>\n",
       "      <td>0.000017</td>\n",
       "      <td>1.935896e+04</td>\n",
       "      <td>3444000.0</td>\n",
       "    </tr>\n",
       "    <tr>\n",
       "      <th>193</th>\n",
       "      <td>ZA</td>\n",
       "      <td>509075.0</td>\n",
       "      <td>0.000558</td>\n",
       "      <td>6.494342e+05</td>\n",
       "      <td>1006525.0</td>\n",
       "    </tr>\n",
       "    <tr>\n",
       "      <th>194</th>\n",
       "      <td>ZM</td>\n",
       "      <td>11325.0</td>\n",
       "      <td>0.000012</td>\n",
       "      <td>1.444745e+04</td>\n",
       "      <td>1978975.0</td>\n",
       "    </tr>\n",
       "  </tbody>\n",
       "</table>\n",
       "<p>195 rows × 5 columns</p>\n",
       "</div>"
      ],
      "text/plain": [
       "    country_code  loan_amount_x  percentage    total_lent  loan_amount_y\n",
       "0             AD         1200.0    0.000001  1.530855e+03            NaN\n",
       "1             AE      1760225.0    0.001930  2.245544e+06            NaN\n",
       "2             AF        68075.0    0.000075  8.684424e+04      1967950.0\n",
       "3             AL        16650.0    0.000018  2.124063e+04      4307350.0\n",
       "4             AM        23575.0    0.000026  3.007497e+04     22950475.0\n",
       "..           ...            ...         ...           ...            ...\n",
       "190           WF         2100.0    0.000002  2.679009e+03            NaN\n",
       "191           XK         3750.0    0.000004  4.783928e+03      3083025.0\n",
       "192           YE        15175.0    0.000017  1.935896e+04      3444000.0\n",
       "193           ZA       509075.0    0.000558  6.494342e+05      1006525.0\n",
       "194           ZM        11325.0    0.000012  1.444745e+04      1978975.0\n",
       "\n",
       "[195 rows x 5 columns]"
      ]
     },
     "execution_count": 165,
     "metadata": {},
     "output_type": "execute_result"
    }
   ],
   "source": [
    "df_lenders_loans_country"
   ]
  },
  {
   "cell_type": "code",
   "execution_count": 166,
   "metadata": {
    "ExecuteTime": {
     "end_time": "2020-01-22T09:47:23.812570Z",
     "start_time": "2020-01-22T09:47:23.807934Z"
    }
   },
   "outputs": [],
   "source": [
    "df_lenders_loans_country.loan_amount_y = df_lenders_loans_country.loan_amount_y.fillna(0)"
   ]
  },
  {
   "cell_type": "code",
   "execution_count": 167,
   "metadata": {
    "ExecuteTime": {
     "end_time": "2020-01-22T09:47:23.821285Z",
     "start_time": "2020-01-22T09:47:23.814580Z"
    }
   },
   "outputs": [],
   "source": [
    "df_lenders_loans_country['lent_borrowed'] = df_lenders_loans_country.total_lent - df_lenders_loans_country.loan_amount_y"
   ]
  },
  {
   "cell_type": "code",
   "execution_count": 168,
   "metadata": {
    "ExecuteTime": {
     "end_time": "2020-01-22T09:47:23.849479Z",
     "start_time": "2020-01-22T09:47:23.834734Z"
    }
   },
   "outputs": [
    {
     "data": {
      "text/html": [
       "<div>\n",
       "<style scoped>\n",
       "    .dataframe tbody tr th:only-of-type {\n",
       "        vertical-align: middle;\n",
       "    }\n",
       "\n",
       "    .dataframe tbody tr th {\n",
       "        vertical-align: top;\n",
       "    }\n",
       "\n",
       "    .dataframe thead th {\n",
       "        text-align: right;\n",
       "    }\n",
       "</style>\n",
       "<table border=\"1\" class=\"dataframe\">\n",
       "  <thead>\n",
       "    <tr style=\"text-align: right;\">\n",
       "      <th></th>\n",
       "      <th>country_code</th>\n",
       "      <th>loan_amount_x</th>\n",
       "      <th>percentage</th>\n",
       "      <th>total_lent</th>\n",
       "      <th>loan_amount_y</th>\n",
       "      <th>lent_borrowed</th>\n",
       "    </tr>\n",
       "  </thead>\n",
       "  <tbody>\n",
       "    <tr>\n",
       "      <th>0</th>\n",
       "      <td>AD</td>\n",
       "      <td>1200.0</td>\n",
       "      <td>0.000001</td>\n",
       "      <td>1.530855e+03</td>\n",
       "      <td>0.0</td>\n",
       "      <td>1.530855e+03</td>\n",
       "    </tr>\n",
       "    <tr>\n",
       "      <th>1</th>\n",
       "      <td>AE</td>\n",
       "      <td>1760225.0</td>\n",
       "      <td>0.001930</td>\n",
       "      <td>2.245544e+06</td>\n",
       "      <td>0.0</td>\n",
       "      <td>2.245544e+06</td>\n",
       "    </tr>\n",
       "    <tr>\n",
       "      <th>2</th>\n",
       "      <td>AF</td>\n",
       "      <td>68075.0</td>\n",
       "      <td>0.000075</td>\n",
       "      <td>8.684424e+04</td>\n",
       "      <td>1967950.0</td>\n",
       "      <td>-1.881106e+06</td>\n",
       "    </tr>\n",
       "    <tr>\n",
       "      <th>3</th>\n",
       "      <td>AL</td>\n",
       "      <td>16650.0</td>\n",
       "      <td>0.000018</td>\n",
       "      <td>2.124063e+04</td>\n",
       "      <td>4307350.0</td>\n",
       "      <td>-4.286109e+06</td>\n",
       "    </tr>\n",
       "    <tr>\n",
       "      <th>4</th>\n",
       "      <td>AM</td>\n",
       "      <td>23575.0</td>\n",
       "      <td>0.000026</td>\n",
       "      <td>3.007497e+04</td>\n",
       "      <td>22950475.0</td>\n",
       "      <td>-2.292040e+07</td>\n",
       "    </tr>\n",
       "    <tr>\n",
       "      <th>...</th>\n",
       "      <td>...</td>\n",
       "      <td>...</td>\n",
       "      <td>...</td>\n",
       "      <td>...</td>\n",
       "      <td>...</td>\n",
       "      <td>...</td>\n",
       "    </tr>\n",
       "    <tr>\n",
       "      <th>190</th>\n",
       "      <td>WF</td>\n",
       "      <td>2100.0</td>\n",
       "      <td>0.000002</td>\n",
       "      <td>2.679009e+03</td>\n",
       "      <td>0.0</td>\n",
       "      <td>2.679009e+03</td>\n",
       "    </tr>\n",
       "    <tr>\n",
       "      <th>191</th>\n",
       "      <td>XK</td>\n",
       "      <td>3750.0</td>\n",
       "      <td>0.000004</td>\n",
       "      <td>4.783928e+03</td>\n",
       "      <td>3083025.0</td>\n",
       "      <td>-3.078241e+06</td>\n",
       "    </tr>\n",
       "    <tr>\n",
       "      <th>192</th>\n",
       "      <td>YE</td>\n",
       "      <td>15175.0</td>\n",
       "      <td>0.000017</td>\n",
       "      <td>1.935896e+04</td>\n",
       "      <td>3444000.0</td>\n",
       "      <td>-3.424641e+06</td>\n",
       "    </tr>\n",
       "    <tr>\n",
       "      <th>193</th>\n",
       "      <td>ZA</td>\n",
       "      <td>509075.0</td>\n",
       "      <td>0.000558</td>\n",
       "      <td>6.494342e+05</td>\n",
       "      <td>1006525.0</td>\n",
       "      <td>-3.570908e+05</td>\n",
       "    </tr>\n",
       "    <tr>\n",
       "      <th>194</th>\n",
       "      <td>ZM</td>\n",
       "      <td>11325.0</td>\n",
       "      <td>0.000012</td>\n",
       "      <td>1.444745e+04</td>\n",
       "      <td>1978975.0</td>\n",
       "      <td>-1.964528e+06</td>\n",
       "    </tr>\n",
       "  </tbody>\n",
       "</table>\n",
       "<p>195 rows × 6 columns</p>\n",
       "</div>"
      ],
      "text/plain": [
       "    country_code  loan_amount_x  percentage    total_lent  loan_amount_y  \\\n",
       "0             AD         1200.0    0.000001  1.530855e+03            0.0   \n",
       "1             AE      1760225.0    0.001930  2.245544e+06            0.0   \n",
       "2             AF        68075.0    0.000075  8.684424e+04      1967950.0   \n",
       "3             AL        16650.0    0.000018  2.124063e+04      4307350.0   \n",
       "4             AM        23575.0    0.000026  3.007497e+04     22950475.0   \n",
       "..           ...            ...         ...           ...            ...   \n",
       "190           WF         2100.0    0.000002  2.679009e+03            0.0   \n",
       "191           XK         3750.0    0.000004  4.783928e+03      3083025.0   \n",
       "192           YE        15175.0    0.000017  1.935896e+04      3444000.0   \n",
       "193           ZA       509075.0    0.000558  6.494342e+05      1006525.0   \n",
       "194           ZM        11325.0    0.000012  1.444745e+04      1978975.0   \n",
       "\n",
       "     lent_borrowed  \n",
       "0     1.530855e+03  \n",
       "1     2.245544e+06  \n",
       "2    -1.881106e+06  \n",
       "3    -4.286109e+06  \n",
       "4    -2.292040e+07  \n",
       "..             ...  \n",
       "190   2.679009e+03  \n",
       "191  -3.078241e+06  \n",
       "192  -3.424641e+06  \n",
       "193  -3.570908e+05  \n",
       "194  -1.964528e+06  \n",
       "\n",
       "[195 rows x 6 columns]"
      ]
     },
     "execution_count": 168,
     "metadata": {},
     "output_type": "execute_result"
    }
   ],
   "source": [
    "df_lenders_loans_country"
   ]
  },
  {
   "cell_type": "markdown",
   "metadata": {},
   "source": [
    "***"
   ]
  },
  {
   "cell_type": "markdown",
   "metadata": {},
   "source": [
    "## <span style='color:red'>10) Which country has the highest ratio between the difference computed at the previous point and the population?</span>"
   ]
  },
  {
   "cell_type": "markdown",
   "metadata": {},
   "source": [
    "***"
   ]
  },
  {
   "cell_type": "code",
   "execution_count": 169,
   "metadata": {
    "ExecuteTime": {
     "end_time": "2020-01-22T09:47:24.272994Z",
     "start_time": "2020-01-22T09:47:23.853614Z"
    }
   },
   "outputs": [],
   "source": [
    "# importo data set che necessito\n",
    "df_country_stat = pd.read_csv(dire3)"
   ]
  },
  {
   "cell_type": "code",
   "execution_count": 170,
   "metadata": {
    "ExecuteTime": {
     "end_time": "2020-01-22T09:47:24.293716Z",
     "start_time": "2020-01-22T09:47:24.279172Z"
    }
   },
   "outputs": [],
   "source": [
    "temp_df = df_country_stat.groupby('country_code')['population'].sum()"
   ]
  },
  {
   "cell_type": "code",
   "execution_count": 171,
   "metadata": {
    "ExecuteTime": {
     "end_time": "2020-01-22T09:47:24.301166Z",
     "start_time": "2020-01-22T09:47:24.296204Z"
    }
   },
   "outputs": [],
   "source": [
    "temp_df = temp_df.reset_index()"
   ]
  },
  {
   "cell_type": "code",
   "execution_count": 172,
   "metadata": {
    "ExecuteTime": {
     "end_time": "2020-01-22T09:47:24.311856Z",
     "start_time": "2020-01-22T09:47:24.303291Z"
    }
   },
   "outputs": [],
   "source": [
    "df_lenders_loans_country = df_lenders_loans_country.merge(temp_df,how='left', on='country_code')"
   ]
  },
  {
   "cell_type": "code",
   "execution_count": 173,
   "metadata": {
    "ExecuteTime": {
     "end_time": "2020-01-22T09:47:24.344219Z",
     "start_time": "2020-01-22T09:47:24.313560Z"
    }
   },
   "outputs": [],
   "source": [
    "# se ho popolazione nan metto il primo quartile\n",
    "first_quantile = df_lenders_loans_country.population.quantile(0.25)\n",
    "df_lenders_loans_country.population = df_lenders_loans_country.population.fillna(first_quantile)"
   ]
  },
  {
   "cell_type": "code",
   "execution_count": 174,
   "metadata": {
    "ExecuteTime": {
     "end_time": "2020-01-22T09:47:24.368155Z",
     "start_time": "2020-01-22T09:47:24.345930Z"
    }
   },
   "outputs": [
    {
     "data": {
      "text/html": [
       "<div>\n",
       "<style scoped>\n",
       "    .dataframe tbody tr th:only-of-type {\n",
       "        vertical-align: middle;\n",
       "    }\n",
       "\n",
       "    .dataframe tbody tr th {\n",
       "        vertical-align: top;\n",
       "    }\n",
       "\n",
       "    .dataframe thead th {\n",
       "        text-align: right;\n",
       "    }\n",
       "</style>\n",
       "<table border=\"1\" class=\"dataframe\">\n",
       "  <thead>\n",
       "    <tr style=\"text-align: right;\">\n",
       "      <th></th>\n",
       "      <th>country_code</th>\n",
       "      <th>loan_amount_x</th>\n",
       "      <th>percentage</th>\n",
       "      <th>total_lent</th>\n",
       "      <th>loan_amount_y</th>\n",
       "      <th>lent_borrowed</th>\n",
       "      <th>population</th>\n",
       "    </tr>\n",
       "  </thead>\n",
       "  <tbody>\n",
       "    <tr>\n",
       "      <th>0</th>\n",
       "      <td>AD</td>\n",
       "      <td>1200.0</td>\n",
       "      <td>0.000001</td>\n",
       "      <td>1.530855e+03</td>\n",
       "      <td>0.0</td>\n",
       "      <td>1.530855e+03</td>\n",
       "      <td>4301080.25</td>\n",
       "    </tr>\n",
       "    <tr>\n",
       "      <th>1</th>\n",
       "      <td>AE</td>\n",
       "      <td>1760225.0</td>\n",
       "      <td>0.001930</td>\n",
       "      <td>2.245544e+06</td>\n",
       "      <td>0.0</td>\n",
       "      <td>2.245544e+06</td>\n",
       "      <td>9400145.00</td>\n",
       "    </tr>\n",
       "    <tr>\n",
       "      <th>2</th>\n",
       "      <td>AF</td>\n",
       "      <td>68075.0</td>\n",
       "      <td>0.000075</td>\n",
       "      <td>8.684424e+04</td>\n",
       "      <td>1967950.0</td>\n",
       "      <td>-1.881106e+06</td>\n",
       "      <td>35530081.00</td>\n",
       "    </tr>\n",
       "    <tr>\n",
       "      <th>3</th>\n",
       "      <td>AL</td>\n",
       "      <td>16650.0</td>\n",
       "      <td>0.000018</td>\n",
       "      <td>2.124063e+04</td>\n",
       "      <td>4307350.0</td>\n",
       "      <td>-4.286109e+06</td>\n",
       "      <td>2930187.00</td>\n",
       "    </tr>\n",
       "    <tr>\n",
       "      <th>4</th>\n",
       "      <td>AM</td>\n",
       "      <td>23575.0</td>\n",
       "      <td>0.000026</td>\n",
       "      <td>3.007497e+04</td>\n",
       "      <td>22950475.0</td>\n",
       "      <td>-2.292040e+07</td>\n",
       "      <td>2930450.00</td>\n",
       "    </tr>\n",
       "    <tr>\n",
       "      <th>...</th>\n",
       "      <td>...</td>\n",
       "      <td>...</td>\n",
       "      <td>...</td>\n",
       "      <td>...</td>\n",
       "      <td>...</td>\n",
       "      <td>...</td>\n",
       "      <td>...</td>\n",
       "    </tr>\n",
       "    <tr>\n",
       "      <th>190</th>\n",
       "      <td>WF</td>\n",
       "      <td>2100.0</td>\n",
       "      <td>0.000002</td>\n",
       "      <td>2.679009e+03</td>\n",
       "      <td>0.0</td>\n",
       "      <td>2.679009e+03</td>\n",
       "      <td>4301080.25</td>\n",
       "    </tr>\n",
       "    <tr>\n",
       "      <th>191</th>\n",
       "      <td>XK</td>\n",
       "      <td>3750.0</td>\n",
       "      <td>0.000004</td>\n",
       "      <td>4.783928e+03</td>\n",
       "      <td>3083025.0</td>\n",
       "      <td>-3.078241e+06</td>\n",
       "      <td>1895250.00</td>\n",
       "    </tr>\n",
       "    <tr>\n",
       "      <th>192</th>\n",
       "      <td>YE</td>\n",
       "      <td>15175.0</td>\n",
       "      <td>0.000017</td>\n",
       "      <td>1.935896e+04</td>\n",
       "      <td>3444000.0</td>\n",
       "      <td>-3.424641e+06</td>\n",
       "      <td>28250420.00</td>\n",
       "    </tr>\n",
       "    <tr>\n",
       "      <th>193</th>\n",
       "      <td>ZA</td>\n",
       "      <td>509075.0</td>\n",
       "      <td>0.000558</td>\n",
       "      <td>6.494342e+05</td>\n",
       "      <td>1006525.0</td>\n",
       "      <td>-3.570908e+05</td>\n",
       "      <td>56717156.00</td>\n",
       "    </tr>\n",
       "    <tr>\n",
       "      <th>194</th>\n",
       "      <td>ZM</td>\n",
       "      <td>11325.0</td>\n",
       "      <td>0.000012</td>\n",
       "      <td>1.444745e+04</td>\n",
       "      <td>1978975.0</td>\n",
       "      <td>-1.964528e+06</td>\n",
       "      <td>17094130.00</td>\n",
       "    </tr>\n",
       "  </tbody>\n",
       "</table>\n",
       "<p>195 rows × 7 columns</p>\n",
       "</div>"
      ],
      "text/plain": [
       "    country_code  loan_amount_x  percentage    total_lent  loan_amount_y  \\\n",
       "0             AD         1200.0    0.000001  1.530855e+03            0.0   \n",
       "1             AE      1760225.0    0.001930  2.245544e+06            0.0   \n",
       "2             AF        68075.0    0.000075  8.684424e+04      1967950.0   \n",
       "3             AL        16650.0    0.000018  2.124063e+04      4307350.0   \n",
       "4             AM        23575.0    0.000026  3.007497e+04     22950475.0   \n",
       "..           ...            ...         ...           ...            ...   \n",
       "190           WF         2100.0    0.000002  2.679009e+03            0.0   \n",
       "191           XK         3750.0    0.000004  4.783928e+03      3083025.0   \n",
       "192           YE        15175.0    0.000017  1.935896e+04      3444000.0   \n",
       "193           ZA       509075.0    0.000558  6.494342e+05      1006525.0   \n",
       "194           ZM        11325.0    0.000012  1.444745e+04      1978975.0   \n",
       "\n",
       "     lent_borrowed   population  \n",
       "0     1.530855e+03   4301080.25  \n",
       "1     2.245544e+06   9400145.00  \n",
       "2    -1.881106e+06  35530081.00  \n",
       "3    -4.286109e+06   2930187.00  \n",
       "4    -2.292040e+07   2930450.00  \n",
       "..             ...          ...  \n",
       "190   2.679009e+03   4301080.25  \n",
       "191  -3.078241e+06   1895250.00  \n",
       "192  -3.424641e+06  28250420.00  \n",
       "193  -3.570908e+05  56717156.00  \n",
       "194  -1.964528e+06  17094130.00  \n",
       "\n",
       "[195 rows x 7 columns]"
      ]
     },
     "execution_count": 174,
     "metadata": {},
     "output_type": "execute_result"
    }
   ],
   "source": [
    "df_lenders_loans_country"
   ]
  },
  {
   "cell_type": "code",
   "execution_count": 175,
   "metadata": {
    "ExecuteTime": {
     "end_time": "2020-01-22T09:47:24.379050Z",
     "start_time": "2020-01-22T09:47:24.369822Z"
    }
   },
   "outputs": [],
   "source": [
    "#calcolo percentuale su i lent-borrowed e la popolazione, successivamente trovo l'idmax per la percentuale che mi dice essere CANADA\n",
    "df_lenders_loans_country['percentage'] = round(df_lenders_loans_country['lent_borrowed']/df_lenders_loans_country['population']*100, 2)\n",
    "#temp_df3=temp_df3.reset_index()"
   ]
  },
  {
   "cell_type": "code",
   "execution_count": 176,
   "metadata": {
    "ExecuteTime": {
     "end_time": "2020-01-22T09:47:24.394505Z",
     "start_time": "2020-01-22T09:47:24.381756Z"
    },
    "scrolled": false
   },
   "outputs": [],
   "source": [
    "max_ratio = df_lenders_loans_country.loc[df_lenders_loans_country['percentage'].idxmax()]\n",
    "min_ratio = df_lenders_loans_country.loc[df_lenders_loans_country['percentage'].idxmin()]"
   ]
  },
  {
   "cell_type": "code",
   "execution_count": 177,
   "metadata": {
    "ExecuteTime": {
     "end_time": "2020-01-22T09:47:24.401996Z",
     "start_time": "2020-01-22T09:47:24.396510Z"
    }
   },
   "outputs": [
    {
     "name": "stdout",
     "output_type": "stream",
     "text": [
      "country_code              NO\n",
      "loan_amount_x    1.31226e+07\n",
      "percentage            315.54\n",
      "total_lent       1.67407e+07\n",
      "loan_amount_y              0\n",
      "lent_borrowed    1.67407e+07\n",
      "population       5.30538e+06\n",
      "Name: 132, dtype: object \n",
      " country_code              PY\n",
      "loan_amount_x          20750\n",
      "percentage           -791.89\n",
      "total_lent           26471.1\n",
      "loan_amount_y    5.39647e+07\n",
      "lent_borrowed   -5.39382e+07\n",
      "population        6.8113e+06\n",
      "Name: 145, dtype: object\n"
     ]
    }
   ],
   "source": [
    "print(max_ratio,'\\n',min_ratio)"
   ]
  },
  {
   "cell_type": "markdown",
   "metadata": {},
   "source": [
    "***"
   ]
  },
  {
   "cell_type": "markdown",
   "metadata": {},
   "source": [
    "## <span style='color:red'>11) Which country has the highest ratio between the difference computed at point 9 and the population that is not below the poverty line?</span>"
   ]
  },
  {
   "cell_type": "markdown",
   "metadata": {},
   "source": [
    "***"
   ]
  },
  {
   "cell_type": "code",
   "execution_count": 178,
   "metadata": {
    "ExecuteTime": {
     "end_time": "2020-01-22T09:47:24.418518Z",
     "start_time": "2020-01-22T09:47:24.404518Z"
    }
   },
   "outputs": [],
   "source": [
    "temp_df2 = df_country_stat.groupby('country_code')[['country_code','population','population_below_poverty_line']].head(175)"
   ]
  },
  {
   "cell_type": "code",
   "execution_count": 179,
   "metadata": {
    "ExecuteTime": {
     "end_time": "2020-01-22T09:47:24.424601Z",
     "start_time": "2020-01-22T09:47:24.421066Z"
    }
   },
   "outputs": [],
   "source": [
    "temp_df2['population_below_poverty_line'] = temp_df2['population_below_poverty_line']/100"
   ]
  },
  {
   "cell_type": "code",
   "execution_count": 180,
   "metadata": {
    "ExecuteTime": {
     "end_time": "2020-01-22T09:47:24.432148Z",
     "start_time": "2020-01-22T09:47:24.426706Z"
    },
    "scrolled": true
   },
   "outputs": [],
   "source": [
    "temp_df2.country_code = temp_df2.country_code.fillna('NA')"
   ]
  },
  {
   "cell_type": "code",
   "execution_count": 181,
   "metadata": {
    "ExecuteTime": {
     "end_time": "2020-01-22T09:47:24.443139Z",
     "start_time": "2020-01-22T09:47:24.434841Z"
    },
    "scrolled": true
   },
   "outputs": [
    {
     "name": "stdout",
     "output_type": "stream",
     "text": [
      "<class 'pandas.core.frame.DataFrame'>\n",
      "Int64Index: 174 entries, 0 to 173\n",
      "Data columns (total 3 columns):\n",
      "country_code                     174 non-null object\n",
      "population                       174 non-null int64\n",
      "population_below_poverty_line    152 non-null float64\n",
      "dtypes: float64(1), int64(1), object(1)\n",
      "memory usage: 5.4+ KB\n"
     ]
    }
   ],
   "source": [
    "temp_df2.info()"
   ]
  },
  {
   "cell_type": "code",
   "execution_count": 182,
   "metadata": {
    "ExecuteTime": {
     "end_time": "2020-01-22T09:47:24.454817Z",
     "start_time": "2020-01-22T09:47:24.445003Z"
    },
    "scrolled": true
   },
   "outputs": [],
   "source": [
    "mean = temp_df2.population_below_poverty_line.mean()\n",
    "temp_df2.population_below_poverty_line = temp_df2.population_below_poverty_line.fillna(mean)"
   ]
  },
  {
   "cell_type": "code",
   "execution_count": 183,
   "metadata": {
    "ExecuteTime": {
     "end_time": "2020-01-22T09:47:24.460773Z",
     "start_time": "2020-01-22T09:47:24.457021Z"
    }
   },
   "outputs": [],
   "source": [
    "temp_df2['population_below_poverty_line'] = temp_df2['population'] - (temp_df2['population_below_poverty_line']*temp_df2['population'])"
   ]
  },
  {
   "cell_type": "code",
   "execution_count": 184,
   "metadata": {
    "ExecuteTime": {
     "end_time": "2020-01-22T09:47:24.496043Z",
     "start_time": "2020-01-22T09:47:24.462400Z"
    }
   },
   "outputs": [],
   "source": [
    "temp_df2 = temp_df2.merge(df_lenders_loans_country[['country_code', 'lent_borrowed']], left_on='country_code', right_on='country_code')"
   ]
  },
  {
   "cell_type": "code",
   "execution_count": 185,
   "metadata": {
    "ExecuteTime": {
     "end_time": "2020-01-22T09:47:24.503888Z",
     "start_time": "2020-01-22T09:47:24.498914Z"
    }
   },
   "outputs": [],
   "source": [
    "mean = temp_df2.lent_borrowed.mean()\n",
    "temp_df2.lent_borrowed = temp_df2.lent_borrowed.fillna(mean)"
   ]
  },
  {
   "cell_type": "code",
   "execution_count": 186,
   "metadata": {
    "ExecuteTime": {
     "end_time": "2020-01-22T09:47:24.511341Z",
     "start_time": "2020-01-22T09:47:24.505986Z"
    }
   },
   "outputs": [],
   "source": [
    "temp_df2['percentage_poverty'] = round(temp_df2['lent_borrowed']/temp_df2['population_below_poverty_line']*100, 2)"
   ]
  },
  {
   "cell_type": "code",
   "execution_count": 187,
   "metadata": {
    "ExecuteTime": {
     "end_time": "2020-01-22T09:47:24.519760Z",
     "start_time": "2020-01-22T09:47:24.513350Z"
    }
   },
   "outputs": [],
   "source": [
    "max_ratio = temp_df2.loc[temp_df2['percentage_poverty'].idxmax()]\n",
    "min_ratio = temp_df2.loc[temp_df2['percentage_poverty'].idxmin()]"
   ]
  },
  {
   "cell_type": "code",
   "execution_count": 188,
   "metadata": {
    "ExecuteTime": {
     "end_time": "2020-01-22T09:47:24.527033Z",
     "start_time": "2020-01-22T09:47:24.521949Z"
    },
    "scrolled": true
   },
   "outputs": [
    {
     "name": "stdout",
     "output_type": "stream",
     "text": [
      "country_code                              NO\n",
      "population                           5305383\n",
      "population_below_poverty_line    3.79457e+06\n",
      "lent_borrowed                    1.67407e+07\n",
      "percentage_poverty                    441.18\n",
      "Name: 146, dtype: object \n",
      " country_code                              AM\n",
      "population                           2930450\n",
      "population_below_poverty_line    1.99271e+06\n",
      "lent_borrowed                   -2.29204e+07\n",
      "percentage_poverty                  -1150.21\n",
      "Name: 100, dtype: object\n"
     ]
    }
   ],
   "source": [
    "print(max_ratio,'\\n',min_ratio)"
   ]
  },
  {
   "cell_type": "markdown",
   "metadata": {},
   "source": [
    "***"
   ]
  },
  {
   "cell_type": "markdown",
   "metadata": {},
   "source": [
    "## <span style='color:red'>12) For each year, compute the total amount of loans. Each loan that has planned expiration time and disburse time in different years must have its amount distributed proportionally to the number of days in each year. For example, a loan with disburse time December 1st, 2016, planned expiration time January 30th 2018, and amount 5000USD has an amount of 5000USD * 31 / (31+365+30) = 363.85 for 2016, 5000USD * 365 / (31+365+30) = 4284.04 for 2017, and 5000USD * 30 / (31+365+30) = 352.11 for 2018.</span>"
   ]
  },
  {
   "cell_type": "markdown",
   "metadata": {},
   "source": [
    "***"
   ]
  },
  {
   "cell_type": "markdown",
   "metadata": {},
   "source": [
    "### Decido di eliminare tutte le colonne con NaN, in particolar modo tutte le colonne che non presentano disburse_time oppure planned_expiration_time"
   ]
  },
  {
   "cell_type": "markdown",
   "metadata": {},
   "source": [
    "***"
   ]
  },
  {
   "cell_type": "code",
   "execution_count": 396,
   "metadata": {
    "ExecuteTime": {
     "end_time": "2020-01-22T11:47:14.163271Z",
     "start_time": "2020-01-22T11:47:14.030614Z"
    }
   },
   "outputs": [],
   "source": [
    "temp_df = df_loans[['disburse_time', 'planned_expiration_time', 'loan_amount', 'duration']].dropna()"
   ]
  },
  {
   "cell_type": "code",
   "execution_count": 397,
   "metadata": {
    "ExecuteTime": {
     "end_time": "2020-01-22T11:47:14.295803Z",
     "start_time": "2020-01-22T11:47:14.277344Z"
    },
    "scrolled": true
   },
   "outputs": [],
   "source": [
    "temp_df['disburse_time']= temp_df['disburse_time'].dt.tz_localize(None)\n",
    "temp_df['planned_expiration_time']= temp_df['planned_expiration_time'].dt.tz_localize(None)"
   ]
  },
  {
   "cell_type": "code",
   "execution_count": 398,
   "metadata": {
    "ExecuteTime": {
     "end_time": "2020-01-22T11:47:14.578127Z",
     "start_time": "2020-01-22T11:47:14.485511Z"
    }
   },
   "outputs": [],
   "source": [
    "temp_df['differenza'] = (temp_df.planned_expiration_time.dt.year) - (temp_df.disburse_time.dt.year)"
   ]
  },
  {
   "cell_type": "code",
   "execution_count": 399,
   "metadata": {
    "ExecuteTime": {
     "end_time": "2020-01-22T11:47:14.744394Z",
     "start_time": "2020-01-22T11:47:14.691420Z"
    }
   },
   "outputs": [
    {
     "data": {
      "text/plain": [
       "differenza\n",
       "0    892805\n",
       "1    151837\n",
       "4       299\n",
       "5        21\n",
       "dtype: int64"
      ]
     },
     "execution_count": 399,
     "metadata": {},
     "output_type": "execute_result"
    }
   ],
   "source": [
    "temp_df.groupby('differenza').size()"
   ]
  },
  {
   "cell_type": "code",
   "execution_count": 400,
   "metadata": {
    "ExecuteTime": {
     "end_time": "2020-01-22T11:47:15.004640Z",
     "start_time": "2020-01-22T11:47:14.976547Z"
    }
   },
   "outputs": [],
   "source": [
    "# tengo solo i giorni\n",
    "temp_df.duration = temp_df.duration.dt.days"
   ]
  },
  {
   "cell_type": "code",
   "execution_count": 401,
   "metadata": {
    "ExecuteTime": {
     "end_time": "2020-01-22T11:47:15.447089Z",
     "start_time": "2020-01-22T11:47:15.441514Z"
    }
   },
   "outputs": [
    {
     "data": {
      "text/plain": [
       "0          53\n",
       "1          96\n",
       "2          37\n",
       "3          34\n",
       "4          57\n",
       "           ..\n",
       "1419602    39\n",
       "1419603    39\n",
       "1419604    51\n",
       "1419605    63\n",
       "1419606    61\n",
       "Name: duration, Length: 1044962, dtype: int64"
      ]
     },
     "execution_count": 401,
     "metadata": {},
     "output_type": "execute_result"
    }
   ],
   "source": [
    "temp_df.duration"
   ]
  },
  {
   "cell_type": "code",
   "execution_count": 402,
   "metadata": {
    "ExecuteTime": {
     "end_time": "2020-01-22T11:47:47.349597Z",
     "start_time": "2020-01-22T11:47:16.651594Z"
    }
   },
   "outputs": [],
   "source": [
    "# aggiungo colonna anno, mese,giorno per comodità\n",
    "temp_df['day_disburse_time'] = temp_df.disburse_time.dt.strftime(\"%d\")\n",
    "temp_df.day_disburse_time = temp_df.day_disburse_time.astype('int')\n",
    "temp_df['day_planned_expiration_time'] = temp_df.planned_expiration_time.dt.strftime(\"%d\")\n",
    "temp_df.day_planned_expiration_time = temp_df.day_planned_expiration_time.astype('int')\n",
    "\n",
    "temp_df['month_disburse_time'] = temp_df.disburse_time.dt.strftime(\"%m\")\n",
    "temp_df.month_disburse_time = temp_df.month_disburse_time.astype('int')\n",
    "\n",
    "\n",
    "temp_df['year_disburse_time'] = temp_df.disburse_time.dt.strftime(\"%Y\")\n",
    "temp_df['year_planned_expiration_time'] = temp_df.planned_expiration_time.dt.strftime(\"%Y\")\n",
    "temp_df.year_disburse_time = temp_df.year_disburse_time.astype('int')\n",
    "temp_df.year_planned_expiration_time = temp_df.year_planned_expiration_time.astype('int')"
   ]
  },
  {
   "cell_type": "code",
   "execution_count": 478,
   "metadata": {
    "ExecuteTime": {
     "end_time": "2020-01-22T12:17:27.585779Z",
     "start_time": "2020-01-22T12:17:27.574966Z"
    }
   },
   "outputs": [],
   "source": [
    "lista_final = []\n",
    "def func_final(df):\n",
    "    # dichiaro la mia lista risultato finale\n",
    "    ok = 'ok'\n",
    "    global lista_final\n",
    "    # calcolo il planned_expiration_time - i giorni dal 1-1-dell'anno preso in considerazione\n",
    "    lim_inf = datetime.datetime(df.year_planned_expiration_time, 1,1)\n",
    "    day_inf = df.planned_expiration_time - lim_inf\n",
    "    day_inf = day_inf.days\n",
    "    \n",
    "    # calcolo i giorni dal 31-12-dell'anno preso in considerazione - i disburse_time\n",
    "    lim_sup = datetime.datetime(df.year_disburse_time, 12, 31)\n",
    "    day_sup = lim_sup - df.disburse_time\n",
    "    day_sup = day_sup.days\n",
    "    \n",
    "    # controllo che non vadano elementi uguali 0 al divisore\n",
    "    if day_inf == 0:\n",
    "        day_inf = 1\n",
    "    \n",
    "    if day_sup == 0:\n",
    "        day_sup = 1\n",
    "    \n",
    "    # calcolo quanti giorni per gli anni servono\n",
    "    year_operation = (365*df.differenza) - 365\n",
    "    \n",
    "    flag = df.year_disburse_time\n",
    "\n",
    "    # calcolo quanti giorni per gli anni servono\n",
    "    divisor = day_inf+day_sup+year_operation\n",
    "\n",
    "    \n",
    "    if df.disburse_time.year == df.planned_expiration_time.year:\n",
    "        money = df.loan_amount\n",
    "        years = df.year_disburse_time\n",
    "        result = [money,years]\n",
    "        lista_final.append(result)\n",
    "        \n",
    "    else:\n",
    "        while df.year_planned_expiration_time != flag:\n",
    "            # calcolo per ogni anno  la quota partendo dal disburse\n",
    "            money_day = df.loan_amount * day_sup\n",
    "            money = safe_division(money_day,divisor)\n",
    "            result = [money,flag]\n",
    "            lista_final.append(result)\n",
    "            day_sup = 365\n",
    "            flag = flag + 1  \n",
    "            \n",
    "    # calcolo i restanti giorni\n",
    "        money_day = df.loan_amount * day_inf\n",
    "        money = safe_division(money_day, divisor)\n",
    "        years = df.year_planned_expiration_time\n",
    "        result = [money,years]\n",
    "        lista_final.append(result)\n",
    "     \n",
    "    return ok\n",
    "\n",
    "def create_df_year(array):\n",
    "    d1 = {'tot' : array}\n",
    "    df2 = pd.DataFrame(d1)\n",
    "    df3 = df2.tot.apply(pd.Series)\n",
    "    df3.columns = ['total', 'year'] \n",
    "    return df3\n",
    "\n",
    "def safe_division(a, b):\n",
    "    if not b:\n",
    "        return 0\n",
    "    return a / b"
   ]
  },
  {
   "cell_type": "code",
   "execution_count": 479,
   "metadata": {
    "ExecuteTime": {
     "end_time": "2020-01-22T12:20:22.805241Z",
     "start_time": "2020-01-22T12:17:32.781738Z"
    }
   },
   "outputs": [
    {
     "data": {
      "text/plain": [
       "0          ok\n",
       "1          ok\n",
       "2          ok\n",
       "3          ok\n",
       "4          ok\n",
       "           ..\n",
       "1419602    ok\n",
       "1419603    ok\n",
       "1419604    ok\n",
       "1419605    ok\n",
       "1419606    ok\n",
       "Length: 1044962, dtype: object"
      ]
     },
     "execution_count": 479,
     "metadata": {},
     "output_type": "execute_result"
    }
   ],
   "source": [
    "temp_df.apply(lambda x : func_final(x), axis=1)"
   ]
  },
  {
   "cell_type": "code",
   "execution_count": 480,
   "metadata": {
    "ExecuteTime": {
     "end_time": "2020-01-22T12:24:04.243243Z",
     "start_time": "2020-01-22T12:20:22.807888Z"
    }
   },
   "outputs": [],
   "source": [
    "final_df = create_df_year(lista_final)"
   ]
  },
  {
   "cell_type": "code",
   "execution_count": 481,
   "metadata": {
    "ExecuteTime": {
     "end_time": "2020-01-22T12:24:04.405749Z",
     "start_time": "2020-01-22T12:24:04.270585Z"
    },
    "scrolled": true
   },
   "outputs": [
    {
     "data": {
      "text/html": [
       "<div>\n",
       "<style scoped>\n",
       "    .dataframe tbody tr th:only-of-type {\n",
       "        vertical-align: middle;\n",
       "    }\n",
       "\n",
       "    .dataframe tbody tr th {\n",
       "        vertical-align: top;\n",
       "    }\n",
       "\n",
       "    .dataframe thead th {\n",
       "        text-align: right;\n",
       "    }\n",
       "</style>\n",
       "<table border=\"1\" class=\"dataframe\">\n",
       "  <thead>\n",
       "    <tr style=\"text-align: right;\">\n",
       "      <th></th>\n",
       "      <th>total</th>\n",
       "    </tr>\n",
       "    <tr>\n",
       "      <th>year</th>\n",
       "      <th></th>\n",
       "    </tr>\n",
       "  </thead>\n",
       "  <tbody>\n",
       "    <tr>\n",
       "      <th>2011</th>\n",
       "      <td>607517</td>\n",
       "    </tr>\n",
       "    <tr>\n",
       "      <th>2012</th>\n",
       "      <td>113295068</td>\n",
       "    </tr>\n",
       "    <tr>\n",
       "      <th>2013</th>\n",
       "      <td>125001969</td>\n",
       "    </tr>\n",
       "    <tr>\n",
       "      <th>2014</th>\n",
       "      <td>153188100</td>\n",
       "    </tr>\n",
       "    <tr>\n",
       "      <th>2015</th>\n",
       "      <td>159895843</td>\n",
       "    </tr>\n",
       "    <tr>\n",
       "      <th>2016</th>\n",
       "      <td>159316397</td>\n",
       "    </tr>\n",
       "    <tr>\n",
       "      <th>2017</th>\n",
       "      <td>172595416</td>\n",
       "    </tr>\n",
       "    <tr>\n",
       "      <th>2018</th>\n",
       "      <td>5756816</td>\n",
       "    </tr>\n",
       "  </tbody>\n",
       "</table>\n",
       "</div>"
      ],
      "text/plain": [
       "          total\n",
       "year           \n",
       "2011     607517\n",
       "2012  113295068\n",
       "2013  125001969\n",
       "2014  153188100\n",
       "2015  159895843\n",
       "2016  159316397\n",
       "2017  172595416\n",
       "2018    5756816"
      ]
     },
     "execution_count": 481,
     "metadata": {},
     "output_type": "execute_result"
    }
   ],
   "source": [
    "final_df.year = final_df.year.astype('int')\n",
    "final_df.total = final_df.total.astype('int')\n",
    "final_df.groupby('year').sum()"
   ]
  }
 ],
 "metadata": {
  "kernelspec": {
   "display_name": "Python 3",
   "language": "python",
   "name": "python3"
  },
  "language_info": {
   "codemirror_mode": {
    "name": "ipython",
    "version": 3
   },
   "file_extension": ".py",
   "mimetype": "text/x-python",
   "name": "python",
   "nbconvert_exporter": "python",
   "pygments_lexer": "ipython3",
   "version": "3.8.0"
  }
 },
 "nbformat": 4,
 "nbformat_minor": 2
}
