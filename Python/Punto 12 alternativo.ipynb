{
 "cells": [
  {
   "cell_type": "markdown",
   "metadata": {},
   "source": [
    "## Punto 12 con funzione"
   ]
  },
  {
   "cell_type": "markdown",
   "metadata": {},
   "source": [
    "## <span style='color:red'>12) For each year, compute the total amount of loans. Each loan that has planned expiration time and disburse time in different years must have its amount distributed proportionally to the number of days in each year. For example, a loan with disburse time December 1st, 2016, planned expiration time January 30th 2018, and amount 5000USD has an amount of 5000USD * 31 / (31+365+30) = 363.85 for 2016, 5000USD * 365 / (31+365+30) = 4284.04 for 2017, and 5000USD * 30 / (31+365+30) = 352.11 for 2018.</span>"
   ]
  },
  {
   "cell_type": "code",
   "execution_count": 1,
   "metadata": {
    "ExecuteTime": {
     "end_time": "2019-12-19T12:30:30.981870Z",
     "start_time": "2019-12-19T12:30:30.241540Z"
    }
   },
   "outputs": [],
   "source": [
    "import pandas as pd\n",
    "import datetime \n",
    "import numpy as np"
   ]
  },
  {
   "cell_type": "code",
   "execution_count": 2,
   "metadata": {
    "ExecuteTime": {
     "end_time": "2019-12-19T12:30:30.987134Z",
     "start_time": "2019-12-19T12:30:30.984279Z"
    }
   },
   "outputs": [],
   "source": [
    "# scrivo directory\n",
    "dire = '/Users/alessandropontini/Desktop/progetto_python/additional-kiva-snapshot/loans_lenders.csv'\n",
    "dire1 = '/Users/alessandropontini/Desktop/progetto_python/additional-kiva-snapshot/loans.csv'\n",
    "dire2 = '/Users/alessandropontini/Desktop/progetto_python/additional-kiva-snapshot/lenders.csv'\n",
    "dire3 = '/Users/alessandropontini/Desktop/progetto_python/additional-kiva-snapshot/country_stats.csv'"
   ]
  },
  {
   "cell_type": "code",
   "execution_count": 3,
   "metadata": {
    "ExecuteTime": {
     "end_time": "2019-12-19T12:30:30.995522Z",
     "start_time": "2019-12-19T12:30:30.990324Z"
    }
   },
   "outputs": [],
   "source": [
    "# df temporanei\n",
    "\n",
    "temp_df3 = pd.DataFrame()\n",
    "temp_df4 = pd.DataFrame()\n",
    "temp_df_NA_lenders = pd.DataFrame()\n",
    "total_lenders_amount = pd.DataFrame()"
   ]
  },
  {
   "cell_type": "code",
   "execution_count": 4,
   "metadata": {
    "ExecuteTime": {
     "end_time": "2019-12-19T12:31:04.745652Z",
     "start_time": "2019-12-19T12:30:30.999006Z"
    }
   },
   "outputs": [],
   "source": [
    "# leggo il file loans, ma per la quantità di dati che devo leggere preferisco una lettura più accurata\n",
    "# successivamente preferisco leggere le date come tali e non come stringhe.\n",
    "df_loans = pd.read_csv(dire1, parse_dates=['disburse_time', 'planned_expiration_time'])"
   ]
  },
  {
   "cell_type": "code",
   "execution_count": 5,
   "metadata": {
    "ExecuteTime": {
     "end_time": "2019-12-19T12:31:04.805445Z",
     "start_time": "2019-12-19T12:31:04.747740Z"
    }
   },
   "outputs": [],
   "source": [
    "temp_df = df_loans.loc[df_loans['disburse_time'] > df_loans['planned_expiration_time']]"
   ]
  },
  {
   "cell_type": "code",
   "execution_count": 6,
   "metadata": {
    "ExecuteTime": {
     "end_time": "2019-12-19T12:31:04.818158Z",
     "start_time": "2019-12-19T12:31:04.808054Z"
    },
    "scrolled": true
   },
   "outputs": [
    {
     "name": "stderr",
     "output_type": "stream",
     "text": [
      "/Library/Frameworks/Python.framework/Versions/3.8/lib/python3.8/site-packages/pandas/core/indexing.py:494: SettingWithCopyWarning: \n",
      "A value is trying to be set on a copy of a slice from a DataFrame.\n",
      "Try using .loc[row_indexer,col_indexer] = value instead\n",
      "\n",
      "See the caveats in the documentation: http://pandas.pydata.org/pandas-docs/stable/user_guide/indexing.html#returning-a-view-versus-a-copy\n",
      "  self.obj[item] = s\n"
     ]
    }
   ],
   "source": [
    "x = temp_df.loc[:,('disburse_time')]\n",
    "temp_df.loc[:,('disburse_time')] = temp_df.loc[:,('planned_expiration_time')]\n",
    "temp_df.loc[:,('planned_expiration_time')] = x"
   ]
  },
  {
   "cell_type": "code",
   "execution_count": 7,
   "metadata": {
    "ExecuteTime": {
     "end_time": "2019-12-19T12:31:05.025675Z",
     "start_time": "2019-12-19T12:31:04.820746Z"
    }
   },
   "outputs": [],
   "source": [
    "# uso funzione isin per vedere i loan_id che coincidano e cambio df_loan con i nuovi di df_temp corretti\n",
    "df_loans.loc[df_loans.loan_id.isin(temp_df.loan_id), ['disburse_time', 'planned_expiration_time']] = temp_df[['disburse_time', 'planned_expiration_time']]"
   ]
  },
  {
   "cell_type": "code",
   "execution_count": 8,
   "metadata": {
    "ExecuteTime": {
     "end_time": "2019-12-19T12:31:05.084603Z",
     "start_time": "2019-12-19T12:31:05.030059Z"
    },
    "scrolled": true
   },
   "outputs": [
    {
     "data": {
      "text/html": [
       "<div>\n",
       "<style scoped>\n",
       "    .dataframe tbody tr th:only-of-type {\n",
       "        vertical-align: middle;\n",
       "    }\n",
       "\n",
       "    .dataframe tbody tr th {\n",
       "        vertical-align: top;\n",
       "    }\n",
       "\n",
       "    .dataframe thead th {\n",
       "        text-align: right;\n",
       "    }\n",
       "</style>\n",
       "<table border=\"1\" class=\"dataframe\">\n",
       "  <thead>\n",
       "    <tr style=\"text-align: right;\">\n",
       "      <th></th>\n",
       "      <th>loan_id</th>\n",
       "      <th>duration</th>\n",
       "    </tr>\n",
       "  </thead>\n",
       "  <tbody>\n",
       "    <tr>\n",
       "      <th>0</th>\n",
       "      <td>657307</td>\n",
       "      <td>53 days 19:30:06</td>\n",
       "    </tr>\n",
       "    <tr>\n",
       "      <th>1</th>\n",
       "      <td>657259</td>\n",
       "      <td>96 days 14:25:07</td>\n",
       "    </tr>\n",
       "    <tr>\n",
       "      <th>2</th>\n",
       "      <td>658010</td>\n",
       "      <td>37 days 13:10:05</td>\n",
       "    </tr>\n",
       "    <tr>\n",
       "      <th>3</th>\n",
       "      <td>659347</td>\n",
       "      <td>34 days 19:10:02</td>\n",
       "    </tr>\n",
       "    <tr>\n",
       "      <th>4</th>\n",
       "      <td>656933</td>\n",
       "      <td>57 days 22:10:02</td>\n",
       "    </tr>\n",
       "    <tr>\n",
       "      <th>...</th>\n",
       "      <td>...</td>\n",
       "      <td>...</td>\n",
       "    </tr>\n",
       "    <tr>\n",
       "      <th>1419602</th>\n",
       "      <td>988180</td>\n",
       "      <td>39 days 17:00:03</td>\n",
       "    </tr>\n",
       "    <tr>\n",
       "      <th>1419603</th>\n",
       "      <td>988213</td>\n",
       "      <td>39 days 08:40:07</td>\n",
       "    </tr>\n",
       "    <tr>\n",
       "      <th>1419604</th>\n",
       "      <td>989109</td>\n",
       "      <td>51 days 14:20:04</td>\n",
       "    </tr>\n",
       "    <tr>\n",
       "      <th>1419605</th>\n",
       "      <td>989143</td>\n",
       "      <td>63 days 00:50:02</td>\n",
       "    </tr>\n",
       "    <tr>\n",
       "      <th>1419606</th>\n",
       "      <td>989240</td>\n",
       "      <td>61 days 12:50:06</td>\n",
       "    </tr>\n",
       "  </tbody>\n",
       "</table>\n",
       "<p>1419607 rows × 2 columns</p>\n",
       "</div>"
      ],
      "text/plain": [
       "         loan_id         duration\n",
       "0         657307 53 days 19:30:06\n",
       "1         657259 96 days 14:25:07\n",
       "2         658010 37 days 13:10:05\n",
       "3         659347 34 days 19:10:02\n",
       "4         656933 57 days 22:10:02\n",
       "...          ...              ...\n",
       "1419602   988180 39 days 17:00:03\n",
       "1419603   988213 39 days 08:40:07\n",
       "1419604   989109 51 days 14:20:04\n",
       "1419605   989143 63 days 00:50:02\n",
       "1419606   989240 61 days 12:50:06\n",
       "\n",
       "[1419607 rows x 2 columns]"
      ]
     },
     "execution_count": 8,
     "metadata": {},
     "output_type": "execute_result"
    }
   ],
   "source": [
    "# creo una colonna per la duration e faccio differenza, dopo di che mostro il risultato\n",
    "df_loans['duration'] = df_loans['planned_expiration_time'] - df_loans['disburse_time']\n",
    "df_loans[['loan_id','duration']]"
   ]
  },
  {
   "cell_type": "markdown",
   "metadata": {},
   "source": [
    "Sistemato il codice"
   ]
  },
  {
   "cell_type": "code",
   "execution_count": 9,
   "metadata": {
    "ExecuteTime": {
     "end_time": "2019-12-19T12:31:05.097720Z",
     "start_time": "2019-12-19T12:31:05.087326Z"
    }
   },
   "outputs": [
    {
     "data": {
      "text/plain": [
       "Series([], Name: duration, dtype: timedelta64[ns])"
      ]
     },
     "execution_count": 9,
     "metadata": {},
     "output_type": "execute_result"
    }
   ],
   "source": [
    "df_loans.duration[df_loans.duration < '0']"
   ]
  },
  {
   "cell_type": "markdown",
   "metadata": {},
   "source": [
    "## Tolgo tutti i null per non aver problemi successivamente"
   ]
  },
  {
   "cell_type": "code",
   "execution_count": 10,
   "metadata": {
    "ExecuteTime": {
     "end_time": "2019-12-19T12:31:05.120196Z",
     "start_time": "2019-12-19T12:31:05.099583Z"
    },
    "scrolled": true
   },
   "outputs": [
    {
     "data": {
      "text/html": [
       "<div>\n",
       "<style scoped>\n",
       "    .dataframe tbody tr th:only-of-type {\n",
       "        vertical-align: middle;\n",
       "    }\n",
       "\n",
       "    .dataframe tbody tr th {\n",
       "        vertical-align: top;\n",
       "    }\n",
       "\n",
       "    .dataframe thead th {\n",
       "        text-align: right;\n",
       "    }\n",
       "</style>\n",
       "<table border=\"1\" class=\"dataframe\">\n",
       "  <thead>\n",
       "    <tr style=\"text-align: right;\">\n",
       "      <th></th>\n",
       "      <th>loan_id</th>\n",
       "      <th>loan_name</th>\n",
       "      <th>original_language</th>\n",
       "      <th>description</th>\n",
       "      <th>description_translated</th>\n",
       "      <th>funded_amount</th>\n",
       "      <th>loan_amount</th>\n",
       "      <th>status</th>\n",
       "      <th>activity_name</th>\n",
       "      <th>sector_name</th>\n",
       "      <th>...</th>\n",
       "      <th>lender_term</th>\n",
       "      <th>num_lenders_total</th>\n",
       "      <th>num_journal_entries</th>\n",
       "      <th>num_bulk_entries</th>\n",
       "      <th>tags</th>\n",
       "      <th>borrower_genders</th>\n",
       "      <th>borrower_pictured</th>\n",
       "      <th>repayment_interval</th>\n",
       "      <th>distribution_model</th>\n",
       "      <th>duration</th>\n",
       "    </tr>\n",
       "  </thead>\n",
       "  <tbody>\n",
       "    <tr>\n",
       "      <th>0</th>\n",
       "      <td>657307</td>\n",
       "      <td>Aivy</td>\n",
       "      <td>English</td>\n",
       "      <td>Aivy, 21 years of age, is single and lives in ...</td>\n",
       "      <td>NaN</td>\n",
       "      <td>125.0</td>\n",
       "      <td>125.0</td>\n",
       "      <td>funded</td>\n",
       "      <td>General Store</td>\n",
       "      <td>Retail</td>\n",
       "      <td>...</td>\n",
       "      <td>7.0</td>\n",
       "      <td>3</td>\n",
       "      <td>2</td>\n",
       "      <td>1</td>\n",
       "      <td>NaN</td>\n",
       "      <td>female</td>\n",
       "      <td>true</td>\n",
       "      <td>irregular</td>\n",
       "      <td>field_partner</td>\n",
       "      <td>53 days 19:30:06</td>\n",
       "    </tr>\n",
       "    <tr>\n",
       "      <th>1</th>\n",
       "      <td>657259</td>\n",
       "      <td>Idalia Marizza</td>\n",
       "      <td>Spanish</td>\n",
       "      <td>Doña Idalia, esta casada, tiene 57 años de eda...</td>\n",
       "      <td>Idalia, 57, is married and lives with her husb...</td>\n",
       "      <td>400.0</td>\n",
       "      <td>400.0</td>\n",
       "      <td>funded</td>\n",
       "      <td>Used Clothing</td>\n",
       "      <td>Clothing</td>\n",
       "      <td>...</td>\n",
       "      <td>8.0</td>\n",
       "      <td>11</td>\n",
       "      <td>2</td>\n",
       "      <td>1</td>\n",
       "      <td>NaN</td>\n",
       "      <td>female</td>\n",
       "      <td>true</td>\n",
       "      <td>monthly</td>\n",
       "      <td>field_partner</td>\n",
       "      <td>96 days 14:25:07</td>\n",
       "    </tr>\n",
       "    <tr>\n",
       "      <th>2</th>\n",
       "      <td>658010</td>\n",
       "      <td>Aasia</td>\n",
       "      <td>English</td>\n",
       "      <td>Aasia is a 45-year-old married lady and she ha...</td>\n",
       "      <td>NaN</td>\n",
       "      <td>400.0</td>\n",
       "      <td>400.0</td>\n",
       "      <td>funded</td>\n",
       "      <td>General Store</td>\n",
       "      <td>Retail</td>\n",
       "      <td>...</td>\n",
       "      <td>14.0</td>\n",
       "      <td>16</td>\n",
       "      <td>2</td>\n",
       "      <td>1</td>\n",
       "      <td>#Woman Owned Biz, #Supporting Family, user_fav...</td>\n",
       "      <td>female</td>\n",
       "      <td>true</td>\n",
       "      <td>monthly</td>\n",
       "      <td>field_partner</td>\n",
       "      <td>37 days 13:10:05</td>\n",
       "    </tr>\n",
       "    <tr>\n",
       "      <th>3</th>\n",
       "      <td>659347</td>\n",
       "      <td>Gulmira</td>\n",
       "      <td>Russian</td>\n",
       "      <td>Гулмире 36 лет, замужем, вместе с супругом вос...</td>\n",
       "      <td>Gulmira is 36 years old and married.  She and ...</td>\n",
       "      <td>625.0</td>\n",
       "      <td>625.0</td>\n",
       "      <td>funded</td>\n",
       "      <td>Farming</td>\n",
       "      <td>Agriculture</td>\n",
       "      <td>...</td>\n",
       "      <td>14.0</td>\n",
       "      <td>21</td>\n",
       "      <td>2</td>\n",
       "      <td>1</td>\n",
       "      <td>user_favorite</td>\n",
       "      <td>female</td>\n",
       "      <td>true</td>\n",
       "      <td>monthly</td>\n",
       "      <td>field_partner</td>\n",
       "      <td>34 days 19:10:02</td>\n",
       "    </tr>\n",
       "    <tr>\n",
       "      <th>4</th>\n",
       "      <td>656933</td>\n",
       "      <td>Ricky\\t</td>\n",
       "      <td>English</td>\n",
       "      <td>Ricky is a farmer who currently cultivates his...</td>\n",
       "      <td>NaN</td>\n",
       "      <td>425.0</td>\n",
       "      <td>425.0</td>\n",
       "      <td>funded</td>\n",
       "      <td>Farming</td>\n",
       "      <td>Agriculture</td>\n",
       "      <td>...</td>\n",
       "      <td>7.0</td>\n",
       "      <td>15</td>\n",
       "      <td>2</td>\n",
       "      <td>1</td>\n",
       "      <td>#Animals, #Eco-friendly, #Sustainable Ag</td>\n",
       "      <td>male</td>\n",
       "      <td>true</td>\n",
       "      <td>bullet</td>\n",
       "      <td>field_partner</td>\n",
       "      <td>57 days 22:10:02</td>\n",
       "    </tr>\n",
       "  </tbody>\n",
       "</table>\n",
       "<p>5 rows × 32 columns</p>\n",
       "</div>"
      ],
      "text/plain": [
       "   loan_id       loan_name original_language  \\\n",
       "0   657307            Aivy           English   \n",
       "1   657259  Idalia Marizza           Spanish   \n",
       "2   658010           Aasia           English   \n",
       "3   659347         Gulmira           Russian   \n",
       "4   656933         Ricky\\t           English   \n",
       "\n",
       "                                         description  \\\n",
       "0  Aivy, 21 years of age, is single and lives in ...   \n",
       "1  Doña Idalia, esta casada, tiene 57 años de eda...   \n",
       "2  Aasia is a 45-year-old married lady and she ha...   \n",
       "3  Гулмире 36 лет, замужем, вместе с супругом вос...   \n",
       "4  Ricky is a farmer who currently cultivates his...   \n",
       "\n",
       "                              description_translated  funded_amount  \\\n",
       "0                                                NaN          125.0   \n",
       "1  Idalia, 57, is married and lives with her husb...          400.0   \n",
       "2                                                NaN          400.0   \n",
       "3  Gulmira is 36 years old and married.  She and ...          625.0   \n",
       "4                                                NaN          425.0   \n",
       "\n",
       "   loan_amount  status  activity_name  sector_name  ... lender_term  \\\n",
       "0        125.0  funded  General Store       Retail  ...         7.0   \n",
       "1        400.0  funded  Used Clothing     Clothing  ...         8.0   \n",
       "2        400.0  funded  General Store       Retail  ...        14.0   \n",
       "3        625.0  funded        Farming  Agriculture  ...        14.0   \n",
       "4        425.0  funded        Farming  Agriculture  ...         7.0   \n",
       "\n",
       "  num_lenders_total num_journal_entries num_bulk_entries  \\\n",
       "0                 3                   2                1   \n",
       "1                11                   2                1   \n",
       "2                16                   2                1   \n",
       "3                21                   2                1   \n",
       "4                15                   2                1   \n",
       "\n",
       "                                                tags  borrower_genders  \\\n",
       "0                                                NaN            female   \n",
       "1                                                NaN            female   \n",
       "2  #Woman Owned Biz, #Supporting Family, user_fav...            female   \n",
       "3                                      user_favorite            female   \n",
       "4           #Animals, #Eco-friendly, #Sustainable Ag              male   \n",
       "\n",
       "  borrower_pictured  repayment_interval distribution_model         duration  \n",
       "0              true           irregular      field_partner 53 days 19:30:06  \n",
       "1              true             monthly      field_partner 96 days 14:25:07  \n",
       "2              true             monthly      field_partner 37 days 13:10:05  \n",
       "3              true             monthly      field_partner 34 days 19:10:02  \n",
       "4              true              bullet      field_partner 57 days 22:10:02  \n",
       "\n",
       "[5 rows x 32 columns]"
      ]
     },
     "execution_count": 10,
     "metadata": {},
     "output_type": "execute_result"
    }
   ],
   "source": [
    "df_loans.head(5)"
   ]
  },
  {
   "cell_type": "code",
   "execution_count": 11,
   "metadata": {
    "ExecuteTime": {
     "end_time": "2019-12-19T12:31:06.680432Z",
     "start_time": "2019-12-19T12:31:05.122332Z"
    }
   },
   "outputs": [],
   "source": [
    "temp_df = df_loans.dropna()"
   ]
  },
  {
   "cell_type": "code",
   "execution_count": 12,
   "metadata": {
    "ExecuteTime": {
     "end_time": "2019-12-19T12:31:06.693398Z",
     "start_time": "2019-12-19T12:31:06.682744Z"
    }
   },
   "outputs": [],
   "source": [
    "temp_df.loc[:,('disburse_time')]=temp_df.loc[:,('disburse_time')].dt.tz_localize(None)"
   ]
  },
  {
   "cell_type": "code",
   "execution_count": 13,
   "metadata": {
    "ExecuteTime": {
     "end_time": "2019-12-19T12:31:06.705491Z",
     "start_time": "2019-12-19T12:31:06.695652Z"
    }
   },
   "outputs": [],
   "source": [
    "temp_df.loc[:,('planned_expiration_time')]=temp_df.loc[:,('planned_expiration_time')].dt.tz_localize(None)"
   ]
  },
  {
   "cell_type": "code",
   "execution_count": 15,
   "metadata": {
    "ExecuteTime": {
     "end_time": "2019-12-19T12:31:06.793412Z",
     "start_time": "2019-12-19T12:31:06.715896Z"
    }
   },
   "outputs": [
    {
     "name": "stderr",
     "output_type": "stream",
     "text": [
      "/Library/Frameworks/Python.framework/Versions/3.8/lib/python3.8/site-packages/pandas/core/indexing.py:376: SettingWithCopyWarning: \n",
      "A value is trying to be set on a copy of a slice from a DataFrame.\n",
      "Try using .loc[row_indexer,col_indexer] = value instead\n",
      "\n",
      "See the caveats in the documentation: http://pandas.pydata.org/pandas-docs/stable/user_guide/indexing.html#returning-a-view-versus-a-copy\n",
      "  self.obj[key] = _infer_fill_value(value)\n"
     ]
    }
   ],
   "source": [
    "temp_df.loc[:,('differenza')] = temp_df.loc[:,('planned_expiration_time')].dt.year - temp_df.loc[:,('disburse_time')].dt.year"
   ]
  },
  {
   "cell_type": "code",
   "execution_count": 16,
   "metadata": {
    "ExecuteTime": {
     "end_time": "2019-12-19T12:31:06.826333Z",
     "start_time": "2019-12-19T12:31:06.795401Z"
    }
   },
   "outputs": [
    {
     "data": {
      "text/plain": [
       "differenza\n",
       "0    414618\n",
       "1     64219\n",
       "dtype: int64"
      ]
     },
     "execution_count": 16,
     "metadata": {},
     "output_type": "execute_result"
    }
   ],
   "source": [
    "temp_df.groupby('differenza').size()"
   ]
  },
  {
   "cell_type": "code",
   "execution_count": 17,
   "metadata": {
    "ExecuteTime": {
     "end_time": "2019-12-19T12:31:06.903579Z",
     "start_time": "2019-12-19T12:31:06.828085Z"
    }
   },
   "outputs": [],
   "source": [
    "temp_df = temp_df[['planned_expiration_time', 'disburse_time', 'differenza', 'loan_amount', 'duration']]"
   ]
  },
  {
   "cell_type": "code",
   "execution_count": 18,
   "metadata": {
    "ExecuteTime": {
     "end_time": "2019-12-19T12:31:06.920096Z",
     "start_time": "2019-12-19T12:31:06.905727Z"
    }
   },
   "outputs": [
    {
     "data": {
      "text/html": [
       "<div>\n",
       "<style scoped>\n",
       "    .dataframe tbody tr th:only-of-type {\n",
       "        vertical-align: middle;\n",
       "    }\n",
       "\n",
       "    .dataframe tbody tr th {\n",
       "        vertical-align: top;\n",
       "    }\n",
       "\n",
       "    .dataframe thead th {\n",
       "        text-align: right;\n",
       "    }\n",
       "</style>\n",
       "<table border=\"1\" class=\"dataframe\">\n",
       "  <thead>\n",
       "    <tr style=\"text-align: right;\">\n",
       "      <th></th>\n",
       "      <th>planned_expiration_time</th>\n",
       "      <th>disburse_time</th>\n",
       "      <th>differenza</th>\n",
       "      <th>loan_amount</th>\n",
       "      <th>duration</th>\n",
       "    </tr>\n",
       "  </thead>\n",
       "  <tbody>\n",
       "    <tr>\n",
       "      <th>3</th>\n",
       "      <td>2014-02-21 03:10:02</td>\n",
       "      <td>2014-01-17 08:00:00</td>\n",
       "      <td>0</td>\n",
       "      <td>625.0</td>\n",
       "      <td>34 days 19:10:02</td>\n",
       "    </tr>\n",
       "    <tr>\n",
       "      <th>9</th>\n",
       "      <td>2014-03-19 13:40:02</td>\n",
       "      <td>2014-01-10 08:00:00</td>\n",
       "      <td>0</td>\n",
       "      <td>1825.0</td>\n",
       "      <td>68 days 05:40:02</td>\n",
       "    </tr>\n",
       "    <tr>\n",
       "      <th>11</th>\n",
       "      <td>2014-02-20 18:30:01</td>\n",
       "      <td>2014-01-15 08:00:00</td>\n",
       "      <td>0</td>\n",
       "      <td>950.0</td>\n",
       "      <td>36 days 10:30:01</td>\n",
       "    </tr>\n",
       "    <tr>\n",
       "      <th>13</th>\n",
       "      <td>2014-03-26 22:24:34</td>\n",
       "      <td>2013-12-26 08:00:00</td>\n",
       "      <td>1</td>\n",
       "      <td>300.0</td>\n",
       "      <td>90 days 14:24:34</td>\n",
       "    </tr>\n",
       "    <tr>\n",
       "      <th>18</th>\n",
       "      <td>2015-11-03 18:40:05</td>\n",
       "      <td>2015-09-18 07:00:00</td>\n",
       "      <td>0</td>\n",
       "      <td>375.0</td>\n",
       "      <td>46 days 11:40:05</td>\n",
       "    </tr>\n",
       "    <tr>\n",
       "      <th>...</th>\n",
       "      <td>...</td>\n",
       "      <td>...</td>\n",
       "      <td>...</td>\n",
       "      <td>...</td>\n",
       "      <td>...</td>\n",
       "    </tr>\n",
       "    <tr>\n",
       "      <th>1419599</th>\n",
       "      <td>2015-12-30 20:20:04</td>\n",
       "      <td>2015-11-16 08:00:00</td>\n",
       "      <td>0</td>\n",
       "      <td>5475.0</td>\n",
       "      <td>44 days 12:20:04</td>\n",
       "    </tr>\n",
       "    <tr>\n",
       "      <th>1419600</th>\n",
       "      <td>2015-12-30 19:50:04</td>\n",
       "      <td>2015-11-20 08:00:00</td>\n",
       "      <td>0</td>\n",
       "      <td>500.0</td>\n",
       "      <td>40 days 11:50:04</td>\n",
       "    </tr>\n",
       "    <tr>\n",
       "      <th>1419601</th>\n",
       "      <td>2015-12-31 16:30:11</td>\n",
       "      <td>2015-11-19 08:00:00</td>\n",
       "      <td>0</td>\n",
       "      <td>3000.0</td>\n",
       "      <td>42 days 08:30:11</td>\n",
       "    </tr>\n",
       "    <tr>\n",
       "      <th>1419603</th>\n",
       "      <td>2016-01-02 16:40:07</td>\n",
       "      <td>2015-11-24 08:00:00</td>\n",
       "      <td>1</td>\n",
       "      <td>300.0</td>\n",
       "      <td>39 days 08:40:07</td>\n",
       "    </tr>\n",
       "    <tr>\n",
       "      <th>1419604</th>\n",
       "      <td>2016-01-03 22:20:04</td>\n",
       "      <td>2015-11-13 08:00:00</td>\n",
       "      <td>1</td>\n",
       "      <td>2425.0</td>\n",
       "      <td>51 days 14:20:04</td>\n",
       "    </tr>\n",
       "  </tbody>\n",
       "</table>\n",
       "<p>478837 rows × 5 columns</p>\n",
       "</div>"
      ],
      "text/plain": [
       "        planned_expiration_time       disburse_time  differenza  loan_amount  \\\n",
       "3           2014-02-21 03:10:02 2014-01-17 08:00:00           0        625.0   \n",
       "9           2014-03-19 13:40:02 2014-01-10 08:00:00           0       1825.0   \n",
       "11          2014-02-20 18:30:01 2014-01-15 08:00:00           0        950.0   \n",
       "13          2014-03-26 22:24:34 2013-12-26 08:00:00           1        300.0   \n",
       "18          2015-11-03 18:40:05 2015-09-18 07:00:00           0        375.0   \n",
       "...                         ...                 ...         ...          ...   \n",
       "1419599     2015-12-30 20:20:04 2015-11-16 08:00:00           0       5475.0   \n",
       "1419600     2015-12-30 19:50:04 2015-11-20 08:00:00           0        500.0   \n",
       "1419601     2015-12-31 16:30:11 2015-11-19 08:00:00           0       3000.0   \n",
       "1419603     2016-01-02 16:40:07 2015-11-24 08:00:00           1        300.0   \n",
       "1419604     2016-01-03 22:20:04 2015-11-13 08:00:00           1       2425.0   \n",
       "\n",
       "                duration  \n",
       "3       34 days 19:10:02  \n",
       "9       68 days 05:40:02  \n",
       "11      36 days 10:30:01  \n",
       "13      90 days 14:24:34  \n",
       "18      46 days 11:40:05  \n",
       "...                  ...  \n",
       "1419599 44 days 12:20:04  \n",
       "1419600 40 days 11:50:04  \n",
       "1419601 42 days 08:30:11  \n",
       "1419603 39 days 08:40:07  \n",
       "1419604 51 days 14:20:04  \n",
       "\n",
       "[478837 rows x 5 columns]"
      ]
     },
     "execution_count": 18,
     "metadata": {},
     "output_type": "execute_result"
    }
   ],
   "source": [
    "temp_df"
   ]
  },
  {
   "cell_type": "code",
   "execution_count": 19,
   "metadata": {
    "ExecuteTime": {
     "end_time": "2019-12-19T12:31:06.937971Z",
     "start_time": "2019-12-19T12:31:06.922641Z"
    },
    "scrolled": true
   },
   "outputs": [],
   "source": [
    "temp_df.duration = temp_df.duration.dt.days"
   ]
  },
  {
   "cell_type": "code",
   "execution_count": 20,
   "metadata": {
    "ExecuteTime": {
     "end_time": "2019-12-19T12:31:06.943753Z",
     "start_time": "2019-12-19T12:31:06.940015Z"
    }
   },
   "outputs": [],
   "source": [
    "def func(k):\n",
    "        x = round(( k.loan_amount * k.duration)/(31+365+30),2)\n",
    "        y = k['planned_expiration_time'].year\n",
    "        return [y,x]"
   ]
  },
  {
   "cell_type": "code",
   "execution_count": 22,
   "metadata": {
    "ExecuteTime": {
     "end_time": "2019-12-19T12:31:07.051209Z",
     "start_time": "2019-12-19T12:31:07.019532Z"
    },
    "scrolled": false
   },
   "outputs": [],
   "source": [
    "temp_df1 = temp_df.loc[temp_df.differenza == 0]"
   ]
  },
  {
   "cell_type": "code",
   "execution_count": 23,
   "metadata": {
    "ExecuteTime": {
     "end_time": "2019-12-19T12:31:07.060179Z",
     "start_time": "2019-12-19T12:31:07.057537Z"
    }
   },
   "outputs": [],
   "source": [
    "listx = []"
   ]
  },
  {
   "cell_type": "code",
   "execution_count": 24,
   "metadata": {
    "ExecuteTime": {
     "end_time": "2019-12-19T12:31:23.342875Z",
     "start_time": "2019-12-19T12:31:07.063480Z"
    }
   },
   "outputs": [],
   "source": [
    "listx = temp_df1.apply(lambda x : func(x), axis=1)"
   ]
  },
  {
   "cell_type": "code",
   "execution_count": 25,
   "metadata": {
    "ExecuteTime": {
     "end_time": "2019-12-19T12:31:23.347393Z",
     "start_time": "2019-12-19T12:31:23.344709Z"
    }
   },
   "outputs": [],
   "source": [
    "d1 = {'tot' : listx}"
   ]
  },
  {
   "cell_type": "code",
   "execution_count": 26,
   "metadata": {
    "ExecuteTime": {
     "end_time": "2019-12-19T12:31:23.359095Z",
     "start_time": "2019-12-19T12:31:23.349702Z"
    }
   },
   "outputs": [],
   "source": [
    "df2 = pd.DataFrame(d1)"
   ]
  },
  {
   "cell_type": "code",
   "execution_count": 27,
   "metadata": {
    "ExecuteTime": {
     "end_time": "2019-12-19T12:32:28.545266Z",
     "start_time": "2019-12-19T12:31:23.360989Z"
    }
   },
   "outputs": [],
   "source": [
    "df3 = df2.tot.apply(pd.Series)\n",
    "df3.columns = ['year', 'total']"
   ]
  },
  {
   "cell_type": "code",
   "execution_count": 29,
   "metadata": {
    "ExecuteTime": {
     "end_time": "2019-12-19T12:32:28.564458Z",
     "start_time": "2019-12-19T12:32:28.559021Z"
    }
   },
   "outputs": [],
   "source": [
    "def func2(k):\n",
    "        lim_inf = datetime.datetime(k.planned_expiration_time.year, 1,1)\n",
    "        z = k.planned_expiration_time - lim_inf\n",
    "        z = z.days\n",
    "        x = round(( k.loan_amount * z)/(31+365+30),2) \n",
    "        y = k.planned_expiration_time.year\n",
    "        lim_sup = datetime.datetime(k.disburse_time.year, 12, 31)\n",
    "        f = lim_sup - k.disburse_time\n",
    "        f = f.days\n",
    "        u = round(( k.loan_amount * f)/(31+365+30),2) \n",
    "        v = k.disburse_time.year\n",
    "        return [[y,x],[v,u]]"
   ]
  },
  {
   "cell_type": "code",
   "execution_count": 30,
   "metadata": {
    "ExecuteTime": {
     "end_time": "2019-12-19T12:32:28.586358Z",
     "start_time": "2019-12-19T12:32:28.566124Z"
    }
   },
   "outputs": [],
   "source": [
    "temp_df1 = temp_df.loc[temp_df.differenza == 1]"
   ]
  },
  {
   "cell_type": "code",
   "execution_count": 31,
   "metadata": {
    "ExecuteTime": {
     "end_time": "2019-12-19T12:32:38.500164Z",
     "start_time": "2019-12-19T12:32:28.588104Z"
    }
   },
   "outputs": [],
   "source": [
    "listy = []\n",
    "listy = temp_df1.apply(lambda x : func2(x), axis=1)"
   ]
  },
  {
   "cell_type": "code",
   "execution_count": 32,
   "metadata": {
    "ExecuteTime": {
     "end_time": "2019-12-19T12:32:38.510555Z",
     "start_time": "2019-12-19T12:32:38.502179Z"
    }
   },
   "outputs": [
    {
     "data": {
      "text/plain": [
       "13            [[2014, 59.15], [2013, 2.82]]\n",
       "71            [[2015, 8.98], [2014, 28.52]]\n",
       "74           [[2017, 22.12], [2016, 71.48]]\n",
       "75         [[2017, 237.68], [2016, 202.46]]\n",
       "79          [[2014, 100.65], [2013, 22.59]]\n",
       "                         ...               \n",
       "1419576        [[2016, 0.0], [2015, 52.11]]\n",
       "1419586     [[2016, 34.51], [2015, 540.61]]\n",
       "1419589        [[2016, 0.59], [2015, 13.5]]\n",
       "1419603        [[2016, 0.7], [2015, 25.35]]\n",
       "1419604     [[2016, 11.38], [2015, 267.55]]\n",
       "Length: 64219, dtype: object"
      ]
     },
     "execution_count": 32,
     "metadata": {},
     "output_type": "execute_result"
    }
   ],
   "source": [
    "listy"
   ]
  },
  {
   "cell_type": "code",
   "execution_count": 33,
   "metadata": {
    "ExecuteTime": {
     "end_time": "2019-12-19T12:32:38.514447Z",
     "start_time": "2019-12-19T12:32:38.512289Z"
    }
   },
   "outputs": [],
   "source": [
    "d1 = {'tot' : listy}"
   ]
  },
  {
   "cell_type": "code",
   "execution_count": 34,
   "metadata": {
    "ExecuteTime": {
     "end_time": "2019-12-19T12:32:38.523216Z",
     "start_time": "2019-12-19T12:32:38.515978Z"
    }
   },
   "outputs": [],
   "source": [
    "df2 = pd.DataFrame(d1)"
   ]
  },
  {
   "cell_type": "code",
   "execution_count": 35,
   "metadata": {
    "ExecuteTime": {
     "end_time": "2019-12-19T12:32:49.751874Z",
     "start_time": "2019-12-19T12:32:38.524877Z"
    }
   },
   "outputs": [],
   "source": [
    "df4 = df2.tot.apply(pd.Series)\n",
    "df4.columns = ['data1', 'data2']\n",
    "df2 = df4['data1']\n",
    "df4 = df4['data2']"
   ]
  },
  {
   "cell_type": "code",
   "execution_count": 36,
   "metadata": {
    "ExecuteTime": {
     "end_time": "2019-12-19T12:32:59.670442Z",
     "start_time": "2019-12-19T12:32:49.754076Z"
    }
   },
   "outputs": [],
   "source": [
    "d1 = {'tot' : df2}\n",
    "df2 = pd.DataFrame(d1)\n",
    "df5 = df2.tot.apply(pd.Series)\n",
    "df5.columns = ['year', 'total']"
   ]
  },
  {
   "cell_type": "code",
   "execution_count": 37,
   "metadata": {
    "ExecuteTime": {
     "end_time": "2019-12-19T12:32:59.682695Z",
     "start_time": "2019-12-19T12:32:59.672540Z"
    }
   },
   "outputs": [
    {
     "data": {
      "text/html": [
       "<div>\n",
       "<style scoped>\n",
       "    .dataframe tbody tr th:only-of-type {\n",
       "        vertical-align: middle;\n",
       "    }\n",
       "\n",
       "    .dataframe tbody tr th {\n",
       "        vertical-align: top;\n",
       "    }\n",
       "\n",
       "    .dataframe thead th {\n",
       "        text-align: right;\n",
       "    }\n",
       "</style>\n",
       "<table border=\"1\" class=\"dataframe\">\n",
       "  <thead>\n",
       "    <tr style=\"text-align: right;\">\n",
       "      <th></th>\n",
       "      <th>year</th>\n",
       "      <th>total</th>\n",
       "    </tr>\n",
       "  </thead>\n",
       "  <tbody>\n",
       "    <tr>\n",
       "      <th>13</th>\n",
       "      <td>2014.0</td>\n",
       "      <td>59.15</td>\n",
       "    </tr>\n",
       "    <tr>\n",
       "      <th>71</th>\n",
       "      <td>2015.0</td>\n",
       "      <td>8.98</td>\n",
       "    </tr>\n",
       "    <tr>\n",
       "      <th>74</th>\n",
       "      <td>2017.0</td>\n",
       "      <td>22.12</td>\n",
       "    </tr>\n",
       "    <tr>\n",
       "      <th>75</th>\n",
       "      <td>2017.0</td>\n",
       "      <td>237.68</td>\n",
       "    </tr>\n",
       "    <tr>\n",
       "      <th>79</th>\n",
       "      <td>2014.0</td>\n",
       "      <td>100.65</td>\n",
       "    </tr>\n",
       "    <tr>\n",
       "      <th>...</th>\n",
       "      <td>...</td>\n",
       "      <td>...</td>\n",
       "    </tr>\n",
       "    <tr>\n",
       "      <th>1419576</th>\n",
       "      <td>2016.0</td>\n",
       "      <td>0.00</td>\n",
       "    </tr>\n",
       "    <tr>\n",
       "      <th>1419586</th>\n",
       "      <td>2016.0</td>\n",
       "      <td>34.51</td>\n",
       "    </tr>\n",
       "    <tr>\n",
       "      <th>1419589</th>\n",
       "      <td>2016.0</td>\n",
       "      <td>0.59</td>\n",
       "    </tr>\n",
       "    <tr>\n",
       "      <th>1419603</th>\n",
       "      <td>2016.0</td>\n",
       "      <td>0.70</td>\n",
       "    </tr>\n",
       "    <tr>\n",
       "      <th>1419604</th>\n",
       "      <td>2016.0</td>\n",
       "      <td>11.38</td>\n",
       "    </tr>\n",
       "  </tbody>\n",
       "</table>\n",
       "<p>64219 rows × 2 columns</p>\n",
       "</div>"
      ],
      "text/plain": [
       "           year   total\n",
       "13       2014.0   59.15\n",
       "71       2015.0    8.98\n",
       "74       2017.0   22.12\n",
       "75       2017.0  237.68\n",
       "79       2014.0  100.65\n",
       "...         ...     ...\n",
       "1419576  2016.0    0.00\n",
       "1419586  2016.0   34.51\n",
       "1419589  2016.0    0.59\n",
       "1419603  2016.0    0.70\n",
       "1419604  2016.0   11.38\n",
       "\n",
       "[64219 rows x 2 columns]"
      ]
     },
     "execution_count": 37,
     "metadata": {},
     "output_type": "execute_result"
    }
   ],
   "source": [
    "df5"
   ]
  },
  {
   "cell_type": "code",
   "execution_count": 38,
   "metadata": {
    "ExecuteTime": {
     "end_time": "2019-12-19T12:33:09.411650Z",
     "start_time": "2019-12-19T12:32:59.685540Z"
    }
   },
   "outputs": [],
   "source": [
    "d1 = {'tot' : df4}\n",
    "df2 = pd.DataFrame(d1)\n",
    "df6 = df2.tot.apply(pd.Series)\n",
    "df6.columns = ['year', 'total']"
   ]
  },
  {
   "cell_type": "code",
   "execution_count": 39,
   "metadata": {
    "ExecuteTime": {
     "end_time": "2019-12-19T12:33:09.424588Z",
     "start_time": "2019-12-19T12:33:09.413862Z"
    }
   },
   "outputs": [
    {
     "data": {
      "text/html": [
       "<div>\n",
       "<style scoped>\n",
       "    .dataframe tbody tr th:only-of-type {\n",
       "        vertical-align: middle;\n",
       "    }\n",
       "\n",
       "    .dataframe tbody tr th {\n",
       "        vertical-align: top;\n",
       "    }\n",
       "\n",
       "    .dataframe thead th {\n",
       "        text-align: right;\n",
       "    }\n",
       "</style>\n",
       "<table border=\"1\" class=\"dataframe\">\n",
       "  <thead>\n",
       "    <tr style=\"text-align: right;\">\n",
       "      <th></th>\n",
       "      <th>year</th>\n",
       "      <th>total</th>\n",
       "    </tr>\n",
       "  </thead>\n",
       "  <tbody>\n",
       "    <tr>\n",
       "      <th>13</th>\n",
       "      <td>2013.0</td>\n",
       "      <td>2.82</td>\n",
       "    </tr>\n",
       "    <tr>\n",
       "      <th>71</th>\n",
       "      <td>2014.0</td>\n",
       "      <td>28.52</td>\n",
       "    </tr>\n",
       "    <tr>\n",
       "      <th>74</th>\n",
       "      <td>2016.0</td>\n",
       "      <td>71.48</td>\n",
       "    </tr>\n",
       "    <tr>\n",
       "      <th>75</th>\n",
       "      <td>2016.0</td>\n",
       "      <td>202.46</td>\n",
       "    </tr>\n",
       "    <tr>\n",
       "      <th>79</th>\n",
       "      <td>2013.0</td>\n",
       "      <td>22.59</td>\n",
       "    </tr>\n",
       "    <tr>\n",
       "      <th>...</th>\n",
       "      <td>...</td>\n",
       "      <td>...</td>\n",
       "    </tr>\n",
       "    <tr>\n",
       "      <th>1419576</th>\n",
       "      <td>2015.0</td>\n",
       "      <td>52.11</td>\n",
       "    </tr>\n",
       "    <tr>\n",
       "      <th>1419586</th>\n",
       "      <td>2015.0</td>\n",
       "      <td>540.61</td>\n",
       "    </tr>\n",
       "    <tr>\n",
       "      <th>1419589</th>\n",
       "      <td>2015.0</td>\n",
       "      <td>13.50</td>\n",
       "    </tr>\n",
       "    <tr>\n",
       "      <th>1419603</th>\n",
       "      <td>2015.0</td>\n",
       "      <td>25.35</td>\n",
       "    </tr>\n",
       "    <tr>\n",
       "      <th>1419604</th>\n",
       "      <td>2015.0</td>\n",
       "      <td>267.55</td>\n",
       "    </tr>\n",
       "  </tbody>\n",
       "</table>\n",
       "<p>64219 rows × 2 columns</p>\n",
       "</div>"
      ],
      "text/plain": [
       "           year   total\n",
       "13       2013.0    2.82\n",
       "71       2014.0   28.52\n",
       "74       2016.0   71.48\n",
       "75       2016.0  202.46\n",
       "79       2013.0   22.59\n",
       "...         ...     ...\n",
       "1419576  2015.0   52.11\n",
       "1419586  2015.0  540.61\n",
       "1419589  2015.0   13.50\n",
       "1419603  2015.0   25.35\n",
       "1419604  2015.0  267.55\n",
       "\n",
       "[64219 rows x 2 columns]"
      ]
     },
     "execution_count": 39,
     "metadata": {},
     "output_type": "execute_result"
    }
   ],
   "source": [
    "df6"
   ]
  },
  {
   "cell_type": "code",
   "execution_count": 40,
   "metadata": {
    "ExecuteTime": {
     "end_time": "2019-12-19T12:33:09.441036Z",
     "start_time": "2019-12-19T12:33:09.426381Z"
    }
   },
   "outputs": [],
   "source": [
    "df3 = df3.append(df5, ignore_index=True)\n",
    "df3 = df3.append(df6, ignore_index=True)"
   ]
  },
  {
   "cell_type": "code",
   "execution_count": 43,
   "metadata": {
    "ExecuteTime": {
     "end_time": "2019-12-19T12:35:12.135683Z",
     "start_time": "2019-12-19T12:35:12.133034Z"
    }
   },
   "outputs": [],
   "source": [
    "pd.set_option('display.float_format', lambda x: '%.5f' % x)"
   ]
  },
  {
   "cell_type": "code",
   "execution_count": 52,
   "metadata": {
    "ExecuteTime": {
     "end_time": "2019-12-19T12:37:30.503111Z",
     "start_time": "2019-12-19T12:37:30.492304Z"
    }
   },
   "outputs": [
    {
     "data": {
      "text/html": [
       "<div>\n",
       "<style scoped>\n",
       "    .dataframe tbody tr th:only-of-type {\n",
       "        vertical-align: middle;\n",
       "    }\n",
       "\n",
       "    .dataframe tbody tr th {\n",
       "        vertical-align: top;\n",
       "    }\n",
       "\n",
       "    .dataframe thead th {\n",
       "        text-align: right;\n",
       "    }\n",
       "</style>\n",
       "<table border=\"1\" class=\"dataframe\">\n",
       "  <thead>\n",
       "    <tr style=\"text-align: right;\">\n",
       "      <th></th>\n",
       "      <th>year</th>\n",
       "      <th>total</th>\n",
       "    </tr>\n",
       "  </thead>\n",
       "  <tbody>\n",
       "    <tr>\n",
       "      <th>0</th>\n",
       "      <td>2014</td>\n",
       "      <td>49.88000</td>\n",
       "    </tr>\n",
       "    <tr>\n",
       "      <th>1</th>\n",
       "      <td>2014</td>\n",
       "      <td>291.31000</td>\n",
       "    </tr>\n",
       "    <tr>\n",
       "      <th>2</th>\n",
       "      <td>2014</td>\n",
       "      <td>80.28000</td>\n",
       "    </tr>\n",
       "    <tr>\n",
       "      <th>3</th>\n",
       "      <td>2015</td>\n",
       "      <td>40.49000</td>\n",
       "    </tr>\n",
       "    <tr>\n",
       "      <th>4</th>\n",
       "      <td>2015</td>\n",
       "      <td>28.52000</td>\n",
       "    </tr>\n",
       "    <tr>\n",
       "      <th>...</th>\n",
       "      <td>...</td>\n",
       "      <td>...</td>\n",
       "    </tr>\n",
       "    <tr>\n",
       "      <th>543051</th>\n",
       "      <td>2015</td>\n",
       "      <td>52.11000</td>\n",
       "    </tr>\n",
       "    <tr>\n",
       "      <th>543052</th>\n",
       "      <td>2015</td>\n",
       "      <td>540.61000</td>\n",
       "    </tr>\n",
       "    <tr>\n",
       "      <th>543053</th>\n",
       "      <td>2015</td>\n",
       "      <td>13.50000</td>\n",
       "    </tr>\n",
       "    <tr>\n",
       "      <th>543054</th>\n",
       "      <td>2015</td>\n",
       "      <td>25.35000</td>\n",
       "    </tr>\n",
       "    <tr>\n",
       "      <th>543055</th>\n",
       "      <td>2015</td>\n",
       "      <td>267.55000</td>\n",
       "    </tr>\n",
       "  </tbody>\n",
       "</table>\n",
       "<p>543056 rows × 2 columns</p>\n",
       "</div>"
      ],
      "text/plain": [
       "        year     total\n",
       "0       2014  49.88000\n",
       "1       2014 291.31000\n",
       "2       2014  80.28000\n",
       "3       2015  40.49000\n",
       "4       2015  28.52000\n",
       "...      ...       ...\n",
       "543051  2015  52.11000\n",
       "543052  2015 540.61000\n",
       "543053  2015  13.50000\n",
       "543054  2015  25.35000\n",
       "543055  2015 267.55000\n",
       "\n",
       "[543056 rows x 2 columns]"
      ]
     },
     "execution_count": 52,
     "metadata": {},
     "output_type": "execute_result"
    }
   ],
   "source": [
    "df3"
   ]
  },
  {
   "cell_type": "code",
   "execution_count": 48,
   "metadata": {
    "ExecuteTime": {
     "end_time": "2019-12-19T12:36:42.343190Z",
     "start_time": "2019-12-19T12:36:42.333718Z"
    },
    "scrolled": true
   },
   "outputs": [],
   "source": [
    "df3.year = df3.year.astype('int')"
   ]
  },
  {
   "cell_type": "code",
   "execution_count": 51,
   "metadata": {
    "ExecuteTime": {
     "end_time": "2019-12-19T12:37:09.016848Z",
     "start_time": "2019-12-19T12:37:08.991399Z"
    }
   },
   "outputs": [
    {
     "data": {
      "text/html": [
       "<div>\n",
       "<style scoped>\n",
       "    .dataframe tbody tr th:only-of-type {\n",
       "        vertical-align: middle;\n",
       "    }\n",
       "\n",
       "    .dataframe tbody tr th {\n",
       "        vertical-align: top;\n",
       "    }\n",
       "\n",
       "    .dataframe thead th {\n",
       "        text-align: right;\n",
       "    }\n",
       "</style>\n",
       "<table border=\"1\" class=\"dataframe\">\n",
       "  <thead>\n",
       "    <tr style=\"text-align: right;\">\n",
       "      <th></th>\n",
       "      <th>total</th>\n",
       "    </tr>\n",
       "    <tr>\n",
       "      <th>year</th>\n",
       "      <th></th>\n",
       "    </tr>\n",
       "  </thead>\n",
       "  <tbody>\n",
       "    <tr>\n",
       "      <th>2011</th>\n",
       "      <td>29.93000</td>\n",
       "    </tr>\n",
       "    <tr>\n",
       "      <th>2012</th>\n",
       "      <td>74189.31000</td>\n",
       "    </tr>\n",
       "    <tr>\n",
       "      <th>2013</th>\n",
       "      <td>1445432.27000</td>\n",
       "    </tr>\n",
       "    <tr>\n",
       "      <th>2014</th>\n",
       "      <td>8922897.42000</td>\n",
       "    </tr>\n",
       "    <tr>\n",
       "      <th>2015</th>\n",
       "      <td>10741044.62000</td>\n",
       "    </tr>\n",
       "    <tr>\n",
       "      <th>2016</th>\n",
       "      <td>11705381.56000</td>\n",
       "    </tr>\n",
       "    <tr>\n",
       "      <th>2017</th>\n",
       "      <td>13531385.41000</td>\n",
       "    </tr>\n",
       "    <tr>\n",
       "      <th>2018</th>\n",
       "      <td>231284.36000</td>\n",
       "    </tr>\n",
       "  </tbody>\n",
       "</table>\n",
       "</div>"
      ],
      "text/plain": [
       "              total\n",
       "year               \n",
       "2011       29.93000\n",
       "2012    74189.31000\n",
       "2013  1445432.27000\n",
       "2014  8922897.42000\n",
       "2015 10741044.62000\n",
       "2016 11705381.56000\n",
       "2017 13531385.41000\n",
       "2018   231284.36000"
      ]
     },
     "execution_count": 51,
     "metadata": {},
     "output_type": "execute_result"
    }
   ],
   "source": [
    "df3.groupby('year').sum()"
   ]
  },
  {
   "cell_type": "code",
   "execution_count": null,
   "metadata": {},
   "outputs": [],
   "source": []
  },
  {
   "cell_type": "code",
   "execution_count": null,
   "metadata": {},
   "outputs": [],
   "source": []
  },
  {
   "cell_type": "code",
   "execution_count": null,
   "metadata": {},
   "outputs": [],
   "source": []
  },
  {
   "cell_type": "code",
   "execution_count": null,
   "metadata": {},
   "outputs": [],
   "source": []
  },
  {
   "cell_type": "code",
   "execution_count": null,
   "metadata": {},
   "outputs": [],
   "source": []
  },
  {
   "cell_type": "code",
   "execution_count": null,
   "metadata": {
    "ExecuteTime": {
     "end_time": "2019-12-19T12:33:09.598101Z",
     "start_time": "2019-12-19T12:30:30.307Z"
    }
   },
   "outputs": [],
   "source": [
    "def func(k,df1):\n",
    "        f = k.loc[k.differenza == 0]\n",
    "        x = round(( f.loan_amount * f.duration)/(31+365+30),2)\n",
    "        y = f['planned_expiration_time'].dt.year\n",
    "        df1 = df1.append({'Year' : y, 'Total' : x} , ignore_index=True)\n",
    "        f = k.loc[k.differenza == 1]\n",
    "        lim_inf = datetime.datetime(f.planned_expiration_time.dt.year, 1,1)\n",
    "        z = f.planned_expiration_time - lim_inf\n",
    "        z = z.dt.days\n",
    "        x = ( f.loan_amount * z)/(31+365+30) \n",
    "        y = f.planned_expiration_time.dt.year\n",
    "        df1 = df1.append({'Year' : y, 'Total' : x} , ignore_index=True)\n",
    "        lim_sup = datetime.datetime(f.disburse_time.year, 12, 31)\n",
    "        z = lim_sup - f.disburse_time\n",
    "        z = z.days\n",
    "        x = ( f.loan_amount * z)/(31+365+30) \n",
    "        y = f.disburse_time.year\n",
    "        df1 = df1.append({'Year' : y, 'Total' : x} , ignore_index=True)    \n",
    "        return 0"
   ]
  },
  {
   "cell_type": "markdown",
   "metadata": {
    "ExecuteTime": {
     "end_time": "2019-12-19T10:54:50.203035Z",
     "start_time": "2019-12-19T10:54:50.057245Z"
    }
   },
   "source": [
    "x = round(( temp_df1.loan_amount * temp_df1.duration)/(31+365+30),2)\n",
    "y = temp_df1['planned_expiration_time'].dt.year\n",
    "temp_df_years.append({'Year' : y, 'Total' : x} , ignore_index=True)"
   ]
  },
  {
   "cell_type": "code",
   "execution_count": null,
   "metadata": {},
   "outputs": [],
   "source": []
  },
  {
   "cell_type": "code",
   "execution_count": null,
   "metadata": {},
   "outputs": [],
   "source": []
  },
  {
   "cell_type": "code",
   "execution_count": null,
   "metadata": {},
   "outputs": [],
   "source": []
  },
  {
   "cell_type": "code",
   "execution_count": null,
   "metadata": {},
   "outputs": [],
   "source": []
  },
  {
   "cell_type": "code",
   "execution_count": null,
   "metadata": {
    "ExecuteTime": {
     "end_time": "2019-12-19T12:33:09.602805Z",
     "start_time": "2019-12-19T12:30:30.316Z"
    }
   },
   "outputs": [],
   "source": [
    "def func(k):\n",
    "    if k[2]==0:\n",
    "        x = round(( k[3] * k[4])/(31+365+30),2)\n",
    "        y = k[0].year\n",
    "        temp_df_years = temp_df_years.append({'Year' : int(y), 'Total' : x} , ignore_index=True)\n",
    "    else:\n",
    "        lim_inf = datetime.datetime(k[0].year, 1,1)\n",
    "        z = k[0] - lim_inf\n",
    "        z = z.days\n",
    "        x = ( k[3] * z)/(31+365+30) \n",
    "        y = k[0].year\n",
    "        temp_df_years = temp_df_years.append({'Year' : int(y), 'Total' : x} , ignore_index=True)\n",
    "        lim_sup = datetime.datetime(k[1].year, 12, 31)\n",
    "        z = lim_sup - k[1]\n",
    "        z = z.days\n",
    "        x = ( k[3] * z)/(31+365+30) \n",
    "        y = k[1].year\n",
    "        temp_df_years = temp_df_years.append({'Year' : int(y), 'Total' : x} , ignore_index=True)"
   ]
  },
  {
   "cell_type": "code",
   "execution_count": null,
   "metadata": {
    "ExecuteTime": {
     "end_time": "2019-12-19T12:33:09.604994Z",
     "start_time": "2019-12-19T12:30:30.323Z"
    }
   },
   "outputs": [],
   "source": [
    "i=0\n",
    "while i!=478837:\n",
    "    if temp_np[i][2]==0:\n",
    "        x = round(( temp_np[i][3] * temp_np[i][4])/(31+365+30),2)\n",
    "        y = temp_np[i][0].year\n",
    "        temp_df_years = temp_df_years.append({'Year' : int(y), 'Total' : x} , ignore_index=True)\n",
    "    else:\n",
    "        lim_inf = datetime.datetime(temp_np[i][0].year, 1,1)\n",
    "        z = temp_np[i][0] - lim_inf\n",
    "        z = z.days\n",
    "        x = ( temp_np[i][3] * z)/(31+365+30) \n",
    "        y = temp_np[i][0].year\n",
    "        temp_df_years = temp_df_years.append({'Year' : int(y), 'Total' : x} , ignore_index=True)\n",
    "        lim_sup = datetime.datetime(temp_np[i][1].year, 12, 31)\n",
    "        z = lim_sup - temp_np[i][1]\n",
    "        z = z.days\n",
    "        x = ( temp_np[i][3] * z)/(31+365+30) \n",
    "        y = temp_np[i][1].year\n",
    "        temp_df_years = temp_df_years.append({'Year' : int(y), 'Total' : x} , ignore_index=True)\n",
    "    i+=1"
   ]
  },
  {
   "cell_type": "code",
   "execution_count": null,
   "metadata": {},
   "outputs": [],
   "source": []
  }
 ],
 "metadata": {
  "kernelspec": {
   "display_name": "Python 3",
   "language": "python",
   "name": "python3"
  },
  "language_info": {
   "codemirror_mode": {
    "name": "ipython",
    "version": 3
   },
   "file_extension": ".py",
   "mimetype": "text/x-python",
   "name": "python",
   "nbconvert_exporter": "python",
   "pygments_lexer": "ipython3",
   "version": "3.8.0"
  }
 },
 "nbformat": 4,
 "nbformat_minor": 2
}
