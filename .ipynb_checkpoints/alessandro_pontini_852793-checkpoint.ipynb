{
 "cells": [
  {
   "cell_type": "markdown",
   "metadata": {},
   "source": [
    "#   <span style=\"color:#5F9EA0\">Progetto Python Alessandro Pontini Matricola: 852793</span>"
   ]
  },
  {
   "cell_type": "markdown",
   "metadata": {},
   "source": [
    "***"
   ]
  },
  {
   "cell_type": "code",
   "execution_count": 1,
   "metadata": {
    "ExecuteTime": {
     "end_time": "2019-11-26T14:44:26.164512Z",
     "start_time": "2019-11-26T14:44:25.480641Z"
    }
   },
   "outputs": [],
   "source": [
    "# importo librerie\n",
    "import pandas as pd\n",
    "import datetime\n",
    "import numpy as np"
   ]
  },
  {
   "cell_type": "code",
   "execution_count": 2,
   "metadata": {
    "ExecuteTime": {
     "end_time": "2019-11-26T14:44:26.168779Z",
     "start_time": "2019-11-26T14:44:26.166347Z"
    }
   },
   "outputs": [],
   "source": [
    "# scrivo directory\n",
    "dire = '/Users/alessandropontini/Desktop/progetto_python/additional-kiva-snapshot/loans_lenders.csv'\n",
    "dire1 = '/Users/alessandropontini/Desktop/progetto_python/additional-kiva-snapshot/loans.csv'\n",
    "dire2 = '/Users/alessandropontini/Desktop/progetto_python/additional-kiva-snapshot/lenders.csv'\n",
    "dire3 = '/Users/alessandropontini/Desktop/progetto_python/additional-kiva-snapshot/country_stats.csv'"
   ]
  },
  {
   "cell_type": "code",
   "execution_count": 3,
   "metadata": {
    "ExecuteTime": {
     "end_time": "2019-11-26T14:44:26.177416Z",
     "start_time": "2019-11-26T14:44:26.171062Z"
    }
   },
   "outputs": [],
   "source": [
    "# df temporanei\n",
    "\n",
    "temp_df3 = pd.DataFrame()\n",
    "temp_df4 = pd.DataFrame()\n",
    "temp_df5 = pd.DataFrame()\n",
    "temp_df_NA_lenders = pd.DataFrame()\n",
    "total_lenders_amount = pd.DataFrame()\n"
   ]
  },
  {
   "cell_type": "markdown",
   "metadata": {},
   "source": [
    "***"
   ]
  },
  {
   "cell_type": "markdown",
   "metadata": {},
   "source": [
    "##  <span style=\"color:red\">1) Normalize the loan_lenders table. In the normalized table, each row must have one loan_id and one lender.</span>"
   ]
  },
  {
   "cell_type": "markdown",
   "metadata": {},
   "source": [
    "***"
   ]
  },
  {
   "cell_type": "code",
   "execution_count": 4,
   "metadata": {
    "ExecuteTime": {
     "end_time": "2019-11-26T14:44:29.193126Z",
     "start_time": "2019-11-26T14:44:26.179686Z"
    }
   },
   "outputs": [],
   "source": [
    "# leggo il file csv\n",
    "df_lenders_not_normalized = pd.read_csv(dire)"
   ]
  },
  {
   "cell_type": "code",
   "execution_count": 5,
   "metadata": {
    "ExecuteTime": {
     "end_time": "2019-11-26T14:44:41.164551Z",
     "start_time": "2019-11-26T14:44:29.195129Z"
    }
   },
   "outputs": [],
   "source": [
    "# impongo index=loan_id per poter usare explode che per ogni loan_id mi prende ogni elemento della lista creata con la strip \n",
    "# e mi crea un nuove righe in un nuovo data set\n",
    "df_lenders_normalized = df_lenders_not_normalized.set_index('loan_id')['lenders'].str.split(pat=',').explode().reset_index()"
   ]
  },
  {
   "cell_type": "code",
   "execution_count": 6,
   "metadata": {
    "ExecuteTime": {
     "end_time": "2019-11-26T14:44:41.179624Z",
     "start_time": "2019-11-26T14:44:41.166051Z"
    }
   },
   "outputs": [
    {
     "data": {
      "text/html": [
       "<div>\n",
       "<style scoped>\n",
       "    .dataframe tbody tr th:only-of-type {\n",
       "        vertical-align: middle;\n",
       "    }\n",
       "\n",
       "    .dataframe tbody tr th {\n",
       "        vertical-align: top;\n",
       "    }\n",
       "\n",
       "    .dataframe thead th {\n",
       "        text-align: right;\n",
       "    }\n",
       "</style>\n",
       "<table border=\"1\" class=\"dataframe\">\n",
       "  <thead>\n",
       "    <tr style=\"text-align: right;\">\n",
       "      <th></th>\n",
       "      <th>loan_id</th>\n",
       "      <th>lenders</th>\n",
       "    </tr>\n",
       "  </thead>\n",
       "  <tbody>\n",
       "    <tr>\n",
       "      <th>0</th>\n",
       "      <td>483693</td>\n",
       "      <td>muc888</td>\n",
       "    </tr>\n",
       "    <tr>\n",
       "      <th>1</th>\n",
       "      <td>483693</td>\n",
       "      <td>sam4326</td>\n",
       "    </tr>\n",
       "    <tr>\n",
       "      <th>2</th>\n",
       "      <td>483693</td>\n",
       "      <td>camaran3922</td>\n",
       "    </tr>\n",
       "    <tr>\n",
       "      <th>3</th>\n",
       "      <td>483693</td>\n",
       "      <td>lachheb1865</td>\n",
       "    </tr>\n",
       "    <tr>\n",
       "      <th>4</th>\n",
       "      <td>483693</td>\n",
       "      <td>rebecca3499</td>\n",
       "    </tr>\n",
       "  </tbody>\n",
       "</table>\n",
       "</div>"
      ],
      "text/plain": [
       "   loan_id       lenders\n",
       "0   483693        muc888\n",
       "1   483693       sam4326\n",
       "2   483693   camaran3922\n",
       "3   483693   lachheb1865\n",
       "4   483693   rebecca3499"
      ]
     },
     "execution_count": 6,
     "metadata": {},
     "output_type": "execute_result"
    }
   ],
   "source": [
    "# mostro risultato\n",
    "df_lenders_normalized.head()"
   ]
  },
  {
   "cell_type": "markdown",
   "metadata": {
    "ExecuteTime": {
     "end_time": "2019-11-20T18:45:34.910120Z",
     "start_time": "2019-11-20T18:45:34.903829Z"
    }
   },
   "source": [
    "***"
   ]
  },
  {
   "cell_type": "markdown",
   "metadata": {},
   "source": [
    "##  <span style=\"color:red\">2) For each loan, add a column duration corresponding to the number of days between the disburse time and the planned expiration time. If any of those two dates is missing, also the duration must be missing.</span>"
   ]
  },
  {
   "cell_type": "markdown",
   "metadata": {},
   "source": [
    "***"
   ]
  },
  {
   "cell_type": "code",
   "execution_count": 7,
   "metadata": {
    "ExecuteTime": {
     "end_time": "2019-11-26T14:45:49.214540Z",
     "start_time": "2019-11-26T14:44:41.181729Z"
    }
   },
   "outputs": [],
   "source": [
    "# leggo il file loans, ma per la quantità di dati che devo leggere preferisco una lettura più accurata\n",
    "# successivamente preferisco leggere le date come tali e non come stringhe.\n",
    "df_loans = pd.read_csv(dire1, parse_dates=['disburse_time', 'planned_expiration_time'])"
   ]
  },
  {
   "cell_type": "code",
   "execution_count": 8,
   "metadata": {
    "ExecuteTime": {
     "end_time": "2019-11-26T14:45:50.420267Z",
     "start_time": "2019-11-26T14:45:49.481037Z"
    }
   },
   "outputs": [],
   "source": [
    "# ci sono delle date che non hanno disburse_time > planned_expiration_time, non ha senso un prestito che si estingue\n",
    "# prima della data di sborso, perciò controllo se ce ne sono e in effetti si ci sono.\n",
    "# creo un df che li contiene df_temp\n",
    "temp_df = df_loans.loc[df_loans['disburse_time'].dt.year > df_loans['planned_expiration_time'].dt.year]\n"
   ]
  },
  {
   "cell_type": "code",
   "execution_count": 9,
   "metadata": {
    "ExecuteTime": {
     "end_time": "2019-11-26T14:45:50.499402Z",
     "start_time": "2019-11-26T14:45:50.423658Z"
    },
    "scrolled": true
   },
   "outputs": [
    {
     "data": {
      "text/html": [
       "<div>\n",
       "<style scoped>\n",
       "    .dataframe tbody tr th:only-of-type {\n",
       "        vertical-align: middle;\n",
       "    }\n",
       "\n",
       "    .dataframe tbody tr th {\n",
       "        vertical-align: top;\n",
       "    }\n",
       "\n",
       "    .dataframe thead th {\n",
       "        text-align: right;\n",
       "    }\n",
       "</style>\n",
       "<table border=\"1\" class=\"dataframe\">\n",
       "  <thead>\n",
       "    <tr style=\"text-align: right;\">\n",
       "      <th></th>\n",
       "      <th>disburse_time</th>\n",
       "      <th>planned_expiration_time</th>\n",
       "    </tr>\n",
       "  </thead>\n",
       "  <tbody>\n",
       "    <tr>\n",
       "      <th>7391</th>\n",
       "      <td>2017-02-01 08:00:00+00:00</td>\n",
       "      <td>2016-12-27 15:00:04+00:00</td>\n",
       "    </tr>\n",
       "    <tr>\n",
       "      <th>7393</th>\n",
       "      <td>2017-01-13 08:00:00+00:00</td>\n",
       "      <td>2016-12-28 00:10:02+00:00</td>\n",
       "    </tr>\n",
       "    <tr>\n",
       "      <th>7463</th>\n",
       "      <td>2017-02-01 08:00:00+00:00</td>\n",
       "      <td>2016-12-28 19:50:06+00:00</td>\n",
       "    </tr>\n",
       "    <tr>\n",
       "      <th>7526</th>\n",
       "      <td>2017-01-13 08:00:00+00:00</td>\n",
       "      <td>2016-12-28 00:20:03+00:00</td>\n",
       "    </tr>\n",
       "    <tr>\n",
       "      <th>7528</th>\n",
       "      <td>2017-02-01 08:00:00+00:00</td>\n",
       "      <td>2016-12-28 02:20:04+00:00</td>\n",
       "    </tr>\n",
       "    <tr>\n",
       "      <th>...</th>\n",
       "      <td>...</td>\n",
       "      <td>...</td>\n",
       "    </tr>\n",
       "    <tr>\n",
       "      <th>1403812</th>\n",
       "      <td>2017-02-01 08:00:00+00:00</td>\n",
       "      <td>2016-12-15 13:10:03+00:00</td>\n",
       "    </tr>\n",
       "    <tr>\n",
       "      <th>1403879</th>\n",
       "      <td>2017-02-01 08:00:00+00:00</td>\n",
       "      <td>2016-12-22 13:10:05+00:00</td>\n",
       "    </tr>\n",
       "    <tr>\n",
       "      <th>1404098</th>\n",
       "      <td>2017-02-01 08:00:00+00:00</td>\n",
       "      <td>2016-12-24 03:10:02+00:00</td>\n",
       "    </tr>\n",
       "    <tr>\n",
       "      <th>1407090</th>\n",
       "      <td>2017-01-06 08:00:00+00:00</td>\n",
       "      <td>2016-11-29 19:50:02+00:00</td>\n",
       "    </tr>\n",
       "    <tr>\n",
       "      <th>1417158</th>\n",
       "      <td>2016-02-22 08:00:00+00:00</td>\n",
       "      <td>2015-12-28 11:00:03+00:00</td>\n",
       "    </tr>\n",
       "  </tbody>\n",
       "</table>\n",
       "<p>1546 rows × 2 columns</p>\n",
       "</div>"
      ],
      "text/plain": [
       "                    disburse_time   planned_expiration_time\n",
       "7391    2017-02-01 08:00:00+00:00 2016-12-27 15:00:04+00:00\n",
       "7393    2017-01-13 08:00:00+00:00 2016-12-28 00:10:02+00:00\n",
       "7463    2017-02-01 08:00:00+00:00 2016-12-28 19:50:06+00:00\n",
       "7526    2017-01-13 08:00:00+00:00 2016-12-28 00:20:03+00:00\n",
       "7528    2017-02-01 08:00:00+00:00 2016-12-28 02:20:04+00:00\n",
       "...                           ...                       ...\n",
       "1403812 2017-02-01 08:00:00+00:00 2016-12-15 13:10:03+00:00\n",
       "1403879 2017-02-01 08:00:00+00:00 2016-12-22 13:10:05+00:00\n",
       "1404098 2017-02-01 08:00:00+00:00 2016-12-24 03:10:02+00:00\n",
       "1407090 2017-01-06 08:00:00+00:00 2016-11-29 19:50:02+00:00\n",
       "1417158 2016-02-22 08:00:00+00:00 2015-12-28 11:00:03+00:00\n",
       "\n",
       "[1546 rows x 2 columns]"
      ]
     },
     "execution_count": 9,
     "metadata": {},
     "output_type": "execute_result"
    }
   ],
   "source": [
    "temp_df[['disburse_time', 'planned_expiration_time']]"
   ]
  },
  {
   "cell_type": "code",
   "execution_count": 10,
   "metadata": {
    "ExecuteTime": {
     "end_time": "2019-11-26T14:45:50.611905Z",
     "start_time": "2019-11-26T14:45:50.501485Z"
    }
   },
   "outputs": [
    {
     "name": "stderr",
     "output_type": "stream",
     "text": [
      "/Library/Frameworks/Python.framework/Versions/3.8/lib/python3.8/site-packages/pandas/core/generic.py:5208: SettingWithCopyWarning: \n",
      "A value is trying to be set on a copy of a slice from a DataFrame.\n",
      "Try using .loc[row_indexer,col_indexer] = value instead\n",
      "\n",
      "See the caveats in the documentation: http://pandas.pydata.org/pandas-docs/stable/user_guide/indexing.html#returning-a-view-versus-a-copy\n",
      "  self[name] = value\n"
     ]
    }
   ],
   "source": [
    "for i in temp_df:\n",
    "    x = temp_df.disburse_time\n",
    "    temp_df.disburse_time = temp_df.planned_expiration_time\n",
    "    temp_df.planned_expiration_time = x"
   ]
  },
  {
   "cell_type": "code",
   "execution_count": 11,
   "metadata": {
    "ExecuteTime": {
     "end_time": "2019-11-26T14:45:50.891178Z",
     "start_time": "2019-11-26T14:45:50.615376Z"
    }
   },
   "outputs": [],
   "source": [
    "# uso funzione isin per vedere i loan_id che coincidano e cambio df_loan con i nuovi di df_temp corretti\n",
    "df_loans.loc[df_loans.loan_id.isin(temp_df.loan_id), ['disburse_time', 'planned_expiration_time']] = temp_df[['disburse_time', 'planned_expiration_time']]"
   ]
  },
  {
   "cell_type": "code",
   "execution_count": 12,
   "metadata": {
    "ExecuteTime": {
     "end_time": "2019-11-26T14:45:50.962673Z",
     "start_time": "2019-11-26T14:45:50.896970Z"
    }
   },
   "outputs": [
    {
     "data": {
      "text/html": [
       "<div>\n",
       "<style scoped>\n",
       "    .dataframe tbody tr th:only-of-type {\n",
       "        vertical-align: middle;\n",
       "    }\n",
       "\n",
       "    .dataframe tbody tr th {\n",
       "        vertical-align: top;\n",
       "    }\n",
       "\n",
       "    .dataframe thead th {\n",
       "        text-align: right;\n",
       "    }\n",
       "</style>\n",
       "<table border=\"1\" class=\"dataframe\">\n",
       "  <thead>\n",
       "    <tr style=\"text-align: right;\">\n",
       "      <th></th>\n",
       "      <th>loan_id</th>\n",
       "      <th>duration</th>\n",
       "    </tr>\n",
       "  </thead>\n",
       "  <tbody>\n",
       "    <tr>\n",
       "      <th>0</th>\n",
       "      <td>657307</td>\n",
       "      <td>53 days 19:30:06</td>\n",
       "    </tr>\n",
       "    <tr>\n",
       "      <th>1</th>\n",
       "      <td>657259</td>\n",
       "      <td>96 days 14:25:07</td>\n",
       "    </tr>\n",
       "    <tr>\n",
       "      <th>2</th>\n",
       "      <td>658010</td>\n",
       "      <td>37 days 13:10:05</td>\n",
       "    </tr>\n",
       "    <tr>\n",
       "      <th>3</th>\n",
       "      <td>659347</td>\n",
       "      <td>34 days 19:10:02</td>\n",
       "    </tr>\n",
       "    <tr>\n",
       "      <th>4</th>\n",
       "      <td>656933</td>\n",
       "      <td>57 days 22:10:02</td>\n",
       "    </tr>\n",
       "    <tr>\n",
       "      <th>...</th>\n",
       "      <td>...</td>\n",
       "      <td>...</td>\n",
       "    </tr>\n",
       "    <tr>\n",
       "      <th>1419602</th>\n",
       "      <td>988180</td>\n",
       "      <td>39 days 17:00:03</td>\n",
       "    </tr>\n",
       "    <tr>\n",
       "      <th>1419603</th>\n",
       "      <td>988213</td>\n",
       "      <td>39 days 08:40:07</td>\n",
       "    </tr>\n",
       "    <tr>\n",
       "      <th>1419604</th>\n",
       "      <td>989109</td>\n",
       "      <td>51 days 14:20:04</td>\n",
       "    </tr>\n",
       "    <tr>\n",
       "      <th>1419605</th>\n",
       "      <td>989143</td>\n",
       "      <td>63 days 00:50:02</td>\n",
       "    </tr>\n",
       "    <tr>\n",
       "      <th>1419606</th>\n",
       "      <td>989240</td>\n",
       "      <td>61 days 12:50:06</td>\n",
       "    </tr>\n",
       "  </tbody>\n",
       "</table>\n",
       "<p>1419607 rows × 2 columns</p>\n",
       "</div>"
      ],
      "text/plain": [
       "         loan_id         duration\n",
       "0         657307 53 days 19:30:06\n",
       "1         657259 96 days 14:25:07\n",
       "2         658010 37 days 13:10:05\n",
       "3         659347 34 days 19:10:02\n",
       "4         656933 57 days 22:10:02\n",
       "...          ...              ...\n",
       "1419602   988180 39 days 17:00:03\n",
       "1419603   988213 39 days 08:40:07\n",
       "1419604   989109 51 days 14:20:04\n",
       "1419605   989143 63 days 00:50:02\n",
       "1419606   989240 61 days 12:50:06\n",
       "\n",
       "[1419607 rows x 2 columns]"
      ]
     },
     "execution_count": 12,
     "metadata": {},
     "output_type": "execute_result"
    }
   ],
   "source": [
    "# creo una colonna per la duration e faccio differenza, dopo di che mostro il risultato\n",
    "df_loans['duration'] = df_loans['planned_expiration_time'] - df_loans['disburse_time']\n",
    "df_loans[['loan_id','duration']]"
   ]
  },
  {
   "cell_type": "markdown",
   "metadata": {},
   "source": [
    "***"
   ]
  },
  {
   "cell_type": "markdown",
   "metadata": {},
   "source": [
    "## <span style=\"color:red\">3) Find the borrowers that have funded at least twice.</span>"
   ]
  },
  {
   "cell_type": "markdown",
   "metadata": {},
   "source": [
    "***"
   ]
  },
  {
   "cell_type": "code",
   "execution_count": 13,
   "metadata": {
    "ExecuteTime": {
     "end_time": "2019-11-26T14:46:03.805717Z",
     "start_time": "2019-11-26T14:45:50.964404Z"
    }
   },
   "outputs": [
    {
     "data": {
      "text/plain": [
       "Anonymous Group    7669\n",
       "Mary               3963\n",
       "Elizabeth          3787\n",
       "Maria              3244\n",
       "Josephine          2779\n",
       "                   ... \n",
       "Nirabati              2\n",
       "Baby Rose             2\n",
       "Hodeliza              2\n",
       "Qudratullo            2\n",
       "Gazmor                2\n",
       "Name: loan_name, Length: 105590, dtype: int64"
      ]
     },
     "execution_count": 13,
     "metadata": {},
     "output_type": "execute_result"
    }
   ],
   "source": [
    "# creo lista temporanea in cui salvo tutti i loan_name con il value_counts che mi conta quante volte è presente\n",
    "# e poi chiedo alla lista solo quelli >1\n",
    "temp_df = df_loans.loc[df_loans.status == 'funded']\n",
    "temp_df = temp_df['loan_name'].value_counts()\n",
    "temp_df[temp_df>1]"
   ]
  },
  {
   "cell_type": "markdown",
   "metadata": {},
   "source": [
    "***"
   ]
  },
  {
   "cell_type": "markdown",
   "metadata": {},
   "source": [
    "## <span style=\"color:red\">4) For each country, compute how many loans have involved that country as borrowers.</span>\n"
   ]
  },
  {
   "cell_type": "markdown",
   "metadata": {},
   "source": [
    "***"
   ]
  },
  {
   "cell_type": "code",
   "execution_count": 14,
   "metadata": {
    "ExecuteTime": {
     "end_time": "2019-11-26T14:46:03.974549Z",
     "start_time": "2019-11-26T14:46:03.812694Z"
    }
   },
   "outputs": [
    {
     "data": {
      "text/plain": [
       "country_code\n",
       "AF     2337\n",
       "AL     3075\n",
       "AM    13952\n",
       "AZ    10172\n",
       "BA      608\n",
       "      ...  \n",
       "XK     2178\n",
       "YE     4206\n",
       "ZA      633\n",
       "ZM     1277\n",
       "ZW     5513\n",
       "Length: 95, dtype: int64"
      ]
     },
     "execution_count": 14,
     "metadata": {},
     "output_type": "execute_result"
    }
   ],
   "source": [
    "# suppongo che in loans che country_code identifichi le nazionalità delle persone perciò con una groupby posso raggrupparle\n",
    "# e con una size so il numero presente per ogni nazione\n",
    "df_loans.groupby('country_code').size()"
   ]
  },
  {
   "cell_type": "markdown",
   "metadata": {},
   "source": [
    "***"
   ]
  },
  {
   "cell_type": "markdown",
   "metadata": {},
   "source": [
    "## <span style=\"color:red\"> 5) For each country, compute the overall amount of money borrowed.</span>"
   ]
  },
  {
   "cell_type": "markdown",
   "metadata": {},
   "source": [
    "***"
   ]
  },
  {
   "cell_type": "code",
   "execution_count": 15,
   "metadata": {
    "ExecuteTime": {
     "end_time": "2019-11-26T14:46:04.095688Z",
     "start_time": "2019-11-26T14:46:03.977745Z"
    },
    "scrolled": true
   },
   "outputs": [
    {
     "data": {
      "text/plain": [
       "country_code\n",
       "AF     1967950.0\n",
       "AL     4307350.0\n",
       "AM    22950475.0\n",
       "AZ    14784625.0\n",
       "BA      477250.0\n",
       "         ...    \n",
       "XK     3083025.0\n",
       "YE     3444000.0\n",
       "ZA     1006525.0\n",
       "ZM     1978975.0\n",
       "ZW     5851875.0\n",
       "Name: loan_amount, Length: 95, dtype: float64"
      ]
     },
     "execution_count": 15,
     "metadata": {},
     "output_type": "execute_result"
    }
   ],
   "source": [
    "# raggruppo in base allo stato di appartenenza scegliendo di mostrare la colonna loan_amount e sommo i risultati.\n",
    "df_loans.groupby('country_code')['loan_amount'].sum()"
   ]
  },
  {
   "cell_type": "markdown",
   "metadata": {},
   "source": [
    "***"
   ]
  },
  {
   "cell_type": "markdown",
   "metadata": {},
   "source": [
    "## <span style=\"color:red\">6) Like the previous point, but expressed as a percentage of the overall amount lent.</span>"
   ]
  },
  {
   "cell_type": "markdown",
   "metadata": {},
   "source": [
    "***"
   ]
  },
  {
   "cell_type": "code",
   "execution_count": 16,
   "metadata": {
    "ExecuteTime": {
     "end_time": "2019-11-26T14:46:04.122747Z",
     "start_time": "2019-11-26T14:46:04.098617Z"
    }
   },
   "outputs": [],
   "source": [
    "temp_df = df_loans['loan_amount'].sum()"
   ]
  },
  {
   "cell_type": "code",
   "execution_count": 17,
   "metadata": {
    "ExecuteTime": {
     "end_time": "2019-11-26T14:46:04.247643Z",
     "start_time": "2019-11-26T14:46:04.125106Z"
    }
   },
   "outputs": [
    {
     "data": {
      "text/plain": [
       "country_code\n",
       "AF    0.166573\n",
       "AL    0.364586\n",
       "AM    1.942589\n",
       "AZ    1.251410\n",
       "BA    0.040396\n",
       "        ...   \n",
       "XK    0.260955\n",
       "YE    0.291509\n",
       "ZA    0.085195\n",
       "ZM    0.167506\n",
       "ZW    0.495318\n",
       "Name: loan_amount, Length: 95, dtype: float64"
      ]
     },
     "execution_count": 17,
     "metadata": {},
     "output_type": "execute_result"
    }
   ],
   "source": [
    "df_loans.groupby('country_code')['loan_amount'].sum()/temp_df*100"
   ]
  },
  {
   "cell_type": "markdown",
   "metadata": {},
   "source": [
    "***"
   ]
  },
  {
   "cell_type": "markdown",
   "metadata": {},
   "source": [
    "## <span style=\"color:red\">7) Like the three previous points, but split for each year (with respect to disburse time).</span>"
   ]
  },
  {
   "cell_type": "markdown",
   "metadata": {},
   "source": [
    "***"
   ]
  },
  {
   "cell_type": "code",
   "execution_count": 18,
   "metadata": {
    "ExecuteTime": {
     "end_time": "2019-11-26T14:46:05.157593Z",
     "start_time": "2019-11-26T14:46:04.249870Z"
    }
   },
   "outputs": [],
   "source": [
    "temp_df = df_loans.set_index('disburse_time')"
   ]
  },
  {
   "cell_type": "code",
   "execution_count": 19,
   "metadata": {
    "ExecuteTime": {
     "end_time": "2019-11-26T14:46:30.934070Z",
     "start_time": "2019-11-26T14:46:05.160424Z"
    }
   },
   "outputs": [
    {
     "data": {
      "text/plain": [
       "country_code  disburse_time            \n",
       "AF            2007-12-31 00:00:00+00:00     408\n",
       "              2008-12-31 00:00:00+00:00     370\n",
       "              2009-12-31 00:00:00+00:00     678\n",
       "              2010-12-31 00:00:00+00:00     632\n",
       "              2011-12-31 00:00:00+00:00     247\n",
       "                                           ... \n",
       "ZW            2013-12-31 00:00:00+00:00     426\n",
       "              2014-12-31 00:00:00+00:00    2078\n",
       "              2015-12-31 00:00:00+00:00     600\n",
       "              2016-12-31 00:00:00+00:00     808\n",
       "              2017-12-31 00:00:00+00:00    1079\n",
       "Length: 740, dtype: int64"
      ]
     },
     "execution_count": 19,
     "metadata": {},
     "output_type": "execute_result"
    }
   ],
   "source": [
    "# vedo quante persone all'anno\n",
    "temp_df.groupby(['country_code', pd.Grouper(freq='Y')]).size()"
   ]
  },
  {
   "cell_type": "code",
   "execution_count": 20,
   "metadata": {
    "ExecuteTime": {
     "end_time": "2019-11-26T14:46:45.178976Z",
     "start_time": "2019-11-26T14:46:30.937929Z"
    }
   },
   "outputs": [
    {
     "data": {
      "text/plain": [
       "country_code  disburse_time            \n",
       "AF            2007-12-31 00:00:00+00:00     194975.0\n",
       "              2008-12-31 00:00:00+00:00     365375.0\n",
       "              2009-12-31 00:00:00+00:00     585125.0\n",
       "              2010-12-31 00:00:00+00:00     563350.0\n",
       "              2011-12-31 00:00:00+00:00     245125.0\n",
       "                                             ...    \n",
       "ZW            2013-12-31 00:00:00+00:00     678525.0\n",
       "              2014-12-31 00:00:00+00:00    1311575.0\n",
       "              2015-12-31 00:00:00+00:00     723625.0\n",
       "              2016-12-31 00:00:00+00:00     788600.0\n",
       "              2017-12-31 00:00:00+00:00    1237600.0\n",
       "Name: loan_amount, Length: 740, dtype: float64"
      ]
     },
     "execution_count": 20,
     "metadata": {},
     "output_type": "execute_result"
    }
   ],
   "source": [
    "# faccio le somme\n",
    "temp_df.groupby(['country_code', pd.Grouper(freq='Y')])['loan_amount'].sum()"
   ]
  },
  {
   "cell_type": "code",
   "execution_count": 21,
   "metadata": {
    "ExecuteTime": {
     "end_time": "2019-11-26T14:46:45.234065Z",
     "start_time": "2019-11-26T14:46:45.183809Z"
    }
   },
   "outputs": [],
   "source": [
    "# eseguo operazioni punto 6 \n",
    "temp_df2 = df_loans['loan_amount'].sum()"
   ]
  },
  {
   "cell_type": "code",
   "execution_count": 22,
   "metadata": {
    "ExecuteTime": {
     "end_time": "2019-11-26T14:46:57.676112Z",
     "start_time": "2019-11-26T14:46:45.236621Z"
    },
    "scrolled": false
   },
   "outputs": [
    {
     "data": {
      "text/plain": [
       "country_code  disburse_time            \n",
       "AF            2007-12-31 00:00:00+00:00    0.016503\n",
       "              2008-12-31 00:00:00+00:00    0.030926\n",
       "              2009-12-31 00:00:00+00:00    0.049527\n",
       "              2010-12-31 00:00:00+00:00    0.047683\n",
       "              2011-12-31 00:00:00+00:00    0.020748\n",
       "                                             ...   \n",
       "ZW            2013-12-31 00:00:00+00:00    0.057432\n",
       "              2014-12-31 00:00:00+00:00    0.111015\n",
       "              2015-12-31 00:00:00+00:00    0.061250\n",
       "              2016-12-31 00:00:00+00:00    0.066749\n",
       "              2017-12-31 00:00:00+00:00    0.104754\n",
       "Name: loan_amount, Length: 740, dtype: float64"
      ]
     },
     "execution_count": 22,
     "metadata": {},
     "output_type": "execute_result"
    }
   ],
   "source": [
    "temp_df.groupby(['country_code', pd.Grouper(freq='Y')])['loan_amount'].sum()/temp_df2*100"
   ]
  },
  {
   "cell_type": "markdown",
   "metadata": {},
   "source": [
    "***"
   ]
  },
  {
   "cell_type": "markdown",
   "metadata": {},
   "source": [
    "## <span style=\"color:red\">8) For each lender, compute the overall amount of money lent.</span>"
   ]
  },
  {
   "cell_type": "markdown",
   "metadata": {},
   "source": [
    "***"
   ]
  },
  {
   "cell_type": "code",
   "execution_count": 23,
   "metadata": {
    "ExecuteTime": {
     "end_time": "2019-11-26T14:47:25.212682Z",
     "start_time": "2019-11-26T14:46:57.778956Z"
    }
   },
   "outputs": [],
   "source": [
    "# uso un df temporaneo per immagazzinare la join tra df_lenders_normalized e df_loans con solo i campi loan_id\n",
    "# e loan_amount che usero per i conti successivamente\n",
    "temp_df = df_lenders_normalized.merge(df_loans[['loan_id', 'loan_amount']], how='left', on='loan_id')"
   ]
  },
  {
   "cell_type": "code",
   "execution_count": 24,
   "metadata": {
    "ExecuteTime": {
     "end_time": "2019-11-26T14:47:36.014863Z",
     "start_time": "2019-11-26T14:47:25.228972Z"
    }
   },
   "outputs": [],
   "source": [
    "# salvo in un df temp 2 il raggruppamento secondo count, per contare il numero totale di ogni loan id\n",
    "temp_df2 = temp_df.groupby('loan_id')['lenders'].count()"
   ]
  },
  {
   "cell_type": "code",
   "execution_count": 25,
   "metadata": {
    "ExecuteTime": {
     "end_time": "2019-11-26T14:47:36.130560Z",
     "start_time": "2019-11-26T14:47:36.033611Z"
    }
   },
   "outputs": [
    {
     "data": {
      "text/plain": [
       "loan_id\n",
       "84         3\n",
       "85         2\n",
       "86         3\n",
       "88         3\n",
       "89         4\n",
       "          ..\n",
       "1444051    1\n",
       "1444053    1\n",
       "1444058    1\n",
       "1444063    1\n",
       "1444065    1\n",
       "Name: lenders, Length: 1387432, dtype: int64"
      ]
     },
     "execution_count": 25,
     "metadata": {},
     "output_type": "execute_result"
    }
   ],
   "source": [
    "temp_df2"
   ]
  },
  {
   "cell_type": "code",
   "execution_count": 26,
   "metadata": {
    "ExecuteTime": {
     "end_time": "2019-11-26T14:47:49.216805Z",
     "start_time": "2019-11-26T14:47:36.146178Z"
    }
   },
   "outputs": [],
   "source": [
    "# faccio ultima merge per avere nel mio data set accanto alla colonna di loan id la colonna dei lenders_y\n",
    "# che corrisponde al mio count\n",
    "temp_df = temp_df.merge(temp_df2, how='left', on='loan_id')"
   ]
  },
  {
   "cell_type": "code",
   "execution_count": 27,
   "metadata": {
    "ExecuteTime": {
     "end_time": "2019-11-26T14:47:49.657248Z",
     "start_time": "2019-11-26T14:47:49.257951Z"
    }
   },
   "outputs": [
    {
     "data": {
      "text/html": [
       "<div>\n",
       "<style scoped>\n",
       "    .dataframe tbody tr th:only-of-type {\n",
       "        vertical-align: middle;\n",
       "    }\n",
       "\n",
       "    .dataframe tbody tr th {\n",
       "        vertical-align: top;\n",
       "    }\n",
       "\n",
       "    .dataframe thead th {\n",
       "        text-align: right;\n",
       "    }\n",
       "</style>\n",
       "<table border=\"1\" class=\"dataframe\">\n",
       "  <thead>\n",
       "    <tr style=\"text-align: right;\">\n",
       "      <th></th>\n",
       "      <th>loan_id</th>\n",
       "      <th>lenders_x</th>\n",
       "      <th>loan_amount</th>\n",
       "      <th>lenders_y</th>\n",
       "    </tr>\n",
       "  </thead>\n",
       "  <tbody>\n",
       "    <tr>\n",
       "      <th>0</th>\n",
       "      <td>483693</td>\n",
       "      <td>muc888</td>\n",
       "      <td>1225.0</td>\n",
       "      <td>40</td>\n",
       "    </tr>\n",
       "    <tr>\n",
       "      <th>1</th>\n",
       "      <td>483693</td>\n",
       "      <td>sam4326</td>\n",
       "      <td>1225.0</td>\n",
       "      <td>40</td>\n",
       "    </tr>\n",
       "    <tr>\n",
       "      <th>2</th>\n",
       "      <td>483693</td>\n",
       "      <td>camaran3922</td>\n",
       "      <td>1225.0</td>\n",
       "      <td>40</td>\n",
       "    </tr>\n",
       "    <tr>\n",
       "      <th>3</th>\n",
       "      <td>483693</td>\n",
       "      <td>lachheb1865</td>\n",
       "      <td>1225.0</td>\n",
       "      <td>40</td>\n",
       "    </tr>\n",
       "    <tr>\n",
       "      <th>4</th>\n",
       "      <td>483693</td>\n",
       "      <td>rebecca3499</td>\n",
       "      <td>1225.0</td>\n",
       "      <td>40</td>\n",
       "    </tr>\n",
       "    <tr>\n",
       "      <th>...</th>\n",
       "      <td>...</td>\n",
       "      <td>...</td>\n",
       "      <td>...</td>\n",
       "      <td>...</td>\n",
       "    </tr>\n",
       "    <tr>\n",
       "      <th>28293926</th>\n",
       "      <td>1206425</td>\n",
       "      <td>trogdorfamily7622</td>\n",
       "      <td>325.0</td>\n",
       "      <td>8</td>\n",
       "    </tr>\n",
       "    <tr>\n",
       "      <th>28293927</th>\n",
       "      <td>1206425</td>\n",
       "      <td>danny6470</td>\n",
       "      <td>325.0</td>\n",
       "      <td>8</td>\n",
       "    </tr>\n",
       "    <tr>\n",
       "      <th>28293928</th>\n",
       "      <td>1206425</td>\n",
       "      <td>don6118</td>\n",
       "      <td>325.0</td>\n",
       "      <td>8</td>\n",
       "    </tr>\n",
       "    <tr>\n",
       "      <th>28293929</th>\n",
       "      <td>1206486</td>\n",
       "      <td>alan5175</td>\n",
       "      <td>150.0</td>\n",
       "      <td>2</td>\n",
       "    </tr>\n",
       "    <tr>\n",
       "      <th>28293930</th>\n",
       "      <td>1206486</td>\n",
       "      <td>amy38101311</td>\n",
       "      <td>150.0</td>\n",
       "      <td>2</td>\n",
       "    </tr>\n",
       "  </tbody>\n",
       "</table>\n",
       "<p>28293931 rows × 4 columns</p>\n",
       "</div>"
      ],
      "text/plain": [
       "          loan_id           lenders_x  loan_amount  lenders_y\n",
       "0          483693              muc888       1225.0         40\n",
       "1          483693             sam4326       1225.0         40\n",
       "2          483693         camaran3922       1225.0         40\n",
       "3          483693         lachheb1865       1225.0         40\n",
       "4          483693         rebecca3499       1225.0         40\n",
       "...           ...                 ...          ...        ...\n",
       "28293926  1206425   trogdorfamily7622        325.0          8\n",
       "28293927  1206425           danny6470        325.0          8\n",
       "28293928  1206425             don6118        325.0          8\n",
       "28293929  1206486            alan5175        150.0          2\n",
       "28293930  1206486         amy38101311        150.0          2\n",
       "\n",
       "[28293931 rows x 4 columns]"
      ]
     },
     "execution_count": 27,
     "metadata": {},
     "output_type": "execute_result"
    }
   ],
   "source": [
    "temp_df"
   ]
  },
  {
   "cell_type": "code",
   "execution_count": 28,
   "metadata": {
    "ExecuteTime": {
     "end_time": "2019-11-26T14:47:50.134915Z",
     "start_time": "2019-11-26T14:47:49.678041Z"
    }
   },
   "outputs": [],
   "source": [
    "# creo nuova colonna per segnare le singole quote per ogni loan_id\n",
    "temp_df['single_amount']= temp_df['loan_amount']/temp_df['lenders_y']"
   ]
  },
  {
   "cell_type": "code",
   "execution_count": 29,
   "metadata": {
    "ExecuteTime": {
     "end_time": "2019-11-26T14:48:07.584719Z",
     "start_time": "2019-11-26T14:47:50.149084Z"
    },
    "scrolled": true
   },
   "outputs": [
    {
     "data": {
      "text/plain": [
       "lenders_x\n",
       " 000               1672.618411\n",
       " 00000             1380.693644\n",
       " 0002              2472.563566\n",
       " 00mike00            52.631579\n",
       " 0101craign0101    2623.565117\n",
       "                      ...     \n",
       "zzanita              87.500000\n",
       "zzcyna7269           55.357143\n",
       "zzinnia              38.000000\n",
       "zzmcfate           2287.291955\n",
       "zzrvmf8538          106.417625\n",
       "Name: single_amount, Length: 1639026, dtype: float64"
      ]
     },
     "execution_count": 29,
     "metadata": {},
     "output_type": "execute_result"
    }
   ],
   "source": [
    "# ora raggruppo per ogni lender\n",
    "temp_df.groupby('lenders_x')['single_amount'].sum()"
   ]
  },
  {
   "cell_type": "markdown",
   "metadata": {},
   "source": [
    "***"
   ]
  },
  {
   "cell_type": "markdown",
   "metadata": {},
   "source": [
    "## <span style='color:red'> 9) For each country, compute the difference between the overall amount of money lent and the overall amount of money borrowed. Since the country of the lender is often unknown, you can assume that the true distribution among the countries is the same as the one computed from the rows where the country is known.</span>"
   ]
  },
  {
   "cell_type": "markdown",
   "metadata": {},
   "source": [
    "***"
   ]
  },
  {
   "cell_type": "markdown",
   "metadata": {},
   "source": [
    "## Problema di fondo che abbiamo trovato che il data set estremamente scarno con molti NULL, perciò dovevamo distribuire i soldi borrowed amolti valori NULL. Personalmento ho optato per la distribuzione del totale loan_amount dei null secondo percentuali di nazionalità"
   ]
  },
  {
   "cell_type": "markdown",
   "metadata": {},
   "source": [
    "***"
   ]
  },
  {
   "cell_type": "code",
   "execution_count": 30,
   "metadata": {
    "ExecuteTime": {
     "end_time": "2019-11-26T14:48:12.206289Z",
     "start_time": "2019-11-26T14:48:07.591566Z"
    }
   },
   "outputs": [],
   "source": [
    "# inizio aggiungendo ai miei dataset anche le informazioni dei lenders_info\n",
    "df_lenders_info = pd.read_csv(dire2)"
   ]
  },
  {
   "cell_type": "code",
   "execution_count": 31,
   "metadata": {
    "ExecuteTime": {
     "end_time": "2019-11-26T14:48:36.206328Z",
     "start_time": "2019-11-26T14:48:12.208370Z"
    }
   },
   "outputs": [],
   "source": [
    "# merge in una temporanea di df_lenders con la normalizzata \n",
    "# per avere loan_id, in temp3 ho tutta la cartella sia con null che no\n",
    "temp_df = df_lenders_info[['permanent_name', 'country_code']].merge(df_lenders_normalized, how='left', left_on='permanent_name', right_on='lenders')"
   ]
  },
  {
   "cell_type": "code",
   "execution_count": 32,
   "metadata": {
    "ExecuteTime": {
     "end_time": "2019-11-26T14:48:36.276242Z",
     "start_time": "2019-11-26T14:48:36.220793Z"
    }
   },
   "outputs": [
    {
     "data": {
      "text/html": [
       "<div>\n",
       "<style scoped>\n",
       "    .dataframe tbody tr th:only-of-type {\n",
       "        vertical-align: middle;\n",
       "    }\n",
       "\n",
       "    .dataframe tbody tr th {\n",
       "        vertical-align: top;\n",
       "    }\n",
       "\n",
       "    .dataframe thead th {\n",
       "        text-align: right;\n",
       "    }\n",
       "</style>\n",
       "<table border=\"1\" class=\"dataframe\">\n",
       "  <thead>\n",
       "    <tr style=\"text-align: right;\">\n",
       "      <th></th>\n",
       "      <th>permanent_name</th>\n",
       "      <th>country_code</th>\n",
       "      <th>loan_id</th>\n",
       "      <th>lenders</th>\n",
       "    </tr>\n",
       "  </thead>\n",
       "  <tbody>\n",
       "    <tr>\n",
       "      <th>0</th>\n",
       "      <td>qian3013</td>\n",
       "      <td>NaN</td>\n",
       "      <td>NaN</td>\n",
       "      <td>NaN</td>\n",
       "    </tr>\n",
       "    <tr>\n",
       "      <th>1</th>\n",
       "      <td>reena6733</td>\n",
       "      <td>NaN</td>\n",
       "      <td>NaN</td>\n",
       "      <td>NaN</td>\n",
       "    </tr>\n",
       "    <tr>\n",
       "      <th>2</th>\n",
       "      <td>mai5982</td>\n",
       "      <td>NaN</td>\n",
       "      <td>NaN</td>\n",
       "      <td>NaN</td>\n",
       "    </tr>\n",
       "    <tr>\n",
       "      <th>3</th>\n",
       "      <td>andrew86079135</td>\n",
       "      <td>NaN</td>\n",
       "      <td>NaN</td>\n",
       "      <td>NaN</td>\n",
       "    </tr>\n",
       "    <tr>\n",
       "      <th>4</th>\n",
       "      <td>nguyen6962</td>\n",
       "      <td>NaN</td>\n",
       "      <td>NaN</td>\n",
       "      <td>NaN</td>\n",
       "    </tr>\n",
       "    <tr>\n",
       "      <th>...</th>\n",
       "      <td>...</td>\n",
       "      <td>...</td>\n",
       "      <td>...</td>\n",
       "      <td>...</td>\n",
       "    </tr>\n",
       "    <tr>\n",
       "      <th>3449032</th>\n",
       "      <td>janet7309</td>\n",
       "      <td>NaN</td>\n",
       "      <td>NaN</td>\n",
       "      <td>NaN</td>\n",
       "    </tr>\n",
       "    <tr>\n",
       "      <th>3449033</th>\n",
       "      <td>pj4198</td>\n",
       "      <td>NaN</td>\n",
       "      <td>NaN</td>\n",
       "      <td>NaN</td>\n",
       "    </tr>\n",
       "    <tr>\n",
       "      <th>3449034</th>\n",
       "      <td>maria2141</td>\n",
       "      <td>US</td>\n",
       "      <td>NaN</td>\n",
       "      <td>NaN</td>\n",
       "    </tr>\n",
       "    <tr>\n",
       "      <th>3449035</th>\n",
       "      <td>simone9846</td>\n",
       "      <td>NaN</td>\n",
       "      <td>NaN</td>\n",
       "      <td>NaN</td>\n",
       "    </tr>\n",
       "    <tr>\n",
       "      <th>3449036</th>\n",
       "      <td>laurie1160</td>\n",
       "      <td>US</td>\n",
       "      <td>NaN</td>\n",
       "      <td>NaN</td>\n",
       "    </tr>\n",
       "  </tbody>\n",
       "</table>\n",
       "<p>3449037 rows × 4 columns</p>\n",
       "</div>"
      ],
      "text/plain": [
       "         permanent_name country_code  loan_id lenders\n",
       "0              qian3013          NaN      NaN     NaN\n",
       "1             reena6733          NaN      NaN     NaN\n",
       "2               mai5982          NaN      NaN     NaN\n",
       "3        andrew86079135          NaN      NaN     NaN\n",
       "4            nguyen6962          NaN      NaN     NaN\n",
       "...                 ...          ...      ...     ...\n",
       "3449032       janet7309          NaN      NaN     NaN\n",
       "3449033          pj4198          NaN      NaN     NaN\n",
       "3449034       maria2141           US      NaN     NaN\n",
       "3449035      simone9846          NaN      NaN     NaN\n",
       "3449036      laurie1160           US      NaN     NaN\n",
       "\n",
       "[3449037 rows x 4 columns]"
      ]
     },
     "execution_count": 32,
     "metadata": {},
     "output_type": "execute_result"
    }
   ],
   "source": [
    "temp_df"
   ]
  },
  {
   "cell_type": "code",
   "execution_count": 33,
   "metadata": {
    "ExecuteTime": {
     "end_time": "2019-11-26T14:48:37.328481Z",
     "start_time": "2019-11-26T14:48:36.282366Z"
    }
   },
   "outputs": [],
   "source": [
    "# temp_df2 contiene tutte le righe in cui lenders è presente in loan e non ha lenders == null\n",
    "temp_df2=temp_df.dropna(subset=['lenders'])"
   ]
  },
  {
   "cell_type": "code",
   "execution_count": 34,
   "metadata": {
    "ExecuteTime": {
     "end_time": "2019-11-26T14:48:37.357759Z",
     "start_time": "2019-11-26T14:48:37.335703Z"
    }
   },
   "outputs": [
    {
     "data": {
      "text/html": [
       "<div>\n",
       "<style scoped>\n",
       "    .dataframe tbody tr th:only-of-type {\n",
       "        vertical-align: middle;\n",
       "    }\n",
       "\n",
       "    .dataframe tbody tr th {\n",
       "        vertical-align: top;\n",
       "    }\n",
       "\n",
       "    .dataframe thead th {\n",
       "        text-align: right;\n",
       "    }\n",
       "</style>\n",
       "<table border=\"1\" class=\"dataframe\">\n",
       "  <thead>\n",
       "    <tr style=\"text-align: right;\">\n",
       "      <th></th>\n",
       "      <th>permanent_name</th>\n",
       "      <th>country_code</th>\n",
       "      <th>loan_id</th>\n",
       "      <th>lenders</th>\n",
       "    </tr>\n",
       "  </thead>\n",
       "  <tbody>\n",
       "    <tr>\n",
       "      <th>16</th>\n",
       "      <td>naresh2074</td>\n",
       "      <td>US</td>\n",
       "      <td>1059280.0</td>\n",
       "      <td>naresh2074</td>\n",
       "    </tr>\n",
       "    <tr>\n",
       "      <th>17</th>\n",
       "      <td>naresh2074</td>\n",
       "      <td>US</td>\n",
       "      <td>1055468.0</td>\n",
       "      <td>naresh2074</td>\n",
       "    </tr>\n",
       "    <tr>\n",
       "      <th>48</th>\n",
       "      <td>jinxian2217</td>\n",
       "      <td>NaN</td>\n",
       "      <td>1292306.0</td>\n",
       "      <td>jinxian2217</td>\n",
       "    </tr>\n",
       "    <tr>\n",
       "      <th>49</th>\n",
       "      <td>sreedevi9583</td>\n",
       "      <td>NaN</td>\n",
       "      <td>1052062.0</td>\n",
       "      <td>sreedevi9583</td>\n",
       "    </tr>\n",
       "    <tr>\n",
       "      <th>52</th>\n",
       "      <td>nicole98153893</td>\n",
       "      <td>NaN</td>\n",
       "      <td>1137907.0</td>\n",
       "      <td>nicole98153893</td>\n",
       "    </tr>\n",
       "    <tr>\n",
       "      <th>...</th>\n",
       "      <td>...</td>\n",
       "      <td>...</td>\n",
       "      <td>...</td>\n",
       "      <td>...</td>\n",
       "    </tr>\n",
       "    <tr>\n",
       "      <th>3449014</th>\n",
       "      <td>bonnie9739</td>\n",
       "      <td>US</td>\n",
       "      <td>810311.0</td>\n",
       "      <td>bonnie9739</td>\n",
       "    </tr>\n",
       "    <tr>\n",
       "      <th>3449015</th>\n",
       "      <td>bonnie9739</td>\n",
       "      <td>US</td>\n",
       "      <td>846429.0</td>\n",
       "      <td>bonnie9739</td>\n",
       "    </tr>\n",
       "    <tr>\n",
       "      <th>3449016</th>\n",
       "      <td>bonnie9739</td>\n",
       "      <td>US</td>\n",
       "      <td>809520.0</td>\n",
       "      <td>bonnie9739</td>\n",
       "    </tr>\n",
       "    <tr>\n",
       "      <th>3449018</th>\n",
       "      <td>cody7091</td>\n",
       "      <td>US</td>\n",
       "      <td>441719.0</td>\n",
       "      <td>cody7091</td>\n",
       "    </tr>\n",
       "    <tr>\n",
       "      <th>3449021</th>\n",
       "      <td>rakhi</td>\n",
       "      <td>US</td>\n",
       "      <td>742334.0</td>\n",
       "      <td>rakhi</td>\n",
       "    </tr>\n",
       "  </tbody>\n",
       "</table>\n",
       "<p>1387432 rows × 4 columns</p>\n",
       "</div>"
      ],
      "text/plain": [
       "         permanent_name country_code    loan_id         lenders\n",
       "16           naresh2074           US  1059280.0      naresh2074\n",
       "17           naresh2074           US  1055468.0      naresh2074\n",
       "48          jinxian2217          NaN  1292306.0     jinxian2217\n",
       "49         sreedevi9583          NaN  1052062.0    sreedevi9583\n",
       "52       nicole98153893          NaN  1137907.0  nicole98153893\n",
       "...                 ...          ...        ...             ...\n",
       "3449014      bonnie9739           US   810311.0      bonnie9739\n",
       "3449015      bonnie9739           US   846429.0      bonnie9739\n",
       "3449016      bonnie9739           US   809520.0      bonnie9739\n",
       "3449018        cody7091           US   441719.0        cody7091\n",
       "3449021           rakhi           US   742334.0           rakhi\n",
       "\n",
       "[1387432 rows x 4 columns]"
      ]
     },
     "execution_count": 34,
     "metadata": {},
     "output_type": "execute_result"
    }
   ],
   "source": [
    "temp_df2"
   ]
  },
  {
   "cell_type": "code",
   "execution_count": 35,
   "metadata": {
    "ExecuteTime": {
     "end_time": "2019-11-26T14:48:39.008967Z",
     "start_time": "2019-11-26T14:48:37.363541Z"
    }
   },
   "outputs": [],
   "source": [
    "# aggiungiamo anche la colonna loan_amount per avere un totale dei lenders/loan/country ( potrebbero esserci dei NULL)\n",
    "temp_df2=temp_df2.merge(df_loans[['loan_id', 'loan_amount']],how='left',on='loan_id')"
   ]
  },
  {
   "cell_type": "code",
   "execution_count": 36,
   "metadata": {
    "ExecuteTime": {
     "end_time": "2019-11-26T14:48:39.034273Z",
     "start_time": "2019-11-26T14:48:39.013125Z"
    }
   },
   "outputs": [],
   "source": [
    "# metto i null a 0\n",
    "temp_df2['loan_amount'] = temp_df2['loan_amount'].fillna(0)"
   ]
  },
  {
   "cell_type": "code",
   "execution_count": 37,
   "metadata": {
    "ExecuteTime": {
     "end_time": "2019-11-26T14:48:39.447154Z",
     "start_time": "2019-11-26T14:48:39.037994Z"
    }
   },
   "outputs": [],
   "source": [
    "# inizio controllando quelli con country valore che esiste, perdo quasi 3000000 righe\n",
    "df_lenders_loans_country = temp_df2.dropna(subset=['country_code'])"
   ]
  },
  {
   "cell_type": "code",
   "execution_count": 38,
   "metadata": {
    "ExecuteTime": {
     "end_time": "2019-11-26T14:48:39.537126Z",
     "start_time": "2019-11-26T14:48:39.450982Z"
    },
    "scrolled": false
   },
   "outputs": [],
   "source": [
    "temp_df3['total_lent'] = df_lenders_loans_country.groupby('country_code')['loan_amount'].sum()"
   ]
  },
  {
   "cell_type": "code",
   "execution_count": 39,
   "metadata": {
    "ExecuteTime": {
     "end_time": "2019-11-26T14:48:39.549798Z",
     "start_time": "2019-11-26T14:48:39.544845Z"
    }
   },
   "outputs": [],
   "source": [
    "total = temp_df3['total_lent'].sum()"
   ]
  },
  {
   "cell_type": "code",
   "execution_count": 40,
   "metadata": {
    "ExecuteTime": {
     "end_time": "2019-11-26T14:48:39.561717Z",
     "start_time": "2019-11-26T14:48:39.553613Z"
    }
   },
   "outputs": [],
   "source": [
    "# cosi facendo ho percentuale del totale per ogni country che è il punto che mi serve\n",
    "temp_df3['percentage'] = round(temp_df3['total_lent']/total,10)"
   ]
  },
  {
   "cell_type": "code",
   "execution_count": 41,
   "metadata": {
    "ExecuteTime": {
     "end_time": "2019-11-26T14:48:39.635910Z",
     "start_time": "2019-11-26T14:48:39.565323Z"
    }
   },
   "outputs": [],
   "source": [
    "# ora controllo gli na\n",
    "temp_df2['boolean'] = temp_df2['country_code'].isnull()"
   ]
  },
  {
   "cell_type": "code",
   "execution_count": 42,
   "metadata": {
    "ExecuteTime": {
     "end_time": "2019-11-26T14:48:39.679860Z",
     "start_time": "2019-11-26T14:48:39.639950Z"
    }
   },
   "outputs": [],
   "source": [
    "temp_df_NA_lenders = temp_df2.loc[temp_df2['boolean'] == True]"
   ]
  },
  {
   "cell_type": "code",
   "execution_count": 43,
   "metadata": {
    "ExecuteTime": {
     "end_time": "2019-11-26T14:48:39.703905Z",
     "start_time": "2019-11-26T14:48:39.682045Z"
    }
   },
   "outputs": [
    {
     "data": {
      "text/html": [
       "<div>\n",
       "<style scoped>\n",
       "    .dataframe tbody tr th:only-of-type {\n",
       "        vertical-align: middle;\n",
       "    }\n",
       "\n",
       "    .dataframe tbody tr th {\n",
       "        vertical-align: top;\n",
       "    }\n",
       "\n",
       "    .dataframe thead th {\n",
       "        text-align: right;\n",
       "    }\n",
       "</style>\n",
       "<table border=\"1\" class=\"dataframe\">\n",
       "  <thead>\n",
       "    <tr style=\"text-align: right;\">\n",
       "      <th></th>\n",
       "      <th>permanent_name</th>\n",
       "      <th>country_code</th>\n",
       "      <th>loan_id</th>\n",
       "      <th>lenders</th>\n",
       "      <th>loan_amount</th>\n",
       "      <th>boolean</th>\n",
       "    </tr>\n",
       "  </thead>\n",
       "  <tbody>\n",
       "    <tr>\n",
       "      <th>2</th>\n",
       "      <td>jinxian2217</td>\n",
       "      <td>NaN</td>\n",
       "      <td>1292306.0</td>\n",
       "      <td>jinxian2217</td>\n",
       "      <td>1400.0</td>\n",
       "      <td>True</td>\n",
       "    </tr>\n",
       "    <tr>\n",
       "      <th>3</th>\n",
       "      <td>sreedevi9583</td>\n",
       "      <td>NaN</td>\n",
       "      <td>1052062.0</td>\n",
       "      <td>sreedevi9583</td>\n",
       "      <td>650.0</td>\n",
       "      <td>True</td>\n",
       "    </tr>\n",
       "    <tr>\n",
       "      <th>4</th>\n",
       "      <td>nicole98153893</td>\n",
       "      <td>NaN</td>\n",
       "      <td>1137907.0</td>\n",
       "      <td>nicole98153893</td>\n",
       "      <td>200.0</td>\n",
       "      <td>True</td>\n",
       "    </tr>\n",
       "    <tr>\n",
       "      <th>6</th>\n",
       "      <td>haitang3172</td>\n",
       "      <td>NaN</td>\n",
       "      <td>1291625.0</td>\n",
       "      <td>haitang3172</td>\n",
       "      <td>300.0</td>\n",
       "      <td>True</td>\n",
       "    </tr>\n",
       "    <tr>\n",
       "      <th>7</th>\n",
       "      <td>jishi5401</td>\n",
       "      <td>NaN</td>\n",
       "      <td>1060071.0</td>\n",
       "      <td>jishi5401</td>\n",
       "      <td>400.0</td>\n",
       "      <td>True</td>\n",
       "    </tr>\n",
       "    <tr>\n",
       "      <th>...</th>\n",
       "      <td>...</td>\n",
       "      <td>...</td>\n",
       "      <td>...</td>\n",
       "      <td>...</td>\n",
       "      <td>...</td>\n",
       "      <td>...</td>\n",
       "    </tr>\n",
       "    <tr>\n",
       "      <th>1387388</th>\n",
       "      <td>tricia9236</td>\n",
       "      <td>NaN</td>\n",
       "      <td>699175.0</td>\n",
       "      <td>tricia9236</td>\n",
       "      <td>1450.0</td>\n",
       "      <td>True</td>\n",
       "    </tr>\n",
       "    <tr>\n",
       "      <th>1387396</th>\n",
       "      <td>marwan8219</td>\n",
       "      <td>NaN</td>\n",
       "      <td>735870.0</td>\n",
       "      <td>marwan8219</td>\n",
       "      <td>475.0</td>\n",
       "      <td>True</td>\n",
       "    </tr>\n",
       "    <tr>\n",
       "      <th>1387399</th>\n",
       "      <td>eric9768</td>\n",
       "      <td>NaN</td>\n",
       "      <td>898756.0</td>\n",
       "      <td>eric9768</td>\n",
       "      <td>225.0</td>\n",
       "      <td>True</td>\n",
       "    </tr>\n",
       "    <tr>\n",
       "      <th>1387405</th>\n",
       "      <td>nicole1492</td>\n",
       "      <td>NaN</td>\n",
       "      <td>485083.0</td>\n",
       "      <td>nicole1492</td>\n",
       "      <td>500.0</td>\n",
       "      <td>True</td>\n",
       "    </tr>\n",
       "    <tr>\n",
       "      <th>1387406</th>\n",
       "      <td>scott2350</td>\n",
       "      <td>NaN</td>\n",
       "      <td>1023557.0</td>\n",
       "      <td>scott2350</td>\n",
       "      <td>800.0</td>\n",
       "      <td>True</td>\n",
       "    </tr>\n",
       "  </tbody>\n",
       "</table>\n",
       "<p>289669 rows × 6 columns</p>\n",
       "</div>"
      ],
      "text/plain": [
       "         permanent_name country_code    loan_id         lenders  loan_amount  \\\n",
       "2           jinxian2217          NaN  1292306.0     jinxian2217       1400.0   \n",
       "3          sreedevi9583          NaN  1052062.0    sreedevi9583        650.0   \n",
       "4        nicole98153893          NaN  1137907.0  nicole98153893        200.0   \n",
       "6           haitang3172          NaN  1291625.0     haitang3172        300.0   \n",
       "7             jishi5401          NaN  1060071.0       jishi5401        400.0   \n",
       "...                 ...          ...        ...             ...          ...   \n",
       "1387388      tricia9236          NaN   699175.0      tricia9236       1450.0   \n",
       "1387396      marwan8219          NaN   735870.0      marwan8219        475.0   \n",
       "1387399        eric9768          NaN   898756.0        eric9768        225.0   \n",
       "1387405      nicole1492          NaN   485083.0      nicole1492        500.0   \n",
       "1387406       scott2350          NaN  1023557.0       scott2350        800.0   \n",
       "\n",
       "         boolean  \n",
       "2           True  \n",
       "3           True  \n",
       "4           True  \n",
       "6           True  \n",
       "7           True  \n",
       "...          ...  \n",
       "1387388     True  \n",
       "1387396     True  \n",
       "1387399     True  \n",
       "1387405     True  \n",
       "1387406     True  \n",
       "\n",
       "[289669 rows x 6 columns]"
      ]
     },
     "execution_count": 43,
     "metadata": {},
     "output_type": "execute_result"
    }
   ],
   "source": [
    "temp_df_NA_lenders"
   ]
  },
  {
   "cell_type": "code",
   "execution_count": 44,
   "metadata": {
    "ExecuteTime": {
     "end_time": "2019-11-26T14:48:39.716740Z",
     "start_time": "2019-11-26T14:48:39.708277Z"
    }
   },
   "outputs": [],
   "source": [
    "# trovo totale loan amount degli NA country\n",
    "total_NA = temp_df_NA_lenders['loan_amount'].sum()"
   ]
  },
  {
   "cell_type": "code",
   "execution_count": 45,
   "metadata": {
    "ExecuteTime": {
     "end_time": "2019-11-26T14:48:39.725541Z",
     "start_time": "2019-11-26T14:48:39.719925Z"
    }
   },
   "outputs": [
    {
     "data": {
      "text/plain": [
       "251447675.0"
      ]
     },
     "execution_count": 45,
     "metadata": {},
     "output_type": "execute_result"
    }
   ],
   "source": [
    "total_NA"
   ]
  },
  {
   "cell_type": "code",
   "execution_count": 46,
   "metadata": {
    "ExecuteTime": {
     "end_time": "2019-11-26T14:48:39.742761Z",
     "start_time": "2019-11-26T14:48:39.729748Z"
    }
   },
   "outputs": [
    {
     "name": "stderr",
     "output_type": "stream",
     "text": [
      "<ipython-input-46-58e81058d3d0>:2: UserWarning: Pandas doesn't allow columns to be created via a new attribute name - see https://pandas.pydata.org/pandas-docs/stable/indexing.html#attribute-access\n",
      "  temp_df3.total_lenders_amount_with_country = temp_df3.total_lent + (temp_df3.percentage * total_NA)\n"
     ]
    }
   ],
   "source": [
    "# li mpoltiplico per la percentuale dei country che conosco lenders e poi li sommo con i precedenti\n",
    "temp_df3.total_lenders_amount_with_country = temp_df3.total_lent + (temp_df3.percentage * total_NA)"
   ]
  },
  {
   "cell_type": "code",
   "execution_count": 47,
   "metadata": {
    "ExecuteTime": {
     "end_time": "2019-11-26T14:48:39.764442Z",
     "start_time": "2019-11-26T14:48:39.745563Z"
    }
   },
   "outputs": [
    {
     "data": {
      "text/html": [
       "<div>\n",
       "<style scoped>\n",
       "    .dataframe tbody tr th:only-of-type {\n",
       "        vertical-align: middle;\n",
       "    }\n",
       "\n",
       "    .dataframe tbody tr th {\n",
       "        vertical-align: top;\n",
       "    }\n",
       "\n",
       "    .dataframe thead th {\n",
       "        text-align: right;\n",
       "    }\n",
       "</style>\n",
       "<table border=\"1\" class=\"dataframe\">\n",
       "  <thead>\n",
       "    <tr style=\"text-align: right;\">\n",
       "      <th></th>\n",
       "      <th>total_lent</th>\n",
       "      <th>percentage</th>\n",
       "    </tr>\n",
       "    <tr>\n",
       "      <th>country_code</th>\n",
       "      <th></th>\n",
       "      <th></th>\n",
       "    </tr>\n",
       "  </thead>\n",
       "  <tbody>\n",
       "    <tr>\n",
       "      <th>AD</th>\n",
       "      <td>1200.0</td>\n",
       "      <td>0.000001</td>\n",
       "    </tr>\n",
       "    <tr>\n",
       "      <th>AE</th>\n",
       "      <td>1760225.0</td>\n",
       "      <td>0.001930</td>\n",
       "    </tr>\n",
       "    <tr>\n",
       "      <th>AF</th>\n",
       "      <td>68075.0</td>\n",
       "      <td>0.000075</td>\n",
       "    </tr>\n",
       "    <tr>\n",
       "      <th>AL</th>\n",
       "      <td>16650.0</td>\n",
       "      <td>0.000018</td>\n",
       "    </tr>\n",
       "    <tr>\n",
       "      <th>AM</th>\n",
       "      <td>23575.0</td>\n",
       "      <td>0.000026</td>\n",
       "    </tr>\n",
       "    <tr>\n",
       "      <th>...</th>\n",
       "      <td>...</td>\n",
       "      <td>...</td>\n",
       "    </tr>\n",
       "    <tr>\n",
       "      <th>WF</th>\n",
       "      <td>2100.0</td>\n",
       "      <td>0.000002</td>\n",
       "    </tr>\n",
       "    <tr>\n",
       "      <th>XK</th>\n",
       "      <td>3750.0</td>\n",
       "      <td>0.000004</td>\n",
       "    </tr>\n",
       "    <tr>\n",
       "      <th>YE</th>\n",
       "      <td>15175.0</td>\n",
       "      <td>0.000017</td>\n",
       "    </tr>\n",
       "    <tr>\n",
       "      <th>ZA</th>\n",
       "      <td>509075.0</td>\n",
       "      <td>0.000558</td>\n",
       "    </tr>\n",
       "    <tr>\n",
       "      <th>ZM</th>\n",
       "      <td>11325.0</td>\n",
       "      <td>0.000012</td>\n",
       "    </tr>\n",
       "  </tbody>\n",
       "</table>\n",
       "<p>195 rows × 2 columns</p>\n",
       "</div>"
      ],
      "text/plain": [
       "              total_lent  percentage\n",
       "country_code                        \n",
       "AD                1200.0    0.000001\n",
       "AE             1760225.0    0.001930\n",
       "AF               68075.0    0.000075\n",
       "AL               16650.0    0.000018\n",
       "AM               23575.0    0.000026\n",
       "...                  ...         ...\n",
       "WF                2100.0    0.000002\n",
       "XK                3750.0    0.000004\n",
       "YE               15175.0    0.000017\n",
       "ZA              509075.0    0.000558\n",
       "ZM               11325.0    0.000012\n",
       "\n",
       "[195 rows x 2 columns]"
      ]
     },
     "execution_count": 47,
     "metadata": {},
     "output_type": "execute_result"
    }
   ],
   "source": [
    "temp_df3"
   ]
  },
  {
   "cell_type": "code",
   "execution_count": 48,
   "metadata": {
    "ExecuteTime": {
     "end_time": "2019-11-26T14:48:39.932322Z",
     "start_time": "2019-11-26T14:48:39.767319Z"
    }
   },
   "outputs": [],
   "source": [
    "temp_df3['total_borrowed'] = df_loans.groupby('country_code')['loan_amount'].sum()"
   ]
  },
  {
   "cell_type": "code",
   "execution_count": 49,
   "metadata": {
    "ExecuteTime": {
     "end_time": "2019-11-26T14:48:39.941512Z",
     "start_time": "2019-11-26T14:48:39.935794Z"
    }
   },
   "outputs": [],
   "source": [
    "# tolgo al totale dei loan i lent\n",
    "temp_df3['total_borrowed'] = temp_df3['total_borrowed'] - temp_df3['total_lent']"
   ]
  },
  {
   "cell_type": "code",
   "execution_count": 50,
   "metadata": {
    "ExecuteTime": {
     "end_time": "2019-11-26T14:48:39.949388Z",
     "start_time": "2019-11-26T14:48:39.944839Z"
    }
   },
   "outputs": [],
   "source": [
    "temp_df3['total_borrowed'] = temp_df3['total_borrowed'].fillna(0)"
   ]
  },
  {
   "cell_type": "code",
   "execution_count": 51,
   "metadata": {
    "ExecuteTime": {
     "end_time": "2019-11-26T14:48:39.958535Z",
     "start_time": "2019-11-26T14:48:39.952743Z"
    }
   },
   "outputs": [],
   "source": [
    "temp_df3['lent_borrowed'] = temp_df3.total_lent - temp_df3.total_borrowed"
   ]
  },
  {
   "cell_type": "code",
   "execution_count": 52,
   "metadata": {
    "ExecuteTime": {
     "end_time": "2019-11-26T14:48:39.978054Z",
     "start_time": "2019-11-26T14:48:39.961252Z"
    }
   },
   "outputs": [
    {
     "data": {
      "text/html": [
       "<div>\n",
       "<style scoped>\n",
       "    .dataframe tbody tr th:only-of-type {\n",
       "        vertical-align: middle;\n",
       "    }\n",
       "\n",
       "    .dataframe tbody tr th {\n",
       "        vertical-align: top;\n",
       "    }\n",
       "\n",
       "    .dataframe thead th {\n",
       "        text-align: right;\n",
       "    }\n",
       "</style>\n",
       "<table border=\"1\" class=\"dataframe\">\n",
       "  <thead>\n",
       "    <tr style=\"text-align: right;\">\n",
       "      <th></th>\n",
       "      <th>total_lent</th>\n",
       "      <th>percentage</th>\n",
       "      <th>total_borrowed</th>\n",
       "      <th>lent_borrowed</th>\n",
       "    </tr>\n",
       "    <tr>\n",
       "      <th>country_code</th>\n",
       "      <th></th>\n",
       "      <th></th>\n",
       "      <th></th>\n",
       "      <th></th>\n",
       "    </tr>\n",
       "  </thead>\n",
       "  <tbody>\n",
       "    <tr>\n",
       "      <th>AD</th>\n",
       "      <td>1200.0</td>\n",
       "      <td>0.000001</td>\n",
       "      <td>0.0</td>\n",
       "      <td>1200.0</td>\n",
       "    </tr>\n",
       "    <tr>\n",
       "      <th>AE</th>\n",
       "      <td>1760225.0</td>\n",
       "      <td>0.001930</td>\n",
       "      <td>0.0</td>\n",
       "      <td>1760225.0</td>\n",
       "    </tr>\n",
       "    <tr>\n",
       "      <th>AF</th>\n",
       "      <td>68075.0</td>\n",
       "      <td>0.000075</td>\n",
       "      <td>1899875.0</td>\n",
       "      <td>-1831800.0</td>\n",
       "    </tr>\n",
       "    <tr>\n",
       "      <th>AL</th>\n",
       "      <td>16650.0</td>\n",
       "      <td>0.000018</td>\n",
       "      <td>4290700.0</td>\n",
       "      <td>-4274050.0</td>\n",
       "    </tr>\n",
       "    <tr>\n",
       "      <th>AM</th>\n",
       "      <td>23575.0</td>\n",
       "      <td>0.000026</td>\n",
       "      <td>22926900.0</td>\n",
       "      <td>-22903325.0</td>\n",
       "    </tr>\n",
       "    <tr>\n",
       "      <th>...</th>\n",
       "      <td>...</td>\n",
       "      <td>...</td>\n",
       "      <td>...</td>\n",
       "      <td>...</td>\n",
       "    </tr>\n",
       "    <tr>\n",
       "      <th>WF</th>\n",
       "      <td>2100.0</td>\n",
       "      <td>0.000002</td>\n",
       "      <td>0.0</td>\n",
       "      <td>2100.0</td>\n",
       "    </tr>\n",
       "    <tr>\n",
       "      <th>XK</th>\n",
       "      <td>3750.0</td>\n",
       "      <td>0.000004</td>\n",
       "      <td>3079275.0</td>\n",
       "      <td>-3075525.0</td>\n",
       "    </tr>\n",
       "    <tr>\n",
       "      <th>YE</th>\n",
       "      <td>15175.0</td>\n",
       "      <td>0.000017</td>\n",
       "      <td>3428825.0</td>\n",
       "      <td>-3413650.0</td>\n",
       "    </tr>\n",
       "    <tr>\n",
       "      <th>ZA</th>\n",
       "      <td>509075.0</td>\n",
       "      <td>0.000558</td>\n",
       "      <td>497450.0</td>\n",
       "      <td>11625.0</td>\n",
       "    </tr>\n",
       "    <tr>\n",
       "      <th>ZM</th>\n",
       "      <td>11325.0</td>\n",
       "      <td>0.000012</td>\n",
       "      <td>1967650.0</td>\n",
       "      <td>-1956325.0</td>\n",
       "    </tr>\n",
       "  </tbody>\n",
       "</table>\n",
       "<p>195 rows × 4 columns</p>\n",
       "</div>"
      ],
      "text/plain": [
       "              total_lent  percentage  total_borrowed  lent_borrowed\n",
       "country_code                                                       \n",
       "AD                1200.0    0.000001             0.0         1200.0\n",
       "AE             1760225.0    0.001930             0.0      1760225.0\n",
       "AF               68075.0    0.000075       1899875.0     -1831800.0\n",
       "AL               16650.0    0.000018       4290700.0     -4274050.0\n",
       "AM               23575.0    0.000026      22926900.0    -22903325.0\n",
       "...                  ...         ...             ...            ...\n",
       "WF                2100.0    0.000002             0.0         2100.0\n",
       "XK                3750.0    0.000004       3079275.0     -3075525.0\n",
       "YE               15175.0    0.000017       3428825.0     -3413650.0\n",
       "ZA              509075.0    0.000558        497450.0        11625.0\n",
       "ZM               11325.0    0.000012       1967650.0     -1956325.0\n",
       "\n",
       "[195 rows x 4 columns]"
      ]
     },
     "execution_count": 52,
     "metadata": {},
     "output_type": "execute_result"
    }
   ],
   "source": [
    "temp_df3"
   ]
  },
  {
   "cell_type": "markdown",
   "metadata": {},
   "source": [
    "***"
   ]
  },
  {
   "cell_type": "markdown",
   "metadata": {},
   "source": [
    "## <span style='color:red'>10) Which country has the highest ratio between the difference computed at the previous point and the population?</span>"
   ]
  },
  {
   "cell_type": "markdown",
   "metadata": {},
   "source": [
    "***"
   ]
  },
  {
   "cell_type": "code",
   "execution_count": 53,
   "metadata": {
    "ExecuteTime": {
     "end_time": "2019-11-26T14:48:39.993076Z",
     "start_time": "2019-11-26T14:48:39.980878Z"
    }
   },
   "outputs": [],
   "source": [
    "# importo data set che necessito\n",
    "df_country_stat = pd.read_csv(dire3)"
   ]
  },
  {
   "cell_type": "code",
   "execution_count": 54,
   "metadata": {
    "ExecuteTime": {
     "end_time": "2019-11-26T14:48:40.014744Z",
     "start_time": "2019-11-26T14:48:39.996656Z"
    },
    "scrolled": false
   },
   "outputs": [
    {
     "data": {
      "text/html": [
       "<div>\n",
       "<style scoped>\n",
       "    .dataframe tbody tr th:only-of-type {\n",
       "        vertical-align: middle;\n",
       "    }\n",
       "\n",
       "    .dataframe tbody tr th {\n",
       "        vertical-align: top;\n",
       "    }\n",
       "\n",
       "    .dataframe thead th {\n",
       "        text-align: right;\n",
       "    }\n",
       "</style>\n",
       "<table border=\"1\" class=\"dataframe\">\n",
       "  <thead>\n",
       "    <tr style=\"text-align: right;\">\n",
       "      <th></th>\n",
       "      <th>country_code</th>\n",
       "      <th>total_lent</th>\n",
       "      <th>percentage</th>\n",
       "      <th>total_borrowed</th>\n",
       "      <th>lent_borrowed</th>\n",
       "    </tr>\n",
       "  </thead>\n",
       "  <tbody>\n",
       "    <tr>\n",
       "      <th>0</th>\n",
       "      <td>AD</td>\n",
       "      <td>1200.0</td>\n",
       "      <td>0.000001</td>\n",
       "      <td>0.0</td>\n",
       "      <td>1200.0</td>\n",
       "    </tr>\n",
       "    <tr>\n",
       "      <th>1</th>\n",
       "      <td>AE</td>\n",
       "      <td>1760225.0</td>\n",
       "      <td>0.001930</td>\n",
       "      <td>0.0</td>\n",
       "      <td>1760225.0</td>\n",
       "    </tr>\n",
       "    <tr>\n",
       "      <th>2</th>\n",
       "      <td>AF</td>\n",
       "      <td>68075.0</td>\n",
       "      <td>0.000075</td>\n",
       "      <td>1899875.0</td>\n",
       "      <td>-1831800.0</td>\n",
       "    </tr>\n",
       "    <tr>\n",
       "      <th>3</th>\n",
       "      <td>AL</td>\n",
       "      <td>16650.0</td>\n",
       "      <td>0.000018</td>\n",
       "      <td>4290700.0</td>\n",
       "      <td>-4274050.0</td>\n",
       "    </tr>\n",
       "    <tr>\n",
       "      <th>4</th>\n",
       "      <td>AM</td>\n",
       "      <td>23575.0</td>\n",
       "      <td>0.000026</td>\n",
       "      <td>22926900.0</td>\n",
       "      <td>-22903325.0</td>\n",
       "    </tr>\n",
       "    <tr>\n",
       "      <th>...</th>\n",
       "      <td>...</td>\n",
       "      <td>...</td>\n",
       "      <td>...</td>\n",
       "      <td>...</td>\n",
       "      <td>...</td>\n",
       "    </tr>\n",
       "    <tr>\n",
       "      <th>190</th>\n",
       "      <td>WF</td>\n",
       "      <td>2100.0</td>\n",
       "      <td>0.000002</td>\n",
       "      <td>0.0</td>\n",
       "      <td>2100.0</td>\n",
       "    </tr>\n",
       "    <tr>\n",
       "      <th>191</th>\n",
       "      <td>XK</td>\n",
       "      <td>3750.0</td>\n",
       "      <td>0.000004</td>\n",
       "      <td>3079275.0</td>\n",
       "      <td>-3075525.0</td>\n",
       "    </tr>\n",
       "    <tr>\n",
       "      <th>192</th>\n",
       "      <td>YE</td>\n",
       "      <td>15175.0</td>\n",
       "      <td>0.000017</td>\n",
       "      <td>3428825.0</td>\n",
       "      <td>-3413650.0</td>\n",
       "    </tr>\n",
       "    <tr>\n",
       "      <th>193</th>\n",
       "      <td>ZA</td>\n",
       "      <td>509075.0</td>\n",
       "      <td>0.000558</td>\n",
       "      <td>497450.0</td>\n",
       "      <td>11625.0</td>\n",
       "    </tr>\n",
       "    <tr>\n",
       "      <th>194</th>\n",
       "      <td>ZM</td>\n",
       "      <td>11325.0</td>\n",
       "      <td>0.000012</td>\n",
       "      <td>1967650.0</td>\n",
       "      <td>-1956325.0</td>\n",
       "    </tr>\n",
       "  </tbody>\n",
       "</table>\n",
       "<p>195 rows × 5 columns</p>\n",
       "</div>"
      ],
      "text/plain": [
       "    country_code  total_lent  percentage  total_borrowed  lent_borrowed\n",
       "0             AD      1200.0    0.000001             0.0         1200.0\n",
       "1             AE   1760225.0    0.001930             0.0      1760225.0\n",
       "2             AF     68075.0    0.000075       1899875.0     -1831800.0\n",
       "3             AL     16650.0    0.000018       4290700.0     -4274050.0\n",
       "4             AM     23575.0    0.000026      22926900.0    -22903325.0\n",
       "..           ...         ...         ...             ...            ...\n",
       "190           WF      2100.0    0.000002             0.0         2100.0\n",
       "191           XK      3750.0    0.000004       3079275.0     -3075525.0\n",
       "192           YE     15175.0    0.000017       3428825.0     -3413650.0\n",
       "193           ZA    509075.0    0.000558        497450.0        11625.0\n",
       "194           ZM     11325.0    0.000012       1967650.0     -1956325.0\n",
       "\n",
       "[195 rows x 5 columns]"
      ]
     },
     "execution_count": 54,
     "metadata": {},
     "output_type": "execute_result"
    }
   ],
   "source": [
    "temp_df3.reset_index()"
   ]
  },
  {
   "cell_type": "code",
   "execution_count": 55,
   "metadata": {
    "ExecuteTime": {
     "end_time": "2019-11-26T14:48:40.024762Z",
     "start_time": "2019-11-26T14:48:40.017742Z"
    }
   },
   "outputs": [],
   "source": [
    "temp_df = df_country_stat.groupby('country_code')['population'].sum()"
   ]
  },
  {
   "cell_type": "code",
   "execution_count": 56,
   "metadata": {
    "ExecuteTime": {
     "end_time": "2019-11-26T14:48:40.035117Z",
     "start_time": "2019-11-26T14:48:40.029640Z"
    }
   },
   "outputs": [],
   "source": [
    "temp_df3['population'] = temp_df"
   ]
  },
  {
   "cell_type": "code",
   "execution_count": 57,
   "metadata": {
    "ExecuteTime": {
     "end_time": "2019-11-26T14:48:40.046121Z",
     "start_time": "2019-11-26T14:48:40.038483Z"
    }
   },
   "outputs": [],
   "source": [
    "#calcolo percentuale su i lent-borrowed e la popolazione, successivamente trovo l'idmax per la percentuale che mi dice essere CANADA\n",
    "temp_df3['percentage'] = round(temp_df3['lent_borrowed']/temp_df3['population']*100, 2)\n",
    "temp_df3=temp_df3.reset_index()"
   ]
  },
  {
   "cell_type": "code",
   "execution_count": 58,
   "metadata": {
    "ExecuteTime": {
     "end_time": "2019-11-26T14:48:40.052210Z",
     "start_time": "2019-11-26T14:48:40.048259Z"
    },
    "scrolled": false
   },
   "outputs": [],
   "source": [
    "max_ratio = temp_df3.loc[temp_df3['percentage'].idxmax()]"
   ]
  },
  {
   "cell_type": "code",
   "execution_count": 59,
   "metadata": {
    "ExecuteTime": {
     "end_time": "2019-11-26T14:48:40.061825Z",
     "start_time": "2019-11-26T14:48:40.056324Z"
    }
   },
   "outputs": [
    {
     "data": {
      "text/plain": [
       "country_code               CA\n",
       "total_lent        7.97568e+07\n",
       "percentage             435.41\n",
       "total_borrowed   -7.97068e+07\n",
       "lent_borrowed     1.59464e+08\n",
       "population        3.66242e+07\n",
       "Name: 30, dtype: object"
      ]
     },
     "execution_count": 59,
     "metadata": {},
     "output_type": "execute_result"
    }
   ],
   "source": [
    "max_ratio"
   ]
  },
  {
   "cell_type": "markdown",
   "metadata": {},
   "source": [
    "***"
   ]
  },
  {
   "cell_type": "markdown",
   "metadata": {},
   "source": [
    "## <span style='color:red'>11) Which country has the highest ratio between the difference computed at point 9 and the population that is not below the poverty line?</span>"
   ]
  },
  {
   "cell_type": "markdown",
   "metadata": {},
   "source": [
    "***"
   ]
  },
  {
   "cell_type": "code",
   "execution_count": 60,
   "metadata": {
    "ExecuteTime": {
     "end_time": "2019-11-26T14:48:40.119352Z",
     "start_time": "2019-11-26T14:48:40.065479Z"
    }
   },
   "outputs": [],
   "source": [
    "temp_df2 = df_country_stat.groupby('country_code')[['country_code','population','population_below_poverty_line']].head()"
   ]
  },
  {
   "cell_type": "code",
   "execution_count": 61,
   "metadata": {
    "ExecuteTime": {
     "end_time": "2019-11-26T14:48:40.126639Z",
     "start_time": "2019-11-26T14:48:40.121845Z"
    }
   },
   "outputs": [],
   "source": [
    "temp_df2['population_below_poverty_line'] = temp_df2['population_below_poverty_line']/100"
   ]
  },
  {
   "cell_type": "code",
   "execution_count": 62,
   "metadata": {
    "ExecuteTime": {
     "end_time": "2019-11-26T14:48:40.133800Z",
     "start_time": "2019-11-26T14:48:40.129367Z"
    }
   },
   "outputs": [],
   "source": [
    "temp_df2['population_below_poverty_line'] = temp_df2['population'] - (temp_df2['population_below_poverty_line']*temp_df2['population'])"
   ]
  },
  {
   "cell_type": "code",
   "execution_count": 63,
   "metadata": {
    "ExecuteTime": {
     "end_time": "2019-11-26T14:48:40.149715Z",
     "start_time": "2019-11-26T14:48:40.136430Z"
    }
   },
   "outputs": [],
   "source": [
    "temp_df2 = temp_df2.merge(temp_df3[['country_code', 'lent_borrowed']], left_on='country_code', right_on='country_code')"
   ]
  },
  {
   "cell_type": "code",
   "execution_count": 64,
   "metadata": {
    "ExecuteTime": {
     "end_time": "2019-11-26T14:48:40.159122Z",
     "start_time": "2019-11-26T14:48:40.152806Z"
    }
   },
   "outputs": [],
   "source": [
    "temp_df2['percentage_poverty'] = round(temp_df2['lent_borrowed']/temp_df2['population_below_poverty_line']*100, 2)"
   ]
  },
  {
   "cell_type": "code",
   "execution_count": 65,
   "metadata": {
    "ExecuteTime": {
     "end_time": "2019-11-26T14:48:40.173360Z",
     "start_time": "2019-11-26T14:48:40.161896Z"
    }
   },
   "outputs": [],
   "source": [
    "max_ratio = temp_df2.loc[temp_df2['percentage_poverty'].idxmax()]"
   ]
  },
  {
   "cell_type": "code",
   "execution_count": 66,
   "metadata": {
    "ExecuteTime": {
     "end_time": "2019-11-26T14:48:40.182863Z",
     "start_time": "2019-11-26T14:48:40.176048Z"
    },
    "scrolled": true
   },
   "outputs": [
    {
     "data": {
      "text/plain": [
       "country_code                              CA\n",
       "population                          36624199\n",
       "population_below_poverty_line    3.31815e+07\n",
       "lent_borrowed                    1.59464e+08\n",
       "percentage_poverty                    480.58\n",
       "Name: 65, dtype: object"
      ]
     },
     "execution_count": 66,
     "metadata": {},
     "output_type": "execute_result"
    }
   ],
   "source": [
    "max_ratio"
   ]
  },
  {
   "cell_type": "markdown",
   "metadata": {},
   "source": [
    "***"
   ]
  },
  {
   "cell_type": "markdown",
   "metadata": {},
   "source": [
    "## <span style='color:red'>12) For each year, compute the total amount of loans. Each loan that has planned expiration time and disburse time in different years must have its amount distributed proportionally to the number of days in each year. For example, a loan with disburse time December 1st, 2016, planned expiration time January 30th 2018, and amount 5000USD has an amount of 5000USD * 31 / (31+365+30) = 363.85 for 2016, 5000USD * 365 / (31+365+30) = 4284.04 for 2017, and 5000USD * 30 / (31+365+30) = 352.11 for 2018.</span>"
   ]
  },
  {
   "cell_type": "markdown",
   "metadata": {},
   "source": [
    "***"
   ]
  },
  {
   "cell_type": "markdown",
   "metadata": {},
   "source": [
    "### Decido di eliminare tutte le colonne con NaN, in particolar modo tutte le colonne che non presentano disburse_time oppure planned_expiration_time"
   ]
  },
  {
   "cell_type": "markdown",
   "metadata": {},
   "source": [
    "***"
   ]
  },
  {
   "cell_type": "code",
   "execution_count": 67,
   "metadata": {
    "ExecuteTime": {
     "end_time": "2019-11-26T14:49:04.806656Z",
     "start_time": "2019-11-26T14:48:40.187345Z"
    }
   },
   "outputs": [],
   "source": [
    "temp_df = df_loans.dropna()"
   ]
  },
  {
   "cell_type": "code",
   "execution_count": 68,
   "metadata": {
    "ExecuteTime": {
     "end_time": "2019-11-26T14:49:04.998418Z",
     "start_time": "2019-11-26T14:49:04.957391Z"
    },
    "scrolled": true
   },
   "outputs": [
    {
     "name": "stderr",
     "output_type": "stream",
     "text": [
      "<ipython-input-68-a4c98a3539b8>:1: SettingWithCopyWarning: \n",
      "A value is trying to be set on a copy of a slice from a DataFrame.\n",
      "Try using .loc[row_indexer,col_indexer] = value instead\n",
      "\n",
      "See the caveats in the documentation: http://pandas.pydata.org/pandas-docs/stable/user_guide/indexing.html#returning-a-view-versus-a-copy\n",
      "  temp_df['disburse_time']=temp_df['disburse_time'].dt.tz_localize(None)\n"
     ]
    }
   ],
   "source": [
    "temp_df['disburse_time']=temp_df['disburse_time'].dt.tz_localize(None)"
   ]
  },
  {
   "cell_type": "code",
   "execution_count": 69,
   "metadata": {
    "ExecuteTime": {
     "end_time": "2019-11-26T14:49:05.031105Z",
     "start_time": "2019-11-26T14:49:05.004896Z"
    },
    "scrolled": true
   },
   "outputs": [
    {
     "name": "stderr",
     "output_type": "stream",
     "text": [
      "<ipython-input-69-710c9578f6d4>:1: SettingWithCopyWarning: \n",
      "A value is trying to be set on a copy of a slice from a DataFrame.\n",
      "Try using .loc[row_indexer,col_indexer] = value instead\n",
      "\n",
      "See the caveats in the documentation: http://pandas.pydata.org/pandas-docs/stable/user_guide/indexing.html#returning-a-view-versus-a-copy\n",
      "  temp_df['planned_expiration_time']=temp_df['planned_expiration_time'].dt.tz_localize(None)\n"
     ]
    }
   ],
   "source": [
    "temp_df['planned_expiration_time']=temp_df['planned_expiration_time'].dt.tz_localize(None)"
   ]
  },
  {
   "cell_type": "code",
   "execution_count": 70,
   "metadata": {
    "ExecuteTime": {
     "end_time": "2019-11-26T14:49:05.066863Z",
     "start_time": "2019-11-26T14:49:05.034165Z"
    },
    "scrolled": true
   },
   "outputs": [
    {
     "data": {
      "text/plain": [
       "3         2014-01-17 08:00:00\n",
       "9         2014-01-10 08:00:00\n",
       "11        2014-01-15 08:00:00\n",
       "13        2013-12-26 08:00:00\n",
       "18        2015-09-18 07:00:00\n",
       "                  ...        \n",
       "1419599   2015-11-16 08:00:00\n",
       "1419600   2015-11-20 08:00:00\n",
       "1419601   2015-11-19 08:00:00\n",
       "1419603   2015-11-24 08:00:00\n",
       "1419604   2015-11-13 08:00:00\n",
       "Name: disburse_time, Length: 478837, dtype: datetime64[ns]"
      ]
     },
     "execution_count": 70,
     "metadata": {},
     "output_type": "execute_result"
    }
   ],
   "source": [
    "temp_df['disburse_time']"
   ]
  },
  {
   "cell_type": "code",
   "execution_count": 71,
   "metadata": {
    "ExecuteTime": {
     "end_time": "2019-11-26T14:49:05.161019Z",
     "start_time": "2019-11-26T14:49:05.069891Z"
    },
    "scrolled": false
   },
   "outputs": [
    {
     "name": "stderr",
     "output_type": "stream",
     "text": [
      "<ipython-input-71-8c6a6d9a8ff2>:1: SettingWithCopyWarning: \n",
      "A value is trying to be set on a copy of a slice from a DataFrame.\n",
      "Try using .loc[row_indexer,col_indexer] = value instead\n",
      "\n",
      "See the caveats in the documentation: http://pandas.pydata.org/pandas-docs/stable/user_guide/indexing.html#returning-a-view-versus-a-copy\n",
      "  temp_df['differenza'] = temp_df['planned_expiration_time'].dt.year - temp_df['disburse_time'].dt.year\n"
     ]
    }
   ],
   "source": [
    "temp_df['differenza'] = temp_df['planned_expiration_time'].dt.year - temp_df['disburse_time'].dt.year"
   ]
  },
  {
   "cell_type": "code",
   "execution_count": 72,
   "metadata": {
    "ExecuteTime": {
     "end_time": "2019-11-26T14:49:05.339305Z",
     "start_time": "2019-11-26T14:49:05.171591Z"
    }
   },
   "outputs": [],
   "source": [
    "temp_df = temp_df[['planned_expiration_time', 'disburse_time', 'differenza', 'loan_amount', 'duration']]"
   ]
  },
  {
   "cell_type": "code",
   "execution_count": 73,
   "metadata": {
    "ExecuteTime": {
     "end_time": "2019-11-26T14:49:05.406523Z",
     "start_time": "2019-11-26T14:49:05.341529Z"
    },
    "scrolled": true
   },
   "outputs": [
    {
     "data": {
      "text/html": [
       "<div>\n",
       "<style scoped>\n",
       "    .dataframe tbody tr th:only-of-type {\n",
       "        vertical-align: middle;\n",
       "    }\n",
       "\n",
       "    .dataframe tbody tr th {\n",
       "        vertical-align: top;\n",
       "    }\n",
       "\n",
       "    .dataframe thead th {\n",
       "        text-align: right;\n",
       "    }\n",
       "</style>\n",
       "<table border=\"1\" class=\"dataframe\">\n",
       "  <thead>\n",
       "    <tr style=\"text-align: right;\">\n",
       "      <th></th>\n",
       "      <th>planned_expiration_time</th>\n",
       "      <th>disburse_time</th>\n",
       "      <th>differenza</th>\n",
       "      <th>loan_amount</th>\n",
       "      <th>duration</th>\n",
       "    </tr>\n",
       "  </thead>\n",
       "  <tbody>\n",
       "    <tr>\n",
       "      <th>3</th>\n",
       "      <td>2014-02-21 03:10:02</td>\n",
       "      <td>2014-01-17 08:00:00</td>\n",
       "      <td>0</td>\n",
       "      <td>625.0</td>\n",
       "      <td>34 days 19:10:02</td>\n",
       "    </tr>\n",
       "    <tr>\n",
       "      <th>9</th>\n",
       "      <td>2014-03-19 13:40:02</td>\n",
       "      <td>2014-01-10 08:00:00</td>\n",
       "      <td>0</td>\n",
       "      <td>1825.0</td>\n",
       "      <td>68 days 05:40:02</td>\n",
       "    </tr>\n",
       "    <tr>\n",
       "      <th>11</th>\n",
       "      <td>2014-02-20 18:30:01</td>\n",
       "      <td>2014-01-15 08:00:00</td>\n",
       "      <td>0</td>\n",
       "      <td>950.0</td>\n",
       "      <td>36 days 10:30:01</td>\n",
       "    </tr>\n",
       "    <tr>\n",
       "      <th>13</th>\n",
       "      <td>2014-03-26 22:24:34</td>\n",
       "      <td>2013-12-26 08:00:00</td>\n",
       "      <td>1</td>\n",
       "      <td>300.0</td>\n",
       "      <td>90 days 14:24:34</td>\n",
       "    </tr>\n",
       "    <tr>\n",
       "      <th>18</th>\n",
       "      <td>2015-11-03 18:40:05</td>\n",
       "      <td>2015-09-18 07:00:00</td>\n",
       "      <td>0</td>\n",
       "      <td>375.0</td>\n",
       "      <td>46 days 11:40:05</td>\n",
       "    </tr>\n",
       "  </tbody>\n",
       "</table>\n",
       "</div>"
      ],
      "text/plain": [
       "   planned_expiration_time       disburse_time  differenza  loan_amount  \\\n",
       "3      2014-02-21 03:10:02 2014-01-17 08:00:00           0        625.0   \n",
       "9      2014-03-19 13:40:02 2014-01-10 08:00:00           0       1825.0   \n",
       "11     2014-02-20 18:30:01 2014-01-15 08:00:00           0        950.0   \n",
       "13     2014-03-26 22:24:34 2013-12-26 08:00:00           1        300.0   \n",
       "18     2015-11-03 18:40:05 2015-09-18 07:00:00           0        375.0   \n",
       "\n",
       "           duration  \n",
       "3  34 days 19:10:02  \n",
       "9  68 days 05:40:02  \n",
       "11 36 days 10:30:01  \n",
       "13 90 days 14:24:34  \n",
       "18 46 days 11:40:05  "
      ]
     },
     "execution_count": 73,
     "metadata": {},
     "output_type": "execute_result"
    }
   ],
   "source": [
    "temp_df.head()"
   ]
  },
  {
   "cell_type": "code",
   "execution_count": 74,
   "metadata": {
    "ExecuteTime": {
     "end_time": "2019-11-26T14:49:05.433695Z",
     "start_time": "2019-11-26T14:49:05.409376Z"
    }
   },
   "outputs": [
    {
     "data": {
      "text/plain": [
       "differenza\n",
       "0    414618\n",
       "1     64219\n",
       "dtype: int64"
      ]
     },
     "execution_count": 74,
     "metadata": {},
     "output_type": "execute_result"
    }
   ],
   "source": [
    "# mi accorgo che ho solo 1 o 0 come differenza perciò preparo programma apposta\n",
    "temp_df.groupby('differenza').size()"
   ]
  },
  {
   "cell_type": "code",
   "execution_count": 75,
   "metadata": {
    "ExecuteTime": {
     "end_time": "2019-11-26T14:49:05.466025Z",
     "start_time": "2019-11-26T14:49:05.435884Z"
    }
   },
   "outputs": [],
   "source": [
    "# tengo solo i giorni\n",
    "temp_df.duration = temp_df.duration.dt.days"
   ]
  },
  {
   "cell_type": "code",
   "execution_count": 76,
   "metadata": {
    "ExecuteTime": {
     "end_time": "2019-11-26T14:49:05.509631Z",
     "start_time": "2019-11-26T14:49:05.472477Z"
    }
   },
   "outputs": [],
   "source": [
    "# creo df che poi utilizzerò\n",
    "temp_df_years = pd.DataFrame(columns=['Year', 'Total'])"
   ]
  },
  {
   "cell_type": "code",
   "execution_count": 77,
   "metadata": {
    "ExecuteTime": {
     "end_time": "2019-11-26T14:49:05.556787Z",
     "start_time": "2019-11-26T14:49:05.512379Z"
    }
   },
   "outputs": [],
   "source": [
    "temp_df3 = temp_df.loc[temp_df['differenza'] == 0]"
   ]
  },
  {
   "cell_type": "code",
   "execution_count": 78,
   "metadata": {
    "ExecuteTime": {
     "end_time": "2019-11-26T14:49:05.572976Z",
     "start_time": "2019-11-26T14:49:05.559783Z"
    }
   },
   "outputs": [
    {
     "data": {
      "text/html": [
       "<div>\n",
       "<style scoped>\n",
       "    .dataframe tbody tr th:only-of-type {\n",
       "        vertical-align: middle;\n",
       "    }\n",
       "\n",
       "    .dataframe tbody tr th {\n",
       "        vertical-align: top;\n",
       "    }\n",
       "\n",
       "    .dataframe thead th {\n",
       "        text-align: right;\n",
       "    }\n",
       "</style>\n",
       "<table border=\"1\" class=\"dataframe\">\n",
       "  <thead>\n",
       "    <tr style=\"text-align: right;\">\n",
       "      <th></th>\n",
       "      <th>planned_expiration_time</th>\n",
       "      <th>disburse_time</th>\n",
       "      <th>differenza</th>\n",
       "      <th>loan_amount</th>\n",
       "      <th>duration</th>\n",
       "    </tr>\n",
       "  </thead>\n",
       "  <tbody>\n",
       "    <tr>\n",
       "      <th>3</th>\n",
       "      <td>2014-02-21 03:10:02</td>\n",
       "      <td>2014-01-17 08:00:00</td>\n",
       "      <td>0</td>\n",
       "      <td>625.0</td>\n",
       "      <td>34</td>\n",
       "    </tr>\n",
       "    <tr>\n",
       "      <th>9</th>\n",
       "      <td>2014-03-19 13:40:02</td>\n",
       "      <td>2014-01-10 08:00:00</td>\n",
       "      <td>0</td>\n",
       "      <td>1825.0</td>\n",
       "      <td>68</td>\n",
       "    </tr>\n",
       "    <tr>\n",
       "      <th>11</th>\n",
       "      <td>2014-02-20 18:30:01</td>\n",
       "      <td>2014-01-15 08:00:00</td>\n",
       "      <td>0</td>\n",
       "      <td>950.0</td>\n",
       "      <td>36</td>\n",
       "    </tr>\n",
       "    <tr>\n",
       "      <th>18</th>\n",
       "      <td>2015-11-03 18:40:05</td>\n",
       "      <td>2015-09-18 07:00:00</td>\n",
       "      <td>0</td>\n",
       "      <td>375.0</td>\n",
       "      <td>46</td>\n",
       "    </tr>\n",
       "    <tr>\n",
       "      <th>19</th>\n",
       "      <td>2015-11-04 15:10:05</td>\n",
       "      <td>2015-09-11 07:00:00</td>\n",
       "      <td>0</td>\n",
       "      <td>225.0</td>\n",
       "      <td>54</td>\n",
       "    </tr>\n",
       "  </tbody>\n",
       "</table>\n",
       "</div>"
      ],
      "text/plain": [
       "   planned_expiration_time       disburse_time  differenza  loan_amount  \\\n",
       "3      2014-02-21 03:10:02 2014-01-17 08:00:00           0        625.0   \n",
       "9      2014-03-19 13:40:02 2014-01-10 08:00:00           0       1825.0   \n",
       "11     2014-02-20 18:30:01 2014-01-15 08:00:00           0        950.0   \n",
       "18     2015-11-03 18:40:05 2015-09-18 07:00:00           0        375.0   \n",
       "19     2015-11-04 15:10:05 2015-09-11 07:00:00           0        225.0   \n",
       "\n",
       "    duration  \n",
       "3         34  \n",
       "9         68  \n",
       "11        36  \n",
       "18        46  \n",
       "19        54  "
      ]
     },
     "execution_count": 78,
     "metadata": {},
     "output_type": "execute_result"
    }
   ],
   "source": [
    "temp_df3.head()"
   ]
  },
  {
   "cell_type": "code",
   "execution_count": 79,
   "metadata": {
    "ExecuteTime": {
     "end_time": "2019-11-26T14:49:05.582454Z",
     "start_time": "2019-11-26T14:49:05.575550Z"
    }
   },
   "outputs": [
    {
     "data": {
      "text/plain": [
       "414618"
      ]
     },
     "execution_count": 79,
     "metadata": {},
     "output_type": "execute_result"
    }
   ],
   "source": [
    "# creo ciclo while che utilizzerò per riempire il mio DF secondo condizioni anno = 0\n",
    "len(temp_df3)"
   ]
  },
  {
   "cell_type": "code",
   "execution_count": null,
   "metadata": {
    "ExecuteTime": {
     "start_time": "2019-11-26T14:44:25.673Z"
    }
   },
   "outputs": [],
   "source": [
    "i = 0\n",
    "while i!=414618:\n",
    "    x = ( temp_df3.iloc[i]['loan_amount'] * temp_df3.iloc[i]['duration'])/(31+365+30) \n",
    "    y = temp_df3.iloc[i]['planned_expiration_time'].year\n",
    "    temp_df_years = temp_df_years.append({'Year' : int(y), 'Total' : x} , ignore_index=True)\n",
    "    i += 1"
   ]
  },
  {
   "cell_type": "markdown",
   "metadata": {},
   "source": [
    "414618\n",
    "64219"
   ]
  },
  {
   "cell_type": "code",
   "execution_count": null,
   "metadata": {
    "ExecuteTime": {
     "start_time": "2019-11-26T14:44:25.685Z"
    }
   },
   "outputs": [],
   "source": [
    "len(temp_df_years)"
   ]
  },
  {
   "cell_type": "code",
   "execution_count": null,
   "metadata": {
    "ExecuteTime": {
     "start_time": "2019-11-26T14:44:25.687Z"
    }
   },
   "outputs": [],
   "source": [
    "# controllo 1\n",
    "temp_df3 = temp_df.loc[temp_df['differenza'] == 1]"
   ]
  },
  {
   "cell_type": "code",
   "execution_count": null,
   "metadata": {
    "ExecuteTime": {
     "start_time": "2019-11-26T14:44:25.688Z"
    }
   },
   "outputs": [],
   "source": [
    "len(temp_df3)"
   ]
  },
  {
   "cell_type": "code",
   "execution_count": null,
   "metadata": {
    "ExecuteTime": {
     "start_time": "2019-11-26T14:44:25.690Z"
    }
   },
   "outputs": [],
   "source": [
    "i = 0\n",
    "while i!=64219:\n",
    "    lim_inf = datetime.datetime(temp_df3.iloc[i]['planned_expiration_time'].year, 1,1)\n",
    "    z = temp_df3.iloc[i]['planned_expiration_time'] - lim_inf\n",
    "    z = z.days\n",
    "    x = ( temp_df3.iloc[i]['loan_amount'] * z)/(31+365+30) \n",
    "    y = temp_df3.iloc[i]['planned_expiration_time'].year\n",
    "    temp_df_years = temp_df_years.append({'Year' : int(y), 'Total' : x} , ignore_index=True)\n",
    "    lim_sup = datetime.datetime(temp_df3.iloc[i]['disburse_time'].year, 12, 31)\n",
    "    z = lim_sup - temp_df3.iloc[i]['disburse_time']\n",
    "    z = z.days\n",
    "    x = ( temp_df3.iloc[i]['loan_amount'] * z)/(31+365+30) \n",
    "    y = temp_df3.iloc[i]['disburse_time'].year\n",
    "    temp_df_years = temp_df_years.append({'Year' : int(y), 'Total' : x} , ignore_index=True)\n",
    "    i += 1"
   ]
  },
  {
   "cell_type": "code",
   "execution_count": null,
   "metadata": {
    "ExecuteTime": {
     "start_time": "2019-11-26T14:44:25.692Z"
    }
   },
   "outputs": [],
   "source": [
    "len(temp_df_years)"
   ]
  },
  {
   "cell_type": "code",
   "execution_count": null,
   "metadata": {
    "ExecuteTime": {
     "start_time": "2019-11-26T14:44:25.694Z"
    },
    "scrolled": false
   },
   "outputs": [],
   "source": [
    "temp_df_years.reset_index()"
   ]
  },
  {
   "cell_type": "code",
   "execution_count": null,
   "metadata": {
    "ExecuteTime": {
     "start_time": "2019-11-26T14:44:25.695Z"
    }
   },
   "outputs": [],
   "source": [
    "# decido di usare una notazione da intero che quella da float\n",
    "temp_df_years['Year'] = pd.to_numeric(temp_df_years['Year'], downcast='integer')"
   ]
  },
  {
   "cell_type": "code",
   "execution_count": null,
   "metadata": {
    "ExecuteTime": {
     "start_time": "2019-11-26T14:44:25.697Z"
    }
   },
   "outputs": [],
   "source": [
    "temp_df_years.groupby('Year').sum()"
   ]
  },
  {
   "cell_type": "markdown",
   "metadata": {},
   "source": [
    "# TEMPO IMPIEGATO 12 PUNTI : 30 min \n",
    "# COMPUTER UTILIZZATO : MACBOOK PRO 19\n",
    "# PROCESSORE : 1,4 GHz Intel Core i5 quad-core\n",
    "# MEMORIA : 8 GB 2133 MHz LPDDR3\n",
    "# SCHEDA GRAFICA : Intel Iris Plus Graphics 645 1536 MB\n"
   ]
  },
  {
   "cell_type": "code",
   "execution_count": null,
   "metadata": {},
   "outputs": [],
   "source": []
  }
 ],
 "metadata": {
  "kernelspec": {
   "display_name": "Python 3",
   "language": "python",
   "name": "python3"
  },
  "language_info": {
   "codemirror_mode": {
    "name": "ipython",
    "version": 3
   },
   "file_extension": ".py",
   "mimetype": "text/x-python",
   "name": "python",
   "nbconvert_exporter": "python",
   "pygments_lexer": "ipython3",
   "version": "3.8.0"
  }
 },
 "nbformat": 4,
 "nbformat_minor": 2
}
